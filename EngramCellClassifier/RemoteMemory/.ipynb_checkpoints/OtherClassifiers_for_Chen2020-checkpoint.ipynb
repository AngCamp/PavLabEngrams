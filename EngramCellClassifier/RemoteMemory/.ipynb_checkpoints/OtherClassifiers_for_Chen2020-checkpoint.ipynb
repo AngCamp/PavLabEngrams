{
 "cells": [
  {
   "cell_type": "code",
   "execution_count": 1,
   "id": "e7709d35",
   "metadata": {},
   "outputs": [],
   "source": [
    "import pandas as pd\n",
    "import numpy as np \n",
    "import sklearn\n",
    "import seaborn as sn\n",
    "import matplotlib.pyplot as plt\n"
   ]
  },
  {
   "cell_type": "code",
   "execution_count": 2,
   "id": "1a9faa00-2cc6-40aa-ae1b-6d43bd6137dd",
   "metadata": {},
   "outputs": [
    {
     "data": {
      "text/plain": [
       "'/home/acampbell/PavLabEngrams/EngramCellClassifier/RemoteMemory'"
      ]
     },
     "execution_count": 2,
     "metadata": {},
     "output_type": "execute_result"
    }
   ],
   "source": [
    "pwd"
   ]
  },
  {
   "cell_type": "code",
   "execution_count": 3,
   "id": "08533121-1227-4c27-b011-ba0929532028",
   "metadata": {},
   "outputs": [],
   "source": [
    "combined_meta_path = '/home/acampbell/PavLabEngrams/EngramCellClassifier/RemoteMemory/chen_kwon_combined_meta.csv'\n",
    "integrated_clusters_path = '/home/acampbell/PavLabEngrams/EngramCellClassifier/RemoteMemory/integrated_sct_clusters.csv'\n",
    "chen_counts_path = '/home/acampbell/PavLabEngrams/EngramCellClassifier/Chen2020_GSE152632/GSE152632_GEO_mberkchen_TRAP2_counts.csv.gz'"
   ]
  },
  {
   "cell_type": "code",
   "execution_count": 4,
   "id": "6d50b341",
   "metadata": {},
   "outputs": [],
   "source": [
    "# these cluster labels come from the original publications clsutering just done within those sets of cells\n",
    "combined_meta = pd.read_csv(combined_meta_path)"
   ]
  },
  {
   "cell_type": "code",
   "execution_count": 5,
   "id": "82cb89a9",
   "metadata": {},
   "outputs": [
    {
     "data": {
      "text/html": [
       "<div>\n",
       "<style scoped>\n",
       "    .dataframe tbody tr th:only-of-type {\n",
       "        vertical-align: middle;\n",
       "    }\n",
       "\n",
       "    .dataframe tbody tr th {\n",
       "        vertical-align: top;\n",
       "    }\n",
       "\n",
       "    .dataframe thead th {\n",
       "        text-align: right;\n",
       "    }\n",
       "</style>\n",
       "<table border=\"1\" class=\"dataframe\">\n",
       "  <thead>\n",
       "    <tr style=\"text-align: right;\">\n",
       "      <th></th>\n",
       "      <th>orig.ident</th>\n",
       "      <th>nCount_RNA</th>\n",
       "      <th>nFeature_RNA</th>\n",
       "      <th>condition</th>\n",
       "      <th>og_cluster</th>\n",
       "      <th>label_status</th>\n",
       "      <th>nCount_SCT</th>\n",
       "      <th>nFeature_SCT</th>\n",
       "      <th>integrated_snn_res.0.017</th>\n",
       "      <th>seurat_clusters</th>\n",
       "      <th>broad_cell_type</th>\n",
       "    </tr>\n",
       "  </thead>\n",
       "  <tbody>\n",
       "    <tr>\n",
       "      <th>0</th>\n",
       "      <td>SeuratProject</td>\n",
       "      <td>545763</td>\n",
       "      <td>7644</td>\n",
       "      <td>Homecage</td>\n",
       "      <td>Dkkl1</td>\n",
       "      <td>tdT-</td>\n",
       "      <td>1644</td>\n",
       "      <td>1127</td>\n",
       "      <td>3</td>\n",
       "      <td>3</td>\n",
       "      <td>Excitatory</td>\n",
       "    </tr>\n",
       "    <tr>\n",
       "      <th>1</th>\n",
       "      <td>SeuratProject</td>\n",
       "      <td>247771</td>\n",
       "      <td>8689</td>\n",
       "      <td>Homecage</td>\n",
       "      <td>Dkkl1</td>\n",
       "      <td>tdT-</td>\n",
       "      <td>1447</td>\n",
       "      <td>885</td>\n",
       "      <td>3</td>\n",
       "      <td>3</td>\n",
       "      <td>Excitatory</td>\n",
       "    </tr>\n",
       "    <tr>\n",
       "      <th>2</th>\n",
       "      <td>SeuratProject</td>\n",
       "      <td>583693</td>\n",
       "      <td>8119</td>\n",
       "      <td>Homecage</td>\n",
       "      <td>Rprm</td>\n",
       "      <td>tdT-</td>\n",
       "      <td>1516</td>\n",
       "      <td>986</td>\n",
       "      <td>2</td>\n",
       "      <td>2</td>\n",
       "      <td>Excitatory</td>\n",
       "    </tr>\n",
       "    <tr>\n",
       "      <th>3</th>\n",
       "      <td>SeuratProject</td>\n",
       "      <td>583444</td>\n",
       "      <td>5585</td>\n",
       "      <td>Homecage</td>\n",
       "      <td>Lhx6</td>\n",
       "      <td>tdT-</td>\n",
       "      <td>2172</td>\n",
       "      <td>1442</td>\n",
       "      <td>4</td>\n",
       "      <td>4</td>\n",
       "      <td>Inhibitory</td>\n",
       "    </tr>\n",
       "    <tr>\n",
       "      <th>4</th>\n",
       "      <td>SeuratProject</td>\n",
       "      <td>288373</td>\n",
       "      <td>7416</td>\n",
       "      <td>Homecage</td>\n",
       "      <td>Dkkl1</td>\n",
       "      <td>tdT-</td>\n",
       "      <td>1628</td>\n",
       "      <td>1092</td>\n",
       "      <td>0</td>\n",
       "      <td>0</td>\n",
       "      <td>Excitatory</td>\n",
       "    </tr>\n",
       "  </tbody>\n",
       "</table>\n",
       "</div>"
      ],
      "text/plain": [
       "      orig.ident  nCount_RNA  nFeature_RNA condition og_cluster label_status  \\\n",
       "0  SeuratProject      545763          7644  Homecage      Dkkl1         tdT-   \n",
       "1  SeuratProject      247771          8689  Homecage      Dkkl1         tdT-   \n",
       "2  SeuratProject      583693          8119  Homecage       Rprm         tdT-   \n",
       "3  SeuratProject      583444          5585  Homecage       Lhx6         tdT-   \n",
       "4  SeuratProject      288373          7416  Homecage      Dkkl1         tdT-   \n",
       "\n",
       "   nCount_SCT  nFeature_SCT  integrated_snn_res.0.017  seurat_clusters  \\\n",
       "0        1644          1127                         3                3   \n",
       "1        1447           885                         3                3   \n",
       "2        1516           986                         2                2   \n",
       "3        2172          1442                         4                4   \n",
       "4        1628          1092                         0                0   \n",
       "\n",
       "  broad_cell_type  \n",
       "0      Excitatory  \n",
       "1      Excitatory  \n",
       "2      Excitatory  \n",
       "3      Inhibitory  \n",
       "4      Excitatory  "
      ]
     },
     "execution_count": 5,
     "metadata": {},
     "output_type": "execute_result"
    }
   ],
   "source": [
    "combined_meta.head(5)"
   ]
  },
  {
   "cell_type": "code",
   "execution_count": 6,
   "id": "519cb043",
   "metadata": {},
   "outputs": [
    {
     "data": {
      "text/plain": [
       "(23650, 11)"
      ]
     },
     "execution_count": 6,
     "metadata": {},
     "output_type": "execute_result"
    }
   ],
   "source": [
    "combined_meta.shape"
   ]
  },
  {
   "cell_type": "code",
   "execution_count": 7,
   "id": "7d633e2f",
   "metadata": {},
   "outputs": [
    {
     "data": {
      "text/plain": [
       "0    6081\n",
       "1    4962\n",
       "2    4030\n",
       "3    2730\n",
       "4    2322\n",
       "5    2005\n",
       "6    1520\n",
       "Name: integrated_snn_res.0.017, dtype: int64"
      ]
     },
     "execution_count": 7,
     "metadata": {},
     "output_type": "execute_result"
    }
   ],
   "source": [
    "combined_meta['integrated_snn_res.0.017'].value_counts()"
   ]
  },
  {
   "cell_type": "code",
   "execution_count": 8,
   "id": "8113934e",
   "metadata": {},
   "outputs": [],
   "source": [
    "# this is the sesults of an integrated seuart clsutering with the sct transform, integrated across conditions\n",
    "# markers were found with FindAllMarkers, \n",
    "kwon_chen_integrated_clusters = pd.read_csv(integrated_clusters_path)"
   ]
  },
  {
   "cell_type": "code",
   "execution_count": 9,
   "id": "6f85c479",
   "metadata": {},
   "outputs": [
    {
     "data": {
      "text/html": [
       "<div>\n",
       "<style scoped>\n",
       "    .dataframe tbody tr th:only-of-type {\n",
       "        vertical-align: middle;\n",
       "    }\n",
       "\n",
       "    .dataframe tbody tr th {\n",
       "        vertical-align: top;\n",
       "    }\n",
       "\n",
       "    .dataframe thead th {\n",
       "        text-align: right;\n",
       "    }\n",
       "</style>\n",
       "<table border=\"1\" class=\"dataframe\">\n",
       "  <thead>\n",
       "    <tr style=\"text-align: right;\">\n",
       "      <th></th>\n",
       "      <th>Unnamed: 0</th>\n",
       "      <th>cell_id</th>\n",
       "      <th>cluster</th>\n",
       "      <th>cluster_num</th>\n",
       "    </tr>\n",
       "  </thead>\n",
       "  <tbody>\n",
       "    <tr>\n",
       "      <th>0</th>\n",
       "      <td>B1_T6_K7_S83_mouse1</td>\n",
       "      <td>B1_T6_K7_S83_mouse1</td>\n",
       "      <td>Fam19a1</td>\n",
       "      <td>1</td>\n",
       "    </tr>\n",
       "    <tr>\n",
       "      <th>1</th>\n",
       "      <td>D6_T3_H15_S91_mouse1</td>\n",
       "      <td>D6_T3_H15_S91_mouse1</td>\n",
       "      <td>Cck</td>\n",
       "      <td>2</td>\n",
       "    </tr>\n",
       "    <tr>\n",
       "      <th>2</th>\n",
       "      <td>D6_T1_J3_S127_mouse1</td>\n",
       "      <td>D6_T1_J3_S127_mouse1</td>\n",
       "      <td>Cdh18</td>\n",
       "      <td>3</td>\n",
       "    </tr>\n",
       "    <tr>\n",
       "      <th>3</th>\n",
       "      <td>D6_T8_C21_S205_mouse1</td>\n",
       "      <td>D6_T8_C21_S205_mouse1</td>\n",
       "      <td>Sst</td>\n",
       "      <td>4</td>\n",
       "    </tr>\n",
       "    <tr>\n",
       "      <th>4</th>\n",
       "      <td>E3_T6_A10_S146_mouse1</td>\n",
       "      <td>E3_T6_A10_S146_mouse1</td>\n",
       "      <td>Rorb</td>\n",
       "      <td>0</td>\n",
       "    </tr>\n",
       "  </tbody>\n",
       "</table>\n",
       "</div>"
      ],
      "text/plain": [
       "              Unnamed: 0                cell_id  cluster  cluster_num\n",
       "0    B1_T6_K7_S83_mouse1    B1_T6_K7_S83_mouse1  Fam19a1            1\n",
       "1   D6_T3_H15_S91_mouse1   D6_T3_H15_S91_mouse1      Cck            2\n",
       "2   D6_T1_J3_S127_mouse1   D6_T1_J3_S127_mouse1    Cdh18            3\n",
       "3  D6_T8_C21_S205_mouse1  D6_T8_C21_S205_mouse1      Sst            4\n",
       "4  E3_T6_A10_S146_mouse1  E3_T6_A10_S146_mouse1     Rorb            0"
      ]
     },
     "execution_count": 9,
     "metadata": {},
     "output_type": "execute_result"
    }
   ],
   "source": [
    "kwon_chen_integrated_clusters.head(5)"
   ]
  },
  {
   "cell_type": "code",
   "execution_count": 10,
   "id": "9c4b0e1b",
   "metadata": {},
   "outputs": [
    {
     "data": {
      "text/plain": [
       "(26177, 4)"
      ]
     },
     "execution_count": 10,
     "metadata": {},
     "output_type": "execute_result"
    }
   ],
   "source": [
    "kwon_chen_integrated_clusters.shape"
   ]
  },
  {
   "cell_type": "code",
   "execution_count": 11,
   "id": "67e94f1f",
   "metadata": {},
   "outputs": [],
   "source": [
    "combined_meta['integrated_sct_clusters'] = kwon_chen_integrated_clusters['cluster']\n",
    "combined_meta['integrated_sct_clusters_num'] = kwon_chen_integrated_clusters['cluster_num']\n",
    "combined_meta['cell_id'] = kwon_chen_integrated_clusters['cell_id']"
   ]
  },
  {
   "cell_type": "code",
   "execution_count": 12,
   "id": "83c061ec",
   "metadata": {},
   "outputs": [
    {
     "data": {
      "text/plain": [
       "(3530, 14)"
      ]
     },
     "execution_count": 12,
     "metadata": {},
     "output_type": "execute_result"
    }
   ],
   "source": [
    "chen_idx = combined_meta.index[(combined_meta['condition'] != 'CUS') & (combined_meta['condition'] != 'Control')]\n",
    "chen_meta = combined_meta.iloc[chen_idx,:]\n",
    "chen_meta.shape"
   ]
  },
  {
   "cell_type": "code",
   "execution_count": 13,
   "id": "c0d78a50",
   "metadata": {},
   "outputs": [],
   "source": [
    "chen_counts = pd.read_csv(chen_counts_path, index_col = 0)\n",
    "chen_counts = chen_counts.fillna(0)"
   ]
  },
  {
   "cell_type": "code",
   "execution_count": 14,
   "id": "09c04fc8",
   "metadata": {},
   "outputs": [
    {
     "data": {
      "text/html": [
       "<div>\n",
       "<style scoped>\n",
       "    .dataframe tbody tr th:only-of-type {\n",
       "        vertical-align: middle;\n",
       "    }\n",
       "\n",
       "    .dataframe tbody tr th {\n",
       "        vertical-align: top;\n",
       "    }\n",
       "\n",
       "    .dataframe thead th {\n",
       "        text-align: right;\n",
       "    }\n",
       "</style>\n",
       "<table border=\"1\" class=\"dataframe\">\n",
       "  <thead>\n",
       "    <tr style=\"text-align: right;\">\n",
       "      <th></th>\n",
       "      <th>00R-AC107638.2</th>\n",
       "      <th>0610005C13Rik</th>\n",
       "      <th>0610007P14Rik</th>\n",
       "      <th>0610009B22Rik</th>\n",
       "      <th>0610009E02Rik</th>\n",
       "      <th>0610009L18Rik</th>\n",
       "      <th>0610009O20Rik</th>\n",
       "      <th>0610010F05Rik</th>\n",
       "      <th>0610010K14Rik</th>\n",
       "      <th>0610012G03Rik</th>\n",
       "      <th>...</th>\n",
       "      <th>Kcnq1</th>\n",
       "      <th>Mageb16</th>\n",
       "      <th>Pdxk-ps</th>\n",
       "      <th>Ptprv</th>\n",
       "      <th>RP23-151L20.4</th>\n",
       "      <th>RP23-268A5.2</th>\n",
       "      <th>RP24-472F16.1</th>\n",
       "      <th>Ston1</th>\n",
       "      <th>Ttll10</th>\n",
       "      <th>Zbtb9</th>\n",
       "    </tr>\n",
       "  </thead>\n",
       "  <tbody>\n",
       "    <tr>\n",
       "      <th>B1_T6_K7_S83_mouse1</th>\n",
       "      <td>0.0</td>\n",
       "      <td>0.0</td>\n",
       "      <td>4.060443</td>\n",
       "      <td>3.583519</td>\n",
       "      <td>0.000000</td>\n",
       "      <td>0.000000</td>\n",
       "      <td>0.000000</td>\n",
       "      <td>0.693147</td>\n",
       "      <td>0.000000</td>\n",
       "      <td>3.891820</td>\n",
       "      <td>...</td>\n",
       "      <td>0.0</td>\n",
       "      <td>0.0</td>\n",
       "      <td>0.0</td>\n",
       "      <td>0.0</td>\n",
       "      <td>0.0</td>\n",
       "      <td>0.0</td>\n",
       "      <td>0.0</td>\n",
       "      <td>0.0</td>\n",
       "      <td>0.0</td>\n",
       "      <td>0.0</td>\n",
       "    </tr>\n",
       "    <tr>\n",
       "      <th>D6_T3_H15_S91_mouse1</th>\n",
       "      <td>0.0</td>\n",
       "      <td>0.0</td>\n",
       "      <td>2.639057</td>\n",
       "      <td>3.332205</td>\n",
       "      <td>0.000000</td>\n",
       "      <td>1.098612</td>\n",
       "      <td>1.945910</td>\n",
       "      <td>2.995732</td>\n",
       "      <td>0.000000</td>\n",
       "      <td>2.944439</td>\n",
       "      <td>...</td>\n",
       "      <td>0.0</td>\n",
       "      <td>0.0</td>\n",
       "      <td>0.0</td>\n",
       "      <td>0.0</td>\n",
       "      <td>0.0</td>\n",
       "      <td>0.0</td>\n",
       "      <td>0.0</td>\n",
       "      <td>0.0</td>\n",
       "      <td>0.0</td>\n",
       "      <td>0.0</td>\n",
       "    </tr>\n",
       "    <tr>\n",
       "      <th>D6_T1_J3_S127_mouse1</th>\n",
       "      <td>0.0</td>\n",
       "      <td>0.0</td>\n",
       "      <td>4.418841</td>\n",
       "      <td>3.091042</td>\n",
       "      <td>1.098612</td>\n",
       "      <td>0.000000</td>\n",
       "      <td>2.708050</td>\n",
       "      <td>2.944439</td>\n",
       "      <td>0.693147</td>\n",
       "      <td>3.912023</td>\n",
       "      <td>...</td>\n",
       "      <td>0.0</td>\n",
       "      <td>0.0</td>\n",
       "      <td>0.0</td>\n",
       "      <td>0.0</td>\n",
       "      <td>0.0</td>\n",
       "      <td>0.0</td>\n",
       "      <td>0.0</td>\n",
       "      <td>0.0</td>\n",
       "      <td>0.0</td>\n",
       "      <td>0.0</td>\n",
       "    </tr>\n",
       "    <tr>\n",
       "      <th>D6_T8_C21_S205_mouse1</th>\n",
       "      <td>0.0</td>\n",
       "      <td>0.0</td>\n",
       "      <td>4.762174</td>\n",
       "      <td>0.000000</td>\n",
       "      <td>0.000000</td>\n",
       "      <td>0.000000</td>\n",
       "      <td>0.000000</td>\n",
       "      <td>0.000000</td>\n",
       "      <td>0.000000</td>\n",
       "      <td>2.772589</td>\n",
       "      <td>...</td>\n",
       "      <td>0.0</td>\n",
       "      <td>0.0</td>\n",
       "      <td>0.0</td>\n",
       "      <td>0.0</td>\n",
       "      <td>0.0</td>\n",
       "      <td>0.0</td>\n",
       "      <td>0.0</td>\n",
       "      <td>0.0</td>\n",
       "      <td>0.0</td>\n",
       "      <td>0.0</td>\n",
       "    </tr>\n",
       "    <tr>\n",
       "      <th>E3_T6_A10_S146_mouse1</th>\n",
       "      <td>0.0</td>\n",
       "      <td>0.0</td>\n",
       "      <td>1.945910</td>\n",
       "      <td>3.496508</td>\n",
       "      <td>0.000000</td>\n",
       "      <td>0.000000</td>\n",
       "      <td>2.484907</td>\n",
       "      <td>2.890372</td>\n",
       "      <td>1.098612</td>\n",
       "      <td>3.367296</td>\n",
       "      <td>...</td>\n",
       "      <td>0.0</td>\n",
       "      <td>0.0</td>\n",
       "      <td>0.0</td>\n",
       "      <td>0.0</td>\n",
       "      <td>0.0</td>\n",
       "      <td>0.0</td>\n",
       "      <td>0.0</td>\n",
       "      <td>0.0</td>\n",
       "      <td>0.0</td>\n",
       "      <td>0.0</td>\n",
       "    </tr>\n",
       "  </tbody>\n",
       "</table>\n",
       "<p>5 rows × 23354 columns</p>\n",
       "</div>"
      ],
      "text/plain": [
       "                       00R-AC107638.2  0610005C13Rik  0610007P14Rik  \\\n",
       "B1_T6_K7_S83_mouse1               0.0            0.0       4.060443   \n",
       "D6_T3_H15_S91_mouse1              0.0            0.0       2.639057   \n",
       "D6_T1_J3_S127_mouse1              0.0            0.0       4.418841   \n",
       "D6_T8_C21_S205_mouse1             0.0            0.0       4.762174   \n",
       "E3_T6_A10_S146_mouse1             0.0            0.0       1.945910   \n",
       "\n",
       "                       0610009B22Rik  0610009E02Rik  0610009L18Rik  \\\n",
       "B1_T6_K7_S83_mouse1         3.583519       0.000000       0.000000   \n",
       "D6_T3_H15_S91_mouse1        3.332205       0.000000       1.098612   \n",
       "D6_T1_J3_S127_mouse1        3.091042       1.098612       0.000000   \n",
       "D6_T8_C21_S205_mouse1       0.000000       0.000000       0.000000   \n",
       "E3_T6_A10_S146_mouse1       3.496508       0.000000       0.000000   \n",
       "\n",
       "                       0610009O20Rik  0610010F05Rik  0610010K14Rik  \\\n",
       "B1_T6_K7_S83_mouse1         0.000000       0.693147       0.000000   \n",
       "D6_T3_H15_S91_mouse1        1.945910       2.995732       0.000000   \n",
       "D6_T1_J3_S127_mouse1        2.708050       2.944439       0.693147   \n",
       "D6_T8_C21_S205_mouse1       0.000000       0.000000       0.000000   \n",
       "E3_T6_A10_S146_mouse1       2.484907       2.890372       1.098612   \n",
       "\n",
       "                       0610012G03Rik  ...  Kcnq1  Mageb16  Pdxk-ps  Ptprv  \\\n",
       "B1_T6_K7_S83_mouse1         3.891820  ...    0.0      0.0      0.0    0.0   \n",
       "D6_T3_H15_S91_mouse1        2.944439  ...    0.0      0.0      0.0    0.0   \n",
       "D6_T1_J3_S127_mouse1        3.912023  ...    0.0      0.0      0.0    0.0   \n",
       "D6_T8_C21_S205_mouse1       2.772589  ...    0.0      0.0      0.0    0.0   \n",
       "E3_T6_A10_S146_mouse1       3.367296  ...    0.0      0.0      0.0    0.0   \n",
       "\n",
       "                       RP23-151L20.4  RP23-268A5.2  RP24-472F16.1  Ston1  \\\n",
       "B1_T6_K7_S83_mouse1              0.0           0.0            0.0    0.0   \n",
       "D6_T3_H15_S91_mouse1             0.0           0.0            0.0    0.0   \n",
       "D6_T1_J3_S127_mouse1             0.0           0.0            0.0    0.0   \n",
       "D6_T8_C21_S205_mouse1            0.0           0.0            0.0    0.0   \n",
       "E3_T6_A10_S146_mouse1            0.0           0.0            0.0    0.0   \n",
       "\n",
       "                       Ttll10  Zbtb9  \n",
       "B1_T6_K7_S83_mouse1       0.0    0.0  \n",
       "D6_T3_H15_S91_mouse1      0.0    0.0  \n",
       "D6_T1_J3_S127_mouse1      0.0    0.0  \n",
       "D6_T8_C21_S205_mouse1     0.0    0.0  \n",
       "E3_T6_A10_S146_mouse1     0.0    0.0  \n",
       "\n",
       "[5 rows x 23354 columns]"
      ]
     },
     "execution_count": 14,
     "metadata": {},
     "output_type": "execute_result"
    }
   ],
   "source": [
    "chen_counts_lognorm = chen_counts.T\n",
    "chen_counts_lognorm = np.log(chen_counts_lognorm + 1)\n",
    "chen_counts_lognorm = chen_counts_lognorm.drop(labels = 'TdTom-transgene', axis = 1)\n",
    "chen_counts_lognorm.head(5)"
   ]
  },
  {
   "cell_type": "code",
   "execution_count": 15,
   "id": "cc2d7175",
   "metadata": {},
   "outputs": [
    {
     "data": {
      "text/html": [
       "<div>\n",
       "<style scoped>\n",
       "    .dataframe tbody tr th:only-of-type {\n",
       "        vertical-align: middle;\n",
       "    }\n",
       "\n",
       "    .dataframe tbody tr th {\n",
       "        vertical-align: top;\n",
       "    }\n",
       "\n",
       "    .dataframe thead th {\n",
       "        text-align: right;\n",
       "    }\n",
       "</style>\n",
       "<table border=\"1\" class=\"dataframe\">\n",
       "  <thead>\n",
       "    <tr style=\"text-align: right;\">\n",
       "      <th></th>\n",
       "      <th>00R-AC107638.2</th>\n",
       "      <th>0610005C13Rik</th>\n",
       "      <th>0610007P14Rik</th>\n",
       "      <th>0610009B22Rik</th>\n",
       "      <th>0610009E02Rik</th>\n",
       "      <th>0610009L18Rik</th>\n",
       "      <th>0610009O20Rik</th>\n",
       "      <th>0610010F05Rik</th>\n",
       "      <th>0610010K14Rik</th>\n",
       "      <th>0610012G03Rik</th>\n",
       "      <th>...</th>\n",
       "      <th>Kcnq1</th>\n",
       "      <th>Mageb16</th>\n",
       "      <th>Pdxk-ps</th>\n",
       "      <th>Ptprv</th>\n",
       "      <th>RP23-151L20.4</th>\n",
       "      <th>RP23-268A5.2</th>\n",
       "      <th>RP24-472F16.1</th>\n",
       "      <th>Ston1</th>\n",
       "      <th>Ttll10</th>\n",
       "      <th>Zbtb9</th>\n",
       "    </tr>\n",
       "  </thead>\n",
       "  <tbody>\n",
       "    <tr>\n",
       "      <th>B1_T6_K7_S83_mouse1</th>\n",
       "      <td>-0.10285</td>\n",
       "      <td>-0.104403</td>\n",
       "      <td>0.232201</td>\n",
       "      <td>0.309106</td>\n",
       "      <td>-0.209070</td>\n",
       "      <td>-0.443183</td>\n",
       "      <td>-0.759438</td>\n",
       "      <td>-0.649236</td>\n",
       "      <td>-0.945452</td>\n",
       "      <td>-0.053222</td>\n",
       "      <td>...</td>\n",
       "      <td>-0.03337</td>\n",
       "      <td>-0.035637</td>\n",
       "      <td>-0.024218</td>\n",
       "      <td>-0.03883</td>\n",
       "      <td>-0.040471</td>\n",
       "      <td>-0.036685</td>\n",
       "      <td>-0.039303</td>\n",
       "      <td>-0.037183</td>\n",
       "      <td>-0.033362</td>\n",
       "      <td>-0.083042</td>\n",
       "    </tr>\n",
       "    <tr>\n",
       "      <th>D6_T3_H15_S91_mouse1</th>\n",
       "      <td>-0.10285</td>\n",
       "      <td>-0.104403</td>\n",
       "      <td>-0.546191</td>\n",
       "      <td>0.186432</td>\n",
       "      <td>-0.209070</td>\n",
       "      <td>0.507658</td>\n",
       "      <td>0.550116</td>\n",
       "      <td>0.532078</td>\n",
       "      <td>-0.945452</td>\n",
       "      <td>-0.652421</td>\n",
       "      <td>...</td>\n",
       "      <td>-0.03337</td>\n",
       "      <td>-0.035637</td>\n",
       "      <td>-0.024218</td>\n",
       "      <td>-0.03883</td>\n",
       "      <td>-0.040471</td>\n",
       "      <td>-0.036685</td>\n",
       "      <td>-0.039303</td>\n",
       "      <td>-0.037183</td>\n",
       "      <td>-0.033362</td>\n",
       "      <td>-0.083042</td>\n",
       "    </tr>\n",
       "    <tr>\n",
       "      <th>D6_T1_J3_S127_mouse1</th>\n",
       "      <td>-0.10285</td>\n",
       "      <td>-0.104403</td>\n",
       "      <td>0.428470</td>\n",
       "      <td>0.068714</td>\n",
       "      <td>1.993251</td>\n",
       "      <td>-0.443183</td>\n",
       "      <td>1.063019</td>\n",
       "      <td>0.505762</td>\n",
       "      <td>-0.349583</td>\n",
       "      <td>-0.040445</td>\n",
       "      <td>...</td>\n",
       "      <td>-0.03337</td>\n",
       "      <td>-0.035637</td>\n",
       "      <td>-0.024218</td>\n",
       "      <td>-0.03883</td>\n",
       "      <td>-0.040471</td>\n",
       "      <td>-0.036685</td>\n",
       "      <td>-0.039303</td>\n",
       "      <td>-0.037183</td>\n",
       "      <td>-0.033362</td>\n",
       "      <td>-0.083042</td>\n",
       "    </tr>\n",
       "    <tr>\n",
       "      <th>D6_T8_C21_S205_mouse1</th>\n",
       "      <td>-0.10285</td>\n",
       "      <td>-0.104403</td>\n",
       "      <td>0.616489</td>\n",
       "      <td>-1.440118</td>\n",
       "      <td>-0.209070</td>\n",
       "      <td>-0.443183</td>\n",
       "      <td>-0.759438</td>\n",
       "      <td>-1.004847</td>\n",
       "      <td>-0.945452</td>\n",
       "      <td>-0.761112</td>\n",
       "      <td>...</td>\n",
       "      <td>-0.03337</td>\n",
       "      <td>-0.035637</td>\n",
       "      <td>-0.024218</td>\n",
       "      <td>-0.03883</td>\n",
       "      <td>-0.040471</td>\n",
       "      <td>-0.036685</td>\n",
       "      <td>-0.039303</td>\n",
       "      <td>-0.037183</td>\n",
       "      <td>-0.033362</td>\n",
       "      <td>-0.083042</td>\n",
       "    </tr>\n",
       "    <tr>\n",
       "      <th>E3_T6_A10_S146_mouse1</th>\n",
       "      <td>-0.10285</td>\n",
       "      <td>-0.104403</td>\n",
       "      <td>-0.925778</td>\n",
       "      <td>0.266633</td>\n",
       "      <td>-0.209070</td>\n",
       "      <td>-0.443183</td>\n",
       "      <td>0.912849</td>\n",
       "      <td>0.478024</td>\n",
       "      <td>-0.001021</td>\n",
       "      <td>-0.384973</td>\n",
       "      <td>...</td>\n",
       "      <td>-0.03337</td>\n",
       "      <td>-0.035637</td>\n",
       "      <td>-0.024218</td>\n",
       "      <td>-0.03883</td>\n",
       "      <td>-0.040471</td>\n",
       "      <td>-0.036685</td>\n",
       "      <td>-0.039303</td>\n",
       "      <td>-0.037183</td>\n",
       "      <td>-0.033362</td>\n",
       "      <td>-0.083042</td>\n",
       "    </tr>\n",
       "  </tbody>\n",
       "</table>\n",
       "<p>5 rows × 23354 columns</p>\n",
       "</div>"
      ],
      "text/plain": [
       "                       00R-AC107638.2  0610005C13Rik  0610007P14Rik  \\\n",
       "B1_T6_K7_S83_mouse1          -0.10285      -0.104403       0.232201   \n",
       "D6_T3_H15_S91_mouse1         -0.10285      -0.104403      -0.546191   \n",
       "D6_T1_J3_S127_mouse1         -0.10285      -0.104403       0.428470   \n",
       "D6_T8_C21_S205_mouse1        -0.10285      -0.104403       0.616489   \n",
       "E3_T6_A10_S146_mouse1        -0.10285      -0.104403      -0.925778   \n",
       "\n",
       "                       0610009B22Rik  0610009E02Rik  0610009L18Rik  \\\n",
       "B1_T6_K7_S83_mouse1         0.309106      -0.209070      -0.443183   \n",
       "D6_T3_H15_S91_mouse1        0.186432      -0.209070       0.507658   \n",
       "D6_T1_J3_S127_mouse1        0.068714       1.993251      -0.443183   \n",
       "D6_T8_C21_S205_mouse1      -1.440118      -0.209070      -0.443183   \n",
       "E3_T6_A10_S146_mouse1       0.266633      -0.209070      -0.443183   \n",
       "\n",
       "                       0610009O20Rik  0610010F05Rik  0610010K14Rik  \\\n",
       "B1_T6_K7_S83_mouse1        -0.759438      -0.649236      -0.945452   \n",
       "D6_T3_H15_S91_mouse1        0.550116       0.532078      -0.945452   \n",
       "D6_T1_J3_S127_mouse1        1.063019       0.505762      -0.349583   \n",
       "D6_T8_C21_S205_mouse1      -0.759438      -1.004847      -0.945452   \n",
       "E3_T6_A10_S146_mouse1       0.912849       0.478024      -0.001021   \n",
       "\n",
       "                       0610012G03Rik  ...    Kcnq1   Mageb16   Pdxk-ps  \\\n",
       "B1_T6_K7_S83_mouse1        -0.053222  ... -0.03337 -0.035637 -0.024218   \n",
       "D6_T3_H15_S91_mouse1       -0.652421  ... -0.03337 -0.035637 -0.024218   \n",
       "D6_T1_J3_S127_mouse1       -0.040445  ... -0.03337 -0.035637 -0.024218   \n",
       "D6_T8_C21_S205_mouse1      -0.761112  ... -0.03337 -0.035637 -0.024218   \n",
       "E3_T6_A10_S146_mouse1      -0.384973  ... -0.03337 -0.035637 -0.024218   \n",
       "\n",
       "                         Ptprv  RP23-151L20.4  RP23-268A5.2  RP24-472F16.1  \\\n",
       "B1_T6_K7_S83_mouse1   -0.03883      -0.040471     -0.036685      -0.039303   \n",
       "D6_T3_H15_S91_mouse1  -0.03883      -0.040471     -0.036685      -0.039303   \n",
       "D6_T1_J3_S127_mouse1  -0.03883      -0.040471     -0.036685      -0.039303   \n",
       "D6_T8_C21_S205_mouse1 -0.03883      -0.040471     -0.036685      -0.039303   \n",
       "E3_T6_A10_S146_mouse1 -0.03883      -0.040471     -0.036685      -0.039303   \n",
       "\n",
       "                          Ston1    Ttll10     Zbtb9  \n",
       "B1_T6_K7_S83_mouse1   -0.037183 -0.033362 -0.083042  \n",
       "D6_T3_H15_S91_mouse1  -0.037183 -0.033362 -0.083042  \n",
       "D6_T1_J3_S127_mouse1  -0.037183 -0.033362 -0.083042  \n",
       "D6_T8_C21_S205_mouse1 -0.037183 -0.033362 -0.083042  \n",
       "E3_T6_A10_S146_mouse1 -0.037183 -0.033362 -0.083042  \n",
       "\n",
       "[5 rows x 23354 columns]"
      ]
     },
     "execution_count": 15,
     "metadata": {},
     "output_type": "execute_result"
    }
   ],
   "source": [
    "from sklearn.preprocessing import StandardScaler\n",
    "genes = chen_counts_lognorm.columns\n",
    "cells = chen_counts_lognorm.index\n",
    "chen_counts_lognorm = StandardScaler().fit_transform(chen_counts_lognorm.values)\n",
    "chen_counts_lognorm = pd.DataFrame(chen_counts_lognorm,\n",
    "                                   columns = genes,\n",
    "                                  index = cells)\n",
    "chen_counts_lognorm.head(5)"
   ]
  },
  {
   "cell_type": "code",
   "execution_count": 16,
   "id": "6db83b8f",
   "metadata": {},
   "outputs": [
    {
     "data": {
      "text/plain": [
       "Index(['orig.ident', 'nCount_RNA', 'nFeature_RNA', 'condition', 'og_cluster',\n",
       "       'label_status', 'nCount_SCT', 'nFeature_SCT',\n",
       "       'integrated_snn_res.0.017', 'seurat_clusters', 'broad_cell_type',\n",
       "       'integrated_sct_clusters', 'integrated_sct_clusters_num', 'cell_id'],\n",
       "      dtype='object')"
      ]
     },
     "execution_count": 16,
     "metadata": {},
     "output_type": "execute_result"
    }
   ],
   "source": [
    "chen_meta.columns"
   ]
  },
  {
   "cell_type": "code",
   "execution_count": 17,
   "id": "a7bc6035",
   "metadata": {},
   "outputs": [
    {
     "data": {
      "text/plain": [
       "0        True\n",
       "1        True\n",
       "2        True\n",
       "3       False\n",
       "4        True\n",
       "        ...  \n",
       "3525     True\n",
       "3526     True\n",
       "3527     True\n",
       "3528     True\n",
       "3529     True\n",
       "Name: integrated_sct_clusters_num, Length: 3530, dtype: bool"
      ]
     },
     "execution_count": 17,
     "metadata": {},
     "output_type": "execute_result"
    }
   ],
   "source": [
    "excitatory_idx = chen_meta['integrated_sct_clusters_num'].isin([0,1,2,3,6])\n",
    "excitatory_idx"
   ]
  },
  {
   "cell_type": "code",
   "execution_count": 18,
   "id": "4b86530d",
   "metadata": {},
   "outputs": [],
   "source": [
    "Activitystatus = (chen_meta.condition == 'Fear-Recall') & (chen_meta.label_status == 'tdT+') "
   ]
  },
  {
   "cell_type": "code",
   "execution_count": 19,
   "id": "1d11eba9",
   "metadata": {},
   "outputs": [],
   "source": [
    "Activitystatus = Activitystatus[excitatory_idx]"
   ]
  },
  {
   "cell_type": "code",
   "execution_count": 20,
   "id": "1aa3c911",
   "metadata": {},
   "outputs": [
    {
     "data": {
      "text/plain": [
       "Index(['B1_T6_K7_S83_mouse1', 'D6_T3_H15_S91_mouse1', 'D6_T1_J3_S127_mouse1',\n",
       "       'E3_T6_A10_S146_mouse1', 'F2_T1_N4_S224_mouse1', 'F2_T7_I16_S44_mouse1',\n",
       "       'F2_T9_N23_S171_mouse1', 'H4_T2_G12_S64_mouse1', 'B7_T6_A8_S144_mouse1',\n",
       "       'B7_T8_L19_S119_mouse1',\n",
       "       ...\n",
       "       'T2_F12_mouse5', 'T2_E21_mouse5', 'T2_F10_mouse5', 'T2_L14_mouse5',\n",
       "       'T2_C5_mouse5', 'T2_L10_mouse5', 'T2_A12_mouse5', 'T2_N9_mouse5',\n",
       "       'T2_J3_mouse5', 'T2_B23_mouse5'],\n",
       "      dtype='object', length=2352)"
      ]
     },
     "execution_count": 20,
     "metadata": {},
     "output_type": "execute_result"
    }
   ],
   "source": [
    "chen_counts_lognorm.index[excitatory_idx]"
   ]
  },
  {
   "cell_type": "code",
   "execution_count": 21,
   "id": "10435ce7",
   "metadata": {},
   "outputs": [
    {
     "data": {
      "text/plain": [
       "(2352, 23354)"
      ]
     },
     "execution_count": 21,
     "metadata": {},
     "output_type": "execute_result"
    }
   ],
   "source": [
    "glut_lognorm = chen_counts_lognorm.loc[chen_counts_lognorm.index[excitatory_idx], chen_counts_lognorm.columns]\n",
    "glut_lognorm.shape"
   ]
  },
  {
   "cell_type": "code",
   "execution_count": 22,
   "id": "a0599e9a",
   "metadata": {},
   "outputs": [],
   "source": [
    "# evaluate a logistic regression model using k-fold cross-validation\n",
    "from numpy import mean\n",
    "from numpy import std\n",
    "from sklearn.datasets import make_classification\n",
    "from sklearn.model_selection import KFold\n",
    "from sklearn.model_selection import cross_val_score\n",
    "from sklearn.linear_model import LogisticRegression"
   ]
  },
  {
   "cell_type": "code",
   "execution_count": 23,
   "id": "5b18d385-77ca-4fa1-904e-32498e130d02",
   "metadata": {},
   "outputs": [
    {
     "data": {
      "text/plain": [
       "False    2005\n",
       "True      347\n",
       "dtype: int64"
      ]
     },
     "execution_count": 23,
     "metadata": {},
     "output_type": "execute_result"
    }
   ],
   "source": [
    "Activitystatus.value_counts()"
   ]
  },
  {
   "cell_type": "code",
   "execution_count": 24,
   "id": "c8b24b27-6d68-493d-a196-937ef3358704",
   "metadata": {},
   "outputs": [
    {
     "name": "stdout",
     "output_type": "stream",
     "text": [
      "Accuracy: 0.891 (0.026)\n"
     ]
    }
   ],
   "source": [
    "# https://www.projectpro.io/recipes/perform-logistic-regression-sklearn\n",
    "# https://machinelearningmastery.com/repeated-k-fold-cross-validation-with-python/\n",
    "# prepare the cross-validation procedure\n",
    "cv = KFold(n_splits=10, random_state=1, shuffle=True)\n",
    "# create model\n",
    "logreg = LogisticRegression(max_iter=100000)\n",
    "\n",
    "# evaluate model\n",
    "scores = cross_val_score(logreg, glut_lognorm, Activitystatus, scoring='accuracy', cv=cv, n_jobs=-1)\n",
    "\n",
    "# report performance\n",
    "print('Accuracy: %.3f (%.3f)' % (mean(scores), std(scores)))"
   ]
  },
  {
   "cell_type": "code",
   "execution_count": 25,
   "id": "8876414c-45bf-477a-a9ab-2a63d0ad82e6",
   "metadata": {},
   "outputs": [
    {
     "data": {
      "text/plain": [
       "array([0.93220339, 0.91525424, 0.93191489, 0.87234043, 0.87659574,\n",
       "       0.87234043, 0.86382979, 0.90212766, 0.85957447, 0.88510638])"
      ]
     },
     "execution_count": 25,
     "metadata": {},
     "output_type": "execute_result"
    }
   ],
   "source": [
    "scores"
   ]
  },
  {
   "cell_type": "code",
   "execution_count": 26,
   "id": "1323b8a1-892e-4717-ba7c-bd4d9e52e0c4",
   "metadata": {},
   "outputs": [
    {
     "data": {
      "text/plain": [
       "numpy.ndarray"
      ]
     },
     "execution_count": 26,
     "metadata": {},
     "output_type": "execute_result"
    }
   ],
   "source": [
    "type(Activitystatus.to_numpy())"
   ]
  },
  {
   "cell_type": "code",
   "execution_count": 34,
   "id": "78b29a39-3a90-48ab-a260-7ce63ea24757",
   "metadata": {},
   "outputs": [
    {
     "data": {
      "text/plain": [
       "'for i, (train, test) in enumerate(cv.split(glut_lognorm.to_numpy(), Activitystatus.to_numpy() ) ):\\n    print(glut_lognorm.iloc[:,train].head(5))\\n    print(Activitystatus.iloc[train])'"
      ]
     },
     "execution_count": 34,
     "metadata": {},
     "output_type": "execute_result"
    }
   ],
   "source": [
    "\"\"\"for i, (train, test) in enumerate(cv.split(glut_lognorm.to_numpy(), Activitystatus.to_numpy() ) ):\n",
    "    print(glut_lognorm.iloc[:,train].head(5))\n",
    "    print(Activitystatus.iloc[train])\"\"\""
   ]
  },
  {
   "cell_type": "code",
   "execution_count": 27,
   "id": "96e6a319-d008-471b-bc01-f8ab3591c6bf",
   "metadata": {},
   "outputs": [],
   "source": [
    "# alternative roc curve maker https://plotly.com/python/roc-and-pr-curves/\n",
    "from sklearn.metrics import roc_curve, auc\n",
    "from sklearn.datasets import make_classification\n",
    "# import plotly.express as px # doesn't work"
   ]
  },
  {
   "cell_type": "code",
   "execution_count": 28,
   "id": "9fbdd172-6fa5-409a-98c5-71330bf25dcf",
   "metadata": {},
   "outputs": [],
   "source": [
    "from sklearn.linear_model import LogisticRegressionCV\n",
    "import scikitplot as skplt\n",
    "import matplotlib.pyplot as plt"
   ]
  },
  {
   "cell_type": "markdown",
   "id": "42b4c09a-0354-4c86-8ce7-bae5eecc923b",
   "metadata": {},
   "source": [
    "First we will try with all the data."
   ]
  },
  {
   "cell_type": "code",
   "execution_count": 38,
   "id": "706f75e0-cc29-428a-bd79-ca53e888f110",
   "metadata": {},
   "outputs": [
    {
     "data": {
      "text/plain": [
       "1.0"
      ]
     },
     "execution_count": 38,
     "metadata": {},
     "output_type": "execute_result"
    }
   ],
   "source": [
    "logregCV10_mpfc_glut_model = LogisticRegressionCV(cv=10, random_state=0).fit(glut_lognorm.to_numpy(), Activitystatus.to_numpy())\n",
    "\n",
    "logregCV10_mpfc_glut_model.predict(glut_lognorm.to_numpy())\n",
    "\n",
    "logregCV10_mpfc_glut_model.predict_proba(glut_lognorm.to_numpy()).shape\n",
    "\n",
    "logregCV10_mpfc_glut_model.score(glut_lognorm.to_numpy(), Activitystatus.to_numpy())"
   ]
  },
  {
   "cell_type": "code",
   "execution_count": 39,
   "id": "6bbe21fd-ccf7-4a5f-afed-99399f27bee7",
   "metadata": {},
   "outputs": [],
   "source": [
    "# https://plotly.com/python/roc-and-pr-curves/\n",
    "y_score = logregCV10_mpfc_glut_model.predict_proba(glut_lognorm.to_numpy())[:, 1]\n",
    "\n",
    "# fpr, tpr, thresholds = roc_curve(Activitystatus.to_numpy(), y_score) # from the plotly solution\n",
    "\n",
    "# https://www.projectpro.io/recipes/plot-roc-curve-in-python\n",
    "false_positive_rate, true_positive_rate, threshold = roc_curve(Activitystatus.to_numpy(), y_score)"
   ]
  },
  {
   "cell_type": "code",
   "execution_count": 40,
   "id": "a546191f-78db-4a21-8c02-d3e42f613fbd",
   "metadata": {},
   "outputs": [
    {
     "data": {
      "image/png": "[encoded data removed]",
      "text/plain": [
       "<Figure size 1000x1000 with 1 Axes>"
      ]
     },
     "metadata": {},
     "output_type": "display_data"
    }
   ],
   "source": [
    "# Making the roc\n",
    "plt.subplots(1, figsize=(10,10))\n",
    "plt.title('Receiver Operating Characteristic - Logistic Regression All Data')\n",
    "plt.plot(false_positive_rate, true_positive_rate)\n",
    "plt.plot([0, 1], ls=\"--\")\n",
    "plt.plot([0, 0], [1, 0] , c=\".7\"), plt.plot([1, 1] , c=\".7\")\n",
    "plt.ylabel('True Positive Rate')\n",
    "plt.xlabel('False Positive Rate')\n",
    "plt.show()"
   ]
  },
  {
   "cell_type": "markdown",
   "id": "b082518d-1c49-4468-9988-7151f3983432",
   "metadata": {},
   "source": [
    "Now we will try with an actual data split."
   ]
  },
  {
   "cell_type": "code",
   "execution_count": 33,
   "id": "41269bb7-8975-41f3-a4ca-4ec16f74b8f1",
   "metadata": {},
   "outputs": [],
   "source": [
    "from sklearn.model_selection import train_test_split \n",
    "glut_lognorm_train, glut_lognorm_test, Activitystatus_train, Activitystatus_test = train_test_split(glut_lognorm, Activitystatus,\n",
    "                                                                                               test_size=0.25,random_state=1)"
   ]
  },
  {
   "cell_type": "code",
   "execution_count": 41,
   "id": "02347946-ceeb-4568-ba7a-5af67d35d779",
   "metadata": {},
   "outputs": [
    {
     "name": "stdout",
     "output_type": "stream",
     "text": [
      "0.9302721088435374\n"
     ]
    }
   ],
   "source": [
    "# data withheld _dwh\n",
    "logregCV10_mpfc_glut_model_dwh = LogisticRegressionCV(cv=10, random_state=0).fit(glut_lognorm_train.to_numpy(), \n",
    "                                                                             Activitystatus_train.to_numpy())\n",
    "\n",
    "logregCV10_mpfc_glut_model_dwh.predict(glut_lognorm_test.to_numpy())\n",
    "\n",
    "logregCV10_mpfc_glut_model_dwh.predict_proba(glut_lognorm_test.to_numpy()).shape\n",
    "\n",
    "print(logregCV10_mpfc_glut_model_dwh.score(glut_lognorm_test.to_numpy(), Activitystatus_test.to_numpy()))"
   ]
  },
  {
   "cell_type": "code",
   "execution_count": 42,
   "id": "cd93be99-cd0f-461b-80e2-1e16ee7722b1",
   "metadata": {},
   "outputs": [],
   "source": [
    "# https://plotly.com/python/roc-and-pr-curves/\n",
    "y_score_dwh = logregCV10_mpfc_glut_model_dwh.predict_proba(glut_lognorm_test.to_numpy())[:, 1]\n",
    "\n",
    "# https://www.projectpro.io/recipes/plot-roc-curve-in-python\n",
    "false_positive_rate_dwh, true_positive_rate_dwh, threshold_dwh = roc_curve(Activitystatus_test.to_numpy(), y_score_dwh)"
   ]
  },
  {
   "cell_type": "code",
   "execution_count": 43,
   "id": "04b32a02-5300-499c-866f-52732a638536",
   "metadata": {},
   "outputs": [
    {
     "data": {
      "image/png": "[encoded data removed]",
      "text/plain": [
       "<Figure size 1000x1000 with 1 Axes>"
      ]
     },
     "metadata": {},
     "output_type": "display_data"
    }
   ],
   "source": [
    "# Making the roc\n",
    "plt.subplots(1, figsize=(10,10))\n",
    "plt.title('Receiver Operating Characteristic - Logistic Regression Data Withheld (0.25)')\n",
    "plt.plot(false_positive_rate_dwh, true_positive_rate_dwh)\n",
    "plt.plot([0, 1], ls=\"--\")\n",
    "plt.plot([0, 0], [1, 0] , c=\".7\"), plt.plot([1, 1] , c=\".7\")\n",
    "plt.ylabel('True Positive Rate')\n",
    "plt.xlabel('False Positive Rate')\n",
    "plt.show()"
   ]
  },
  {
   "cell_type": "markdown",
   "id": "7c02e241-3898-4803-9b78-903d04bf74a3",
   "metadata": {},
   "source": [
    "Cell Type Specific ROCs"
   ]
  },
  {
   "cell_type": "code",
   "execution_count": 49,
   "id": "1dbfd6f0-39e6-464f-8cc1-4b883cd75a30",
   "metadata": {},
   "outputs": [
    {
     "data": {
      "text/plain": [
       "Rorb       707\n",
       "Cdh18      686\n",
       "Cck        481\n",
       "Fam19a1    240\n",
       "Tshz2      238\n",
       "Name: integrated_sct_clusters, dtype: int64"
      ]
     },
     "execution_count": 49,
     "metadata": {},
     "output_type": "execute_result"
    }
   ],
   "source": [
    "#We may have imbalanced\n",
    "chen_meta.integrated_sct_clusters[excitatory_idx].value_counts()"
   ]
  },
  {
   "cell_type": "code",
   "execution_count": 53,
   "id": "cbd302d7-50be-49b3-b459-74f47a75b1f6",
   "metadata": {},
   "outputs": [],
   "source": [
    "glut_cell_types = chen_meta.integrated_sct_clusters[excitatory_idx]"
   ]
  },
  {
   "cell_type": "code",
   "execution_count": 55,
   "id": "63e0ebc6-8128-4f02-baf4-391ec07f0c7f",
   "metadata": {},
   "outputs": [],
   "source": [
    "glut_cell_types_test = glut_cell_types[Activitystatus_test.index]"
   ]
  },
  {
   "cell_type": "code",
   "execution_count": 56,
   "id": "5b7dd60b-66fe-4c95-8b77-033a7592872c",
   "metadata": {},
   "outputs": [
    {
     "data": {
      "text/plain": [
       "2092       Rorb\n",
       "89          Cck\n",
       "2803      Tshz2\n",
       "723        Rorb\n",
       "815       Cdh18\n",
       "         ...   \n",
       "2406        Cck\n",
       "2167      Cdh18\n",
       "2455    Fam19a1\n",
       "2519       Rorb\n",
       "881        Rorb\n",
       "Name: integrated_sct_clusters, Length: 588, dtype: object"
      ]
     },
     "execution_count": 56,
     "metadata": {},
     "output_type": "execute_result"
    }
   ],
   "source": [
    "glut_cell_types_test"
   ]
  },
  {
   "cell_type": "code",
   "execution_count": 57,
   "id": "c04785c4-eb04-4d7a-ab3a-e9abf288a96c",
   "metadata": {},
   "outputs": [],
   "source": [
    "# make seperate fpr and tpr for each cell type\n",
    "# again dwh stands for data withheld\n",
    "\n",
    "# make index for eachc cell types\n",
    "Rorb_idx = glut_cell_types_test == 'Rorb'\n",
    "Cck_idx = glut_cell_types_test == 'Cck'\n",
    "Tshz2_idx = glut_cell_types_test == 'Tshz2'\n",
    "Cdh18_idx = glut_cell_types_test == 'Cdh18'\n",
    "Fam_idx = glut_cell_types_test == 'Fam19a1'"
   ]
  },
  {
   "cell_type": "code",
   "execution_count": 59,
   "id": "e11fb4a8-80f5-471f-8134-35fa64e76176",
   "metadata": {},
   "outputs": [],
   "source": [
    "fpr_Rorb_dwh, tpr_Rorb_dwh, threshold_Rorb_dwh = roc_curve(Activitystatus_test[Rorb_idx].to_numpy(), y_score_dwh[Rorb_idx])\n",
    "fpr_Cck_dwh, tpr_Cck_dwh, threshold_Cck_dwh = roc_curve(Activitystatus_test[Cck_idx].to_numpy(), y_score_dwh[Cck_idx])\n",
    "fpr_Tshz2_dwh, tpr_Tshz2_dwh, threshold_Tshz2_dwh = roc_curve(Activitystatus_test[Tshz2_idx].to_numpy(), y_score_dwh[Tshz2_idx])\n",
    "fpr_Cdh18_dwh, tpr_Cdh18_dwh, threshold_Cdh18_dwh = roc_curve(Activitystatus_test[Cdh18_idx].to_numpy(), y_score_dwh[Cdh18_idx])\n",
    "fpr_Fam_dwh, tpr_Fam_dwh, threshold_Fam_dwh = roc_curve(Activitystatus_test[Fam_idx].to_numpy(), y_score_dwh[Fam_idx])"
   ]
  },
  {
   "cell_type": "code",
   "execution_count": 62,
   "id": "98b3af7f-38be-4078-aad4-31fb2bce7ed7",
   "metadata": {},
   "outputs": [
    {
     "data": {
      "image/png": "[encoded data removed]",
      "text/plain": [
       "<Figure size 1000x1000 with 1 Axes>"
      ]
     },
     "metadata": {},
     "output_type": "display_data"
    }
   ],
   "source": [
    "# Making the roc\n",
    "plt.subplots(1, figsize=(10,10))\n",
    "plt.title('Receiver Operating Characteristic - Logistic Regression Data Withheld (0.25)')\n",
    "plt.plot(fpr_Rorb_dwh, tpr_Rorb_dwh, label=\"Rorb+\")\n",
    "plt.plot(fpr_Cck_dwh, tpr_Cck_dwh, label=\"Cck+\")\n",
    "plt.plot(fpr_Tshz2_dwh, tpr_Tshz2_dwh, label=\"Tshz2+\")\n",
    "plt.plot(fpr_Cdh18_dwh, tpr_Cdh18_dwh, label=\"Cdh18+\")\n",
    "plt.plot(fpr_Fam_dwh, tpr_Fam_dwh, label=\"Fam19a1+\") \n",
    "plt.plot([0, 1], ls=\"--\")\n",
    "plt.plot([0, 0], [1, 0] , c=\".7\"), plt.plot([1, 1] , c=\".7\")\n",
    "plt.ylabel('True Positive Rate')\n",
    "plt.xlabel('False Positive Rate')\n",
    "plt.legend(loc=4)\n",
    "plt.show()"
   ]
  },
  {
   "cell_type": "markdown",
   "id": "b804bf39-58bf-4ed5-9106-fce0f987a7de",
   "metadata": {},
   "source": []
  },
  {
   "cell_type": "markdown",
   "id": "d04eaa2f-6e59-4275-971f-7f8a056d679b",
   "metadata": {},
   "source": [
    "This is the old method without cross validation."
   ]
  },
  {
   "cell_type": "code",
   "execution_count": 45,
   "id": "9effdc5a-0b9e-40d8-a0f3-1d12bdbaa533",
   "metadata": {},
   "outputs": [
    {
     "data": {
      "text/plain": [
       "False    2005\n",
       "True      347\n",
       "dtype: int64"
      ]
     },
     "execution_count": 45,
     "metadata": {},
     "output_type": "execute_result"
    }
   ],
   "source": [
    "Activitystatus.value_counts()"
   ]
  },
  {
   "cell_type": "code",
   "execution_count": 219,
   "id": "bc1480e0-341c-45e2-b762-da3076f7574e",
   "metadata": {},
   "outputs": [],
   "source": [
    "# fit the model with data \n",
    "logreg = LogisticRegression(max_iter=100000)\n",
    "logreg_glut = logreg.fit(glut_lognorm_train, Activitystatus_train) \n",
    "\n",
    "\n",
    "\n",
    "# predicting \n",
    "\n",
    "glut_pred = logreg_glut.predict(glut_lognorm_test)"
   ]
  },
  {
   "cell_type": "code",
   "execution_count": 220,
   "id": "1cd41e80",
   "metadata": {},
   "outputs": [
    {
     "data": {
      "text/plain": [
       "Index(['00R-AC107638.2', '0610005C13Rik', '0610007P14Rik', '0610009B22Rik',\n",
       "       '0610009E02Rik', '0610009L18Rik', '0610009O20Rik', '0610010F05Rik',\n",
       "       '0610010K14Rik', '0610012G03Rik',\n",
       "       ...\n",
       "       'Kcnq1', 'Mageb16', 'Pdxk-ps', 'Ptprv', 'RP23-151L20.4', 'RP23-268A5.2',\n",
       "       'RP24-472F16.1', 'Ston1', 'Ttll10', 'Zbtb9'],\n",
       "      dtype='object', length=23354)"
      ]
     },
     "execution_count": 220,
     "metadata": {},
     "output_type": "execute_result"
    }
   ],
   "source": [
    "test = np.array(logreg_glut.coef_, glut_lognorm_test.columns)\n",
    "glut_lognorm_test.columns"
   ]
  },
  {
   "cell_type": "code",
   "execution_count": 222,
   "id": "5213553f",
   "metadata": {},
   "outputs": [],
   "source": [
    "#logreg_features_coefficients = pd.DataFrame([glut_lognorm_test.columns,logreg_glut.coef_ ], columns = ['gene', 'coefficient'])\n",
    "logreg_features_coefficients =  pd.DataFrame({'coefficient':np.reshape(logreg_glut.coef_, newshape = (23354) )}, index = glut_lognorm_test.columns)\n",
    "logreg_features_coefficients.reset_index(inplace=True)\n",
    "logreg_features_coefficients = logreg_features_coefficients.rename(columns = {'index':'gene'})"
   ]
  },
  {
   "cell_type": "code",
   "execution_count": 223,
   "id": "3aaa0be3",
   "metadata": {},
   "outputs": [
    {
     "data": {
      "text/html": [
       "<div>\n",
       "<style scoped>\n",
       "    .dataframe tbody tr th:only-of-type {\n",
       "        vertical-align: middle;\n",
       "    }\n",
       "\n",
       "    .dataframe tbody tr th {\n",
       "        vertical-align: top;\n",
       "    }\n",
       "\n",
       "    .dataframe thead th {\n",
       "        text-align: right;\n",
       "    }\n",
       "</style>\n",
       "<table border=\"1\" class=\"dataframe\">\n",
       "  <thead>\n",
       "    <tr style=\"text-align: right;\">\n",
       "      <th></th>\n",
       "      <th>gene</th>\n",
       "      <th>coefficient</th>\n",
       "    </tr>\n",
       "  </thead>\n",
       "  <tbody>\n",
       "    <tr>\n",
       "      <th>8130</th>\n",
       "      <td>Gm7292</td>\n",
       "      <td>0.115194</td>\n",
       "    </tr>\n",
       "    <tr>\n",
       "      <th>4351</th>\n",
       "      <td>Eno1b</td>\n",
       "      <td>0.084812</td>\n",
       "    </tr>\n",
       "    <tr>\n",
       "      <th>5308</th>\n",
       "      <td>Gm10031</td>\n",
       "      <td>0.082097</td>\n",
       "    </tr>\n",
       "    <tr>\n",
       "      <th>7758</th>\n",
       "      <td>Gm4737</td>\n",
       "      <td>0.078783</td>\n",
       "    </tr>\n",
       "    <tr>\n",
       "      <th>22719</th>\n",
       "      <td>Gm42427</td>\n",
       "      <td>0.067260</td>\n",
       "    </tr>\n",
       "    <tr>\n",
       "      <th>...</th>\n",
       "      <td>...</td>\n",
       "      <td>...</td>\n",
       "    </tr>\n",
       "    <tr>\n",
       "      <th>12522</th>\n",
       "      <td>Ppp1r16b</td>\n",
       "      <td>-0.053094</td>\n",
       "    </tr>\n",
       "    <tr>\n",
       "      <th>6100</th>\n",
       "      <td>Gm15920</td>\n",
       "      <td>-0.054070</td>\n",
       "    </tr>\n",
       "    <tr>\n",
       "      <th>9929</th>\n",
       "      <td>Lmtk2</td>\n",
       "      <td>-0.062795</td>\n",
       "    </tr>\n",
       "    <tr>\n",
       "      <th>16753</th>\n",
       "      <td>Vcp-rs</td>\n",
       "      <td>-0.067021</td>\n",
       "    </tr>\n",
       "    <tr>\n",
       "      <th>5621</th>\n",
       "      <td>Gm12407</td>\n",
       "      <td>-0.090022</td>\n",
       "    </tr>\n",
       "  </tbody>\n",
       "</table>\n",
       "<p>23354 rows × 2 columns</p>\n",
       "</div>"
      ],
      "text/plain": [
       "           gene  coefficient\n",
       "8130     Gm7292     0.115194\n",
       "4351      Eno1b     0.084812\n",
       "5308    Gm10031     0.082097\n",
       "7758     Gm4737     0.078783\n",
       "22719   Gm42427     0.067260\n",
       "...         ...          ...\n",
       "12522  Ppp1r16b    -0.053094\n",
       "6100    Gm15920    -0.054070\n",
       "9929      Lmtk2    -0.062795\n",
       "16753    Vcp-rs    -0.067021\n",
       "5621    Gm12407    -0.090022\n",
       "\n",
       "[23354 rows x 2 columns]"
      ]
     },
     "execution_count": 223,
     "metadata": {},
     "output_type": "execute_result"
    }
   ],
   "source": [
    "logreg_features_coefficients.sort_values(by = 'coefficient', ascending=False)"
   ]
  },
  {
   "cell_type": "code",
   "execution_count": 129,
   "id": "49e27f55",
   "metadata": {},
   "outputs": [],
   "source": [
    "from sklearn import metrics "
   ]
  },
  {
   "cell_type": "code",
   "execution_count": 224,
   "id": "13f4ae04",
   "metadata": {},
   "outputs": [
    {
     "data": {
      "text/plain": [
       "array([[509,   4],\n",
       "       [ 49,  26]])"
      ]
     },
     "execution_count": 224,
     "metadata": {},
     "output_type": "execute_result"
    }
   ],
   "source": [
    "\n",
    "cnf_matrix = metrics.confusion_matrix(Activitystatus_test, glut_pred) \n",
    "cnf_matrix"
   ]
  },
  {
   "cell_type": "code",
   "execution_count": 225,
   "id": "924c965d",
   "metadata": {},
   "outputs": [
    {
     "name": "stdout",
     "output_type": "stream",
     "text": [
      "Accuracy: 0.9098639455782312\n",
      "Precision: 0.8666666666666667\n",
      "Recall: 0.3466666666666667\n"
     ]
    }
   ],
   "source": [
    "print(\"Accuracy:\",metrics.accuracy_score(Activitystatus_test, glut_pred)) \n",
    "\n",
    "print(\"Precision:\",metrics.precision_score(Activitystatus_test, glut_pred)) \n",
    "\n",
    "print(\"Recall:\",metrics.recall_score(Activitystatus_test, glut_pred)) "
   ]
  },
  {
   "cell_type": "code",
   "execution_count": 134,
   "id": "c7367244",
   "metadata": {},
   "outputs": [],
   "source": [
    "#script for making an ROC curve\n",
    "#https://scikit-learn.org/stable/auto_examples/model_selection/plot_roc_crossval.html#sphx-glr-auto-examples-model-selection-plot-roc-crossval-py"
   ]
  },
  {
   "cell_type": "code",
   "execution_count": 135,
   "id": "dba15038",
   "metadata": {},
   "outputs": [],
   "source": [
    "import matplotlib.pyplot as plt\n",
    "\n",
    "from sklearn import svm\n",
    "from sklearn.metrics import auc\n",
    "from sklearn.metrics import RocCurveDisplay\n",
    "from sklearn.model_selection import StratifiedKFold"
   ]
  },
  {
   "cell_type": "code",
   "execution_count": 140,
   "id": "78649601",
   "metadata": {},
   "outputs": [
    {
     "ename": "ValueError",
     "evalue": "too many values to unpack (expected 2)",
     "output_type": "error",
     "traceback": [
      "\u001b[0;31m---------------------------------------------------------------------------\u001b[0m",
      "\u001b[0;31mValueError\u001b[0m                                Traceback (most recent call last)",
      "Cell \u001b[0;32mIn [140], line 2\u001b[0m\n\u001b[1;32m      1\u001b[0m cv \u001b[38;5;241m=\u001b[39m StratifiedKFold(n_splits\u001b[38;5;241m=\u001b[39m\u001b[38;5;241m5\u001b[39m)\n\u001b[0;32m----> 2\u001b[0m X, y \u001b[38;5;241m=\u001b[39m \u001b[38;5;28menumerate\u001b[39m(cv\u001b[38;5;241m.\u001b[39msplit(glut_lognorm_train, Activitystatus_train))\n",
      "\u001b[0;31mValueError\u001b[0m: too many values to unpack (expected 2)"
     ]
    }
   ],
   "source": [
    "cv = StratifiedKFold(n_splits=5)\n",
    "X, y = enumerate(cv.split(glut_lognorm_train, Activitystatus_train))"
   ]
  },
  {
   "cell_type": "code",
   "execution_count": 148,
   "id": "8ce78638",
   "metadata": {},
   "outputs": [],
   "source": [
    "Activitystatus = pd.DataFrame(Activitystatus, columns = ['active'], index = glut_lognorm.index)"
   ]
  },
  {
   "cell_type": "code",
   "execution_count": 153,
   "id": "55771c2a",
   "metadata": {},
   "outputs": [
    {
     "data": {
      "text/html": [
       "<div>\n",
       "<style scoped>\n",
       "    .dataframe tbody tr th:only-of-type {\n",
       "        vertical-align: middle;\n",
       "    }\n",
       "\n",
       "    .dataframe tbody tr th {\n",
       "        vertical-align: top;\n",
       "    }\n",
       "\n",
       "    .dataframe thead th {\n",
       "        text-align: right;\n",
       "    }\n",
       "</style>\n",
       "<table border=\"1\" class=\"dataframe\">\n",
       "  <thead>\n",
       "    <tr style=\"text-align: right;\">\n",
       "      <th></th>\n",
       "      <th>00R-AC107638.2</th>\n",
       "      <th>0610005C13Rik</th>\n",
       "      <th>0610007P14Rik</th>\n",
       "      <th>0610009B22Rik</th>\n",
       "      <th>0610009E02Rik</th>\n",
       "      <th>0610009L18Rik</th>\n",
       "      <th>0610009O20Rik</th>\n",
       "      <th>0610010F05Rik</th>\n",
       "      <th>0610010K14Rik</th>\n",
       "      <th>0610012G03Rik</th>\n",
       "      <th>...</th>\n",
       "      <th>Kcnq1</th>\n",
       "      <th>Mageb16</th>\n",
       "      <th>Pdxk-ps</th>\n",
       "      <th>Ptprv</th>\n",
       "      <th>RP23-151L20.4</th>\n",
       "      <th>RP23-268A5.2</th>\n",
       "      <th>RP24-472F16.1</th>\n",
       "      <th>Ston1</th>\n",
       "      <th>Ttll10</th>\n",
       "      <th>Zbtb9</th>\n",
       "    </tr>\n",
       "  </thead>\n",
       "  <tbody>\n",
       "    <tr>\n",
       "      <th>B1_T6_K7_S83_mouse1</th>\n",
       "      <td>-0.10285</td>\n",
       "      <td>-0.104403</td>\n",
       "      <td>0.232201</td>\n",
       "      <td>0.309106</td>\n",
       "      <td>-0.209070</td>\n",
       "      <td>-0.443183</td>\n",
       "      <td>-0.759438</td>\n",
       "      <td>-0.649236</td>\n",
       "      <td>-0.945452</td>\n",
       "      <td>-0.053222</td>\n",
       "      <td>...</td>\n",
       "      <td>-0.03337</td>\n",
       "      <td>-0.035637</td>\n",
       "      <td>-0.024218</td>\n",
       "      <td>-0.03883</td>\n",
       "      <td>-0.040471</td>\n",
       "      <td>-0.036685</td>\n",
       "      <td>-0.039303</td>\n",
       "      <td>-0.037183</td>\n",
       "      <td>-0.033362</td>\n",
       "      <td>-0.083042</td>\n",
       "    </tr>\n",
       "    <tr>\n",
       "      <th>D6_T3_H15_S91_mouse1</th>\n",
       "      <td>-0.10285</td>\n",
       "      <td>-0.104403</td>\n",
       "      <td>-0.546191</td>\n",
       "      <td>0.186432</td>\n",
       "      <td>-0.209070</td>\n",
       "      <td>0.507658</td>\n",
       "      <td>0.550116</td>\n",
       "      <td>0.532078</td>\n",
       "      <td>-0.945452</td>\n",
       "      <td>-0.652421</td>\n",
       "      <td>...</td>\n",
       "      <td>-0.03337</td>\n",
       "      <td>-0.035637</td>\n",
       "      <td>-0.024218</td>\n",
       "      <td>-0.03883</td>\n",
       "      <td>-0.040471</td>\n",
       "      <td>-0.036685</td>\n",
       "      <td>-0.039303</td>\n",
       "      <td>-0.037183</td>\n",
       "      <td>-0.033362</td>\n",
       "      <td>-0.083042</td>\n",
       "    </tr>\n",
       "    <tr>\n",
       "      <th>D6_T1_J3_S127_mouse1</th>\n",
       "      <td>-0.10285</td>\n",
       "      <td>-0.104403</td>\n",
       "      <td>0.428470</td>\n",
       "      <td>0.068714</td>\n",
       "      <td>1.993251</td>\n",
       "      <td>-0.443183</td>\n",
       "      <td>1.063019</td>\n",
       "      <td>0.505762</td>\n",
       "      <td>-0.349583</td>\n",
       "      <td>-0.040445</td>\n",
       "      <td>...</td>\n",
       "      <td>-0.03337</td>\n",
       "      <td>-0.035637</td>\n",
       "      <td>-0.024218</td>\n",
       "      <td>-0.03883</td>\n",
       "      <td>-0.040471</td>\n",
       "      <td>-0.036685</td>\n",
       "      <td>-0.039303</td>\n",
       "      <td>-0.037183</td>\n",
       "      <td>-0.033362</td>\n",
       "      <td>-0.083042</td>\n",
       "    </tr>\n",
       "    <tr>\n",
       "      <th>E3_T6_A10_S146_mouse1</th>\n",
       "      <td>-0.10285</td>\n",
       "      <td>-0.104403</td>\n",
       "      <td>-0.925778</td>\n",
       "      <td>0.266633</td>\n",
       "      <td>-0.209070</td>\n",
       "      <td>-0.443183</td>\n",
       "      <td>0.912849</td>\n",
       "      <td>0.478024</td>\n",
       "      <td>-0.001021</td>\n",
       "      <td>-0.384973</td>\n",
       "      <td>...</td>\n",
       "      <td>-0.03337</td>\n",
       "      <td>-0.035637</td>\n",
       "      <td>-0.024218</td>\n",
       "      <td>-0.03883</td>\n",
       "      <td>-0.040471</td>\n",
       "      <td>-0.036685</td>\n",
       "      <td>-0.039303</td>\n",
       "      <td>-0.037183</td>\n",
       "      <td>-0.033362</td>\n",
       "      <td>-0.083042</td>\n",
       "    </tr>\n",
       "    <tr>\n",
       "      <th>F2_T1_N4_S224_mouse1</th>\n",
       "      <td>-0.10285</td>\n",
       "      <td>-0.104403</td>\n",
       "      <td>-0.044403</td>\n",
       "      <td>0.626678</td>\n",
       "      <td>-0.209070</td>\n",
       "      <td>-0.443183</td>\n",
       "      <td>1.106452</td>\n",
       "      <td>0.686043</td>\n",
       "      <td>-0.001021</td>\n",
       "      <td>-0.430169</td>\n",
       "      <td>...</td>\n",
       "      <td>-0.03337</td>\n",
       "      <td>-0.035637</td>\n",
       "      <td>-0.024218</td>\n",
       "      <td>-0.03883</td>\n",
       "      <td>-0.040471</td>\n",
       "      <td>-0.036685</td>\n",
       "      <td>-0.039303</td>\n",
       "      <td>-0.037183</td>\n",
       "      <td>-0.033362</td>\n",
       "      <td>-0.083042</td>\n",
       "    </tr>\n",
       "    <tr>\n",
       "      <th>...</th>\n",
       "      <td>...</td>\n",
       "      <td>...</td>\n",
       "      <td>...</td>\n",
       "      <td>...</td>\n",
       "      <td>...</td>\n",
       "      <td>...</td>\n",
       "      <td>...</td>\n",
       "      <td>...</td>\n",
       "      <td>...</td>\n",
       "      <td>...</td>\n",
       "      <td>...</td>\n",
       "      <td>...</td>\n",
       "      <td>...</td>\n",
       "      <td>...</td>\n",
       "      <td>...</td>\n",
       "      <td>...</td>\n",
       "      <td>...</td>\n",
       "      <td>...</td>\n",
       "      <td>...</td>\n",
       "      <td>...</td>\n",
       "      <td>...</td>\n",
       "    </tr>\n",
       "    <tr>\n",
       "      <th>T2_L10_mouse5</th>\n",
       "      <td>-0.10285</td>\n",
       "      <td>-0.104403</td>\n",
       "      <td>-1.991415</td>\n",
       "      <td>-1.440118</td>\n",
       "      <td>-0.209070</td>\n",
       "      <td>-0.443183</td>\n",
       "      <td>-0.759438</td>\n",
       "      <td>2.092811</td>\n",
       "      <td>-0.945452</td>\n",
       "      <td>0.654404</td>\n",
       "      <td>...</td>\n",
       "      <td>-0.03337</td>\n",
       "      <td>-0.035637</td>\n",
       "      <td>-0.024218</td>\n",
       "      <td>-0.03883</td>\n",
       "      <td>-0.040471</td>\n",
       "      <td>-0.036685</td>\n",
       "      <td>-0.039303</td>\n",
       "      <td>-0.037183</td>\n",
       "      <td>-0.033362</td>\n",
       "      <td>-0.083042</td>\n",
       "    </tr>\n",
       "    <tr>\n",
       "      <th>T2_A12_mouse5</th>\n",
       "      <td>-0.10285</td>\n",
       "      <td>-0.104403</td>\n",
       "      <td>-1.991415</td>\n",
       "      <td>0.203561</td>\n",
       "      <td>-0.209070</td>\n",
       "      <td>-0.443183</td>\n",
       "      <td>0.719245</td>\n",
       "      <td>-1.004847</td>\n",
       "      <td>-0.945452</td>\n",
       "      <td>-0.801931</td>\n",
       "      <td>...</td>\n",
       "      <td>-0.03337</td>\n",
       "      <td>-0.035637</td>\n",
       "      <td>-0.024218</td>\n",
       "      <td>-0.03883</td>\n",
       "      <td>-0.040471</td>\n",
       "      <td>-0.036685</td>\n",
       "      <td>-0.039303</td>\n",
       "      <td>-0.037183</td>\n",
       "      <td>-0.033362</td>\n",
       "      <td>-0.083042</td>\n",
       "    </tr>\n",
       "    <tr>\n",
       "      <th>T2_N9_mouse5</th>\n",
       "      <td>-0.10285</td>\n",
       "      <td>-0.104403</td>\n",
       "      <td>1.040989</td>\n",
       "      <td>1.696055</td>\n",
       "      <td>-0.209070</td>\n",
       "      <td>-0.443183</td>\n",
       "      <td>-0.759438</td>\n",
       "      <td>-1.004847</td>\n",
       "      <td>-0.945452</td>\n",
       "      <td>1.208118</td>\n",
       "      <td>...</td>\n",
       "      <td>-0.03337</td>\n",
       "      <td>-0.035637</td>\n",
       "      <td>-0.024218</td>\n",
       "      <td>-0.03883</td>\n",
       "      <td>-0.040471</td>\n",
       "      <td>-0.036685</td>\n",
       "      <td>-0.039303</td>\n",
       "      <td>-0.037183</td>\n",
       "      <td>-0.033362</td>\n",
       "      <td>-0.083042</td>\n",
       "    </tr>\n",
       "    <tr>\n",
       "      <th>T2_J3_mouse5</th>\n",
       "      <td>-0.10285</td>\n",
       "      <td>-0.104403</td>\n",
       "      <td>-1.232240</td>\n",
       "      <td>1.123676</td>\n",
       "      <td>-0.209070</td>\n",
       "      <td>-0.443183</td>\n",
       "      <td>-0.759438</td>\n",
       "      <td>-1.004847</td>\n",
       "      <td>-0.945452</td>\n",
       "      <td>1.403112</td>\n",
       "      <td>...</td>\n",
       "      <td>-0.03337</td>\n",
       "      <td>-0.035637</td>\n",
       "      <td>-0.024218</td>\n",
       "      <td>-0.03883</td>\n",
       "      <td>-0.040471</td>\n",
       "      <td>-0.036685</td>\n",
       "      <td>-0.039303</td>\n",
       "      <td>-0.037183</td>\n",
       "      <td>-0.033362</td>\n",
       "      <td>-0.083042</td>\n",
       "    </tr>\n",
       "    <tr>\n",
       "      <th>T2_B23_mouse5</th>\n",
       "      <td>-0.10285</td>\n",
       "      <td>-0.104403</td>\n",
       "      <td>-1.991415</td>\n",
       "      <td>-1.440118</td>\n",
       "      <td>-0.209070</td>\n",
       "      <td>-0.443183</td>\n",
       "      <td>-0.759438</td>\n",
       "      <td>-1.004847</td>\n",
       "      <td>-0.945452</td>\n",
       "      <td>-2.514714</td>\n",
       "      <td>...</td>\n",
       "      <td>-0.03337</td>\n",
       "      <td>-0.035637</td>\n",
       "      <td>-0.024218</td>\n",
       "      <td>-0.03883</td>\n",
       "      <td>-0.040471</td>\n",
       "      <td>-0.036685</td>\n",
       "      <td>-0.039303</td>\n",
       "      <td>-0.037183</td>\n",
       "      <td>-0.033362</td>\n",
       "      <td>-0.083042</td>\n",
       "    </tr>\n",
       "  </tbody>\n",
       "</table>\n",
       "<p>2352 rows × 23355 columns</p>\n",
       "</div>"
      ],
      "text/plain": [
       "                       00R-AC107638.2  0610005C13Rik  0610007P14Rik  \\\n",
       "B1_T6_K7_S83_mouse1          -0.10285      -0.104403       0.232201   \n",
       "D6_T3_H15_S91_mouse1         -0.10285      -0.104403      -0.546191   \n",
       "D6_T1_J3_S127_mouse1         -0.10285      -0.104403       0.428470   \n",
       "E3_T6_A10_S146_mouse1        -0.10285      -0.104403      -0.925778   \n",
       "F2_T1_N4_S224_mouse1         -0.10285      -0.104403      -0.044403   \n",
       "...                               ...            ...            ...   \n",
       "T2_L10_mouse5                -0.10285      -0.104403      -1.991415   \n",
       "T2_A12_mouse5                -0.10285      -0.104403      -1.991415   \n",
       "T2_N9_mouse5                 -0.10285      -0.104403       1.040989   \n",
       "T2_J3_mouse5                 -0.10285      -0.104403      -1.232240   \n",
       "T2_B23_mouse5                -0.10285      -0.104403      -1.991415   \n",
       "\n",
       "                       0610009B22Rik  0610009E02Rik  0610009L18Rik  \\\n",
       "B1_T6_K7_S83_mouse1         0.309106      -0.209070      -0.443183   \n",
       "D6_T3_H15_S91_mouse1        0.186432      -0.209070       0.507658   \n",
       "D6_T1_J3_S127_mouse1        0.068714       1.993251      -0.443183   \n",
       "E3_T6_A10_S146_mouse1       0.266633      -0.209070      -0.443183   \n",
       "F2_T1_N4_S224_mouse1        0.626678      -0.209070      -0.443183   \n",
       "...                              ...            ...            ...   \n",
       "T2_L10_mouse5              -1.440118      -0.209070      -0.443183   \n",
       "T2_A12_mouse5               0.203561      -0.209070      -0.443183   \n",
       "T2_N9_mouse5                1.696055      -0.209070      -0.443183   \n",
       "T2_J3_mouse5                1.123676      -0.209070      -0.443183   \n",
       "T2_B23_mouse5              -1.440118      -0.209070      -0.443183   \n",
       "\n",
       "                       0610009O20Rik  0610010F05Rik  0610010K14Rik  \\\n",
       "B1_T6_K7_S83_mouse1        -0.759438      -0.649236      -0.945452   \n",
       "D6_T3_H15_S91_mouse1        0.550116       0.532078      -0.945452   \n",
       "D6_T1_J3_S127_mouse1        1.063019       0.505762      -0.349583   \n",
       "E3_T6_A10_S146_mouse1       0.912849       0.478024      -0.001021   \n",
       "F2_T1_N4_S224_mouse1        1.106452       0.686043      -0.001021   \n",
       "...                              ...            ...            ...   \n",
       "T2_L10_mouse5              -0.759438       2.092811      -0.945452   \n",
       "T2_A12_mouse5               0.719245      -1.004847      -0.945452   \n",
       "T2_N9_mouse5               -0.759438      -1.004847      -0.945452   \n",
       "T2_J3_mouse5               -0.759438      -1.004847      -0.945452   \n",
       "T2_B23_mouse5              -0.759438      -1.004847      -0.945452   \n",
       "\n",
       "                       0610012G03Rik  ...    Kcnq1   Mageb16   Pdxk-ps  \\\n",
       "B1_T6_K7_S83_mouse1        -0.053222  ... -0.03337 -0.035637 -0.024218   \n",
       "D6_T3_H15_S91_mouse1       -0.652421  ... -0.03337 -0.035637 -0.024218   \n",
       "D6_T1_J3_S127_mouse1       -0.040445  ... -0.03337 -0.035637 -0.024218   \n",
       "E3_T6_A10_S146_mouse1      -0.384973  ... -0.03337 -0.035637 -0.024218   \n",
       "F2_T1_N4_S224_mouse1       -0.430169  ... -0.03337 -0.035637 -0.024218   \n",
       "...                              ...  ...      ...       ...       ...   \n",
       "T2_L10_mouse5               0.654404  ... -0.03337 -0.035637 -0.024218   \n",
       "T2_A12_mouse5              -0.801931  ... -0.03337 -0.035637 -0.024218   \n",
       "T2_N9_mouse5                1.208118  ... -0.03337 -0.035637 -0.024218   \n",
       "T2_J3_mouse5                1.403112  ... -0.03337 -0.035637 -0.024218   \n",
       "T2_B23_mouse5              -2.514714  ... -0.03337 -0.035637 -0.024218   \n",
       "\n",
       "                         Ptprv  RP23-151L20.4  RP23-268A5.2  RP24-472F16.1  \\\n",
       "B1_T6_K7_S83_mouse1   -0.03883      -0.040471     -0.036685      -0.039303   \n",
       "D6_T3_H15_S91_mouse1  -0.03883      -0.040471     -0.036685      -0.039303   \n",
       "D6_T1_J3_S127_mouse1  -0.03883      -0.040471     -0.036685      -0.039303   \n",
       "E3_T6_A10_S146_mouse1 -0.03883      -0.040471     -0.036685      -0.039303   \n",
       "F2_T1_N4_S224_mouse1  -0.03883      -0.040471     -0.036685      -0.039303   \n",
       "...                        ...            ...           ...            ...   \n",
       "T2_L10_mouse5         -0.03883      -0.040471     -0.036685      -0.039303   \n",
       "T2_A12_mouse5         -0.03883      -0.040471     -0.036685      -0.039303   \n",
       "T2_N9_mouse5          -0.03883      -0.040471     -0.036685      -0.039303   \n",
       "T2_J3_mouse5          -0.03883      -0.040471     -0.036685      -0.039303   \n",
       "T2_B23_mouse5         -0.03883      -0.040471     -0.036685      -0.039303   \n",
       "\n",
       "                          Ston1    Ttll10     Zbtb9  \n",
       "B1_T6_K7_S83_mouse1   -0.037183 -0.033362 -0.083042  \n",
       "D6_T3_H15_S91_mouse1  -0.037183 -0.033362 -0.083042  \n",
       "D6_T1_J3_S127_mouse1  -0.037183 -0.033362 -0.083042  \n",
       "E3_T6_A10_S146_mouse1 -0.037183 -0.033362 -0.083042  \n",
       "F2_T1_N4_S224_mouse1  -0.037183 -0.033362 -0.083042  \n",
       "...                         ...       ...       ...  \n",
       "T2_L10_mouse5         -0.037183 -0.033362 -0.083042  \n",
       "T2_A12_mouse5         -0.037183 -0.033362 -0.083042  \n",
       "T2_N9_mouse5          -0.037183 -0.033362 -0.083042  \n",
       "T2_J3_mouse5          -0.037183 -0.033362 -0.083042  \n",
       "T2_B23_mouse5         -0.037183 -0.033362 -0.083042  \n",
       "\n",
       "[2352 rows x 23355 columns]"
      ]
     },
     "execution_count": 153,
     "metadata": {},
     "output_type": "execute_result"
    }
   ],
   "source": [
    "glut_lognorm = glut_lognorm.fillna(0)"
   ]
  },
  {
   "cell_type": "code",
   "execution_count": 152,
   "id": "46e8a5aa",
   "metadata": {},
   "outputs": [
    {
     "ename": "ValueError",
     "evalue": "Input contains NaN",
     "output_type": "error",
     "traceback": [
      "\u001b[0;31m---------------------------------------------------------------------------\u001b[0m",
      "\u001b[0;31mValueError\u001b[0m                                Traceback (most recent call last)",
      "Cell \u001b[0;32mIn [152], line 12\u001b[0m\n\u001b[1;32m     10\u001b[0m \u001b[38;5;66;03m# making the fig and ax object for plotting\u001b[39;00m\n\u001b[1;32m     11\u001b[0m fig, ax \u001b[38;5;241m=\u001b[39m plt\u001b[38;5;241m.\u001b[39msubplots()\n\u001b[0;32m---> 12\u001b[0m \u001b[38;5;28;01mfor\u001b[39;00m i, (train, test) \u001b[38;5;129;01min\u001b[39;00m \u001b[38;5;28menumerate\u001b[39m(\u001b[43mcv\u001b[49m\u001b[38;5;241;43m.\u001b[39;49m\u001b[43msplit\u001b[49m\u001b[43m(\u001b[49m\u001b[43mglut_lognorm\u001b[49m\u001b[38;5;241;43m.\u001b[39;49m\u001b[43mto_numpy\u001b[49m\u001b[43m(\u001b[49m\u001b[43m)\u001b[49m\u001b[43m,\u001b[49m\u001b[43m \u001b[49m\u001b[43mActivitystatus\u001b[49m\u001b[38;5;241;43m.\u001b[39;49m\u001b[43mto_numpy\u001b[49m\u001b[43m(\u001b[49m\u001b[43m)\u001b[49m\u001b[43m \u001b[49m\u001b[43m)\u001b[49m ):\n\u001b[1;32m     13\u001b[0m     classifier\u001b[38;5;241m.\u001b[39mfit(glut_lognorm\u001b[38;5;241m.\u001b[39miloc[:,train], Activitystatus[train])\n\u001b[1;32m     14\u001b[0m     viz \u001b[38;5;241m=\u001b[39m RocCurveDisplay\u001b[38;5;241m.\u001b[39mfrom_estimator(\n\u001b[1;32m     15\u001b[0m         classifier,\n\u001b[1;32m     16\u001b[0m         glut_lognorm[:,test],\n\u001b[0;32m   (...)\u001b[0m\n\u001b[1;32m     21\u001b[0m         ax\u001b[38;5;241m=\u001b[39max,\n\u001b[1;32m     22\u001b[0m     )\n",
      "File \u001b[0;32m~/miniconda3/envs/py-engrams/lib/python3.10/site-packages/sklearn/model_selection/_split.py:755\u001b[0m, in \u001b[0;36mStratifiedKFold.split\u001b[0;34m(self, X, y, groups)\u001b[0m\n\u001b[1;32m    721\u001b[0m \u001b[38;5;28;01mdef\u001b[39;00m \u001b[38;5;21msplit\u001b[39m(\u001b[38;5;28mself\u001b[39m, X, y, groups\u001b[38;5;241m=\u001b[39m\u001b[38;5;28;01mNone\u001b[39;00m):\n\u001b[1;32m    722\u001b[0m     \u001b[38;5;124;03m\"\"\"Generate indices to split data into training and test set.\u001b[39;00m\n\u001b[1;32m    723\u001b[0m \n\u001b[1;32m    724\u001b[0m \u001b[38;5;124;03m    Parameters\u001b[39;00m\n\u001b[0;32m   (...)\u001b[0m\n\u001b[1;32m    753\u001b[0m \u001b[38;5;124;03m    to an integer.\u001b[39;00m\n\u001b[1;32m    754\u001b[0m \u001b[38;5;124;03m    \"\"\"\u001b[39;00m\n\u001b[0;32m--> 755\u001b[0m     y \u001b[38;5;241m=\u001b[39m \u001b[43mcheck_array\u001b[49m\u001b[43m(\u001b[49m\u001b[43my\u001b[49m\u001b[43m,\u001b[49m\u001b[43m \u001b[49m\u001b[43minput_name\u001b[49m\u001b[38;5;241;43m=\u001b[39;49m\u001b[38;5;124;43m\"\u001b[39;49m\u001b[38;5;124;43my\u001b[39;49m\u001b[38;5;124;43m\"\u001b[39;49m\u001b[43m,\u001b[49m\u001b[43m \u001b[49m\u001b[43mensure_2d\u001b[49m\u001b[38;5;241;43m=\u001b[39;49m\u001b[38;5;28;43;01mFalse\u001b[39;49;00m\u001b[43m,\u001b[49m\u001b[43m \u001b[49m\u001b[43mdtype\u001b[49m\u001b[38;5;241;43m=\u001b[39;49m\u001b[38;5;28;43;01mNone\u001b[39;49;00m\u001b[43m)\u001b[49m\n\u001b[1;32m    756\u001b[0m     \u001b[38;5;28;01mreturn\u001b[39;00m \u001b[38;5;28msuper\u001b[39m()\u001b[38;5;241m.\u001b[39msplit(X, y, groups)\n",
      "File \u001b[0;32m~/miniconda3/envs/py-engrams/lib/python3.10/site-packages/sklearn/utils/validation.py:899\u001b[0m, in \u001b[0;36mcheck_array\u001b[0;34m(array, accept_sparse, accept_large_sparse, dtype, order, copy, force_all_finite, ensure_2d, allow_nd, ensure_min_samples, ensure_min_features, estimator, input_name)\u001b[0m\n\u001b[1;32m    893\u001b[0m         \u001b[38;5;28;01mraise\u001b[39;00m \u001b[38;5;167;01mValueError\u001b[39;00m(\n\u001b[1;32m    894\u001b[0m             \u001b[38;5;124m\"\u001b[39m\u001b[38;5;124mFound array with dim \u001b[39m\u001b[38;5;132;01m%d\u001b[39;00m\u001b[38;5;124m. \u001b[39m\u001b[38;5;132;01m%s\u001b[39;00m\u001b[38;5;124m expected <= 2.\u001b[39m\u001b[38;5;124m\"\u001b[39m\n\u001b[1;32m    895\u001b[0m             \u001b[38;5;241m%\u001b[39m (array\u001b[38;5;241m.\u001b[39mndim, estimator_name)\n\u001b[1;32m    896\u001b[0m         )\n\u001b[1;32m    898\u001b[0m     \u001b[38;5;28;01mif\u001b[39;00m force_all_finite:\n\u001b[0;32m--> 899\u001b[0m         \u001b[43m_assert_all_finite\u001b[49m\u001b[43m(\u001b[49m\n\u001b[1;32m    900\u001b[0m \u001b[43m            \u001b[49m\u001b[43marray\u001b[49m\u001b[43m,\u001b[49m\n\u001b[1;32m    901\u001b[0m \u001b[43m            \u001b[49m\u001b[43minput_name\u001b[49m\u001b[38;5;241;43m=\u001b[39;49m\u001b[43minput_name\u001b[49m\u001b[43m,\u001b[49m\n\u001b[1;32m    902\u001b[0m \u001b[43m            \u001b[49m\u001b[43mestimator_name\u001b[49m\u001b[38;5;241;43m=\u001b[39;49m\u001b[43mestimator_name\u001b[49m\u001b[43m,\u001b[49m\n\u001b[1;32m    903\u001b[0m \u001b[43m            \u001b[49m\u001b[43mallow_nan\u001b[49m\u001b[38;5;241;43m=\u001b[39;49m\u001b[43mforce_all_finite\u001b[49m\u001b[43m \u001b[49m\u001b[38;5;241;43m==\u001b[39;49m\u001b[43m \u001b[49m\u001b[38;5;124;43m\"\u001b[39;49m\u001b[38;5;124;43mallow-nan\u001b[39;49m\u001b[38;5;124;43m\"\u001b[39;49m\u001b[43m,\u001b[49m\n\u001b[1;32m    904\u001b[0m \u001b[43m        \u001b[49m\u001b[43m)\u001b[49m\n\u001b[1;32m    906\u001b[0m \u001b[38;5;28;01mif\u001b[39;00m ensure_min_samples \u001b[38;5;241m>\u001b[39m \u001b[38;5;241m0\u001b[39m:\n\u001b[1;32m    907\u001b[0m     n_samples \u001b[38;5;241m=\u001b[39m _num_samples(array)\n",
      "File \u001b[0;32m~/miniconda3/envs/py-engrams/lib/python3.10/site-packages/sklearn/utils/validation.py:151\u001b[0m, in \u001b[0;36m_assert_all_finite\u001b[0;34m(X, allow_nan, msg_dtype, estimator_name, input_name)\u001b[0m\n\u001b[1;32m    149\u001b[0m \u001b[38;5;28;01melif\u001b[39;00m X\u001b[38;5;241m.\u001b[39mdtype \u001b[38;5;241m==\u001b[39m np\u001b[38;5;241m.\u001b[39mdtype(\u001b[38;5;124m\"\u001b[39m\u001b[38;5;124mobject\u001b[39m\u001b[38;5;124m\"\u001b[39m) \u001b[38;5;129;01mand\u001b[39;00m \u001b[38;5;129;01mnot\u001b[39;00m allow_nan:\n\u001b[1;32m    150\u001b[0m     \u001b[38;5;28;01mif\u001b[39;00m _object_dtype_isnan(X)\u001b[38;5;241m.\u001b[39many():\n\u001b[0;32m--> 151\u001b[0m         \u001b[38;5;28;01mraise\u001b[39;00m \u001b[38;5;167;01mValueError\u001b[39;00m(\u001b[38;5;124m\"\u001b[39m\u001b[38;5;124mInput contains NaN\u001b[39m\u001b[38;5;124m\"\u001b[39m)\n",
      "\u001b[0;31mValueError\u001b[0m: Input contains NaN"
     ]
    },
    {
     "data": {
      "image/png": "[encoded data removed]",
      "text/plain": [
       "<Figure size 640x480 with 1 Axes>"
      ]
     },
     "metadata": {},
     "output_type": "display_data"
    }
   ],
   "source": [
    "# Run classifier with cross-validation and plot ROC curves\n",
    "cv = StratifiedKFold(n_splits=5)\n",
    "#classifier = svm.SVC(kernel=\"linear\", probability=True, random_state=random_state)\n",
    "classifier = LogisticRegression(max_iter=100000)\n",
    "\n",
    "tprs = []\n",
    "aucs = []\n",
    "mean_fpr = np.linspace(0, 1, 100)\n",
    "\n",
    "# making the fig and ax object for plotting\n",
    "fig, ax = plt.subplots()\n",
    "for i, (train, test) in enumerate(cv.split(glut_lognorm.to_numpy(), Activitystatus.to_numpy() ) ):\n",
    "    classifier.fit(glut_lognorm.iloc[:,train], Activitystatus[train])\n",
    "    viz = RocCurveDisplay.from_estimator(\n",
    "        classifier,\n",
    "        glut_lognorm[:,test],\n",
    "        Activitystatus[test],\n",
    "        name=\"ROC fold {}\".format(i),\n",
    "        alpha=0.3,\n",
    "        lw=1,\n",
    "        ax=ax,\n",
    "    )\n",
    "    interp_tpr = np.interp(mean_fpr, viz.fpr, viz.tpr)\n",
    "    interp_tpr[0] = 0.0\n",
    "    tprs.append(interp_tpr)\n",
    "    aucs.append(viz.roc_auc)"
   ]
  },
  {
   "cell_type": "code",
   "execution_count": null,
   "id": "a331915e-068f-4f5b-889b-4cfa9aa23709",
   "metadata": {},
   "outputs": [],
   "source": [
    "#plotting\n",
    "ax.plot([0, 1], [0, 1], linestyle=\"--\", lw=2, color=\"r\", label=\"Chance\", alpha=0.8)\n",
    "\n",
    "mean_tpr = np.mean(tprs, axis=0)\n",
    "mean_tpr[-1] = 1.0\n",
    "mean_auc = auc(mean_fpr, mean_tpr)\n",
    "std_auc = np.std(aucs)\n",
    "ax.plot(\n",
    "    mean_fpr,\n",
    "    mean_tpr,\n",
    "    color=\"b\",\n",
    "    label=r\"Mean ROC (AUC = %0.2f $\\pm$ %0.2f)\" % (mean_auc, std_auc),\n",
    "    lw=2,\n",
    "    alpha=0.8,\n",
    ")\n",
    "\n",
    "std_tpr = np.std(tprs, axis=0)\n",
    "tprs_upper = np.minimum(mean_tpr + std_tpr, 1)\n",
    "tprs_lower = np.maximum(mean_tpr - std_tpr, 0)\n",
    "ax.fill_between(\n",
    "    mean_fpr,\n",
    "    tprs_lower,\n",
    "    tprs_upper,\n",
    "    color=\"grey\",\n",
    "    alpha=0.2,\n",
    "    label=r\"$\\pm$ 1 std. dev.\",\n",
    ")\n",
    "\n",
    "ax.set(\n",
    "    xlim=[-0.05, 1.05],\n",
    "    ylim=[-0.05, 1.05],\n",
    "    title=\"Receiver operating characteristic example\",\n",
    ")\n",
    "ax.legend(loc=\"lower right\")\n",
    "plt.show()"
   ]
  },
  {
   "cell_type": "markdown",
   "id": "1685f391-12c6-445a-aa80-06c8a431a7f2",
   "metadata": {},
   "source": [
    "Using smote to resample with cross validation: https://towardsdatascience.com/the-right-way-of-using-smote-with-cross-validation-92a8d09d00c7"
   ]
  },
  {
   "cell_type": "code",
   "execution_count": null,
   "id": "ba8a0976-6050-48f5-9582-4f56e04fb3c8",
   "metadata": {},
   "outputs": [],
   "source": []
  }
 ],
 "metadata": {
  "kernelspec": {
   "display_name": "Python [conda env:py-engrams]",
   "language": "python",
   "name": "conda-env-py-engrams-py"
  },
  "language_info": {
   "codemirror_mode": {
    "name": "ipython",
    "version": 3
   },
   "file_extension": ".py",
   "mimetype": "text/x-python",
   "name": "python",
   "nbconvert_exporter": "python",
   "pygments_lexer": "ipython3",
   "version": "3.10.6"
  }
 },
 "nbformat": 4,
 "nbformat_minor": 5
}
