{
 "cells": [
  {
   "cell_type": "markdown",
   "id": "1088b7e3-e49a-45db-a0ce-bc329c5b7244",
   "metadata": {},
   "source": [
    "Finding IEG expression in human datasets.\n",
    "<br><br>\n",
    "We will use the following definition from a biorvx preprint: [Hochgerner et al., (2022)](https://www.biorxiv.org/content/10.1101/2022.10.25.513733v1.full)...\n",
    "<br><br>\n",
    "__Cell activity score by high IEG expression (IEG score)__\n",
    "<br><br>\n",
    "*We defined a set of eight immediate early genes (IEGs): Arc, Bdnf, Btg2, Fos, Fosl2, Homer1, Npas4, Nr4a1, calculated the 90th percentile expression for each. A cell was called activated, or IEGhigh, if it expressed any of the genes above this 90th percentile. For every cell type, we calculated the fraction of activated cells per timepoint (8×5 matrix). We then summed the fraction of all eight genes per timepoint (1×5 vector) and defined the activity score as the maximum difference between CFC-samples (2h, 8h, 24h, recall) to HC control.*"
   ]
  },
  {
   "cell_type": "code",
   "execution_count": 17,
   "id": "d52ce4b7-fac7-422b-9b7a-655a0a5e361a",
   "metadata": {},
   "outputs": [],
   "source": [
    "library(randomForest)\n",
    "library(rfUtilities)\n",
    "library(Seurat) # not really needed for this analysis and may interfere with Summarized experiment which we need \n",
    "library(stringr)\n",
    "library(sampler)\n",
    "library(caTools)\n",
    "library(pROC)\n",
    "library(ggplot2)\n",
    "library(stats)\n",
    "library(Dict)\n",
    "library(pheatmap)\n",
    "library(caret)\n",
    "library(data.table)\n",
    "library(dplyr)\n",
    "library(groupdata2)\n",
    "#library(SCnorm) # install this one from github\n",
    "#may require restarting session to run\n",
    "#library(devtools)\n",
    "#devtools::install_github(\"rhondabacher/SCnorm\")\n",
    "library(janitor)\n",
    "#library(SummarizedExperiment) # may interfere with seurat\n",
    "library(tibble)"
   ]
  },
  {
   "cell_type": "code",
   "execution_count": 2,
   "id": "5fb23673-5143-4856-9891-7aaf557c93ce",
   "metadata": {},
   "outputs": [
    {
     "ename": "ERROR",
     "evalue": "Error in GetAssayData(seu, assay = \"integrated\", slot = \"...\"): object 'seu' not found\n",
     "output_type": "error",
     "traceback": [
      "Error in GetAssayData(seu, assay = \"integrated\", slot = \"...\"): object 'seu' not found\nTraceback:\n",
      "1. as.data.frame(as.matrix(GetAssayData(seu, assay = \"integrated\", \n .     slot = \"...\")))",
      "2. as.matrix(GetAssayData(seu, assay = \"integrated\", slot = \"...\"))",
      "3. GetAssayData(seu, assay = \"integrated\", slot = \"...\")"
     ]
    }
   ],
   "source": [
    "#df <- as.data.frame(as.matrix(GetAssayData(seu, assay=\"integrated\", slot=\"...\")))"
   ]
  },
  {
   "cell_type": "code",
   "execution_count": 30,
   "id": "ca5e8e10-caad-4085-920a-7406c3e00df3",
   "metadata": {},
   "outputs": [],
   "source": [
    "seurat_log1p_transform <- function(x, scale_factor = 10000){\n",
    "    counts <- sum(x)\n",
    "    x <- x/counts\n",
    "    return(log1p(x)*scale_factor)\n",
    "}\n",
    "\n",
    "seurat.normalize <- function(df){\n",
    "    df.cols <- colnames(df)\n",
    "    df.rows <- rownames(df)\n",
    "    df <- data.frame(apply(df,  MARGIN = 2, seurat_log1p_transform))\n",
    "    colnames(df) <- df.cols\n",
    "    rownames(df)<- df.rows\n",
    "    return(df)\n",
    "}"
   ]
  },
  {
   "cell_type": "code",
   "execution_count": 3,
   "id": "a58d725e-3af0-4e25-8af8-f29f62b47556",
   "metadata": {},
   "outputs": [],
   "source": [
    "#functions\n",
    "logplusone <- function(x){\n",
    "  if (sum(x)==0){\n",
    "  y <- x}else{\n",
    "  y <- log(x+1)}    \n",
    "  return( y )\n",
    "}"
   ]
  },
  {
   "cell_type": "code",
   "execution_count": 4,
   "id": "a3a57824-7f45-4dc7-80a9-fd65b3468e37",
   "metadata": {},
   "outputs": [],
   "source": [
    "log.norm <- function(df.in){\n",
    "  #performs the lognorm transform and scales the data, removes NA's first\n",
    "  if( sum(is.na(df.in)) ){\n",
    "    df.in[is.na(df.in)] <- 0\n",
    "  }\n",
    "  df.out <- apply(df.in,\n",
    "                  MARGIN = 1,\n",
    "                  FUN = logplusone\n",
    "  )\n",
    "  df.out <- scale( t(df.out) ) #we need it transposed so that the scaling is done per gene not cell\n",
    "  df.out <- data.frame( t(df.out) )\n",
    "  colnames(df.out) <- rownames(df.in)\n",
    "  return(df.out)\n",
    "}"
   ]
  },
  {
   "cell_type": "code",
   "execution_count": 5,
   "id": "9e0f028b-16c1-400d-ae21-dd6531062aa7",
   "metadata": {},
   "outputs": [],
   "source": [
    "#modified original is in ChenClassifier.R in the EngramCellClassifier folder\n",
    "celltype.lognorm <-function(countsdata, celltype.labels){\n",
    "  #log normalizes within cell types in counts data\n",
    "  #celltype labels and colnames of countsdata must have same order\n",
    "  \n",
    "  #retunrs a transposed and normalize dataframe \n",
    "  \n",
    "  print(\"Normalizing cell type...\")\n",
    "  \n",
    "  celltypes <- unique(celltype.labels)\n",
    "  df.out <- data.frame(gene = rownames(countsdata))\n",
    "  #df.out <- t(df.out)\n",
    "  #colnames(df.out) <- rownames(countsdata)\n",
    "  \n",
    "  cell_names <- c('gene',colnames(countsdata)) # keep this for reorganizing later\n",
    "  df.out.rownames <- c()\n",
    "  for(type in celltypes){\n",
    "    print(type[1])\n",
    "    normalized.within.type <- log.norm(countsdata[,celltype.labels==type])\n",
    "    normalized.within.type <- t(normalized.within.type) # lognorm flips its data\n",
    "    normalized.within.type <- data.frame(normalized.within.type)\n",
    "    normalized.within.type <- rownames_to_column(normalized.within.type, var =\"gene\")\n",
    "    df.out <- left_join( df.out, normalized.within.type, by = 'gene' )\n",
    "  }\n",
    "  \n",
    "  #df.out <- df.out[,2:dim(df.out)[2]]  # to keep original order\n",
    "  df.out <- df.out[cell_names] %>% \n",
    "    select_if(~ !any(is.na(.))) %>%\n",
    "    column_to_rownames(var = 'gene')\n",
    "    \n",
    "  return( data.frame(df.out) ) \n",
    "}"
   ]
  },
  {
   "cell_type": "code",
   "execution_count": 6,
   "id": "2286483e-c230-4f1f-87a4-723b4246e8ab",
   "metadata": {},
   "outputs": [],
   "source": [
    "resample.randomForest <-function( df.in,\n",
    "                                  under_represented_class,\n",
    "                                  over_represented_class,\n",
    "                                  proportion,\n",
    "                                  batches, \n",
    "                                  trees){\n",
    "  #NOTE: df.in should have a column called engram cell with the class labels i.e. postive or negative\n",
    "\n",
    "  #this function resamples from our samples and retrains new models then combines them\n",
    "  # this is too prevent over fitting on cells\n",
    "  trees.per.batch <- as.integer(trees/batches)\n",
    "  n.cells <- trunc( sum(df.in$Engramcell==under_represented_class)*proportion)\n",
    "  batches <- c(1:batches)\n",
    "  for( batch in batches){\n",
    "    resample.set <- rbind(sample(which(df.in$Engramcell==under_represented_class), size = n.cells),\n",
    "                          sample(which(df.in$Engramcell==over_represented_class), size = n.cells)\n",
    "                          )\n",
    "    resample.set <- df.in[resample.set,]\n",
    "    \n",
    "    # creates rf.model\n",
    "    if(batch==1){\n",
    "      rf.model <- randomForest(x = resample.set[,1:(length(resample.set)-1)],\n",
    "                               y = resample.set$Engramcell,\n",
    "                               ntree = trees.per.batch)\n",
    "    }\n",
    "    #trains new models in rf.fit and combines tham with rf.model\n",
    "    if(batch>1){\n",
    "      rf.fit = randomForest(x = resample.set[,1:(length(resample.set)-1)],\n",
    "                            y = resample.set$Engramcell,\n",
    "                            ntree = trees.per.batch)\n",
    "      rf.model <- randomForest::combine(rf.fit, rf.model)\n",
    "    }\n",
    "  }#end of for loop over batches\n",
    "  \n",
    "  return(rf.model)\n",
    "}\n",
    "\n",
    "\n",
    "make.predictions.df <- function(classifier.object, \n",
    "                                test_df,\n",
    "                                meta.data.label.column,\n",
    "                                label = c(\"Active\",\"Inactive\")\n",
    "                                ){\n",
    "  #generate predictions for making classifier summary\n",
    "  predictions <- as.data.frame(predict(classifier.object, test_df[,1:(length(test_df))], type = \"prob\"))\n",
    "  predictions$predict <- names(predictions)[1:2][apply(predictions[,1:2], 1, which.max)] #1:2 for the number of classes\n",
    "  predictions$observed <- meta.data.label.column #this should be changed if you want to make this functions more modular\n",
    "  colnames(predictions)[1:2] <- c(\"label_pos\",\"label_neg\")\n",
    "  predictions$engramobserved <- ifelse(predictions$observed==label[1], 1, 0)\n",
    "  predictions$inactiveobserved <- ifelse(predictions$observed==label[2], 1, 0)\n",
    "  return(predictions)\n",
    "}\n",
    "\n",
    "\n",
    "# assess a single run of resampled.randomforest\n",
    "assessment <- function(predictions.df, \n",
    "                       label = c(\"Active\",\"Inactive\") \n",
    "                       ){\n",
    "  # returns a vector of assessments to be used to make dataframe summarizing classifiers performance\n",
    "  # can be used to make df of all calssifiers trained in a single run\n",
    "  TP <- sum((predictions.df$predict == label[1])&(predictions.df$observed == label[1]))\n",
    "  TN <- sum((predictions.df$predict == label[2])&(predictions.df$observed == label[2]))\n",
    "  FN <- sum((predictions.df$predict == label[2])&(predictions.df$observed == label[1]))\n",
    "  FP <- sum((predictions.df$predict == label[1])&(predictions.df$observed == label[2]))\n",
    "  \n",
    "  #precision and recall as well as sumamry stats F1\n",
    "  precision <- TP/(TP+FP)\n",
    "  recall <- TP/(TP+FN)\n",
    "  F1.score = 2 * (precision * recall) / (precision + recall)\n",
    "  FPR <- FP/(TN+FP)\n",
    "  FNR <- FN/(TP+FN)\n",
    "  \n",
    "  #getting auc\n",
    "  roc.engramcell <- roc(predictions.df$engramobserved, as.numeric(predictions.df$label_pos) )\n",
    "  AUC <- auc(roc.engramcell)\n",
    "  \n",
    "  return( c(F1.score, AUC, precision, recall, FPR, FNR,\n",
    "            TP, FN, TN, FP) )\n",
    "}\n",
    "\n",
    "\n",
    "\n",
    "resampled.randomForest.crossvalidated <-function(data,\n",
    "                                                 under.represented.class,\n",
    "                                                 over.represented.class,\n",
    "                                                 folds,\n",
    "                                                 trees.total,\n",
    "                                                 proportion.each.batch=0.8,\n",
    "                                                 batches.per.fold=20){\n",
    "  # takes a data frame with a label column assumed to be named Engramcell, data$Engramcell\n",
    "  # returns a model that has been k-fold cross validated, with an attribute called Assessment\n",
    "  # assessment has the performance metrics of all the folds and a column of means and SD's for each\n",
    "  # metric\n",
    "  #NOTE: ROC curve needs to be implemented\n",
    "  \n",
    "  folds.obj <- createFolds(data$Engramcell, k = folds)\n",
    "  loops <- c(1:folds)\n",
    "  for( i in loops ){\n",
    "    #create indices\n",
    "    test.idx <- folds.obj[[i]]\n",
    "    # needs to be a list so it can act as an index\n",
    "    train.idx <- which(!(rownames(data) %in% test.idx) )\n",
    "    \n",
    "    #split data for this fold\n",
    "    training_set <- data[train.idx,]\n",
    "    testing_set <- data[test.idx,]\n",
    "    \n",
    "    # divvies up number of trees\n",
    "    trees.in.the.fold = as.integer(trees.total/folds)\n",
    "    if ( ( trees.total%%(batches.per.fold*folds) )>0  ){ \n",
    "      stop(\"Number of trees does not devide evenly by batches and folds.\")\n",
    "    }\n",
    "    # we still need to settle on stuff to \n",
    "    rf.this_fold <- resample.randomForest(df.in = training_set,\n",
    "                                          under_represented_class = under.represented.class,\n",
    "                                          over_represented_class = over.represented.class,\n",
    "                                          proportion= proportion.each.batch,\n",
    "                                          batches = batches.per.fold, \n",
    "                                          trees = trees.in.the.fold)\n",
    "    \n",
    "    if(i == 1){\n",
    "      rf.out <- rf.this_fold\n",
    "      pred <- make.predictions.df(rf.this_fold, testing_set[1:(length(testing_set)-1)], testing_set$Engramcell)\n",
    "      assess <- assessment( pred ) \n",
    "      fold.performance <- data.frame(assess )\n",
    "      rownames(fold.performance) <- c(\"F1 Score\", \"AUC\", \"Precision\", \"Recall\",\n",
    "                                      \"FPR\", \"FNR\", \"True Positives\", \"False Negatives\", \n",
    "                                      \"True Negatives\", \"False Positives\")\n",
    "    }else{\n",
    "      rf.out <- randomForest::combine(rf.out, rf.this_fold)\n",
    "      # we need votes for all cells to calculate\n",
    "      pred <- make.predictions.df(rf.this_fold, testing_set[1:(length(testing_set)-1)], testing_set$Engramcell)\n",
    "      assess <- assessment( pred ) \n",
    "      fold.performance[,ncol(fold.performance) + 1] <- assess\n",
    "    }\n",
    "    \n",
    "  }# end of for loop\n",
    "  colnames(fold.performance) <- names(folds.obj)\n",
    "  fold.performance$Mean <- apply(fold.performance,MARGIN=1,  FUN = mean)\n",
    "  fold.performance$SigDiff <- apply(fold.performance,MARGIN=1,  FUN = sd)\n",
    "  rf.out$Assessment <- fold.performance\n",
    "  \n",
    "  #votes needs to be updated to make roc curve\n",
    "  rf.out$votes <- predict(object = rf.out, newdata = data, type = 'vote', norm.votes = FALSE)\n",
    "  return(rf.out)\n",
    "}\n",
    "\n",
    "resample.regularizedRF <- function( df.in,\n",
    "                                    under_represented_class,\n",
    "                                    over_represented_class,\n",
    "                                    proportion,\n",
    "                                    batches, \n",
    "                                    trees){\n",
    "  #NOTE: df.in should have a column called engram cell with the class labels i.e. postive or negative\n",
    "  \n",
    "  #this function resamples from our samples and retrains new models then combines them\n",
    "  # this is too prevent over fitting on cells\n",
    "  trees.per.batch <- as.integer(trees/batches)\n",
    "  n.cells <- trunc( sum(df.in$Engramcell==under_represented_class)*proportion)\n",
    "  batches <- c(1:batches)\n",
    "  for( batch in batches){\n",
    "    resample.set <- rbind(sample(which(df.in$Engramcell==under_represented_class), size = n.cells),\n",
    "                          sample(which(df.in$Engramcell==over_represented_class), size = n.cells)\n",
    "    )\n",
    "    resample.set <- df.in[resample.set,]\n",
    "    \n",
    "    # creates rf.model\n",
    "    if(batch==1){\n",
    "      rf.model <- RRF(x = resample.set[,1:(length(resample.set)-1)],\n",
    "                      y = resample.set$Engramcell,\n",
    "                      ntree = trees.per.batch)\n",
    "    }\n",
    "    #trains new models in rf.fit and combines tham with rf.model\n",
    "    if(batch>1){\n",
    "      rf.fit = RRF(x = resample.set[,1:(length(resample.set)-1)],\n",
    "                   y = resample.set$Engramcell,\n",
    "                   ntree = trees.per.batch)\n",
    "      rf.model <- RRF::combine(rf.fit, rf.model)\n",
    "    }\n",
    "  }#end of for loop over batches\n",
    "  \n",
    "  return(rf.model)\n",
    "}\n",
    "\n",
    "#\n",
    "resampled.regularizedRF.crossvalidated <-function(data,\n",
    "                                                  under.represented.class,\n",
    "                                                  over.represented.class,\n",
    "                                                  folds,\n",
    "                                                  trees.total,\n",
    "                                                  proportion.each.batch=0.8,\n",
    "                                                  batches.per.fold=20){\n",
    "  # takes a data frame with a label column assumed to be named Engramcell, data$Engramcell\n",
    "  # returns a model that has been k-fold cross validated, with an attribute called Assessment\n",
    "  # assessment has the performance metrics of all the folds and a column of means and SD's for each\n",
    "  # metric\n",
    "  #NOTE: ROC curve needs to be implemented\n",
    "  \n",
    "  folds.obj <- createFolds(data$Engramcell, k = folds)\n",
    "  loops <- c(1:folds)\n",
    "  for( i in loops ){\n",
    "    #create indices\n",
    "    test.idx <- folds.obj[[i]]\n",
    "    # needs to be a list so it can act as an index\n",
    "    train.idx <- which(!(rownames(data) %in% test.idx) )\n",
    "    \n",
    "    #split data for this fold\n",
    "    training_set <- data[train.idx,]\n",
    "    testing_set <- data[test.idx,]\n",
    "    \n",
    "    # divvies up number of trees\n",
    "    trees.in.the.fold = as.integer(trees.total/folds)\n",
    "    if ( ( trees.total%%(batches.per.fold*folds) )>0  ){ \n",
    "      stop(\"Number of trees does not devide evenly by batches and folds.\")\n",
    "    }\n",
    "    # we still need to settle on stuff to \n",
    "    rf.this_fold <- resample.regularizedRF(df.in = training_set,\n",
    "                                           under_represented_class = under.represented.class,\n",
    "                                           over_represented_class = over.represented.class,\n",
    "                                           proportion= proportion.each.batch,\n",
    "                                           batches = batches.per.fold, \n",
    "                                           trees = trees.in.the.fold)\n",
    "    \n",
    "    if(i == 1){\n",
    "      rf.out <- rf.this_fold\n",
    "      pred <- make.predictions.df(rf.this_fold, testing_set[1:(length(testing_set)-1)], testing_set$Engramcell)\n",
    "      assess <- assessment( pred ) \n",
    "      fold.performance <- data.frame(assess )\n",
    "      rownames(fold.performance) <- c(\"F1 Score\", \"AUC\", \"Precision\", \"Recall\",\n",
    "                                      \"FPR\", \"FNR\", \"True Positives\", \"False Negatives\", \n",
    "                                      \"True Negatives\", \"False Positives\")\n",
    "    }else{\n",
    "      rf.out <- RRF::combine(rf.out, rf.this_fold)\n",
    "      # we need votes for all cells to calculate\n",
    "      pred <- make.predictions.df(rf.this_fold, testing_set[1:(length(testing_set)-1)], testing_set$Engramcell)\n",
    "      assess <- assessment( pred ) \n",
    "      fold.performance[,ncol(fold.performance) + 1] <- assess\n",
    "    }\n",
    "    \n",
    "  }# end of for loop\n",
    "  colnames(fold.performance) <- names(folds.obj)\n",
    "  fold.performance$Mean <- apply(fold.performance,MARGIN=1,  FUN = mean)\n",
    "  fold.performance$SigDiff <- apply(fold.performance,MARGIN=1,  FUN = sd)\n",
    "  rf.out$Assessment <- fold.performance\n",
    "  \n",
    "  #votes needs to be updated to make roc curve\n",
    "  rf.out$votes <- predict(object = rf.out, newdata = data, type = 'vote', norm.votes = FALSE)\n",
    "  return(rf.out)\n",
    "}"
   ]
  },
  {
   "cell_type": "code",
   "execution_count": 7,
   "id": "f8338429-e7db-42ce-a7ae-6a9df3b3de4a",
   "metadata": {},
   "outputs": [],
   "source": [
    "# we're just gonna use the genes from Neuroestimator first \n",
    "# they did not provide a lsit so I ma just reading off of figure1 and not all the genes were legible\n",
    "\n",
    "# non target genes that were highly influential Homer1, Bdnf, Ntrk2, Jun, Cyr61,\n",
    "# I added Rgs4 because I know it's important \"Rgs4\",\n",
    "\n",
    "bahl2022_IEGs <- list(\"Per1\", \"Dusp1\",\"Fosb\", \"Btg2\", \"Erg2\", \"Npas4\", \"Grasp\", \"Tiparp\", \"Nr4a3\", \"Rgs2\", \"Crem\",\n",
    "                      \"Arc\", \"Fos\", \"Fbxso33\", \"Nr4a2\", \"Junb\",\"Erg3\", \"Fosl2\", \"Egr1\",\"Nr4a1\")\n",
    "other_important_IEGs <- list(\"Homer1\",\"Bdnf\",\"Ntrk2\",\"Jun\",\"Cyr61\",\"Rgs4\", \"Bdnf\")\n",
    "\n",
    "target_IEGs <- c(bahl2022_IEGs, other_important_IEGs)"
   ]
  },
  {
   "cell_type": "code",
   "execution_count": 8,
   "id": "b343c8b2-f3cb-4193-a966-5d826b4a8977",
   "metadata": {},
   "outputs": [],
   "source": [
    "# human mouse gene orthologs\n",
    "hg_to_mm <- read.table(\"/home/acampbell/PavLabEngrams/EngramCellClassifier/hg_mm_1to1_ortho_genes_DIOPT-v8.tsv\", sep = '\\t', header = TRUE)\n",
    "\n",
    "#"
   ]
  },
  {
   "cell_type": "code",
   "execution_count": 9,
   "id": "a194219f-e7b3-4132-a157-4367b21594ef",
   "metadata": {},
   "outputs": [],
   "source": [
    "iegs_hg <- hg_to_mm$Symbol_hg[hg_to_mm$Symbol_mm %in% target_IEGs]"
   ]
  },
  {
   "cell_type": "markdown",
   "id": "660106dd-7847-4682-9a28-c662fbbc4832",
   "metadata": {},
   "source": [
    "There are no studies which have completely fresh human brain all of it was fresh frozen and then shipped.  We also have several post mortem brain datasets.  There is one fresh human brain datasets."
   ]
  },
  {
   "cell_type": "markdown",
   "id": "0cc5fdbd-33df-4ec5-a655-ac26639b0e16",
   "metadata": {},
   "source": [
    "#dont need it for now, markdown\n",
    "abi_multipleareas_counts <- read.csv('/home/acampbell/test_datasets/ABI_Human_FreshBrain/multiple_areas_smartseq', \n",
    "                                    header =TRUE)"
   ]
  },
  {
   "cell_type": "markdown",
   "id": "24557237-8851-475e-a613-cbea8b6224c7",
   "metadata": {},
   "source": [
    "#dont need it for now, markdown\n",
    "abi_multipleareas_meta <- read.csv('/home/acampbell/test_datasets/ABI_Human_FreshBrain/multiple_areas_metadata',\n",
    "                                  header =  TRUE)"
   ]
  },
  {
   "cell_type": "code",
   "execution_count": 7,
   "id": "0ae67193-6e22-4498-94d7-68b49c75e9d0",
   "metadata": {},
   "outputs": [],
   "source": [
    "#keep.the.neurons.idx = abi_multipleareas_meta$class_label==\"GABAergic\"|abi_multipleareas_meta$class_label==\"Glutamatergic\""
   ]
  },
  {
   "cell_type": "code",
   "execution_count": null,
   "id": "482a4576-07c1-4a78-96cd-668cc54a410b",
   "metadata": {},
   "outputs": [],
   "source": [
    "abi_multipleareas_neurons <- data.frame(t(abi_multipleareas_counts[keep.the.neurons.idx,])) %>% \n",
    "  row_to_names(row_number = 1) \n",
    "\n",
    "#%>%\n",
    "#  mutate_if(is.character, as.numeric)"
   ]
  },
  {
   "cell_type": "code",
   "execution_count": null,
   "id": "f39dfc82-67bb-4b98-911e-67222c280457",
   "metadata": {},
   "outputs": [],
   "source": []
  },
  {
   "cell_type": "code",
   "execution_count": null,
   "id": "c03575af-2892-4365-9d84-8261bfc075c7",
   "metadata": {},
   "outputs": [],
   "source": [
    "write.csv(abi_multipleareas_neurons, '/home/acampbell/test_datasets/ABI_Human_FreshBrain/abi_multipleareas_neurons.csv')"
   ]
  },
  {
   "cell_type": "code",
   "execution_count": 10,
   "id": "109c0414-b6ae-44bb-b0d4-9b631e0ed412",
   "metadata": {},
   "outputs": [],
   "source": [
    "ayhan_counts <- read.table('/home/acampbell/test_datasets/Ayhan2021_GSE160189/GSE160189_Hippo_Counts.csv.gz',\n",
    "                     sep = \",\", header = TRUE)"
   ]
  },
  {
   "cell_type": "code",
   "execution_count": 18,
   "id": "9d667e63-37f2-4c2d-87f2-a1ae13b2c278",
   "metadata": {},
   "outputs": [],
   "source": [
    "ayhan_counts <- data.frame(ayhan_counts) %>% column_to_rownames(var = 'gene')"
   ]
  },
  {
   "cell_type": "code",
   "execution_count": 20,
   "id": "46874029-c616-48df-98c8-e811161f875e",
   "metadata": {},
   "outputs": [
    {
     "name": "stdout",
     "output_type": "stream",
     "text": [
      "[1]  17180 131325\n"
     ]
    },
    {
     "data": {
      "text/html": [
       "<table class=\"dataframe\">\n",
       "<caption>A data.frame: 5 x 10</caption>\n",
       "<thead>\n",
       "\t<tr><th></th><th scope=col>P57_AAAGTAGGTCCAGTAT</th><th scope=col>P57_AACCATGGTAAACACA</th><th scope=col>P57_AACGTTGCACTTAACG</th><th scope=col>P57_AACTCTTCATACTCTT</th><th scope=col>P57_AACTTTCAGAGACTTA</th><th scope=col>P57_AAGACCTGTCCAGTTA</th><th scope=col>P57_AAGACCTGTCTGATCA</th><th scope=col>P57_AAGCCGCAGATCCGAG</th><th scope=col>P57_AATCCAGCAGCTATTG</th><th scope=col>P57_ACACCAAGTAAGTAGT</th></tr>\n",
       "\t<tr><th></th><th scope=col>&lt;int&gt;</th><th scope=col>&lt;int&gt;</th><th scope=col>&lt;int&gt;</th><th scope=col>&lt;int&gt;</th><th scope=col>&lt;int&gt;</th><th scope=col>&lt;int&gt;</th><th scope=col>&lt;int&gt;</th><th scope=col>&lt;int&gt;</th><th scope=col>&lt;int&gt;</th><th scope=col>&lt;int&gt;</th></tr>\n",
       "</thead>\n",
       "<tbody>\n",
       "\t<tr><th scope=row>A1BG</th><td>0</td><td>0</td><td>0</td><td>0</td><td>0</td><td>0</td><td>0</td><td>0</td><td>0</td><td>0</td></tr>\n",
       "\t<tr><th scope=row>A1CF</th><td>0</td><td>0</td><td>0</td><td>0</td><td>0</td><td>0</td><td>0</td><td>0</td><td>0</td><td>0</td></tr>\n",
       "\t<tr><th scope=row>A2M</th><td>0</td><td>0</td><td>0</td><td>0</td><td>0</td><td>0</td><td>0</td><td>0</td><td>0</td><td>0</td></tr>\n",
       "\t<tr><th scope=row>A2ML1</th><td>0</td><td>0</td><td>0</td><td>0</td><td>0</td><td>0</td><td>0</td><td>0</td><td>0</td><td>0</td></tr>\n",
       "\t<tr><th scope=row>A3GALT2</th><td>0</td><td>0</td><td>0</td><td>0</td><td>0</td><td>0</td><td>0</td><td>0</td><td>0</td><td>0</td></tr>\n",
       "</tbody>\n",
       "</table>\n"
      ],
      "text/latex": [
       "A data.frame: 5 x 10\n",
       "\\begin{tabular}{r|llllllllll}\n",
       "  & P57\\_AAAGTAGGTCCAGTAT & P57\\_AACCATGGTAAACACA & P57\\_AACGTTGCACTTAACG & P57\\_AACTCTTCATACTCTT & P57\\_AACTTTCAGAGACTTA & P57\\_AAGACCTGTCCAGTTA & P57\\_AAGACCTGTCTGATCA & P57\\_AAGCCGCAGATCCGAG & P57\\_AATCCAGCAGCTATTG & P57\\_ACACCAAGTAAGTAGT\\\\\n",
       "  & <int> & <int> & <int> & <int> & <int> & <int> & <int> & <int> & <int> & <int>\\\\\n",
       "\\hline\n",
       "\tA1BG & 0 & 0 & 0 & 0 & 0 & 0 & 0 & 0 & 0 & 0\\\\\n",
       "\tA1CF & 0 & 0 & 0 & 0 & 0 & 0 & 0 & 0 & 0 & 0\\\\\n",
       "\tA2M & 0 & 0 & 0 & 0 & 0 & 0 & 0 & 0 & 0 & 0\\\\\n",
       "\tA2ML1 & 0 & 0 & 0 & 0 & 0 & 0 & 0 & 0 & 0 & 0\\\\\n",
       "\tA3GALT2 & 0 & 0 & 0 & 0 & 0 & 0 & 0 & 0 & 0 & 0\\\\\n",
       "\\end{tabular}\n"
      ],
      "text/markdown": [
       "\n",
       "A data.frame: 5 x 10\n",
       "\n",
       "| <!--/--> | P57_AAAGTAGGTCCAGTAT &lt;int&gt; | P57_AACCATGGTAAACACA &lt;int&gt; | P57_AACGTTGCACTTAACG &lt;int&gt; | P57_AACTCTTCATACTCTT &lt;int&gt; | P57_AACTTTCAGAGACTTA &lt;int&gt; | P57_AAGACCTGTCCAGTTA &lt;int&gt; | P57_AAGACCTGTCTGATCA &lt;int&gt; | P57_AAGCCGCAGATCCGAG &lt;int&gt; | P57_AATCCAGCAGCTATTG &lt;int&gt; | P57_ACACCAAGTAAGTAGT &lt;int&gt; |\n",
       "|---|---|---|---|---|---|---|---|---|---|---|\n",
       "| A1BG | 0 | 0 | 0 | 0 | 0 | 0 | 0 | 0 | 0 | 0 |\n",
       "| A1CF | 0 | 0 | 0 | 0 | 0 | 0 | 0 | 0 | 0 | 0 |\n",
       "| A2M | 0 | 0 | 0 | 0 | 0 | 0 | 0 | 0 | 0 | 0 |\n",
       "| A2ML1 | 0 | 0 | 0 | 0 | 0 | 0 | 0 | 0 | 0 | 0 |\n",
       "| A3GALT2 | 0 | 0 | 0 | 0 | 0 | 0 | 0 | 0 | 0 | 0 |\n",
       "\n"
      ],
      "text/plain": [
       "        P57_AAAGTAGGTCCAGTAT P57_AACCATGGTAAACACA P57_AACGTTGCACTTAACG\n",
       "A1BG    0                    0                    0                   \n",
       "A1CF    0                    0                    0                   \n",
       "A2M     0                    0                    0                   \n",
       "A2ML1   0                    0                    0                   \n",
       "A3GALT2 0                    0                    0                   \n",
       "        P57_AACTCTTCATACTCTT P57_AACTTTCAGAGACTTA P57_AAGACCTGTCCAGTTA\n",
       "A1BG    0                    0                    0                   \n",
       "A1CF    0                    0                    0                   \n",
       "A2M     0                    0                    0                   \n",
       "A2ML1   0                    0                    0                   \n",
       "A3GALT2 0                    0                    0                   \n",
       "        P57_AAGACCTGTCTGATCA P57_AAGCCGCAGATCCGAG P57_AATCCAGCAGCTATTG\n",
       "A1BG    0                    0                    0                   \n",
       "A1CF    0                    0                    0                   \n",
       "A2M     0                    0                    0                   \n",
       "A2ML1   0                    0                    0                   \n",
       "A3GALT2 0                    0                    0                   \n",
       "        P57_ACACCAAGTAAGTAGT\n",
       "A1BG    0                   \n",
       "A1CF    0                   \n",
       "A2M     0                   \n",
       "A2ML1   0                   \n",
       "A3GALT2 0                   "
      ]
     },
     "metadata": {},
     "output_type": "display_data"
    }
   ],
   "source": [
    "print(dim(ayhan_counts))\n",
    "#head(ayhan_counts,5)\n",
    "ayhan_counts[1:5,1:10]"
   ]
  },
  {
   "cell_type": "code",
   "execution_count": 21,
   "id": "562023d3-f908-4464-ac0f-27598a886146",
   "metadata": {},
   "outputs": [],
   "source": [
    "ayhan_meta <- read.table('/home/acampbell/test_datasets/Ayhan2021_GSE160189/meta.tsv',\n",
    "                     sep = '\\t' , header = TRUE)"
   ]
  },
  {
   "cell_type": "code",
   "execution_count": 23,
   "id": "2d0c2631-60ea-4510-a126-ac7a4fc55619",
   "metadata": {},
   "outputs": [],
   "source": [
    "ayhan_meta <- data.frame(ayhan_meta)"
   ]
  },
  {
   "cell_type": "code",
   "execution_count": 25,
   "id": "16109a74-786a-41a9-a9f6-b0a250f45dfd",
   "metadata": {},
   "outputs": [],
   "source": [
    "df apply(df,  MARGIN = 2, FUN = seurat_norm)"
   ]
  },
  {
   "cell_type": "code",
   "execution_count": 25,
   "id": "1dba8592-61db-4f37-a908-c204114043d1",
   "metadata": {},
   "outputs": [
    {
     "data": {
      "text/html": [
       "<table class=\"dataframe\">\n",
       "<caption>A data.frame: 6 x 15</caption>\n",
       "<thead>\n",
       "\t<tr><th></th><th scope=col>Cell</th><th scope=col>orig.ident</th><th scope=col>nCount_RNA</th><th scope=col>nFeature_RNA</th><th scope=col>percent.mt</th><th scope=col>group</th><th scope=col>age</th><th scope=col>sex</th><th scope=col>epilepsy_duration</th><th scope=col>batch</th><th scope=col>version</th><th scope=col>donor</th><th scope=col>seurat_clusters</th><th scope=col>epilepsy_frequency</th><th scope=col>Cluster</th></tr>\n",
       "\t<tr><th></th><th scope=col>&lt;chr&gt;</th><th scope=col>&lt;chr&gt;</th><th scope=col>&lt;int&gt;</th><th scope=col>&lt;int&gt;</th><th scope=col>&lt;dbl&gt;</th><th scope=col>&lt;chr&gt;</th><th scope=col>&lt;int&gt;</th><th scope=col>&lt;chr&gt;</th><th scope=col>&lt;int&gt;</th><th scope=col>&lt;chr&gt;</th><th scope=col>&lt;chr&gt;</th><th scope=col>&lt;chr&gt;</th><th scope=col>&lt;int&gt;</th><th scope=col>&lt;dbl&gt;</th><th scope=col>&lt;chr&gt;</th></tr>\n",
       "</thead>\n",
       "<tbody>\n",
       "\t<tr><th scope=row>1</th><td>P57_AAACCTGAGAGTAAGG</td><td>P57_woXYMT</td><td>1300</td><td> 908</td><td>0.5120702</td><td>posterior</td><td>60</td><td>F</td><td>37</td><td>Batch3</td><td>v2</td><td>Case57</td><td>11</td><td>3</td><td>Olig4   </td></tr>\n",
       "\t<tr><th scope=row>2</th><td>P57_AAACCTGAGTTACCCA</td><td>P57_woXYMT</td><td>1390</td><td> 958</td><td>0.0000000</td><td>posterior</td><td>60</td><td>F</td><td>37</td><td>Batch3</td><td>v2</td><td>Case57</td><td> 7</td><td>3</td><td>Olig2   </td></tr>\n",
       "\t<tr><th scope=row>3</th><td>P57_AAACCTGAGTTTAGGA</td><td>P57_woXYMT</td><td>2604</td><td>1598</td><td>0.4533434</td><td>posterior</td><td>60</td><td>F</td><td>37</td><td>Batch3</td><td>v2</td><td>Case57</td><td>14</td><td>3</td><td>Pyr1    </td></tr>\n",
       "\t<tr><th scope=row>4</th><td>P57_AAACCTGCAGCAGTTT</td><td>P57_woXYMT</td><td>2077</td><td>1253</td><td>0.1407790</td><td>posterior</td><td>60</td><td>F</td><td>37</td><td>Batch3</td><td>v2</td><td>Case57</td><td>10</td><td>3</td><td>Den.Gyr1</td></tr>\n",
       "\t<tr><th scope=row>5</th><td>P57_AAACCTGCAGTAGAGC</td><td>P57_woXYMT</td><td> 651</td><td> 500</td><td>0.3025719</td><td>posterior</td><td>60</td><td>F</td><td>37</td><td>Batch3</td><td>v2</td><td>Case57</td><td> 7</td><td>3</td><td>Olig2   </td></tr>\n",
       "\t<tr><th scope=row>6</th><td>P57_AAACCTGGTAAATGAC</td><td>P57_woXYMT</td><td> 584</td><td> 468</td><td>0.1658375</td><td>posterior</td><td>60</td><td>F</td><td>37</td><td>Batch3</td><td>v2</td><td>Case57</td><td> 4</td><td>3</td><td>Olig2   </td></tr>\n",
       "</tbody>\n",
       "</table>\n"
      ],
      "text/latex": [
       "A data.frame: 6 x 15\n",
       "\\begin{tabular}{r|lllllllllllllll}\n",
       "  & Cell & orig.ident & nCount\\_RNA & nFeature\\_RNA & percent.mt & group & age & sex & epilepsy\\_duration & batch & version & donor & seurat\\_clusters & epilepsy\\_frequency & Cluster\\\\\n",
       "  & <chr> & <chr> & <int> & <int> & <dbl> & <chr> & <int> & <chr> & <int> & <chr> & <chr> & <chr> & <int> & <dbl> & <chr>\\\\\n",
       "\\hline\n",
       "\t1 & P57\\_AAACCTGAGAGTAAGG & P57\\_woXYMT & 1300 &  908 & 0.5120702 & posterior & 60 & F & 37 & Batch3 & v2 & Case57 & 11 & 3 & Olig4   \\\\\n",
       "\t2 & P57\\_AAACCTGAGTTACCCA & P57\\_woXYMT & 1390 &  958 & 0.0000000 & posterior & 60 & F & 37 & Batch3 & v2 & Case57 &  7 & 3 & Olig2   \\\\\n",
       "\t3 & P57\\_AAACCTGAGTTTAGGA & P57\\_woXYMT & 2604 & 1598 & 0.4533434 & posterior & 60 & F & 37 & Batch3 & v2 & Case57 & 14 & 3 & Pyr1    \\\\\n",
       "\t4 & P57\\_AAACCTGCAGCAGTTT & P57\\_woXYMT & 2077 & 1253 & 0.1407790 & posterior & 60 & F & 37 & Batch3 & v2 & Case57 & 10 & 3 & Den.Gyr1\\\\\n",
       "\t5 & P57\\_AAACCTGCAGTAGAGC & P57\\_woXYMT &  651 &  500 & 0.3025719 & posterior & 60 & F & 37 & Batch3 & v2 & Case57 &  7 & 3 & Olig2   \\\\\n",
       "\t6 & P57\\_AAACCTGGTAAATGAC & P57\\_woXYMT &  584 &  468 & 0.1658375 & posterior & 60 & F & 37 & Batch3 & v2 & Case57 &  4 & 3 & Olig2   \\\\\n",
       "\\end{tabular}\n"
      ],
      "text/markdown": [
       "\n",
       "A data.frame: 6 x 15\n",
       "\n",
       "| <!--/--> | Cell &lt;chr&gt; | orig.ident &lt;chr&gt; | nCount_RNA &lt;int&gt; | nFeature_RNA &lt;int&gt; | percent.mt &lt;dbl&gt; | group &lt;chr&gt; | age &lt;int&gt; | sex &lt;chr&gt; | epilepsy_duration &lt;int&gt; | batch &lt;chr&gt; | version &lt;chr&gt; | donor &lt;chr&gt; | seurat_clusters &lt;int&gt; | epilepsy_frequency &lt;dbl&gt; | Cluster &lt;chr&gt; |\n",
       "|---|---|---|---|---|---|---|---|---|---|---|---|---|---|---|---|\n",
       "| 1 | P57_AAACCTGAGAGTAAGG | P57_woXYMT | 1300 |  908 | 0.5120702 | posterior | 60 | F | 37 | Batch3 | v2 | Case57 | 11 | 3 | Olig4    |\n",
       "| 2 | P57_AAACCTGAGTTACCCA | P57_woXYMT | 1390 |  958 | 0.0000000 | posterior | 60 | F | 37 | Batch3 | v2 | Case57 |  7 | 3 | Olig2    |\n",
       "| 3 | P57_AAACCTGAGTTTAGGA | P57_woXYMT | 2604 | 1598 | 0.4533434 | posterior | 60 | F | 37 | Batch3 | v2 | Case57 | 14 | 3 | Pyr1     |\n",
       "| 4 | P57_AAACCTGCAGCAGTTT | P57_woXYMT | 2077 | 1253 | 0.1407790 | posterior | 60 | F | 37 | Batch3 | v2 | Case57 | 10 | 3 | Den.Gyr1 |\n",
       "| 5 | P57_AAACCTGCAGTAGAGC | P57_woXYMT |  651 |  500 | 0.3025719 | posterior | 60 | F | 37 | Batch3 | v2 | Case57 |  7 | 3 | Olig2    |\n",
       "| 6 | P57_AAACCTGGTAAATGAC | P57_woXYMT |  584 |  468 | 0.1658375 | posterior | 60 | F | 37 | Batch3 | v2 | Case57 |  4 | 3 | Olig2    |\n",
       "\n"
      ],
      "text/plain": [
       "  Cell                 orig.ident nCount_RNA nFeature_RNA percent.mt group    \n",
       "1 P57_AAACCTGAGAGTAAGG P57_woXYMT 1300        908         0.5120702  posterior\n",
       "2 P57_AAACCTGAGTTACCCA P57_woXYMT 1390        958         0.0000000  posterior\n",
       "3 P57_AAACCTGAGTTTAGGA P57_woXYMT 2604       1598         0.4533434  posterior\n",
       "4 P57_AAACCTGCAGCAGTTT P57_woXYMT 2077       1253         0.1407790  posterior\n",
       "5 P57_AAACCTGCAGTAGAGC P57_woXYMT  651        500         0.3025719  posterior\n",
       "6 P57_AAACCTGGTAAATGAC P57_woXYMT  584        468         0.1658375  posterior\n",
       "  age sex epilepsy_duration batch  version donor  seurat_clusters\n",
       "1 60  F   37                Batch3 v2      Case57 11             \n",
       "2 60  F   37                Batch3 v2      Case57  7             \n",
       "3 60  F   37                Batch3 v2      Case57 14             \n",
       "4 60  F   37                Batch3 v2      Case57 10             \n",
       "5 60  F   37                Batch3 v2      Case57  7             \n",
       "6 60  F   37                Batch3 v2      Case57  4             \n",
       "  epilepsy_frequency Cluster \n",
       "1 3                  Olig4   \n",
       "2 3                  Olig2   \n",
       "3 3                  Pyr1    \n",
       "4 3                  Den.Gyr1\n",
       "5 3                  Olig2   \n",
       "6 3                  Olig2   "
      ]
     },
     "metadata": {},
     "output_type": "display_data"
    }
   ],
   "source": [
    "head(ayhan_meta)"
   ]
  },
  {
   "cell_type": "code",
   "execution_count": 27,
   "id": "51f42984-680a-4ff8-bca3-e3fe207c1f22",
   "metadata": {},
   "outputs": [
    {
     "data": {
      "text/html": [
       "131325"
      ],
      "text/latex": [
       "131325"
      ],
      "text/markdown": [
       "131325"
      ],
      "text/plain": [
       "[1] 131325"
      ]
     },
     "metadata": {},
     "output_type": "display_data"
    }
   ],
   "source": [
    "length(match(colnames(ayhan_counts),ayhan_meta$Cell))"
   ]
  },
  {
   "cell_type": "code",
   "execution_count": 112,
   "id": "466fa0bd-d43f-492e-b914-ffc20a7336d1",
   "metadata": {},
   "outputs": [],
   "source": [
    "ayhan_counts_sorted <- ayhan_counts[match(rownames(ayhan_counts),ayhan_meta$Cell), ]"
   ]
  },
  {
   "cell_type": "code",
   "execution_count": 106,
   "id": "147babef-9ab1-447f-be7e-0b4852cd19da",
   "metadata": {},
   "outputs": [],
   "source": [
    "ayhan_meta <- data.frame(ayhan_meta)\n",
    "ayhan_meta <- t(ayhan_meta)\n",
    "ayhan_meta <- ayhan_meta[colnames(ayhan_counts)]\n",
    "ayhan_meta <- ayhan_meta <- t(ayhan_meta)"
   ]
  },
  {
   "cell_type": "code",
   "execution_count": 31,
   "id": "64424381-ac7a-443f-a32d-c9e5829aa99d",
   "metadata": {},
   "outputs": [],
   "source": [
    "test <- seurat.normalize(ayhan_counts[,1:3])"
   ]
  },
  {
   "cell_type": "code",
   "execution_count": 32,
   "id": "40515fd1-0d7f-4423-b828-391058e80953",
   "metadata": {},
   "outputs": [
    {
     "data": {
      "text/html": [
       "<table class=\"dataframe\">\n",
       "<caption>A data.frame: 17180 x 3</caption>\n",
       "<thead>\n",
       "\t<tr><th></th><th scope=col>P57_AAAGTAGGTCCAGTAT</th><th scope=col>P57_AACCATGGTAAACACA</th><th scope=col>P57_AACGTTGCACTTAACG</th></tr>\n",
       "\t<tr><th></th><th scope=col>&lt;dbl&gt;</th><th scope=col>&lt;dbl&gt;</th><th scope=col>&lt;dbl&gt;</th></tr>\n",
       "</thead>\n",
       "<tbody>\n",
       "\t<tr><th scope=row>A1BG</th><td> 0.00000</td><td> 0.00000</td><td> 0.00000</td></tr>\n",
       "\t<tr><th scope=row>A1CF</th><td> 0.00000</td><td> 0.00000</td><td> 0.00000</td></tr>\n",
       "\t<tr><th scope=row>A2M</th><td> 0.00000</td><td> 0.00000</td><td> 0.00000</td></tr>\n",
       "\t<tr><th scope=row>A2ML1</th><td> 0.00000</td><td> 0.00000</td><td> 0.00000</td></tr>\n",
       "\t<tr><th scope=row>A3GALT2</th><td> 0.00000</td><td> 0.00000</td><td> 0.00000</td></tr>\n",
       "\t<tr><th scope=row>A4GALT</th><td> 0.00000</td><td> 0.00000</td><td> 0.00000</td></tr>\n",
       "\t<tr><th scope=row>AAAS</th><td> 0.00000</td><td> 0.00000</td><td> 0.00000</td></tr>\n",
       "\t<tr><th scope=row>AACS</th><td> 0.00000</td><td> 0.00000</td><td> 0.00000</td></tr>\n",
       "\t<tr><th scope=row>AADAT</th><td> 0.00000</td><td> 0.00000</td><td> 0.00000</td></tr>\n",
       "\t<tr><th scope=row>AAED1</th><td> 0.00000</td><td> 0.00000</td><td> 0.00000</td></tr>\n",
       "\t<tr><th scope=row>AAGAB</th><td> 0.00000</td><td> 0.00000</td><td> 0.00000</td></tr>\n",
       "\t<tr><th scope=row>AAK1</th><td> 0.00000</td><td> 0.00000</td><td>15.61281</td></tr>\n",
       "\t<tr><th scope=row>AAMDC</th><td> 0.00000</td><td> 0.00000</td><td>15.61281</td></tr>\n",
       "\t<tr><th scope=row>AAMP</th><td>15.51591</td><td> 0.00000</td><td> 0.00000</td></tr>\n",
       "\t<tr><th scope=row>AANAT</th><td> 0.00000</td><td> 0.00000</td><td> 0.00000</td></tr>\n",
       "\t<tr><th scope=row>AAR2</th><td> 0.00000</td><td> 0.00000</td><td> 0.00000</td></tr>\n",
       "\t<tr><th scope=row>AARD</th><td> 0.00000</td><td> 0.00000</td><td> 0.00000</td></tr>\n",
       "\t<tr><th scope=row>AARS</th><td> 0.00000</td><td> 0.00000</td><td> 0.00000</td></tr>\n",
       "\t<tr><th scope=row>AARS2</th><td> 0.00000</td><td> 0.00000</td><td> 0.00000</td></tr>\n",
       "\t<tr><th scope=row>AASDH</th><td> 0.00000</td><td>15.27884</td><td> 0.00000</td></tr>\n",
       "\t<tr><th scope=row>AASDHPPT</th><td> 0.00000</td><td> 0.00000</td><td> 0.00000</td></tr>\n",
       "\t<tr><th scope=row>AASS</th><td> 0.00000</td><td> 0.00000</td><td> 0.00000</td></tr>\n",
       "\t<tr><th scope=row>AATF</th><td> 0.00000</td><td> 0.00000</td><td> 0.00000</td></tr>\n",
       "\t<tr><th scope=row>AATK</th><td> 0.00000</td><td> 0.00000</td><td> 0.00000</td></tr>\n",
       "\t<tr><th scope=row>ABAT</th><td> 0.00000</td><td> 0.00000</td><td> 0.00000</td></tr>\n",
       "\t<tr><th scope=row>ABC13-47488600E17.1</th><td> 0.00000</td><td> 0.00000</td><td> 0.00000</td></tr>\n",
       "\t<tr><th scope=row>ABC7-42404400C24.1</th><td> 0.00000</td><td> 0.00000</td><td> 0.00000</td></tr>\n",
       "\t<tr><th scope=row>ABCA1</th><td> 0.00000</td><td> 0.00000</td><td> 0.00000</td></tr>\n",
       "\t<tr><th scope=row>ABCA10</th><td> 0.00000</td><td> 0.00000</td><td> 0.00000</td></tr>\n",
       "\t<tr><th scope=row>ABCA12</th><td> 0.00000</td><td> 0.00000</td><td> 0.00000</td></tr>\n",
       "\t<tr><th scope=row>...</th><td>...</td><td>...</td><td>...</td></tr>\n",
       "\t<tr><th scope=row>NEUROD4</th><td>0</td><td>0</td><td>0</td></tr>\n",
       "\t<tr><th scope=row>NHEJ1</th><td>0</td><td>0</td><td>0</td></tr>\n",
       "\t<tr><th scope=row>NPS</th><td>0</td><td>0</td><td>0</td></tr>\n",
       "\t<tr><th scope=row>ODF3</th><td>0</td><td>0</td><td>0</td></tr>\n",
       "\t<tr><th scope=row>OLIG3</th><td>0</td><td>0</td><td>0</td></tr>\n",
       "\t<tr><th scope=row>OR10H3</th><td>0</td><td>0</td><td>0</td></tr>\n",
       "\t<tr><th scope=row>OR2A1</th><td>0</td><td>0</td><td>0</td></tr>\n",
       "\t<tr><th scope=row>OR2A5</th><td>0</td><td>0</td><td>0</td></tr>\n",
       "\t<tr><th scope=row>OR8J1</th><td>0</td><td>0</td><td>0</td></tr>\n",
       "\t<tr><th scope=row>OR9Q2</th><td>0</td><td>0</td><td>0</td></tr>\n",
       "\t<tr><th scope=row>PAQR8</th><td>0</td><td>0</td><td>0</td></tr>\n",
       "\t<tr><th scope=row>PATE4</th><td>0</td><td>0</td><td>0</td></tr>\n",
       "\t<tr><th scope=row>PLEKHS1</th><td>0</td><td>0</td><td>0</td></tr>\n",
       "\t<tr><th scope=row>POTEH</th><td>0</td><td>0</td><td>0</td></tr>\n",
       "\t<tr><th scope=row>PRAP1</th><td>0</td><td>0</td><td>0</td></tr>\n",
       "\t<tr><th scope=row>PRR35</th><td>0</td><td>0</td><td>0</td></tr>\n",
       "\t<tr><th scope=row>PTCHD3</th><td>0</td><td>0</td><td>0</td></tr>\n",
       "\t<tr><th scope=row>RIMBP3C</th><td>0</td><td>0</td><td>0</td></tr>\n",
       "\t<tr><th scope=row>RIPK4</th><td>0</td><td>0</td><td>0</td></tr>\n",
       "\t<tr><th scope=row>S100A5</th><td>0</td><td>0</td><td>0</td></tr>\n",
       "\t<tr><th scope=row>SIGLECL1</th><td>0</td><td>0</td><td>0</td></tr>\n",
       "\t<tr><th scope=row>T</th><td>0</td><td>0</td><td>0</td></tr>\n",
       "\t<tr><th scope=row>TAS2R42</th><td>0</td><td>0</td><td>0</td></tr>\n",
       "\t<tr><th scope=row>TEX37</th><td>0</td><td>0</td><td>0</td></tr>\n",
       "\t<tr><th scope=row>TMEM30B</th><td>0</td><td>0</td><td>0</td></tr>\n",
       "\t<tr><th scope=row>TRIM43</th><td>0</td><td>0</td><td>0</td></tr>\n",
       "\t<tr><th scope=row>TRIML1</th><td>0</td><td>0</td><td>0</td></tr>\n",
       "\t<tr><th scope=row>USP17L2</th><td>0</td><td>0</td><td>0</td></tr>\n",
       "\t<tr><th scope=row>WFDC5</th><td>0</td><td>0</td><td>0</td></tr>\n",
       "\t<tr><th scope=row>XCL2</th><td>0</td><td>0</td><td>0</td></tr>\n",
       "</tbody>\n",
       "</table>\n"
      ],
      "text/latex": [
       "A data.frame: 17180 x 3\n",
       "\\begin{tabular}{r|lll}\n",
       "  & P57\\_AAAGTAGGTCCAGTAT & P57\\_AACCATGGTAAACACA & P57\\_AACGTTGCACTTAACG\\\\\n",
       "  & <dbl> & <dbl> & <dbl>\\\\\n",
       "\\hline\n",
       "\tA1BG &  0.00000 &  0.00000 &  0.00000\\\\\n",
       "\tA1CF &  0.00000 &  0.00000 &  0.00000\\\\\n",
       "\tA2M &  0.00000 &  0.00000 &  0.00000\\\\\n",
       "\tA2ML1 &  0.00000 &  0.00000 &  0.00000\\\\\n",
       "\tA3GALT2 &  0.00000 &  0.00000 &  0.00000\\\\\n",
       "\tA4GALT &  0.00000 &  0.00000 &  0.00000\\\\\n",
       "\tAAAS &  0.00000 &  0.00000 &  0.00000\\\\\n",
       "\tAACS &  0.00000 &  0.00000 &  0.00000\\\\\n",
       "\tAADAT &  0.00000 &  0.00000 &  0.00000\\\\\n",
       "\tAAED1 &  0.00000 &  0.00000 &  0.00000\\\\\n",
       "\tAAGAB &  0.00000 &  0.00000 &  0.00000\\\\\n",
       "\tAAK1 &  0.00000 &  0.00000 & 15.61281\\\\\n",
       "\tAAMDC &  0.00000 &  0.00000 & 15.61281\\\\\n",
       "\tAAMP & 15.51591 &  0.00000 &  0.00000\\\\\n",
       "\tAANAT &  0.00000 &  0.00000 &  0.00000\\\\\n",
       "\tAAR2 &  0.00000 &  0.00000 &  0.00000\\\\\n",
       "\tAARD &  0.00000 &  0.00000 &  0.00000\\\\\n",
       "\tAARS &  0.00000 &  0.00000 &  0.00000\\\\\n",
       "\tAARS2 &  0.00000 &  0.00000 &  0.00000\\\\\n",
       "\tAASDH &  0.00000 & 15.27884 &  0.00000\\\\\n",
       "\tAASDHPPT &  0.00000 &  0.00000 &  0.00000\\\\\n",
       "\tAASS &  0.00000 &  0.00000 &  0.00000\\\\\n",
       "\tAATF &  0.00000 &  0.00000 &  0.00000\\\\\n",
       "\tAATK &  0.00000 &  0.00000 &  0.00000\\\\\n",
       "\tABAT &  0.00000 &  0.00000 &  0.00000\\\\\n",
       "\tABC13-47488600E17.1 &  0.00000 &  0.00000 &  0.00000\\\\\n",
       "\tABC7-42404400C24.1 &  0.00000 &  0.00000 &  0.00000\\\\\n",
       "\tABCA1 &  0.00000 &  0.00000 &  0.00000\\\\\n",
       "\tABCA10 &  0.00000 &  0.00000 &  0.00000\\\\\n",
       "\tABCA12 &  0.00000 &  0.00000 &  0.00000\\\\\n",
       "\t... & ... & ... & ...\\\\\n",
       "\tNEUROD4 & 0 & 0 & 0\\\\\n",
       "\tNHEJ1 & 0 & 0 & 0\\\\\n",
       "\tNPS & 0 & 0 & 0\\\\\n",
       "\tODF3 & 0 & 0 & 0\\\\\n",
       "\tOLIG3 & 0 & 0 & 0\\\\\n",
       "\tOR10H3 & 0 & 0 & 0\\\\\n",
       "\tOR2A1 & 0 & 0 & 0\\\\\n",
       "\tOR2A5 & 0 & 0 & 0\\\\\n",
       "\tOR8J1 & 0 & 0 & 0\\\\\n",
       "\tOR9Q2 & 0 & 0 & 0\\\\\n",
       "\tPAQR8 & 0 & 0 & 0\\\\\n",
       "\tPATE4 & 0 & 0 & 0\\\\\n",
       "\tPLEKHS1 & 0 & 0 & 0\\\\\n",
       "\tPOTEH & 0 & 0 & 0\\\\\n",
       "\tPRAP1 & 0 & 0 & 0\\\\\n",
       "\tPRR35 & 0 & 0 & 0\\\\\n",
       "\tPTCHD3 & 0 & 0 & 0\\\\\n",
       "\tRIMBP3C & 0 & 0 & 0\\\\\n",
       "\tRIPK4 & 0 & 0 & 0\\\\\n",
       "\tS100A5 & 0 & 0 & 0\\\\\n",
       "\tSIGLECL1 & 0 & 0 & 0\\\\\n",
       "\tT & 0 & 0 & 0\\\\\n",
       "\tTAS2R42 & 0 & 0 & 0\\\\\n",
       "\tTEX37 & 0 & 0 & 0\\\\\n",
       "\tTMEM30B & 0 & 0 & 0\\\\\n",
       "\tTRIM43 & 0 & 0 & 0\\\\\n",
       "\tTRIML1 & 0 & 0 & 0\\\\\n",
       "\tUSP17L2 & 0 & 0 & 0\\\\\n",
       "\tWFDC5 & 0 & 0 & 0\\\\\n",
       "\tXCL2 & 0 & 0 & 0\\\\\n",
       "\\end{tabular}\n"
      ],
      "text/markdown": [
       "\n",
       "A data.frame: 17180 x 3\n",
       "\n",
       "| <!--/--> | P57_AAAGTAGGTCCAGTAT &lt;dbl&gt; | P57_AACCATGGTAAACACA &lt;dbl&gt; | P57_AACGTTGCACTTAACG &lt;dbl&gt; |\n",
       "|---|---|---|---|\n",
       "| A1BG |  0.00000 |  0.00000 |  0.00000 |\n",
       "| A1CF |  0.00000 |  0.00000 |  0.00000 |\n",
       "| A2M |  0.00000 |  0.00000 |  0.00000 |\n",
       "| A2ML1 |  0.00000 |  0.00000 |  0.00000 |\n",
       "| A3GALT2 |  0.00000 |  0.00000 |  0.00000 |\n",
       "| A4GALT |  0.00000 |  0.00000 |  0.00000 |\n",
       "| AAAS |  0.00000 |  0.00000 |  0.00000 |\n",
       "| AACS |  0.00000 |  0.00000 |  0.00000 |\n",
       "| AADAT |  0.00000 |  0.00000 |  0.00000 |\n",
       "| AAED1 |  0.00000 |  0.00000 |  0.00000 |\n",
       "| AAGAB |  0.00000 |  0.00000 |  0.00000 |\n",
       "| AAK1 |  0.00000 |  0.00000 | 15.61281 |\n",
       "| AAMDC |  0.00000 |  0.00000 | 15.61281 |\n",
       "| AAMP | 15.51591 |  0.00000 |  0.00000 |\n",
       "| AANAT |  0.00000 |  0.00000 |  0.00000 |\n",
       "| AAR2 |  0.00000 |  0.00000 |  0.00000 |\n",
       "| AARD |  0.00000 |  0.00000 |  0.00000 |\n",
       "| AARS |  0.00000 |  0.00000 |  0.00000 |\n",
       "| AARS2 |  0.00000 |  0.00000 |  0.00000 |\n",
       "| AASDH |  0.00000 | 15.27884 |  0.00000 |\n",
       "| AASDHPPT |  0.00000 |  0.00000 |  0.00000 |\n",
       "| AASS |  0.00000 |  0.00000 |  0.00000 |\n",
       "| AATF |  0.00000 |  0.00000 |  0.00000 |\n",
       "| AATK |  0.00000 |  0.00000 |  0.00000 |\n",
       "| ABAT |  0.00000 |  0.00000 |  0.00000 |\n",
       "| ABC13-47488600E17.1 |  0.00000 |  0.00000 |  0.00000 |\n",
       "| ABC7-42404400C24.1 |  0.00000 |  0.00000 |  0.00000 |\n",
       "| ABCA1 |  0.00000 |  0.00000 |  0.00000 |\n",
       "| ABCA10 |  0.00000 |  0.00000 |  0.00000 |\n",
       "| ABCA12 |  0.00000 |  0.00000 |  0.00000 |\n",
       "| ... | ... | ... | ... |\n",
       "| NEUROD4 | 0 | 0 | 0 |\n",
       "| NHEJ1 | 0 | 0 | 0 |\n",
       "| NPS | 0 | 0 | 0 |\n",
       "| ODF3 | 0 | 0 | 0 |\n",
       "| OLIG3 | 0 | 0 | 0 |\n",
       "| OR10H3 | 0 | 0 | 0 |\n",
       "| OR2A1 | 0 | 0 | 0 |\n",
       "| OR2A5 | 0 | 0 | 0 |\n",
       "| OR8J1 | 0 | 0 | 0 |\n",
       "| OR9Q2 | 0 | 0 | 0 |\n",
       "| PAQR8 | 0 | 0 | 0 |\n",
       "| PATE4 | 0 | 0 | 0 |\n",
       "| PLEKHS1 | 0 | 0 | 0 |\n",
       "| POTEH | 0 | 0 | 0 |\n",
       "| PRAP1 | 0 | 0 | 0 |\n",
       "| PRR35 | 0 | 0 | 0 |\n",
       "| PTCHD3 | 0 | 0 | 0 |\n",
       "| RIMBP3C | 0 | 0 | 0 |\n",
       "| RIPK4 | 0 | 0 | 0 |\n",
       "| S100A5 | 0 | 0 | 0 |\n",
       "| SIGLECL1 | 0 | 0 | 0 |\n",
       "| T | 0 | 0 | 0 |\n",
       "| TAS2R42 | 0 | 0 | 0 |\n",
       "| TEX37 | 0 | 0 | 0 |\n",
       "| TMEM30B | 0 | 0 | 0 |\n",
       "| TRIM43 | 0 | 0 | 0 |\n",
       "| TRIML1 | 0 | 0 | 0 |\n",
       "| USP17L2 | 0 | 0 | 0 |\n",
       "| WFDC5 | 0 | 0 | 0 |\n",
       "| XCL2 | 0 | 0 | 0 |\n",
       "\n"
      ],
      "text/plain": [
       "                    P57_AAAGTAGGTCCAGTAT P57_AACCATGGTAAACACA\n",
       "A1BG                 0.00000              0.00000            \n",
       "A1CF                 0.00000              0.00000            \n",
       "A2M                  0.00000              0.00000            \n",
       "A2ML1                0.00000              0.00000            \n",
       "A3GALT2              0.00000              0.00000            \n",
       "A4GALT               0.00000              0.00000            \n",
       "AAAS                 0.00000              0.00000            \n",
       "AACS                 0.00000              0.00000            \n",
       "AADAT                0.00000              0.00000            \n",
       "AAED1                0.00000              0.00000            \n",
       "AAGAB                0.00000              0.00000            \n",
       "AAK1                 0.00000              0.00000            \n",
       "AAMDC                0.00000              0.00000            \n",
       "AAMP                15.51591              0.00000            \n",
       "AANAT                0.00000              0.00000            \n",
       "AAR2                 0.00000              0.00000            \n",
       "AARD                 0.00000              0.00000            \n",
       "AARS                 0.00000              0.00000            \n",
       "AARS2                0.00000              0.00000            \n",
       "AASDH                0.00000             15.27884            \n",
       "AASDHPPT             0.00000              0.00000            \n",
       "AASS                 0.00000              0.00000            \n",
       "AATF                 0.00000              0.00000            \n",
       "AATK                 0.00000              0.00000            \n",
       "ABAT                 0.00000              0.00000            \n",
       "ABC13-47488600E17.1  0.00000              0.00000            \n",
       "ABC7-42404400C24.1   0.00000              0.00000            \n",
       "ABCA1                0.00000              0.00000            \n",
       "ABCA10               0.00000              0.00000            \n",
       "ABCA12               0.00000              0.00000            \n",
       "...                 ...                  ...                 \n",
       "NEUROD4             0                    0                   \n",
       "NHEJ1               0                    0                   \n",
       "NPS                 0                    0                   \n",
       "ODF3                0                    0                   \n",
       "OLIG3               0                    0                   \n",
       "OR10H3              0                    0                   \n",
       "OR2A1               0                    0                   \n",
       "OR2A5               0                    0                   \n",
       "OR8J1               0                    0                   \n",
       "OR9Q2               0                    0                   \n",
       "PAQR8               0                    0                   \n",
       "PATE4               0                    0                   \n",
       "PLEKHS1             0                    0                   \n",
       "POTEH               0                    0                   \n",
       "PRAP1               0                    0                   \n",
       "PRR35               0                    0                   \n",
       "PTCHD3              0                    0                   \n",
       "RIMBP3C             0                    0                   \n",
       "RIPK4               0                    0                   \n",
       "S100A5              0                    0                   \n",
       "SIGLECL1            0                    0                   \n",
       "T                   0                    0                   \n",
       "TAS2R42             0                    0                   \n",
       "TEX37               0                    0                   \n",
       "TMEM30B             0                    0                   \n",
       "TRIM43              0                    0                   \n",
       "TRIML1              0                    0                   \n",
       "USP17L2             0                    0                   \n",
       "WFDC5               0                    0                   \n",
       "XCL2                0                    0                   \n",
       "                    P57_AACGTTGCACTTAACG\n",
       "A1BG                 0.00000            \n",
       "A1CF                 0.00000            \n",
       "A2M                  0.00000            \n",
       "A2ML1                0.00000            \n",
       "A3GALT2              0.00000            \n",
       "A4GALT               0.00000            \n",
       "AAAS                 0.00000            \n",
       "AACS                 0.00000            \n",
       "AADAT                0.00000            \n",
       "AAED1                0.00000            \n",
       "AAGAB                0.00000            \n",
       "AAK1                15.61281            \n",
       "AAMDC               15.61281            \n",
       "AAMP                 0.00000            \n",
       "AANAT                0.00000            \n",
       "AAR2                 0.00000            \n",
       "AARD                 0.00000            \n",
       "AARS                 0.00000            \n",
       "AARS2                0.00000            \n",
       "AASDH                0.00000            \n",
       "AASDHPPT             0.00000            \n",
       "AASS                 0.00000            \n",
       "AATF                 0.00000            \n",
       "AATK                 0.00000            \n",
       "ABAT                 0.00000            \n",
       "ABC13-47488600E17.1  0.00000            \n",
       "ABC7-42404400C24.1   0.00000            \n",
       "ABCA1                0.00000            \n",
       "ABCA10               0.00000            \n",
       "ABCA12               0.00000            \n",
       "...                 ...                 \n",
       "NEUROD4             0                   \n",
       "NHEJ1               0                   \n",
       "NPS                 0                   \n",
       "ODF3                0                   \n",
       "OLIG3               0                   \n",
       "OR10H3              0                   \n",
       "OR2A1               0                   \n",
       "OR2A5               0                   \n",
       "OR8J1               0                   \n",
       "OR9Q2               0                   \n",
       "PAQR8               0                   \n",
       "PATE4               0                   \n",
       "PLEKHS1             0                   \n",
       "POTEH               0                   \n",
       "PRAP1               0                   \n",
       "PRR35               0                   \n",
       "PTCHD3              0                   \n",
       "RIMBP3C             0                   \n",
       "RIPK4               0                   \n",
       "S100A5              0                   \n",
       "SIGLECL1            0                   \n",
       "T                   0                   \n",
       "TAS2R42             0                   \n",
       "TEX37               0                   \n",
       "TMEM30B             0                   \n",
       "TRIM43              0                   \n",
       "TRIML1              0                   \n",
       "USP17L2             0                   \n",
       "WFDC5               0                   \n",
       "XCL2                0                   "
      ]
     },
     "metadata": {},
     "output_type": "display_data"
    }
   ],
   "source": [
    "test"
   ]
  },
  {
   "cell_type": "code",
   "execution_count": 21,
   "id": "22934956-3663-41c8-ac83-5c2a22c155a1",
   "metadata": {},
   "outputs": [
    {
     "data": {
      "text/html": [
       "<table class=\"dataframe\">\n",
       "<caption>A data.frame: 5 x 15</caption>\n",
       "<thead>\n",
       "\t<tr><th></th><th scope=col>Cell</th><th scope=col>orig.ident</th><th scope=col>nCount_RNA</th><th scope=col>nFeature_RNA</th><th scope=col>percent.mt</th><th scope=col>group</th><th scope=col>age</th><th scope=col>sex</th><th scope=col>epilepsy_duration</th><th scope=col>batch</th><th scope=col>version</th><th scope=col>donor</th><th scope=col>seurat_clusters</th><th scope=col>epilepsy_frequency</th><th scope=col>Cluster</th></tr>\n",
       "\t<tr><th></th><th scope=col>&lt;chr&gt;</th><th scope=col>&lt;chr&gt;</th><th scope=col>&lt;int&gt;</th><th scope=col>&lt;int&gt;</th><th scope=col>&lt;dbl&gt;</th><th scope=col>&lt;chr&gt;</th><th scope=col>&lt;int&gt;</th><th scope=col>&lt;chr&gt;</th><th scope=col>&lt;int&gt;</th><th scope=col>&lt;chr&gt;</th><th scope=col>&lt;chr&gt;</th><th scope=col>&lt;chr&gt;</th><th scope=col>&lt;int&gt;</th><th scope=col>&lt;dbl&gt;</th><th scope=col>&lt;chr&gt;</th></tr>\n",
       "</thead>\n",
       "<tbody>\n",
       "\t<tr><th scope=row>1</th><td>P57_AAACCTGAGAGTAAGG</td><td>P57_woXYMT</td><td>1300</td><td> 908</td><td>0.5120702</td><td>posterior</td><td>60</td><td>F</td><td>37</td><td>Batch3</td><td>v2</td><td>Case57</td><td>11</td><td>3</td><td>Olig4   </td></tr>\n",
       "\t<tr><th scope=row>2</th><td>P57_AAACCTGAGTTACCCA</td><td>P57_woXYMT</td><td>1390</td><td> 958</td><td>0.0000000</td><td>posterior</td><td>60</td><td>F</td><td>37</td><td>Batch3</td><td>v2</td><td>Case57</td><td> 7</td><td>3</td><td>Olig2   </td></tr>\n",
       "\t<tr><th scope=row>3</th><td>P57_AAACCTGAGTTTAGGA</td><td>P57_woXYMT</td><td>2604</td><td>1598</td><td>0.4533434</td><td>posterior</td><td>60</td><td>F</td><td>37</td><td>Batch3</td><td>v2</td><td>Case57</td><td>14</td><td>3</td><td>Pyr1    </td></tr>\n",
       "\t<tr><th scope=row>4</th><td>P57_AAACCTGCAGCAGTTT</td><td>P57_woXYMT</td><td>2077</td><td>1253</td><td>0.1407790</td><td>posterior</td><td>60</td><td>F</td><td>37</td><td>Batch3</td><td>v2</td><td>Case57</td><td>10</td><td>3</td><td>Den.Gyr1</td></tr>\n",
       "\t<tr><th scope=row>5</th><td>P57_AAACCTGCAGTAGAGC</td><td>P57_woXYMT</td><td> 651</td><td> 500</td><td>0.3025719</td><td>posterior</td><td>60</td><td>F</td><td>37</td><td>Batch3</td><td>v2</td><td>Case57</td><td> 7</td><td>3</td><td>Olig2   </td></tr>\n",
       "</tbody>\n",
       "</table>\n"
      ],
      "text/latex": [
       "A data.frame: 5 x 15\n",
       "\\begin{tabular}{r|lllllllllllllll}\n",
       "  & Cell & orig.ident & nCount\\_RNA & nFeature\\_RNA & percent.mt & group & age & sex & epilepsy\\_duration & batch & version & donor & seurat\\_clusters & epilepsy\\_frequency & Cluster\\\\\n",
       "  & <chr> & <chr> & <int> & <int> & <dbl> & <chr> & <int> & <chr> & <int> & <chr> & <chr> & <chr> & <int> & <dbl> & <chr>\\\\\n",
       "\\hline\n",
       "\t1 & P57\\_AAACCTGAGAGTAAGG & P57\\_woXYMT & 1300 &  908 & 0.5120702 & posterior & 60 & F & 37 & Batch3 & v2 & Case57 & 11 & 3 & Olig4   \\\\\n",
       "\t2 & P57\\_AAACCTGAGTTACCCA & P57\\_woXYMT & 1390 &  958 & 0.0000000 & posterior & 60 & F & 37 & Batch3 & v2 & Case57 &  7 & 3 & Olig2   \\\\\n",
       "\t3 & P57\\_AAACCTGAGTTTAGGA & P57\\_woXYMT & 2604 & 1598 & 0.4533434 & posterior & 60 & F & 37 & Batch3 & v2 & Case57 & 14 & 3 & Pyr1    \\\\\n",
       "\t4 & P57\\_AAACCTGCAGCAGTTT & P57\\_woXYMT & 2077 & 1253 & 0.1407790 & posterior & 60 & F & 37 & Batch3 & v2 & Case57 & 10 & 3 & Den.Gyr1\\\\\n",
       "\t5 & P57\\_AAACCTGCAGTAGAGC & P57\\_woXYMT &  651 &  500 & 0.3025719 & posterior & 60 & F & 37 & Batch3 & v2 & Case57 &  7 & 3 & Olig2   \\\\\n",
       "\\end{tabular}\n"
      ],
      "text/markdown": [
       "\n",
       "A data.frame: 5 x 15\n",
       "\n",
       "| <!--/--> | Cell &lt;chr&gt; | orig.ident &lt;chr&gt; | nCount_RNA &lt;int&gt; | nFeature_RNA &lt;int&gt; | percent.mt &lt;dbl&gt; | group &lt;chr&gt; | age &lt;int&gt; | sex &lt;chr&gt; | epilepsy_duration &lt;int&gt; | batch &lt;chr&gt; | version &lt;chr&gt; | donor &lt;chr&gt; | seurat_clusters &lt;int&gt; | epilepsy_frequency &lt;dbl&gt; | Cluster &lt;chr&gt; |\n",
       "|---|---|---|---|---|---|---|---|---|---|---|---|---|---|---|---|\n",
       "| 1 | P57_AAACCTGAGAGTAAGG | P57_woXYMT | 1300 |  908 | 0.5120702 | posterior | 60 | F | 37 | Batch3 | v2 | Case57 | 11 | 3 | Olig4    |\n",
       "| 2 | P57_AAACCTGAGTTACCCA | P57_woXYMT | 1390 |  958 | 0.0000000 | posterior | 60 | F | 37 | Batch3 | v2 | Case57 |  7 | 3 | Olig2    |\n",
       "| 3 | P57_AAACCTGAGTTTAGGA | P57_woXYMT | 2604 | 1598 | 0.4533434 | posterior | 60 | F | 37 | Batch3 | v2 | Case57 | 14 | 3 | Pyr1     |\n",
       "| 4 | P57_AAACCTGCAGCAGTTT | P57_woXYMT | 2077 | 1253 | 0.1407790 | posterior | 60 | F | 37 | Batch3 | v2 | Case57 | 10 | 3 | Den.Gyr1 |\n",
       "| 5 | P57_AAACCTGCAGTAGAGC | P57_woXYMT |  651 |  500 | 0.3025719 | posterior | 60 | F | 37 | Batch3 | v2 | Case57 |  7 | 3 | Olig2    |\n",
       "\n"
      ],
      "text/plain": [
       "  Cell                 orig.ident nCount_RNA nFeature_RNA percent.mt group    \n",
       "1 P57_AAACCTGAGAGTAAGG P57_woXYMT 1300        908         0.5120702  posterior\n",
       "2 P57_AAACCTGAGTTACCCA P57_woXYMT 1390        958         0.0000000  posterior\n",
       "3 P57_AAACCTGAGTTTAGGA P57_woXYMT 2604       1598         0.4533434  posterior\n",
       "4 P57_AAACCTGCAGCAGTTT P57_woXYMT 2077       1253         0.1407790  posterior\n",
       "5 P57_AAACCTGCAGTAGAGC P57_woXYMT  651        500         0.3025719  posterior\n",
       "  age sex epilepsy_duration batch  version donor  seurat_clusters\n",
       "1 60  F   37                Batch3 v2      Case57 11             \n",
       "2 60  F   37                Batch3 v2      Case57  7             \n",
       "3 60  F   37                Batch3 v2      Case57 14             \n",
       "4 60  F   37                Batch3 v2      Case57 10             \n",
       "5 60  F   37                Batch3 v2      Case57  7             \n",
       "  epilepsy_frequency Cluster \n",
       "1 3                  Olig4   \n",
       "2 3                  Olig2   \n",
       "3 3                  Pyr1    \n",
       "4 3                  Den.Gyr1\n",
       "5 3                  Olig2   "
      ]
     },
     "metadata": {},
     "output_type": "display_data"
    }
   ],
   "source": [
    "head(ayhan_meta,5)"
   ]
  },
  {
   "cell_type": "code",
   "execution_count": 16,
   "id": "5060c7e1-6f58-4166-8f10-90cb02fc2ef5",
   "metadata": {},
   "outputs": [
    {
     "ename": "ERROR",
     "evalue": "Error in column_to_rownames(ayhan_counts, var = \"gene\"): could not find function \"column_to_rownames\"\n",
     "output_type": "error",
     "traceback": [
      "Error in column_to_rownames(ayhan_counts, var = \"gene\"): could not find function \"column_to_rownames\"\nTraceback:\n"
     ]
    }
   ],
   "source": [
    "ayhan_counts <- data.frame(ayhan_counts) #%>% column_to_rowname(var = 'gene')\n",
    "ayhan_counts <- column_to_rownames(ayhan_counts, var = 'gene')"
   ]
  },
  {
   "cell_type": "code",
   "execution_count": 86,
   "id": "ba1614cd-78b9-4efe-a315-11eb76a5b135",
   "metadata": {},
   "outputs": [],
   "source": [
    "ayhan_counts <- ayhan_counts %>% column_to_rownames(var = 'gene')"
   ]
  },
  {
   "cell_type": "code",
   "execution_count": 87,
   "id": "4871d65d-7a4c-442e-baf9-7e6304d5d7f8",
   "metadata": {},
   "outputs": [],
   "source": [
    "ayhan_neurons_idx <- which(ayhan_meta$Cluster %in% c('Den.Gyr1', 'Den.Gyr2', 'In1', 'In2', 'In3') )"
   ]
  },
  {
   "cell_type": "code",
   "execution_count": 100,
   "id": "8248891c-e0ab-4b79-b595-2ce6121509aa",
   "metadata": {},
   "outputs": [],
   "source": [
    "#ayhan_meta$Cluster %in% c('Den.Gyr1', 'Den.Gyr2', 'In1', 'In2', 'In3')\n",
    "#ayhan_neurons <- ayhan_counts[,c(1,which(ayhan_meta$Cluster %in% c('Den.Gyr1', 'Den.Gyr2', 'In1', 'In2', 'In3') )+1)]\n",
    "ayhan_neurons <- ayhan_counts[,ayhan_neurons_idx]"
   ]
  },
  {
   "cell_type": "code",
   "execution_count": 101,
   "id": "92e60032-1901-4917-a8b8-95f1aa69f025",
   "metadata": {},
   "outputs": [],
   "source": [
    "#modified original is in ChenClassifier.R in the EngramCellClassifier folder\n",
    "celltype.lognorm <-function(countsdata, celltype.labels){\n",
    "  #log normalizes within cell types in counts data\n",
    "  #celltype labels and colnames of countsdata must have same order\n",
    "  \n",
    "  #retunrs a transposed and normalize dataframe \n",
    "  \n",
    "  print(\"Normalizing cell type...\")\n",
    "  \n",
    "  celltypes <- unique(celltype.labels)\n",
    "  df.out <- data.frame(gene = rownames(countsdata))\n",
    "  #df.out <- t(df.out)\n",
    "  #colnames(df.out) <- rownames(countsdata)\n",
    "  \n",
    "  cell_names <- c('gene',colnames(countsdata)) # keep this for reorganizing later\n",
    "  df.out.rownames <- c()\n",
    "  for(type in celltypes){\n",
    "    print(type[1])\n",
    "    normalized.within.type <- log.norm(countsdata[,celltype.labels==type])\n",
    "    normalized.within.type <- t(normalized.within.type) # lognorm flips its data\n",
    "    normalized.within.type <- data.frame(normalized.within.type)\n",
    "    normalized.within.type <- rownames_to_column(normalized.within.type, var =\"gene\")\n",
    "    df.out <- left_join( df.out, normalized.within.type, by = 'gene' )\n",
    "  }\n",
    "  \n",
    "  #df.out <- df.out[,2:dim(df.out)[2]]  # to keep original order\n",
    "  df.out <- df.out[cell_names] %>% \n",
    "    select_if(~ !any(is.na(.))) %>%\n",
    "    column_to_rownames(var = 'gene')\n",
    "  \n",
    "  return( data.frame(df.out) ) \n",
    "}"
   ]
  },
  {
   "cell_type": "code",
   "execution_count": 114,
   "id": "af673def-4bab-49f8-95c4-68d06a6e7fdf",
   "metadata": {},
   "outputs": [],
   "source": [
    "#normalize within cell types\n",
    "neurons_type <- ayhan_meta$Cluster[ayhan_meta$Cluster %in% c('Den.Gyr1', 'Den.Gyr2', 'In1', 'In2', 'In3')]\n",
    "ayhan.ieg.idx <- rownames(ayhan_neurons)[rownames(ayhan_neurons) %in% iegs_hg]"
   ]
  },
  {
   "cell_type": "code",
   "execution_count": 102,
   "id": "1760b53e-df6e-4fe1-b519-4bb41cc963ae",
   "metadata": {},
   "outputs": [],
   "source": [
    "ayhan_neurons_wthintypelognorm <- ayhan_neurons[ayhan.ieg.idx, ]"
   ]
  },
  {
   "cell_type": "code",
   "execution_count": 103,
   "id": "d3b54276-1da3-495e-8cfb-181c069584f9",
   "metadata": {},
   "outputs": [
    {
     "name": "stdout",
     "output_type": "stream",
     "text": [
      "[1] \"Normalizing cell type...\"\n",
      "[1] \"Den.Gyr1\"\n",
      "[1] \"In1\"\n",
      "[1] \"Den.Gyr2\"\n",
      "[1] \"In2\"\n",
      "[1] \"In3\"\n"
     ]
    },
    {
     "data": {
      "text/html": [
       "<style>\n",
       ".list-inline {list-style: none; margin:0; padding: 0}\n",
       ".list-inline>li {display: inline-block}\n",
       ".list-inline>li:not(:last-child)::after {content: \"\\00b7\"; padding: 0 .5ex}\n",
       "</style>\n",
       "<ol class=list-inline><li>21</li><li>13792</li></ol>\n"
      ],
      "text/latex": [
       "\\begin{enumerate*}\n",
       "\\item 21\n",
       "\\item 13792\n",
       "\\end{enumerate*}\n"
      ],
      "text/markdown": [
       "1. 21\n",
       "2. 13792\n",
       "\n",
       "\n"
      ],
      "text/plain": [
       "[1]    21 13792"
      ]
     },
     "metadata": {},
     "output_type": "display_data"
    }
   ],
   "source": [
    "ayhan_neurons_wthintypelognorm <- celltype.lognorm(ayhan_neurons_wthintypelognorm,\n",
    "                                                   neurons_type)\n",
    "dim(ayhan_neurons_wthintypelognorm)"
   ]
  },
  {
   "cell_type": "code",
   "execution_count": 97,
   "id": "2af2e444-f1c1-477f-9c15-aa6f64037a41",
   "metadata": {},
   "outputs": [],
   "source": [
    "ayhan_counts_wthintypelognorm <-  celltype.lognorm(ayhan_counts[ayhan.ieg.idx,],\n",
    "                 ayhan_meta$Cluster)"
   ]
  },
  {
   "cell_type": "code",
   "execution_count": 113,
   "id": "0f61ce18-19a3-4b97-8763-931c585ea339",
   "metadata": {},
   "outputs": [
    {
     "name": "stderr",
     "output_type": "stream",
     "text": [
      "Warning message in ayhan_meta$Cell == colnames(ayhan_counts_sorted):\n",
      "\"longer object length is not a multiple of shorter object length\"\n"
     ]
    },
    {
     "data": {
      "text/html": [
       "0"
      ],
      "text/latex": [
       "0"
      ],
      "text/markdown": [
       "0"
      ],
      "text/plain": [
       "[1] 0"
      ]
     },
     "metadata": {},
     "output_type": "display_data"
    }
   ],
   "source": [
    "#colnames(ayhan_neurons_wthintypelognorm)==ayhan_meta$Cell[ayhan_meta$Cell %in% colnames(ayhan_neurons_wthintypelognorm)]\n",
    "#ayhan_meta$Cell[ayhan_meta$Cell %in% colnames(ayhan_neurons_wthintypelognorm)]\n",
    "sum(ayhan_meta$Cell==colnames(ayhan_counts_sorted) )"
   ]
  },
  {
   "cell_type": "code",
   "execution_count": 96,
   "id": "9479f0e4-fdce-4f44-abc1-a1904116a620",
   "metadata": {},
   "outputs": [
    {
     "data": {
      "text/plain": [
       "\n",
       "  Astro1   Astro2   Astro3 Den.Gyr1 Den.Gyr2 Den.Gyr3     Endo      In1 \n",
       "    1403      266       52      764       95       46       61      249 \n",
       "     In2      In3   Micro1   Micro2   Micro3     OPC1     OPC2     OPC3 \n",
       "     199       54     1267      635       63     1499       28       16 \n",
       "    OPC4    Olig1    Olig2    Olig3    Olig4    Olig5     Pyr1     Pyr2 \n",
       "      19     3950     1377      404      450      189      411      175 "
      ]
     },
     "metadata": {},
     "output_type": "display_data"
    }
   ],
   "source": [
    "table(ayhan_meta$Cluster[ayhan_meta$Cell %in% colnames(ayhan_neurons_wthintypelognorm)])"
   ]
  },
  {
   "cell_type": "code",
   "execution_count": 81,
   "id": "7d5e2b00-e571-4138-b8f0-31e49a62fbad",
   "metadata": {},
   "outputs": [
    {
     "data": {
      "text/html": [
       "<style>\n",
       ".list-inline {list-style: none; margin:0; padding: 0}\n",
       ".list-inline>li {display: inline-block}\n",
       ".list-inline>li:not(:last-child)::after {content: \"\\00b7\"; padding: 0 .5ex}\n",
       "</style>\n",
       "<ol class=list-inline><li>'Cell'</li><li>'orig.ident'</li><li>'nCount_RNA'</li><li>'nFeature_RNA'</li><li>'percent.mt'</li><li>'group'</li><li>'age'</li><li>'sex'</li><li>'epilepsy_duration'</li><li>'batch'</li><li>'version'</li><li>'donor'</li><li>'seurat_clusters'</li><li>'epilepsy_frequency'</li><li>'Cluster'</li></ol>\n"
      ],
      "text/latex": [
       "\\begin{enumerate*}\n",
       "\\item 'Cell'\n",
       "\\item 'orig.ident'\n",
       "\\item 'nCount\\_RNA'\n",
       "\\item 'nFeature\\_RNA'\n",
       "\\item 'percent.mt'\n",
       "\\item 'group'\n",
       "\\item 'age'\n",
       "\\item 'sex'\n",
       "\\item 'epilepsy\\_duration'\n",
       "\\item 'batch'\n",
       "\\item 'version'\n",
       "\\item 'donor'\n",
       "\\item 'seurat\\_clusters'\n",
       "\\item 'epilepsy\\_frequency'\n",
       "\\item 'Cluster'\n",
       "\\end{enumerate*}\n"
      ],
      "text/markdown": [
       "1. 'Cell'\n",
       "2. 'orig.ident'\n",
       "3. 'nCount_RNA'\n",
       "4. 'nFeature_RNA'\n",
       "5. 'percent.mt'\n",
       "6. 'group'\n",
       "7. 'age'\n",
       "8. 'sex'\n",
       "9. 'epilepsy_duration'\n",
       "10. 'batch'\n",
       "11. 'version'\n",
       "12. 'donor'\n",
       "13. 'seurat_clusters'\n",
       "14. 'epilepsy_frequency'\n",
       "15. 'Cluster'\n",
       "\n",
       "\n"
      ],
      "text/plain": [
       " [1] \"Cell\"               \"orig.ident\"         \"nCount_RNA\"        \n",
       " [4] \"nFeature_RNA\"       \"percent.mt\"         \"group\"             \n",
       " [7] \"age\"                \"sex\"                \"epilepsy_duration\" \n",
       "[10] \"batch\"              \"version\"            \"donor\"             \n",
       "[13] \"seurat_clusters\"    \"epilepsy_frequency\" \"Cluster\"           "
      ]
     },
     "metadata": {},
     "output_type": "display_data"
    }
   ],
   "source": [
    "colnames(ayhan_meta)"
   ]
  },
  {
   "cell_type": "code",
   "execution_count": 79,
   "id": "d43c6e33-ee8b-4ba9-a6ac-9553ce908963",
   "metadata": {},
   "outputs": [
    {
     "data": {
      "text/html": [
       "<style>\n",
       ".list-inline {list-style: none; margin:0; padding: 0}\n",
       ".list-inline>li {display: inline-block}\n",
       ".list-inline>li:not(:last-child)::after {content: \"\\00b7\"; padding: 0 .5ex}\n",
       "</style>\n",
       "<ol class=list-inline><li>'P57_AAACCTGAGAGTAAGG'</li><li>'P57_AAACCTGAGTTACCCA'</li><li>'P57_AAACCTGAGTTTAGGA'</li><li>'P57_AAACCTGCAGCAGTTT'</li><li>'P57_AAACCTGCAGTAGAGC'</li><li>'P57_AAACCTGGTAAATGAC'</li><li>'P57_AAACCTGGTAAGAGAG'</li><li>'P57_AAACCTGGTACAGTGG'</li><li>'P57_AAACCTGGTCACACGC'</li><li>'P57_AAACCTGGTCGATTGT'</li></ol>\n"
      ],
      "text/latex": [
       "\\begin{enumerate*}\n",
       "\\item 'P57\\_AAACCTGAGAGTAAGG'\n",
       "\\item 'P57\\_AAACCTGAGTTACCCA'\n",
       "\\item 'P57\\_AAACCTGAGTTTAGGA'\n",
       "\\item 'P57\\_AAACCTGCAGCAGTTT'\n",
       "\\item 'P57\\_AAACCTGCAGTAGAGC'\n",
       "\\item 'P57\\_AAACCTGGTAAATGAC'\n",
       "\\item 'P57\\_AAACCTGGTAAGAGAG'\n",
       "\\item 'P57\\_AAACCTGGTACAGTGG'\n",
       "\\item 'P57\\_AAACCTGGTCACACGC'\n",
       "\\item 'P57\\_AAACCTGGTCGATTGT'\n",
       "\\end{enumerate*}\n"
      ],
      "text/markdown": [
       "1. 'P57_AAACCTGAGAGTAAGG'\n",
       "2. 'P57_AAACCTGAGTTACCCA'\n",
       "3. 'P57_AAACCTGAGTTTAGGA'\n",
       "4. 'P57_AAACCTGCAGCAGTTT'\n",
       "5. 'P57_AAACCTGCAGTAGAGC'\n",
       "6. 'P57_AAACCTGGTAAATGAC'\n",
       "7. 'P57_AAACCTGGTAAGAGAG'\n",
       "8. 'P57_AAACCTGGTACAGTGG'\n",
       "9. 'P57_AAACCTGGTCACACGC'\n",
       "10. 'P57_AAACCTGGTCGATTGT'\n",
       "\n",
       "\n"
      ],
      "text/plain": [
       " [1] \"P57_AAACCTGAGAGTAAGG\" \"P57_AAACCTGAGTTACCCA\" \"P57_AAACCTGAGTTTAGGA\"\n",
       " [4] \"P57_AAACCTGCAGCAGTTT\" \"P57_AAACCTGCAGTAGAGC\" \"P57_AAACCTGGTAAATGAC\"\n",
       " [7] \"P57_AAACCTGGTAAGAGAG\" \"P57_AAACCTGGTACAGTGG\" \"P57_AAACCTGGTCACACGC\"\n",
       "[10] \"P57_AAACCTGGTCGATTGT\""
      ]
     },
     "metadata": {},
     "output_type": "display_data"
    }
   ],
   "source": [
    "ayhan_meta$Cell[1:10]"
   ]
  },
  {
   "cell_type": "code",
   "execution_count": 83,
   "id": "65f07cf3-04ba-4f71-a01a-38b089421c96",
   "metadata": {},
   "outputs": [
    {
     "name": "stdout",
     "output_type": "stream",
     "text": [
      " [1] \"Olig1\" \"Olig1\" \"Olig1\" \"Olig2\" \"Olig1\" \"Olig2\" \"Olig1\" \"Olig1\" \"Olig1\"\n",
      "[10] \"Olig1\"\n",
      "test\n",
      "  Astro1   Astro2   Astro3 Den.Gyr1 Den.Gyr2 Den.Gyr3     Endo      In1 \n",
      "    1403      266       52      764       95       46       61      249 \n",
      "     In2      In3   Micro1   Micro2   Micro3     OPC1     OPC2     OPC3 \n",
      "     199       54     1267      635       63     1499       28       16 \n",
      "    OPC4    Olig1    Olig2    Olig3    Olig4    Olig5     Pyr1     Pyr2 \n",
      "      19     3950     1377      404      450      189      411      175 \n"
     ]
    }
   ],
   "source": [
    "# we need to modify the cell type lables as some neurons have been dropped\n",
    "test <- c()\n",
    "\n",
    "for (cell_id in colnames(ayhan_neurons_wthintypelognorm) ){\n",
    "    \n",
    "    test <- c(test,ayhan_meta$Cluster[ayhan_meta$Cell==cell_id])\n",
    "}\n",
    "\n",
    "print(test[1:10])\n",
    "print(table(test) )\n",
    "#neurons_type <- neurons_type[which(colnames(ayhan_neurons_wthintypelognorm) %in% colnames(ayhan_neurons)) ]"
   ]
  },
  {
   "cell_type": "code",
   "execution_count": 45,
   "id": "cab4d7fa-cbee-405a-b24c-03c637a41316",
   "metadata": {},
   "outputs": [
    {
     "data": {
      "text/html": [
       "25809"
      ],
      "text/latex": [
       "25809"
      ],
      "text/markdown": [
       "25809"
      ],
      "text/plain": [
       "[1] 25809"
      ]
     },
     "metadata": {},
     "output_type": "display_data"
    }
   ],
   "source": [
    "sum(is.na(ayhan_neurons_wthintypelognorm))"
   ]
  },
  {
   "cell_type": "code",
   "execution_count": 30,
   "id": "edca5d46-f6f8-4b6c-9036-6b0045d0d7f0",
   "metadata": {},
   "outputs": [
    {
     "ename": "ERROR",
     "evalue": "Error in ayhan_neurons_idx[, c(1, ayhan_neurons_idx + 1)]: incorrect number of dimensions\n",
     "output_type": "error",
     "traceback": [
      "Error in ayhan_neurons_idx[, c(1, ayhan_neurons_idx + 1)]: incorrect number of dimensions\nTraceback:\n"
     ]
    }
   ],
   "source": [
    "dim(ayhan_neurons_idx[,c(1, ayhan_neurons_idx + 1) ])"
   ]
  },
  {
   "cell_type": "code",
   "execution_count": 13,
   "id": "5e464728-a115-4e6a-84fd-62e3d2da7eb8",
   "metadata": {},
   "outputs": [],
   "source": [
    "abi_multipleareas <- SummarizedExperiment::SummarizedExperiment(assays =\n",
    "                                       list(\"Counts\"=abi_multipleareas_counts))"
   ]
  },
  {
   "cell_type": "code",
   "execution_count": null,
   "id": "480eac36-257b-4041-9aed-449912475009",
   "metadata": {},
   "outputs": [],
   "source": [
    "marsh <- read.table(paste(marsh_path,GSM4774667_pEXP27sHSrCTXPMiDONORAd20191001dapi_barcodes.tsv.gz)"
   ]
  },
  {
   "cell_type": "code",
   "execution_count": 7,
   "id": "07eb8565-99f5-4206-b720-3dc76195e5c7",
   "metadata": {},
   "outputs": [
    {
     "name": "stderr",
     "output_type": "stream",
     "text": [
      "as(<dgTMatrix>, \"dgCMatrix\") is deprecated since Matrix 1.5-0; do as(., \"CsparseMatrix\") instead\n",
      "\n"
     ]
    }
   ],
   "source": [
    "marsh_path <- '/home/acampbell/test_datasets/Marsh2022_GSE157760/'\n",
    "\n",
    "expression_matrix <- ReadMtx(mtx = paste(marsh_path,'GSM4774667_pEXP27sHSrCTXPMiDONORAd20191001dapi_matrix.mtx.gz', sep =\"\"),\n",
    "    features = paste(marsh_path,'GSM4774667_pEXP27sHSrCTXPMiDONORAd20191001dapi_features.tsv.gz', sep =\"\"),\n",
    "  cells = paste(marsh_path,'GSM4774667_pEXP27sHSrCTXPMiDONORAd20191001dapi_barcodes.tsv.gz', sep =\"\")\n",
    ")"
   ]
  },
  {
   "cell_type": "code",
   "execution_count": null,
   "id": "a62a95c9-3d32-4a3a-85b8-3a7169c012a3",
   "metadata": {},
   "outputs": [],
   "source": [
    "expression_matrix <- ReadMtx(\n",
    "  mtx = paste(marsh_path,GSM4774668_pEXP27sHSrCTXPMiDONORBd20191001dapi_matrix.mtx.gz, sep =\"\"),\n",
    "    features = paste(marsh_path,GSM4774668_pEXP27sHSrCTXPMiDONORBd20191001dapi_features.tsv.gz, sep =\"\"),\n",
    "  cells = paste(marsh_path,GSM4774668_pEXP27sHSrCTXPMiDONORBd20191001dapi_barcodes.tsv.gz, sep =\"\")\n",
    ")\n",
    "\n",
    "expression_matrix <- ReadMtx(\n",
    "  mtx = paste(marsh_path,GSM4774669_pEXP27sHSrCTXPMiDONORCd20191001dapi_matrix.mtx.gz, sep =\"\"),\n",
    "    features = paste(marsh_path,GSM4774669_pEXP27sHSrCTXPMiDONORCd20191001dapi_features.tsv.gz, sep =\"\"),\n",
    "  cells = paste(marsh_path,GSM4774669_pEXP27sHSrCTXPMiDONORCd20191001dapi_barcodes.tsv.gz, sep =\"\")\n",
    ")\n",
    "\n",
    "expression_matrix <- ReadMtx(\n",
    "  mtx = ,\n",
    "    features = ,\n",
    "  cells = \n",
    ")\n",
    "\n",
    "expression_matrix <- ReadMtx(\n",
    "  mtx = ,\n",
    "    features = ,\n",
    "  cells = \n",
    ")\n",
    "\n",
    "paste(marsh_path,GSM4774670_pEXP35sHSrCTXPMiDONORAd20191001dapi2_barcodes.tsv.gz, sep =\"\")\n",
    "<- paste(marsh_path,GSM4774670_pEXP35sHSrCTXPMiDONORAd20191001dapi2_features.tsv.gz, sep =\"\")\n",
    "<- paste(marsh_path,GSM4774670_pEXP35sHSrCTXPMiDONORAd20191001dapi2_matrix.mtx.gz, sep =\"\")\n",
    "<- paste(marsh_path,GSM4774671_pEXP35sHSrCTXPMiDONORBd20191001dapi2_barcodes.tsv.gz, sep =\"\")\n",
    "<- paste(marsh_path,GSM4774671_pEXP35sHSrCTXPMiDONORBd20191001dapi2_features.tsv.gz, sep =\"\")\n",
    "<- paste(marsh_path,GSM4774671_pEXP35sHSrCTXPMiDONORBd20191001dapi2_matrix.mtx.gz, sep =\"\")\n",
    "<- paste(marsh_path,GSM4774672_pEXP35sHSrCTXPMiDONORCd20191001dapi2_barcodes.tsv.gz, sep =\"\")\n",
    "<- paste(marsh_path,GSM4774672_pEXP35sHSrCTXPMiDONORCd20191001dapi2_features.tsv.gz, sep =\"\")\n",
    "<- paste(marsh_path,GSM4774672_pEXP35sHSrCTXPMiDONORCd20191001dapi2_matrix.mtx.gz, sep =\"\")\n",
    "\n",
    "         \n",
    "pEXP20sHSrCTXt0iSAMPLEAd20190601L1\n",
    "    "
   ]
  },
  {
   "cell_type": "code",
   "execution_count": null,
   "id": "c0ec14e3-1bb5-4614-99be-69a40a170420",
   "metadata": {},
   "outputs": [],
   "source": []
  },
  {
   "cell_type": "code",
   "execution_count": null,
   "id": "12e30ca7-c442-4523-b04f-9e4a797f039c",
   "metadata": {},
   "outputs": [],
   "source": []
  },
  {
   "cell_type": "code",
   "execution_count": null,
   "id": "31816c0b-7374-4b22-b3cc-c1a24ee4582e",
   "metadata": {},
   "outputs": [],
   "source": [
    "pEXP20sHSrCTXt0iSAMPLEAd20190601L1"
   ]
  },
  {
   "cell_type": "code",
   "execution_count": null,
   "id": "bb77b885-4809-47e2-aeec-9dde7472b7fd",
   "metadata": {},
   "outputs": [],
   "source": [
    "#this will com later after we get all the sahred genes across the human experiments\n",
    "iegs_df <- data.frame('Symbol_mm'= rownames(hochgernerDGC_counts)[hoch_target.idx],\n",
    "                     'HC_ninetyth_percentile' =thresh_ninetyth)"
   ]
  }
 ],
 "metadata": {
  "kernelspec": {
   "display_name": "R",
   "language": "R",
   "name": "ir"
  },
  "language_info": {
   "codemirror_mode": "r",
   "file_extension": ".r",
   "mimetype": "text/x-r-source",
   "name": "R",
   "pygments_lexer": "r",
   "version": "4.1.3"
  }
 },
 "nbformat": 4,
 "nbformat_minor": 5
}
