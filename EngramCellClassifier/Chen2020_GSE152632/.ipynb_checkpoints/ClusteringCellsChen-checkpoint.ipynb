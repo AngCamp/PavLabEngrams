{
 "cells": [
  {
   "cell_type": "code",
   "execution_count": 2,
   "id": "28bd9feb-09c9-4d3f-a5e7-4018492f4eba",
   "metadata": {},
   "outputs": [
    {
     "name": "stderr",
     "output_type": "stream",
     "text": [
      "Attaching SeuratObject\n",
      "\n",
      "\n",
      "Attaching package: 'dplyr'\n",
      "\n",
      "\n",
      "The following objects are masked from 'package:stats':\n",
      "\n",
      "    filter, lag\n",
      "\n",
      "\n",
      "The following objects are masked from 'package:base':\n",
      "\n",
      "    intersect, setdiff, setequal, union\n",
      "\n",
      "\n",
      "-- \u001b[1mAttaching packages\u001b[22m ------------------------------------------------------------------------------- tidyverse 1.3.1 --\n",
      "\n",
      "\u001b[32mv\u001b[39m \u001b[34mggplot2\u001b[39m 3.3.5     \u001b[32mv\u001b[39m \u001b[34mpurrr  \u001b[39m 0.3.4\n",
      "\u001b[32mv\u001b[39m \u001b[34mtibble \u001b[39m 3.1.6     \u001b[32mv\u001b[39m \u001b[34mstringr\u001b[39m 1.4.0\n",
      "\u001b[32mv\u001b[39m \u001b[34mtidyr  \u001b[39m 1.2.0     \u001b[32mv\u001b[39m \u001b[34mforcats\u001b[39m 0.5.1\n",
      "\u001b[32mv\u001b[39m \u001b[34mreadr  \u001b[39m 2.1.2     \n",
      "\n",
      "-- \u001b[1mConflicts\u001b[22m ---------------------------------------------------------------------------------- tidyverse_conflicts() --\n",
      "\u001b[31mx\u001b[39m \u001b[34mdplyr\u001b[39m::\u001b[32mfilter()\u001b[39m masks \u001b[34mstats\u001b[39m::filter()\n",
      "\u001b[31mx\u001b[39m \u001b[34mdplyr\u001b[39m::\u001b[32mlag()\u001b[39m    masks \u001b[34mstats\u001b[39m::lag()\n",
      "\n"
     ]
    }
   ],
   "source": [
    "# needs to be run in an R kernel corresponds to the ClusteringCellsChen.R file\n",
    "#  See here:  https://irkernel.github.io/\n",
    "# install guide:  https://irkernel.github.io/installation/#binary-panel\n",
    "\n",
    "#set propoer working dirrectory in pavlab server\n",
    "setwd('/home/acampbell/PavLabEngrams/EngramCellClassifier/Chen2020_GSE152632')\n",
    "\n",
    "#libraries\n",
    "library(Seurat)\n",
    "library(dplyr)\n",
    "library(tidyverse)\n",
    "library(ggplot2)"
   ]
  },
  {
   "cell_type": "code",
   "execution_count": 3,
   "id": "0a2d2536-7339-4db6-bd40-0410253e3506",
   "metadata": {},
   "outputs": [
    {
     "data": {
      "text/html": [
       "'/home/acampbell/PavLabEngrams/EngramCellClassifier/Chen2020_GSE152632'"
      ],
      "text/latex": [
       "'/home/acampbell/PavLabEngrams/EngramCellClassifier/Chen2020\\_GSE152632'"
      ],
      "text/markdown": [
       "'/home/acampbell/PavLabEngrams/EngramCellClassifier/Chen2020_GSE152632'"
      ],
      "text/plain": [
       "[1] \"/home/acampbell/PavLabEngrams/EngramCellClassifier/Chen2020_GSE152632\""
      ]
     },
     "metadata": {},
     "output_type": "display_data"
    }
   ],
   "source": []
  },
  {
   "cell_type": "code",
   "execution_count": 1,
   "id": "0b9ab635-5bc6-498c-aab0-79f902eb43d1",
   "metadata": {},
   "outputs": [
    {
     "ename": "ERROR",
     "evalue": "Error in eval(expr, envir, enclos): object 'chen2020_counts' not found\n",
     "output_type": "error",
     "traceback": [
      "Error in eval(expr, envir, enclos): object 'chen2020_counts' not found\nTraceback:\n"
     ]
    }
   ],
   "source": [
    "dim(chen2020_counts)"
   ]
  },
  {
   "cell_type": "code",
   "execution_count": 9,
   "id": "7ff9fce1-fdf7-4bb0-909e-95616cf9c063",
   "metadata": {},
   "outputs": [],
   "source": [
    "#Load the data and Metadata\n",
    "chen2020_counts <- read.csv('GSE152632_GEO_mberkchen_TRAP2_counts.csv.gz', header = TRUE)\n",
    "rownames(chen2020_counts) <- chen2020_counts$X\n",
    "chen2020_counts <- chen2020_counts[,2:3531]\n",
    "chen2020_meta <- read.csv( 'SraRunTable.txt', header = TRUE)"
   ]
  },
  {
   "cell_type": "code",
   "execution_count": 11,
   "id": "17a6acd6-acb4-482d-aa8f-04be6a7520ed",
   "metadata": {},
   "outputs": [],
   "source": [
    "#Load the data and Metadata\n",
    "chen2020_counts <- read.csv('GSE152632_GEO_mberkchen_TRAP2_counts.csv.gz', header = TRUE)\n",
    "rownames(chen2020_counts) <- chen2020_counts$X\n",
    "chen2020_counts <- chen2020_counts[,2:3531]\n",
    "chen2020_meta <- read.csv( 'SraRunTable.txt', header = TRUE)\n",
    "\n",
    "#add engram label\n",
    "chen2020_meta$engram_label <-  as.factor(sapply(as.character(colnames(chen2020_counts)), function(y) if (grepl(\"_pos_\", y, fixed=TRUE)) \"tdT+\" else \"tdT-\"))\n",
    "\n",
    "#create the condition label\n",
    "condition_label <- chen2020_meta$source_name %>%\n",
    "  sapply( function(y) if (grepl(\"Homecage\", y, fixed=TRUE)) \"Homecage\")\n",
    "\n",
    "condition_label <- chen2020_meta$source_name\n",
    "condition_label[str_detect(condition_label, \"Homecage\")] = \"Homecage\"\n",
    "condition_label[str_detect(condition_label, \"Context-Only\")] = \"Context-Only\"\n",
    "condition_label[str_detect(condition_label, \"Fear-Only\")] = \"Fear-Only\"\n",
    "condition_label[str_detect(condition_label, \"Fear-Recall\")] = \"Fear-Recall\"\n",
    "chen2020_meta$condition_label <- condition_label"
   ]
  },
  {
   "cell_type": "code",
   "execution_count": 10,
   "id": "a2074a3a-558e-4ef8-9c25-086d28e2581f",
   "metadata": {},
   "outputs": [
    {
     "ename": "ERROR",
     "evalue": "Error in c(1:23355) %in% underexpressedgenes: object 'underexpressedgenes' not found\n",
     "output_type": "error",
     "traceback": [
      "Error in c(1:23355) %in% underexpressedgenes: object 'underexpressedgenes' not found\nTraceback:\n",
      "1. chen2020_counts[!c(1:23355) %in% underexpressedgenes, ]",
      "2. `[.data.frame`(chen2020_counts, !c(1:23355) %in% underexpressedgenes, \n .     )",
      "3. c(1:23355) %in% underexpressedgenes"
     ]
    }
   ],
   "source": [
    "#adding cell bacrcodes from count data to rows of metadata for seurat\n",
    "chen2020_counts <- chen2020_counts[!c(1:23355) %in% underexpressedgenes,]\n",
    "rownames(chen2020_meta) <- colnames(chen2020_counts)"
   ]
  },
  {
   "cell_type": "code",
   "execution_count": null,
   "id": "040c68da-2530-44f4-a301-da5b414c03b7",
   "metadata": {},
   "outputs": [],
   "source": []
  }
 ],
 "metadata": {
  "kernelspec": {
   "display_name": "R",
   "language": "R",
   "name": "ir"
  },
  "language_info": {
   "codemirror_mode": "r",
   "file_extension": ".r",
   "mimetype": "text/x-r-source",
   "name": "R",
   "pygments_lexer": "r",
   "version": "4.1.3"
  }
 },
 "nbformat": 4,
 "nbformat_minor": 5
}
