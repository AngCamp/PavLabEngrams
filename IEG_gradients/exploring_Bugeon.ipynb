{
 "cells": [
  {
   "cell_type": "code",
   "execution_count": 11,
   "id": "e35e224d-e873-468e-b048-1f9fe0bcc32d",
   "metadata": {},
   "outputs": [],
   "source": [
    "import numpy as np \n",
    "import pandas as pd\n",
    "import statsmodels.api as sm\n",
    "import statsmodels.formula.api as smf\n",
    "import matplotlib as plt\n",
    "import seaborn as sns\n",
    "import os"
   ]
  },
  {
   "cell_type": "code",
   "execution_count": 23,
   "id": "9a664453-0092-4159-bad3-668b04e1cd7f",
   "metadata": {},
   "outputs": [],
   "source": [
    "# set paths\n",
    "# from this pub: https://www.nature.com/articles/s41586-022-04915-7#Sec5\n",
    "# cell assingments were done with this: \n",
    "bugeonpath = '/space/scratch/Bugeon2022_merfish_ca2plus/'\n",
    "\n",
    "#From here: https://www.ncbi.nlm.nih.gov/pmc/articles/PMC5742025/\n",
    "hrvatinpath = '/home/acampbell/test_datasets/Hrvatin2018/'"
   ]
  },
  {
   "cell_type": "code",
   "execution_count": 16,
   "id": "5efaa208-ad69-42cf-95cf-e68067992454",
   "metadata": {},
   "outputs": [],
   "source": [
    "# mouse names for looping over to make expression matrix\n",
    "mousenames = ['SB026','SB030', 'SB025', 'SB028']"
   ]
  },
  {
   "cell_type": "code",
   "execution_count": 13,
   "id": "e0f52870-9b67-49ba-bdcd-42aba10e1d80",
   "metadata": {},
   "outputs": [],
   "source": [
    "#hrvatincelltypes = pd.read_csv(os.path.join(hrvatinpath,'GSE102827_cell_type_assignments.csv.gz'))\n",
    "#hrvatincelltypes.head(5)\n",
    "#pd.unique(hrvatincelltypes.subtype)\n",
    "#hrvatincelltypes.celltype.value_counts()"
   ]
  },
  {
   "cell_type": "code",
   "execution_count": 4,
   "id": "ea489c1b-1d88-4c0d-96ce-63f70c0bddca",
   "metadata": {},
   "outputs": [
    {
     "name": "stdout",
     "output_type": "stream",
     "text": [
      "38046633              \u001b[0m\u001b[38;5;27mSB026\u001b[0m/           img.picture.npy       ttypes.names.txt\n",
      "Db.mouse_names.txt    \u001b[38;5;27mSB028\u001b[0m/           screen.azimuth.npy\n",
      "Db.session_names.txt  \u001b[38;5;27mSB030\u001b[0m/           screen.elevation.npy\n",
      "\u001b[38;5;27mSB025\u001b[0m/                genes.names.txt  states.names.txt\n"
     ]
    }
   ],
   "source": [
    "ls /space/scratch/Bugeon2022_merfish_ca2plus/"
   ]
  },
  {
   "cell_type": "code",
   "execution_count": 24,
   "id": "e562ee82-c06e-4170-9bb5-9c926b9c8ee9",
   "metadata": {},
   "outputs": [
    {
     "data": {
      "text/plain": [
       "'/space/scratch/Bugeon2022_merfish_ca2plus/SB026/2019-10-11/neuron.gene_count.npy'"
      ]
     },
     "execution_count": 24,
     "metadata": {},
     "output_type": "execute_result"
    }
   ],
   "source": [
    "bugeonpath+mousenames[0]+'/2019-10-11/neuron.gene_count.npy'"
   ]
  },
  {
   "cell_type": "code",
   "execution_count": 26,
   "id": "8c0b0e07-8fbc-4928-b389-4478f12ab00d",
   "metadata": {},
   "outputs": [],
   "source": [
    "test = np.load(bugeonpath+mousenames[0]+'/2019-10-11/neuron.gene_count.npy')"
   ]
  },
  {
   "cell_type": "code",
   "execution_count": 29,
   "id": "74f00ebf-7887-4fcc-8cc1-d7509fda9678",
   "metadata": {},
   "outputs": [
    {
     "data": {
      "text/plain": [
       "(312, 72)"
      ]
     },
     "execution_count": 29,
     "metadata": {},
     "output_type": "execute_result"
    }
   ],
   "source": []
  }
 ],
 "metadata": {
  "kernelspec": {
   "display_name": "Python [conda env:py-engrams]",
   "language": "python",
   "name": "conda-env-py-engrams-py"
  },
  "language_info": {
   "codemirror_mode": {
    "name": "ipython",
    "version": 3
   },
   "file_extension": ".py",
   "mimetype": "text/x-python",
   "name": "python",
   "nbconvert_exporter": "python",
   "pygments_lexer": "ipython3",
   "version": "3.10.6"
  }
 },
 "nbformat": 4,
 "nbformat_minor": 5
}
