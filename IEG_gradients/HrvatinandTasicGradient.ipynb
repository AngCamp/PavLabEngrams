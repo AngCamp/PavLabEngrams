{
 "cells": [
  {
   "cell_type": "code",
   "execution_count": 3,
   "id": "c3ad1a32-ed5f-4dd8-af3e-ad30f9b164bd",
   "metadata": {},
   "outputs": [
    {
     "name": "stderr",
     "output_type": "stream",
     "text": [
      "Loading required package: ggrepel\n",
      "\n",
      "\n",
      "Attaching package: 'PCAtools'\n",
      "\n",
      "\n",
      "The following objects are masked from 'package:stats':\n",
      "\n",
      "    biplot, screeplot\n",
      "\n",
      "\n"
     ]
    },
    {
     "ename": "ERROR",
     "evalue": "Error in library(PCAtest): there is no package called 'PCAtest'\n",
     "output_type": "error",
     "traceback": [
      "Error in library(PCAtest): there is no package called 'PCAtest'\nTraceback:\n",
      "1. library(PCAtest)"
     ]
    }
   ],
   "source": [
    "library(MASS) # required for PCAtest\n",
    "library(Seurat)\n",
    "library(dplyr)\n",
    "library(tidyverse)\n",
    "library(ICtest) # does bootstrapped analysis of significance of PCA for ICA https://cran.r-project.org/web/packages/ICtest/vignettes/PCA.html\n",
    "\n",
    "# this works in Rstudio but on the notebooks it spits out a \n",
    "#library(RGCCA) # regularized CCA vignette here:\n",
    "# can give significances of individual parts of compenents (I think)\n",
    "library(PCAtools)\n",
    "\n",
    "#if (!requireNamespace('BiocManager', quietly = TRUE))\n",
    "#  install.packages('BiocManager')\n",
    "#BiocManager::install('PCAtools')\n",
    "\n",
    "# statistical singificnace from boots trap for PCA https://peerj.com/articles/12967.pdf\n",
    "library(PCAtest) # devtools::install_github(\"arleyc/PCAtest\")\n",
    "# avoids axis inversion \"In addition, the problem of ‘axis reflection’ (i.e., the arbitrary permutation of\n",
    "#signs among loadings and PC scores), which is well known in the literature (Jackson,\n",
    "#1995; Mehlman, Shepherd & Kelt, 1995; Peres-Neto, Jackson & Somers, 2003, 2005), is\n",
    "#effectively avoided with these two statistics as originally implemented by Vieira (2012) and\n",
    "#in the R package introduced here\"\n",
    "\n",
    "# another potential contender: https://rdrr.io/github/ucsf-ferguson-lab/syndRomics/man/boot_pca_sample.prcomp.html\n",
    "# also claims to avoid axis inversion\n"
   ]
  },
  {
   "cell_type": "code",
   "execution_count": 4,
   "id": "54069a31-71ad-464e-a4bc-f2aea6070f0b",
   "metadata": {},
   "outputs": [],
   "source": [
    "# for bootstrapping significance from PCA\n",
    "# ICtest library\n",
    "# https://cran.r-project.org/web/packages/ICtest/ICtest.pdf\n",
    "# https://cran.r-project.org/web/packages/ICtest/index.html\n",
    "# https://cran.r-project.org/web/packages/ICtest/vignettes/PCA.html\n",
    "#install.packages('ICtest')"
   ]
  },
  {
   "cell_type": "code",
   "execution_count": 5,
   "id": "129bc4d3-4efb-44f4-9de5-4b82881c3b28",
   "metadata": {},
   "outputs": [],
   "source": [
    "# function for cross validated CCA\n",
    "#https://rdrr.io/github/giac01/ccatools/man/cca_cv_boot.html\n",
    "#install.packages('ccatools')"
   ]
  },
  {
   "cell_type": "code",
   "execution_count": 36,
   "id": "b8a87868-e28b-4e52-a42f-4b3057237513",
   "metadata": {},
   "outputs": [],
   "source": [
    "# set paths\n",
    "# from this pub: https://www.nature.com/articles/s41586-022-04915-7#Sec5\n",
    "# cell assingments were done with this: \n",
    "bugeon.path <- '/space/scratch/Bugeon2022_merfish_ca2plus/'\n",
    "\n",
    "\n",
    "# Hrvatin, S., Hochbaum, D. R., Nagy, M. A., Cicconet, M., Robertson, K., Cheadle, L., ... & Greenberg, M. E. (2018). \n",
    "# Single-cell analysis of experience-dependent transcriptomic states in the mouse visual cortex. Nature neuroscience, 21(1), 120-129.\n",
    "#From here: https://www.ncbi.nlm.nih.gov/pmc/articles/PMC5742025/\n",
    "hrvatin.path <- '/home/acampbell/test_datasets/Hrvatin2018/'\n",
    "\n",
    "tasic.path <- '/space/scratch/Tasic2018_GSE115746/'"
   ]
  },
  {
   "cell_type": "code",
   "execution_count": 41,
   "id": "9cc4136c-e23d-4cff-9982-f58d68df10b7",
   "metadata": {},
   "outputs": [],
   "source": [
    "# functions\n",
    "\n",
    "\n",
    "pseudocount_log2p1_transform <- function(x, scale_factor = 10^6, UMI.provided = NULL){\n",
    "  # Almost as Seurat::NormalizeData but we use log2 rather than natural log\n",
    "  # from here https://satijalab.org/seurat/reference/normalizedata\n",
    "  if(is.null(UMI.provided)){\n",
    "    counts <- sum(x)}else{\n",
    "      counts <- UMI.provided\n",
    "    }\n",
    "  x <- (x)/counts # Feature counts for each cell are divided by the total counts for that cell...\n",
    "  x <- x*scale_factor # and multiplied by the scale.factor. \n",
    "  # the we log2 plus 1 rather than natural log plus 1 seurat uses\n",
    "  return(log2(x+1))\n",
    "}\n",
    "\n",
    "pavlab.normalize <- function(df, UMI = NULL, median.scale=FALSE, scaleby = 10000){\n",
    "  df.cols <- colnames(df)\n",
    "  df.rows <- rownames(df)\n",
    "  if(median.scale){ scaleby = median(UMI)}\n",
    "  if( is.null(UMI)){\n",
    "    df <- data.frame(apply(df,  MARGIN = 2, pseudocount_log2p1_transform))\n",
    "  }else{\n",
    "    #\n",
    "    df[] <- Map(pseudocount_log2p1_transform, df, scale_factor = scaleby, UMI.provided = UMI)\n",
    "    \n",
    "  }\n",
    "  colnames(df) <- df.cols\n",
    "  rownames(df)<- df.rows\n",
    "  return(df)\n",
    "}\n"
   ]
  },
  {
   "cell_type": "code",
   "execution_count": 7,
   "id": "97dbbe5f-660e-4f51-b7b7-3523a630fb4e",
   "metadata": {},
   "outputs": [
    {
     "data": {
      "text/html": [
       "<table class=\"dataframe\">\n",
       "<caption>A data.frame: 6 x 6</caption>\n",
       "<thead>\n",
       "\t<tr><th></th><th scope=col>X</th><th scope=col>stim</th><th scope=col>sample</th><th scope=col>maintype</th><th scope=col>celltype</th><th scope=col>subtype</th></tr>\n",
       "\t<tr><th></th><th scope=col>&lt;chr&gt;</th><th scope=col>&lt;chr&gt;</th><th scope=col>&lt;chr&gt;</th><th scope=col>&lt;chr&gt;</th><th scope=col>&lt;chr&gt;</th><th scope=col>&lt;chr&gt;</th></tr>\n",
       "</thead>\n",
       "<tbody>\n",
       "\t<tr><th scope=row>1</th><td>x2_35_0_bc0013</td><td>0h</td><td>B1_1_0h</td><td>Excitatory</td><td>ExcL4  </td><td>ExcL4_3 </td></tr>\n",
       "\t<tr><th scope=row>2</th><td>x2_35_0_bc0014</td><td>0h</td><td>B1_1_0h</td><td>Excitatory</td><td>ExcL5_3</td><td>NA      </td></tr>\n",
       "\t<tr><th scope=row>3</th><td>x2_35_0_bc0016</td><td>0h</td><td>B1_1_0h</td><td>Excitatory</td><td>ExcL5_2</td><td>NA      </td></tr>\n",
       "\t<tr><th scope=row>4</th><td>x2_35_0_bc0017</td><td>0h</td><td>B1_1_0h</td><td>Excitatory</td><td>ExcL6  </td><td>NA      </td></tr>\n",
       "\t<tr><th scope=row>5</th><td>x2_35_0_bc0018</td><td>0h</td><td>B1_1_0h</td><td>Excitatory</td><td>ExcL5_3</td><td>NA      </td></tr>\n",
       "\t<tr><th scope=row>6</th><td>x2_35_0_bc0019</td><td>0h</td><td>B1_1_0h</td><td>Excitatory</td><td>ExcL23 </td><td>ExcL23_1</td></tr>\n",
       "</tbody>\n",
       "</table>\n"
      ],
      "text/latex": [
       "A data.frame: 6 x 6\n",
       "\\begin{tabular}{r|llllll}\n",
       "  & X & stim & sample & maintype & celltype & subtype\\\\\n",
       "  & <chr> & <chr> & <chr> & <chr> & <chr> & <chr>\\\\\n",
       "\\hline\n",
       "\t1 & x2\\_35\\_0\\_bc0013 & 0h & B1\\_1\\_0h & Excitatory & ExcL4   & ExcL4\\_3 \\\\\n",
       "\t2 & x2\\_35\\_0\\_bc0014 & 0h & B1\\_1\\_0h & Excitatory & ExcL5\\_3 & NA      \\\\\n",
       "\t3 & x2\\_35\\_0\\_bc0016 & 0h & B1\\_1\\_0h & Excitatory & ExcL5\\_2 & NA      \\\\\n",
       "\t4 & x2\\_35\\_0\\_bc0017 & 0h & B1\\_1\\_0h & Excitatory & ExcL6   & NA      \\\\\n",
       "\t5 & x2\\_35\\_0\\_bc0018 & 0h & B1\\_1\\_0h & Excitatory & ExcL5\\_3 & NA      \\\\\n",
       "\t6 & x2\\_35\\_0\\_bc0019 & 0h & B1\\_1\\_0h & Excitatory & ExcL23  & ExcL23\\_1\\\\\n",
       "\\end{tabular}\n"
      ],
      "text/markdown": [
       "\n",
       "A data.frame: 6 x 6\n",
       "\n",
       "| <!--/--> | X &lt;chr&gt; | stim &lt;chr&gt; | sample &lt;chr&gt; | maintype &lt;chr&gt; | celltype &lt;chr&gt; | subtype &lt;chr&gt; |\n",
       "|---|---|---|---|---|---|---|\n",
       "| 1 | x2_35_0_bc0013 | 0h | B1_1_0h | Excitatory | ExcL4   | ExcL4_3  |\n",
       "| 2 | x2_35_0_bc0014 | 0h | B1_1_0h | Excitatory | ExcL5_3 | NA       |\n",
       "| 3 | x2_35_0_bc0016 | 0h | B1_1_0h | Excitatory | ExcL5_2 | NA       |\n",
       "| 4 | x2_35_0_bc0017 | 0h | B1_1_0h | Excitatory | ExcL6   | NA       |\n",
       "| 5 | x2_35_0_bc0018 | 0h | B1_1_0h | Excitatory | ExcL5_3 | NA       |\n",
       "| 6 | x2_35_0_bc0019 | 0h | B1_1_0h | Excitatory | ExcL23  | ExcL23_1 |\n",
       "\n"
      ],
      "text/plain": [
       "  X              stim sample  maintype   celltype subtype \n",
       "1 x2_35_0_bc0013 0h   B1_1_0h Excitatory ExcL4    ExcL4_3 \n",
       "2 x2_35_0_bc0014 0h   B1_1_0h Excitatory ExcL5_3  NA      \n",
       "3 x2_35_0_bc0016 0h   B1_1_0h Excitatory ExcL5_2  NA      \n",
       "4 x2_35_0_bc0017 0h   B1_1_0h Excitatory ExcL6    NA      \n",
       "5 x2_35_0_bc0018 0h   B1_1_0h Excitatory ExcL5_3  NA      \n",
       "6 x2_35_0_bc0019 0h   B1_1_0h Excitatory ExcL23   ExcL23_1"
      ]
     },
     "metadata": {},
     "output_type": "display_data"
    }
   ],
   "source": [
    "hrvatin2018.meta <- read.csv(paste(hrvatin.path,'GSE102827_cell_type_assignments.csv.gz', sep = ''))\n",
    "head(hrvatin2018.meta)"
   ]
  },
  {
   "cell_type": "code",
   "execution_count": 9,
   "id": "9457adc9-83f7-424a-8034-94da99c7cd05",
   "metadata": {},
   "outputs": [
    {
     "data": {
      "text/plain": [
       "\n",
       "     Astro     Endo_1     Endo_2     ExcL23      ExcL4    ExcL5_1    ExcL5_2 \n",
       "      7039       3327        123       2963       3198       1976        410 \n",
       "   ExcL5_3      ExcL6        Hip    Int_Cck    Int_Npy     Int_Pv  Int_Sst_1 \n",
       "      1407       3276        137         91        137        227        174 \n",
       " Int_Sst_2    Int_Vip Macrophage    Micro_1    Micro_2      OPC_1      OPC_2 \n",
       "       181        126        537        549       9609       1725        101 \n",
       "    Olig_1     Olig_2     Olig_3     Olig_4     Olig_5     Olig_6     Olig_7 \n",
       "       610        964        846       4047        747        786        630 \n",
       "  Pericyte        RSP       SM_1       SM_2        Sub \n",
       "       782        420        323        298        500 "
      ]
     },
     "metadata": {},
     "output_type": "display_data"
    }
   ],
   "source": [
    "table(hrvatin2018.meta$celltype)"
   ]
  },
  {
   "cell_type": "code",
   "execution_count": null,
   "id": "4975b50b-f4ec-47df-9892-7e9ef24f417b",
   "metadata": {},
   "outputs": [],
   "source": [
    "# cell types in figure 1f Int_Cck, Int_Npy, Int_Pv, Int_Sst_1, Int_Sst_2, Int_Vip"
   ]
  },
  {
   "cell_type": "code",
   "execution_count": 17,
   "id": "9bb31b3e-bc05-4d05-a60a-c8c7a8df1591",
   "metadata": {},
   "outputs": [],
   "source": [
    "hrvatin2018.counts<-read.csv(paste(hrvatin.path, 'GSE102827_merged_all_raw.csv.gz',sep=''))"
   ]
  },
  {
   "cell_type": "code",
   "execution_count": 18,
   "id": "f536f0fa-cc3f-4dcb-a274-acfcb6b5cf7b",
   "metadata": {},
   "outputs": [
    {
     "data": {
      "text/html": [
       "<style>\n",
       ".list-inline {list-style: none; margin:0; padding: 0}\n",
       ".list-inline>li {display: inline-block}\n",
       ".list-inline>li:not(:last-child)::after {content: \"\\00b7\"; padding: 0 .5ex}\n",
       "</style>\n",
       "<ol class=list-inline><li>25187</li><li>65540</li></ol>\n"
      ],
      "text/latex": [
       "\\begin{enumerate*}\n",
       "\\item 25187\n",
       "\\item 65540\n",
       "\\end{enumerate*}\n"
      ],
      "text/markdown": [
       "1. 25187\n",
       "2. 65540\n",
       "\n",
       "\n"
      ],
      "text/plain": [
       "[1] 25187 65540"
      ]
     },
     "metadata": {},
     "output_type": "display_data"
    }
   ],
   "source": [
    "dim(hrvatin2018.counts)"
   ]
  },
  {
   "cell_type": "code",
   "execution_count": 22,
   "id": "470c3f15-f1b6-4e03-ad36-d922de5fd642",
   "metadata": {},
   "outputs": [],
   "source": [
    "rownames(hrvatin2018.counts) <- hrvatin2018.counts$X"
   ]
  },
  {
   "cell_type": "code",
   "execution_count": 23,
   "id": "d9211c70-827a-4b4b-be4d-c9114869a69e",
   "metadata": {},
   "outputs": [],
   "source": [
    "# sum(is.na(hrvatin2018.counts)) #this will show no na's\n",
    "hrvatin2018.counts <- hrvatin2018.counts[,2:dim(hrvatin2018.counts)[2]]"
   ]
  },
  {
   "cell_type": "code",
   "execution_count": 25,
   "id": "e9669670-d0c7-4867-bdd6-fc37fb80b505",
   "metadata": {},
   "outputs": [
    {
     "data": {
      "text/html": [
       "<table class=\"dataframe\">\n",
       "<caption>A data.frame: 6 x 65539</caption>\n",
       "<thead>\n",
       "\t<tr><th></th><th scope=col>x2_35_0_bc0013</th><th scope=col>x2_35_0_bc0014</th><th scope=col>x2_35_0_bc0016</th><th scope=col>x2_35_0_bc0017</th><th scope=col>x2_35_0_bc0018</th><th scope=col>x2_35_0_bc0019</th><th scope=col>x2_35_0_bc0020</th><th scope=col>x2_35_0_bc0021</th><th scope=col>x2_35_0_bc0022</th><th scope=col>x2_35_0_bc0023</th><th scope=col>...</th><th scope=col>x2_98_4_2_2_bc2741</th><th scope=col>x2_98_4_2_2_bc2751</th><th scope=col>x2_98_4_2_2_bc2753</th><th scope=col>x2_98_4_2_2_bc2769</th><th scope=col>x2_98_4_2_2_bc2779</th><th scope=col>x2_98_4_2_2_bc2789</th><th scope=col>x2_98_4_2_2_bc2805</th><th scope=col>x2_98_4_2_2_bc2823</th><th scope=col>x2_98_4_2_2_bc2857</th><th scope=col>x2_98_4_2_2_bc2997</th></tr>\n",
       "\t<tr><th></th><th scope=col>&lt;int&gt;</th><th scope=col>&lt;int&gt;</th><th scope=col>&lt;int&gt;</th><th scope=col>&lt;int&gt;</th><th scope=col>&lt;int&gt;</th><th scope=col>&lt;int&gt;</th><th scope=col>&lt;int&gt;</th><th scope=col>&lt;int&gt;</th><th scope=col>&lt;int&gt;</th><th scope=col>&lt;int&gt;</th><th scope=col>...</th><th scope=col>&lt;int&gt;</th><th scope=col>&lt;int&gt;</th><th scope=col>&lt;int&gt;</th><th scope=col>&lt;int&gt;</th><th scope=col>&lt;int&gt;</th><th scope=col>&lt;int&gt;</th><th scope=col>&lt;int&gt;</th><th scope=col>&lt;int&gt;</th><th scope=col>&lt;int&gt;</th><th scope=col>&lt;int&gt;</th></tr>\n",
       "</thead>\n",
       "<tbody>\n",
       "\t<tr><th scope=row>0610007P14Rik</th><td>0</td><td>0</td><td>1</td><td>0</td><td>0</td><td>4</td><td>1</td><td>0</td><td>0</td><td>0</td><td>...</td><td>0</td><td>0</td><td>0</td><td>0</td><td>0</td><td>0</td><td>0</td><td>0</td><td>0</td><td>0</td></tr>\n",
       "\t<tr><th scope=row>0610009B22Rik</th><td>1</td><td>1</td><td>0</td><td>1</td><td>0</td><td>1</td><td>0</td><td>0</td><td>0</td><td>1</td><td>...</td><td>0</td><td>0</td><td>0</td><td>0</td><td>0</td><td>0</td><td>0</td><td>0</td><td>0</td><td>0</td></tr>\n",
       "\t<tr><th scope=row>0610009E02Rik</th><td>0</td><td>0</td><td>0</td><td>0</td><td>0</td><td>0</td><td>0</td><td>0</td><td>0</td><td>0</td><td>...</td><td>0</td><td>0</td><td>0</td><td>0</td><td>0</td><td>0</td><td>0</td><td>0</td><td>0</td><td>0</td></tr>\n",
       "\t<tr><th scope=row>0610009L18Rik</th><td>0</td><td>0</td><td>0</td><td>0</td><td>0</td><td>0</td><td>0</td><td>0</td><td>0</td><td>0</td><td>...</td><td>0</td><td>0</td><td>0</td><td>0</td><td>0</td><td>0</td><td>0</td><td>0</td><td>0</td><td>0</td></tr>\n",
       "\t<tr><th scope=row>0610009O20Rik</th><td>0</td><td>1</td><td>0</td><td>0</td><td>0</td><td>0</td><td>0</td><td>0</td><td>0</td><td>0</td><td>...</td><td>0</td><td>0</td><td>0</td><td>0</td><td>0</td><td>0</td><td>0</td><td>0</td><td>0</td><td>0</td></tr>\n",
       "\t<tr><th scope=row>0610010F05Rik</th><td>0</td><td>3</td><td>0</td><td>2</td><td>1</td><td>1</td><td>0</td><td>1</td><td>3</td><td>1</td><td>...</td><td>0</td><td>0</td><td>0</td><td>0</td><td>0</td><td>0</td><td>0</td><td>0</td><td>0</td><td>0</td></tr>\n",
       "</tbody>\n",
       "</table>\n"
      ],
      "text/latex": [
       "A data.frame: 6 x 65539\n",
       "\\begin{tabular}{r|lllllllllllllllllllll}\n",
       "  & x2\\_35\\_0\\_bc0013 & x2\\_35\\_0\\_bc0014 & x2\\_35\\_0\\_bc0016 & x2\\_35\\_0\\_bc0017 & x2\\_35\\_0\\_bc0018 & x2\\_35\\_0\\_bc0019 & x2\\_35\\_0\\_bc0020 & x2\\_35\\_0\\_bc0021 & x2\\_35\\_0\\_bc0022 & x2\\_35\\_0\\_bc0023 & ... & x2\\_98\\_4\\_2\\_2\\_bc2741 & x2\\_98\\_4\\_2\\_2\\_bc2751 & x2\\_98\\_4\\_2\\_2\\_bc2753 & x2\\_98\\_4\\_2\\_2\\_bc2769 & x2\\_98\\_4\\_2\\_2\\_bc2779 & x2\\_98\\_4\\_2\\_2\\_bc2789 & x2\\_98\\_4\\_2\\_2\\_bc2805 & x2\\_98\\_4\\_2\\_2\\_bc2823 & x2\\_98\\_4\\_2\\_2\\_bc2857 & x2\\_98\\_4\\_2\\_2\\_bc2997\\\\\n",
       "  & <int> & <int> & <int> & <int> & <int> & <int> & <int> & <int> & <int> & <int> & ... & <int> & <int> & <int> & <int> & <int> & <int> & <int> & <int> & <int> & <int>\\\\\n",
       "\\hline\n",
       "\t0610007P14Rik & 0 & 0 & 1 & 0 & 0 & 4 & 1 & 0 & 0 & 0 & ... & 0 & 0 & 0 & 0 & 0 & 0 & 0 & 0 & 0 & 0\\\\\n",
       "\t0610009B22Rik & 1 & 1 & 0 & 1 & 0 & 1 & 0 & 0 & 0 & 1 & ... & 0 & 0 & 0 & 0 & 0 & 0 & 0 & 0 & 0 & 0\\\\\n",
       "\t0610009E02Rik & 0 & 0 & 0 & 0 & 0 & 0 & 0 & 0 & 0 & 0 & ... & 0 & 0 & 0 & 0 & 0 & 0 & 0 & 0 & 0 & 0\\\\\n",
       "\t0610009L18Rik & 0 & 0 & 0 & 0 & 0 & 0 & 0 & 0 & 0 & 0 & ... & 0 & 0 & 0 & 0 & 0 & 0 & 0 & 0 & 0 & 0\\\\\n",
       "\t0610009O20Rik & 0 & 1 & 0 & 0 & 0 & 0 & 0 & 0 & 0 & 0 & ... & 0 & 0 & 0 & 0 & 0 & 0 & 0 & 0 & 0 & 0\\\\\n",
       "\t0610010F05Rik & 0 & 3 & 0 & 2 & 1 & 1 & 0 & 1 & 3 & 1 & ... & 0 & 0 & 0 & 0 & 0 & 0 & 0 & 0 & 0 & 0\\\\\n",
       "\\end{tabular}\n"
      ],
      "text/markdown": [
       "\n",
       "A data.frame: 6 x 65539\n",
       "\n",
       "| <!--/--> | x2_35_0_bc0013 &lt;int&gt; | x2_35_0_bc0014 &lt;int&gt; | x2_35_0_bc0016 &lt;int&gt; | x2_35_0_bc0017 &lt;int&gt; | x2_35_0_bc0018 &lt;int&gt; | x2_35_0_bc0019 &lt;int&gt; | x2_35_0_bc0020 &lt;int&gt; | x2_35_0_bc0021 &lt;int&gt; | x2_35_0_bc0022 &lt;int&gt; | x2_35_0_bc0023 &lt;int&gt; | ... ... | x2_98_4_2_2_bc2741 &lt;int&gt; | x2_98_4_2_2_bc2751 &lt;int&gt; | x2_98_4_2_2_bc2753 &lt;int&gt; | x2_98_4_2_2_bc2769 &lt;int&gt; | x2_98_4_2_2_bc2779 &lt;int&gt; | x2_98_4_2_2_bc2789 &lt;int&gt; | x2_98_4_2_2_bc2805 &lt;int&gt; | x2_98_4_2_2_bc2823 &lt;int&gt; | x2_98_4_2_2_bc2857 &lt;int&gt; | x2_98_4_2_2_bc2997 &lt;int&gt; |\n",
       "|---|---|---|---|---|---|---|---|---|---|---|---|---|---|---|---|---|---|---|---|---|---|\n",
       "| 0610007P14Rik | 0 | 0 | 1 | 0 | 0 | 4 | 1 | 0 | 0 | 0 | ... | 0 | 0 | 0 | 0 | 0 | 0 | 0 | 0 | 0 | 0 |\n",
       "| 0610009B22Rik | 1 | 1 | 0 | 1 | 0 | 1 | 0 | 0 | 0 | 1 | ... | 0 | 0 | 0 | 0 | 0 | 0 | 0 | 0 | 0 | 0 |\n",
       "| 0610009E02Rik | 0 | 0 | 0 | 0 | 0 | 0 | 0 | 0 | 0 | 0 | ... | 0 | 0 | 0 | 0 | 0 | 0 | 0 | 0 | 0 | 0 |\n",
       "| 0610009L18Rik | 0 | 0 | 0 | 0 | 0 | 0 | 0 | 0 | 0 | 0 | ... | 0 | 0 | 0 | 0 | 0 | 0 | 0 | 0 | 0 | 0 |\n",
       "| 0610009O20Rik | 0 | 1 | 0 | 0 | 0 | 0 | 0 | 0 | 0 | 0 | ... | 0 | 0 | 0 | 0 | 0 | 0 | 0 | 0 | 0 | 0 |\n",
       "| 0610010F05Rik | 0 | 3 | 0 | 2 | 1 | 1 | 0 | 1 | 3 | 1 | ... | 0 | 0 | 0 | 0 | 0 | 0 | 0 | 0 | 0 | 0 |\n",
       "\n"
      ],
      "text/plain": [
       "              x2_35_0_bc0013 x2_35_0_bc0014 x2_35_0_bc0016 x2_35_0_bc0017\n",
       "0610007P14Rik 0              0              1              0             \n",
       "0610009B22Rik 1              1              0              1             \n",
       "0610009E02Rik 0              0              0              0             \n",
       "0610009L18Rik 0              0              0              0             \n",
       "0610009O20Rik 0              1              0              0             \n",
       "0610010F05Rik 0              3              0              2             \n",
       "              x2_35_0_bc0018 x2_35_0_bc0019 x2_35_0_bc0020 x2_35_0_bc0021\n",
       "0610007P14Rik 0              4              1              0             \n",
       "0610009B22Rik 0              1              0              0             \n",
       "0610009E02Rik 0              0              0              0             \n",
       "0610009L18Rik 0              0              0              0             \n",
       "0610009O20Rik 0              0              0              0             \n",
       "0610010F05Rik 1              1              0              1             \n",
       "              x2_35_0_bc0022 x2_35_0_bc0023 ... x2_98_4_2_2_bc2741\n",
       "0610007P14Rik 0              0              ... 0                 \n",
       "0610009B22Rik 0              1              ... 0                 \n",
       "0610009E02Rik 0              0              ... 0                 \n",
       "0610009L18Rik 0              0              ... 0                 \n",
       "0610009O20Rik 0              0              ... 0                 \n",
       "0610010F05Rik 3              1              ... 0                 \n",
       "              x2_98_4_2_2_bc2751 x2_98_4_2_2_bc2753 x2_98_4_2_2_bc2769\n",
       "0610007P14Rik 0                  0                  0                 \n",
       "0610009B22Rik 0                  0                  0                 \n",
       "0610009E02Rik 0                  0                  0                 \n",
       "0610009L18Rik 0                  0                  0                 \n",
       "0610009O20Rik 0                  0                  0                 \n",
       "0610010F05Rik 0                  0                  0                 \n",
       "              x2_98_4_2_2_bc2779 x2_98_4_2_2_bc2789 x2_98_4_2_2_bc2805\n",
       "0610007P14Rik 0                  0                  0                 \n",
       "0610009B22Rik 0                  0                  0                 \n",
       "0610009E02Rik 0                  0                  0                 \n",
       "0610009L18Rik 0                  0                  0                 \n",
       "0610009O20Rik 0                  0                  0                 \n",
       "0610010F05Rik 0                  0                  0                 \n",
       "              x2_98_4_2_2_bc2823 x2_98_4_2_2_bc2857 x2_98_4_2_2_bc2997\n",
       "0610007P14Rik 0                  0                  0                 \n",
       "0610009B22Rik 0                  0                  0                 \n",
       "0610009E02Rik 0                  0                  0                 \n",
       "0610009L18Rik 0                  0                  0                 \n",
       "0610009O20Rik 0                  0                  0                 \n",
       "0610010F05Rik 0                  0                  0                 "
      ]
     },
     "metadata": {},
     "output_type": "display_data"
    }
   ],
   "source": [
    "head(hrvatin2018.counts)"
   ]
  },
  {
   "cell_type": "code",
   "execution_count": 27,
   "id": "465533c3-8430-4ef8-907b-6605fc45b277",
   "metadata": {},
   "outputs": [
    {
     "name": "stdout",
     "output_type": "stream",
     "text": [
      " [1] 14375 13739 13497 14740 13830 13385 11842 11803 11716 13750\n",
      "[1] 2027\n"
     ]
    }
   ],
   "source": [
    "hrvatin2018.meta$umi <- colSums(hrvatin2018.counts)\n",
    "print(hrvatin2018.meta$umi[1:10])\n",
    "hrvatin2018.umi.medianforscalefactor <- median(hrvatin2018.meta$umi)\n",
    "print(hrvatin2018.umi.medianforscalefactor)"
   ]
  },
  {
   "cell_type": "code",
   "execution_count": 40,
   "id": "2e11bba6-aa7d-488d-9153-23f260b1196a",
   "metadata": {},
   "outputs": [
    {
     "data": {
      "text/html": [
       "936"
      ],
      "text/latex": [
       "936"
      ],
      "text/markdown": [
       "936"
      ],
      "text/plain": [
       "[1] 936"
      ]
     },
     "metadata": {},
     "output_type": "display_data"
    }
   ],
   "source": [
    "hrvatin.inhibitory.idx <- grep('Int', hrvatin2018.meta$celltype)\n",
    "length(hrvatin.inhibitory.idx)\n"
   ]
  },
  {
   "cell_type": "code",
   "execution_count": 65,
   "id": "e8446f85-05da-467e-a7ad-5b0f4a125055",
   "metadata": {},
   "outputs": [
    {
     "name": "stdout",
     "output_type": "stream",
     "text": [
      "[1] 72\n"
     ]
    },
    {
     "data": {
      "text/html": [
       "<style>\n",
       ".list-inline {list-style: none; margin:0; padding: 0}\n",
       ".list-inline>li {display: inline-block}\n",
       ".list-inline>li:not(:last-child)::after {content: \"\\00b7\"; padding: 0 .5ex}\n",
       "</style>\n",
       "<ol class=list-inline><li>'Aldoc'</li><li>'Bcl11b'</li><li>'Cadps2'</li><li>'Calb1'</li><li>'Calb2'</li><li>'Cck'</li><li>'Cdh13'</li><li>'Chodl'</li><li>'Chrm2'</li><li>'Cnr1'</li><li>'Col25a1'</li><li>'Cort'</li><li>'Cox6a2'</li><li>'Cplx2'</li><li>'Cpne5'</li><li>'Crh'</li><li>'Crhbp'</li><li>'Cryab'</li><li>'Cxcl14'</li><li>'Enpp2'</li><li>'Gabrd'</li><li>'Gad1'</li><li>'Gda'</li><li>'Grin3a'</li><li>'Hapln1'</li><li>'Htr3a'</li><li>'Id2'</li><li>'Kcnk2'</li><li>'Kctd12'</li><li>'Kit'</li><li>'Lamp5'</li><li>'Lhx6'</li><li>'Ndnf'</li><li>'Neurod6'</li><li>'Nos1'</li><li>'Nov'</li><li>'Npy'</li><li>'Npy2r'</li><li>'Nr4a2'</li><li>'Nrn1'</li><li>'Ntng1'</li><li>'Pcp4'</li><li>'Pde1a'</li><li>'Penk'</li><li>'Plcxd2'</li><li>'Plp1'</li><li>'Pnoc'</li><li>'Prkca'</li><li>'Pthlh'</li><li>'Pvalb'</li><li>'Rab3c'</li><li>'Rasgrf2'</li><li>'Reln'</li><li>'Rgs10'</li><li>'Rgs12'</li><li>'Rgs4'</li><li>'Satb1'</li><li>'Sema3c'</li><li>'Serpini1'</li><li>'Slc17a8'</li><li>'Slc6a1'</li><li>'Snca'</li><li>'Sncg'</li><li>'Sst'</li><li>'Synpr'</li><li>'Tac1'</li><li>'Tac2'</li><li>'Th'</li><li>'Thsd7a'</li><li>'Trp53i11'</li><li>'Vip'</li><li>'Wfs1'</li></ol>\n"
      ],
      "text/latex": [
       "\\begin{enumerate*}\n",
       "\\item 'Aldoc'\n",
       "\\item 'Bcl11b'\n",
       "\\item 'Cadps2'\n",
       "\\item 'Calb1'\n",
       "\\item 'Calb2'\n",
       "\\item 'Cck'\n",
       "\\item 'Cdh13'\n",
       "\\item 'Chodl'\n",
       "\\item 'Chrm2'\n",
       "\\item 'Cnr1'\n",
       "\\item 'Col25a1'\n",
       "\\item 'Cort'\n",
       "\\item 'Cox6a2'\n",
       "\\item 'Cplx2'\n",
       "\\item 'Cpne5'\n",
       "\\item 'Crh'\n",
       "\\item 'Crhbp'\n",
       "\\item 'Cryab'\n",
       "\\item 'Cxcl14'\n",
       "\\item 'Enpp2'\n",
       "\\item 'Gabrd'\n",
       "\\item 'Gad1'\n",
       "\\item 'Gda'\n",
       "\\item 'Grin3a'\n",
       "\\item 'Hapln1'\n",
       "\\item 'Htr3a'\n",
       "\\item 'Id2'\n",
       "\\item 'Kcnk2'\n",
       "\\item 'Kctd12'\n",
       "\\item 'Kit'\n",
       "\\item 'Lamp5'\n",
       "\\item 'Lhx6'\n",
       "\\item 'Ndnf'\n",
       "\\item 'Neurod6'\n",
       "\\item 'Nos1'\n",
       "\\item 'Nov'\n",
       "\\item 'Npy'\n",
       "\\item 'Npy2r'\n",
       "\\item 'Nr4a2'\n",
       "\\item 'Nrn1'\n",
       "\\item 'Ntng1'\n",
       "\\item 'Pcp4'\n",
       "\\item 'Pde1a'\n",
       "\\item 'Penk'\n",
       "\\item 'Plcxd2'\n",
       "\\item 'Plp1'\n",
       "\\item 'Pnoc'\n",
       "\\item 'Prkca'\n",
       "\\item 'Pthlh'\n",
       "\\item 'Pvalb'\n",
       "\\item 'Rab3c'\n",
       "\\item 'Rasgrf2'\n",
       "\\item 'Reln'\n",
       "\\item 'Rgs10'\n",
       "\\item 'Rgs12'\n",
       "\\item 'Rgs4'\n",
       "\\item 'Satb1'\n",
       "\\item 'Sema3c'\n",
       "\\item 'Serpini1'\n",
       "\\item 'Slc17a8'\n",
       "\\item 'Slc6a1'\n",
       "\\item 'Snca'\n",
       "\\item 'Sncg'\n",
       "\\item 'Sst'\n",
       "\\item 'Synpr'\n",
       "\\item 'Tac1'\n",
       "\\item 'Tac2'\n",
       "\\item 'Th'\n",
       "\\item 'Thsd7a'\n",
       "\\item 'Trp53i11'\n",
       "\\item 'Vip'\n",
       "\\item 'Wfs1'\n",
       "\\end{enumerate*}\n"
      ],
      "text/markdown": [
       "1. 'Aldoc'\n",
       "2. 'Bcl11b'\n",
       "3. 'Cadps2'\n",
       "4. 'Calb1'\n",
       "5. 'Calb2'\n",
       "6. 'Cck'\n",
       "7. 'Cdh13'\n",
       "8. 'Chodl'\n",
       "9. 'Chrm2'\n",
       "10. 'Cnr1'\n",
       "11. 'Col25a1'\n",
       "12. 'Cort'\n",
       "13. 'Cox6a2'\n",
       "14. 'Cplx2'\n",
       "15. 'Cpne5'\n",
       "16. 'Crh'\n",
       "17. 'Crhbp'\n",
       "18. 'Cryab'\n",
       "19. 'Cxcl14'\n",
       "20. 'Enpp2'\n",
       "21. 'Gabrd'\n",
       "22. 'Gad1'\n",
       "23. 'Gda'\n",
       "24. 'Grin3a'\n",
       "25. 'Hapln1'\n",
       "26. 'Htr3a'\n",
       "27. 'Id2'\n",
       "28. 'Kcnk2'\n",
       "29. 'Kctd12'\n",
       "30. 'Kit'\n",
       "31. 'Lamp5'\n",
       "32. 'Lhx6'\n",
       "33. 'Ndnf'\n",
       "34. 'Neurod6'\n",
       "35. 'Nos1'\n",
       "36. 'Nov'\n",
       "37. 'Npy'\n",
       "38. 'Npy2r'\n",
       "39. 'Nr4a2'\n",
       "40. 'Nrn1'\n",
       "41. 'Ntng1'\n",
       "42. 'Pcp4'\n",
       "43. 'Pde1a'\n",
       "44. 'Penk'\n",
       "45. 'Plcxd2'\n",
       "46. 'Plp1'\n",
       "47. 'Pnoc'\n",
       "48. 'Prkca'\n",
       "49. 'Pthlh'\n",
       "50. 'Pvalb'\n",
       "51. 'Rab3c'\n",
       "52. 'Rasgrf2'\n",
       "53. 'Reln'\n",
       "54. 'Rgs10'\n",
       "55. 'Rgs12'\n",
       "56. 'Rgs4'\n",
       "57. 'Satb1'\n",
       "58. 'Sema3c'\n",
       "59. 'Serpini1'\n",
       "60. 'Slc17a8'\n",
       "61. 'Slc6a1'\n",
       "62. 'Snca'\n",
       "63. 'Sncg'\n",
       "64. 'Sst'\n",
       "65. 'Synpr'\n",
       "66. 'Tac1'\n",
       "67. 'Tac2'\n",
       "68. 'Th'\n",
       "69. 'Thsd7a'\n",
       "70. 'Trp53i11'\n",
       "71. 'Vip'\n",
       "72. 'Wfs1'\n",
       "\n",
       "\n"
      ],
      "text/plain": [
       " [1] \"Aldoc\"    \"Bcl11b\"   \"Cadps2\"   \"Calb1\"    \"Calb2\"    \"Cck\"     \n",
       " [7] \"Cdh13\"    \"Chodl\"    \"Chrm2\"    \"Cnr1\"     \"Col25a1\"  \"Cort\"    \n",
       "[13] \"Cox6a2\"   \"Cplx2\"    \"Cpne5\"    \"Crh\"      \"Crhbp\"    \"Cryab\"   \n",
       "[19] \"Cxcl14\"   \"Enpp2\"    \"Gabrd\"    \"Gad1\"     \"Gda\"      \"Grin3a\"  \n",
       "[25] \"Hapln1\"   \"Htr3a\"    \"Id2\"      \"Kcnk2\"    \"Kctd12\"   \"Kit\"     \n",
       "[31] \"Lamp5\"    \"Lhx6\"     \"Ndnf\"     \"Neurod6\"  \"Nos1\"     \"Nov\"     \n",
       "[37] \"Npy\"      \"Npy2r\"    \"Nr4a2\"    \"Nrn1\"     \"Ntng1\"    \"Pcp4\"    \n",
       "[43] \"Pde1a\"    \"Penk\"     \"Plcxd2\"   \"Plp1\"     \"Pnoc\"     \"Prkca\"   \n",
       "[49] \"Pthlh\"    \"Pvalb\"    \"Rab3c\"    \"Rasgrf2\"  \"Reln\"     \"Rgs10\"   \n",
       "[55] \"Rgs12\"    \"Rgs4\"     \"Satb1\"    \"Sema3c\"   \"Serpini1\" \"Slc17a8\" \n",
       "[61] \"Slc6a1\"   \"Snca\"     \"Sncg\"     \"Sst\"      \"Synpr\"    \"Tac1\"    \n",
       "[67] \"Tac2\"     \"Th\"       \"Thsd7a\"   \"Trp53i11\" \"Vip\"      \"Wfs1\"    "
      ]
     },
     "metadata": {},
     "output_type": "display_data"
    }
   ],
   "source": [
    "bugeon2022.genes <- as.list(read.table(paste(bugeon.path,'genes.names.txt',sep ='')))\n",
    "bugeon2022.genes <- bugeon2022.genes$V1\n",
    "print(length(bugeon2022.genes))\n",
    "bugeon2022.genes\n",
    "# spearmen rank correlation between Bugeon genes and PC1 ranking of them from Hrvatin or Taisic"
   ]
  },
  {
   "cell_type": "code",
   "execution_count": 61,
   "id": "43fcde35-fa17-4091-9d44-d311bf9ec1ea",
   "metadata": {},
   "outputs": [],
   "source": [
    "bugeon2022.genes"
   ]
  },
  {
   "cell_type": "code",
   "execution_count": 64,
   "id": "ada27304-99b0-4793-9fbf-e6a37b8a0a6d",
   "metadata": {},
   "outputs": [
    {
     "data": {
      "text/html": [
       "<style>\n",
       ".list-inline {list-style: none; margin:0; padding: 0}\n",
       ".list-inline>li {display: inline-block}\n",
       ".list-inline>li:not(:last-child)::after {content: \"\\00b7\"; padding: 0 .5ex}\n",
       "</style>\n",
       "<ol class=list-inline><li>TRUE</li><li>TRUE</li><li>TRUE</li><li>TRUE</li><li>TRUE</li><li>TRUE</li><li>TRUE</li><li>TRUE</li><li>TRUE</li><li>TRUE</li><li>TRUE</li><li>TRUE</li><li>TRUE</li><li>TRUE</li><li>TRUE</li><li>TRUE</li><li>TRUE</li><li>TRUE</li><li>TRUE</li><li>TRUE</li><li>TRUE</li><li>TRUE</li><li>TRUE</li><li>TRUE</li><li>TRUE</li><li>FALSE</li><li>TRUE</li><li>TRUE</li><li>TRUE</li><li>TRUE</li><li>TRUE</li><li>TRUE</li><li>FALSE</li><li>TRUE</li><li>TRUE</li><li>TRUE</li><li>TRUE</li><li>TRUE</li><li>TRUE</li><li>TRUE</li><li>TRUE</li><li>TRUE</li><li>TRUE</li><li>TRUE</li><li>TRUE</li><li>TRUE</li><li>TRUE</li><li>TRUE</li><li>TRUE</li><li>TRUE</li><li>TRUE</li><li>TRUE</li><li>TRUE</li><li>TRUE</li><li>TRUE</li><li>TRUE</li><li>TRUE</li><li>TRUE</li><li>TRUE</li><li>TRUE</li><li>TRUE</li><li>TRUE</li><li>TRUE</li><li>TRUE</li><li>TRUE</li><li>TRUE</li><li>TRUE</li><li>TRUE</li><li>TRUE</li><li>TRUE</li><li>TRUE</li><li>TRUE</li></ol>\n"
      ],
      "text/latex": [
       "\\begin{enumerate*}\n",
       "\\item TRUE\n",
       "\\item TRUE\n",
       "\\item TRUE\n",
       "\\item TRUE\n",
       "\\item TRUE\n",
       "\\item TRUE\n",
       "\\item TRUE\n",
       "\\item TRUE\n",
       "\\item TRUE\n",
       "\\item TRUE\n",
       "\\item TRUE\n",
       "\\item TRUE\n",
       "\\item TRUE\n",
       "\\item TRUE\n",
       "\\item TRUE\n",
       "\\item TRUE\n",
       "\\item TRUE\n",
       "\\item TRUE\n",
       "\\item TRUE\n",
       "\\item TRUE\n",
       "\\item TRUE\n",
       "\\item TRUE\n",
       "\\item TRUE\n",
       "\\item TRUE\n",
       "\\item TRUE\n",
       "\\item FALSE\n",
       "\\item TRUE\n",
       "\\item TRUE\n",
       "\\item TRUE\n",
       "\\item TRUE\n",
       "\\item TRUE\n",
       "\\item TRUE\n",
       "\\item FALSE\n",
       "\\item TRUE\n",
       "\\item TRUE\n",
       "\\item TRUE\n",
       "\\item TRUE\n",
       "\\item TRUE\n",
       "\\item TRUE\n",
       "\\item TRUE\n",
       "\\item TRUE\n",
       "\\item TRUE\n",
       "\\item TRUE\n",
       "\\item TRUE\n",
       "\\item TRUE\n",
       "\\item TRUE\n",
       "\\item TRUE\n",
       "\\item TRUE\n",
       "\\item TRUE\n",
       "\\item TRUE\n",
       "\\item TRUE\n",
       "\\item TRUE\n",
       "\\item TRUE\n",
       "\\item TRUE\n",
       "\\item TRUE\n",
       "\\item TRUE\n",
       "\\item TRUE\n",
       "\\item TRUE\n",
       "\\item TRUE\n",
       "\\item TRUE\n",
       "\\item TRUE\n",
       "\\item TRUE\n",
       "\\item TRUE\n",
       "\\item TRUE\n",
       "\\item TRUE\n",
       "\\item TRUE\n",
       "\\item TRUE\n",
       "\\item TRUE\n",
       "\\item TRUE\n",
       "\\item TRUE\n",
       "\\item TRUE\n",
       "\\item TRUE\n",
       "\\end{enumerate*}\n"
      ],
      "text/markdown": [
       "1. TRUE\n",
       "2. TRUE\n",
       "3. TRUE\n",
       "4. TRUE\n",
       "5. TRUE\n",
       "6. TRUE\n",
       "7. TRUE\n",
       "8. TRUE\n",
       "9. TRUE\n",
       "10. TRUE\n",
       "11. TRUE\n",
       "12. TRUE\n",
       "13. TRUE\n",
       "14. TRUE\n",
       "15. TRUE\n",
       "16. TRUE\n",
       "17. TRUE\n",
       "18. TRUE\n",
       "19. TRUE\n",
       "20. TRUE\n",
       "21. TRUE\n",
       "22. TRUE\n",
       "23. TRUE\n",
       "24. TRUE\n",
       "25. TRUE\n",
       "26. FALSE\n",
       "27. TRUE\n",
       "28. TRUE\n",
       "29. TRUE\n",
       "30. TRUE\n",
       "31. TRUE\n",
       "32. TRUE\n",
       "33. FALSE\n",
       "34. TRUE\n",
       "35. TRUE\n",
       "36. TRUE\n",
       "37. TRUE\n",
       "38. TRUE\n",
       "39. TRUE\n",
       "40. TRUE\n",
       "41. TRUE\n",
       "42. TRUE\n",
       "43. TRUE\n",
       "44. TRUE\n",
       "45. TRUE\n",
       "46. TRUE\n",
       "47. TRUE\n",
       "48. TRUE\n",
       "49. TRUE\n",
       "50. TRUE\n",
       "51. TRUE\n",
       "52. TRUE\n",
       "53. TRUE\n",
       "54. TRUE\n",
       "55. TRUE\n",
       "56. TRUE\n",
       "57. TRUE\n",
       "58. TRUE\n",
       "59. TRUE\n",
       "60. TRUE\n",
       "61. TRUE\n",
       "62. TRUE\n",
       "63. TRUE\n",
       "64. TRUE\n",
       "65. TRUE\n",
       "66. TRUE\n",
       "67. TRUE\n",
       "68. TRUE\n",
       "69. TRUE\n",
       "70. TRUE\n",
       "71. TRUE\n",
       "72. TRUE\n",
       "\n",
       "\n"
      ],
      "text/plain": [
       " [1]  TRUE  TRUE  TRUE  TRUE  TRUE  TRUE  TRUE  TRUE  TRUE  TRUE  TRUE  TRUE\n",
       "[13]  TRUE  TRUE  TRUE  TRUE  TRUE  TRUE  TRUE  TRUE  TRUE  TRUE  TRUE  TRUE\n",
       "[25]  TRUE FALSE  TRUE  TRUE  TRUE  TRUE  TRUE  TRUE FALSE  TRUE  TRUE  TRUE\n",
       "[37]  TRUE  TRUE  TRUE  TRUE  TRUE  TRUE  TRUE  TRUE  TRUE  TRUE  TRUE  TRUE\n",
       "[49]  TRUE  TRUE  TRUE  TRUE  TRUE  TRUE  TRUE  TRUE  TRUE  TRUE  TRUE  TRUE\n",
       "[61]  TRUE  TRUE  TRUE  TRUE  TRUE  TRUE  TRUE  TRUE  TRUE  TRUE  TRUE  TRUE"
      ]
     },
     "metadata": {},
     "output_type": "display_data"
    }
   ],
   "source": [
    "tPC1.bugeon2022 %in% bugeon2022.genes$V1"
   ]
  },
  {
   "cell_type": "code",
   "execution_count": 78,
   "id": "621fcda4-a4ba-4a75-9551-c2484a14b2f8",
   "metadata": {},
   "outputs": [
    {
     "data": {
      "text/html": [
       "'Gnn3a'"
      ],
      "text/latex": [
       "'Gnn3a'"
      ],
      "text/markdown": [
       "'Gnn3a'"
      ],
      "text/plain": [
       "[1] \"Gnn3a\""
      ]
     },
     "metadata": {},
     "output_type": "display_data"
    }
   ],
   "source": [
    "tPC1.bugeon2022[!(tPC1.bugeon2022 %in% bugeon2022.genes)]"
   ]
  },
  {
   "cell_type": "code",
   "execution_count": 42,
   "id": "28604023-f577-48c4-8882-cd1344dd7677",
   "metadata": {},
   "outputs": [],
   "source": [
    "hrvatin.counts.inhibitory <- hrvatin2018.counts[,hrvatin.inhibitory.idx]\n",
    "hrvatin.counts.inhibitory.normed <- pavlab.normalize(hrvatin.counts.inhibitory, \n",
    "                                                     UMI=hrvatin2018.meta$umi[hrvatin.inhibitory.idx], \n",
    "                                                     scaleby = hrvatin2018.umi.medianforscalefactor)"
   ]
  },
  {
   "cell_type": "code",
   "execution_count": 58,
   "id": "48296cf9-b91e-4424-bb3f-be3055b2ba5e",
   "metadata": {},
   "outputs": [],
   "source": [
    "hrvatin.counts.inhibitory.normed <- as.data.frame(scale(t(hrvatin.counts.inhibitory.normed)))\n",
    "rownames(hrvatin.counts.inhibitory.normed) <- colnames(hrvatin.counts.inhibitory)\n",
    "colnames(hrvatin.counts.inhibitory.normed) <- rownames(hrvatin.counts.inhibitory)"
   ]
  },
  {
   "cell_type": "code",
   "execution_count": 58,
   "id": "9414dc61-8d15-4420-ab81-aff0604e91f8",
   "metadata": {},
   "outputs": [],
   "source": [
    "#GSE115746_accession_table.csv.gz  GSE115746_cells_exon_counts.csv.gz  GSE115746_complete_metadata_28706-cells.csv.gz  GSE115746_controls_exon_counts.csv.gz"
   ]
  },
  {
   "cell_type": "code",
   "execution_count": 59,
   "id": "3b367f9c-65b3-46be-8c4c-a8c4cbc2a6e3",
   "metadata": {},
   "outputs": [],
   "source": [
    "hrvatin.inhib.pca <- pca(hrvatin.counts.inhibitory.normed)"
   ]
  },
  {
   "cell_type": "code",
   "execution_count": 88,
   "id": "efeffd3f-3c01-449a-91ef-5b189ecea8cd",
   "metadata": {},
   "outputs": [
    {
     "data": {
      "image/png": "[encoded data removed]",
      "text/plain": [
       "plot without title"
      ]
     },
     "metadata": {
      "image/png": {
       "height": 420,
       "width": 420
      }
     },
     "output_type": "display_data"
    }
   ],
   "source": [
    "plot(hrvatin.inhib.pca$variance)"
   ]
  },
  {
   "cell_type": "code",
   "execution_count": 93,
   "id": "8cfcb593-4e02-4e9e-9a75-5a91c5ecb983",
   "metadata": {},
   "outputs": [
    {
     "name": "stdout",
     "output_type": "stream",
     "text": [
      "[1] 25187     2\n"
     ]
    },
    {
     "data": {
      "text/html": [
       "<table class=\"dataframe\">\n",
       "<caption>A data.frame: 6 x 2</caption>\n",
       "<thead>\n",
       "\t<tr><th></th><th scope=col>gene</th><th scope=col>tPC1</th></tr>\n",
       "\t<tr><th></th><th scope=col>&lt;chr&gt;</th><th scope=col>&lt;dbl&gt;</th></tr>\n",
       "</thead>\n",
       "<tbody>\n",
       "\t<tr><th scope=row>1</th><td>Ndrg4 </td><td>-29.44504</td></tr>\n",
       "\t<tr><th scope=row>2</th><td>Snap25</td><td>-29.10790</td></tr>\n",
       "\t<tr><th scope=row>3</th><td>Atp1b1</td><td>-28.55170</td></tr>\n",
       "\t<tr><th scope=row>4</th><td>Calm2 </td><td>-27.94055</td></tr>\n",
       "\t<tr><th scope=row>5</th><td>Ppia  </td><td>-27.68914</td></tr>\n",
       "\t<tr><th scope=row>6</th><td>Tspyl4</td><td>-27.61248</td></tr>\n",
       "</tbody>\n",
       "</table>\n"
      ],
      "text/latex": [
       "A data.frame: 6 x 2\n",
       "\\begin{tabular}{r|ll}\n",
       "  & gene & tPC1\\\\\n",
       "  & <chr> & <dbl>\\\\\n",
       "\\hline\n",
       "\t1 & Ndrg4  & -29.44504\\\\\n",
       "\t2 & Snap25 & -29.10790\\\\\n",
       "\t3 & Atp1b1 & -28.55170\\\\\n",
       "\t4 & Calm2  & -27.94055\\\\\n",
       "\t5 & Ppia   & -27.68914\\\\\n",
       "\t6 & Tspyl4 & -27.61248\\\\\n",
       "\\end{tabular}\n"
      ],
      "text/markdown": [
       "\n",
       "A data.frame: 6 x 2\n",
       "\n",
       "| <!--/--> | gene &lt;chr&gt; | tPC1 &lt;dbl&gt; |\n",
       "|---|---|---|\n",
       "| 1 | Ndrg4  | -29.44504 |\n",
       "| 2 | Snap25 | -29.10790 |\n",
       "| 3 | Atp1b1 | -28.55170 |\n",
       "| 4 | Calm2  | -27.94055 |\n",
       "| 5 | Ppia   | -27.68914 |\n",
       "| 6 | Tspyl4 | -27.61248 |\n",
       "\n"
      ],
      "text/plain": [
       "  gene   tPC1     \n",
       "1 Ndrg4  -29.44504\n",
       "2 Snap25 -29.10790\n",
       "3 Atp1b1 -28.55170\n",
       "4 Calm2  -27.94055\n",
       "5 Ppia   -27.68914\n",
       "6 Tspyl4 -27.61248"
      ]
     },
     "metadata": {},
     "output_type": "display_data"
    }
   ],
   "source": [
    "tPC1_fromrnaseq.hrvatingenes <- data.frame(gene = colnames(hrvatin.counts.inhibitory.normed), tPC1=hrvatin.inhib.pca$rotated$PC1) %>%\n",
    "    arrange(tPC1)\n",
    "print(dim(tPC1_fromrnaseq.hrvatingenes ))\n",
    "head(tPC1_fromrnaseq.hrvatingenes)"
   ]
  },
  {
   "cell_type": "code",
   "execution_count": 112,
   "id": "d0c58dfb-f8d1-48f6-ab49-7ce76b17bab4",
   "metadata": {},
   "outputs": [
    {
     "data": {
      "text/html": [
       "<table class=\"dataframe\">\n",
       "<caption>A data.frame: 72 x 2</caption>\n",
       "<thead>\n",
       "\t<tr><th></th><th scope=col>gene</th><th scope=col>tPC1</th></tr>\n",
       "\t<tr><th></th><th scope=col>&lt;chr&gt;</th><th scope=col>&lt;dbl&gt;</th></tr>\n",
       "</thead>\n",
       "<tbody>\n",
       "\t<tr><th scope=row>34</th><td>Slc6a1  </td><td>-24.61856</td></tr>\n",
       "\t<tr><th scope=row>48</th><td>Serpini1</td><td>-24.16568</td></tr>\n",
       "\t<tr><th scope=row>275</th><td>Satb1   </td><td>-20.71906</td></tr>\n",
       "\t<tr><th scope=row>543</th><td>Rasgrf2 </td><td>-19.30147</td></tr>\n",
       "\t<tr><th scope=row>559</th><td>Pvalb   </td><td>-19.24926</td></tr>\n",
       "\t<tr><th scope=row>651</th><td>Gad1    </td><td>-18.92433</td></tr>\n",
       "\t<tr><th scope=row>1204</th><td>Sst     </td><td>-17.54816</td></tr>\n",
       "\t<tr><th scope=row>1275</th><td>Cdh13   </td><td>-17.43823</td></tr>\n",
       "\t<tr><th scope=row>1328</th><td>Rab3c   </td><td>-17.34893</td></tr>\n",
       "\t<tr><th scope=row>1479</th><td>Prkca   </td><td>-17.10474</td></tr>\n",
       "\t<tr><th scope=row>1504</th><td>Bcl11b  </td><td>-17.07555</td></tr>\n",
       "\t<tr><th scope=row>1544</th><td>Gda     </td><td>-17.01980</td></tr>\n",
       "\t<tr><th scope=row>1573</th><td>Grin3a  </td><td>-16.98718</td></tr>\n",
       "\t<tr><th scope=row>1693</th><td>Calb1   </td><td>-16.81598</td></tr>\n",
       "\t<tr><th scope=row>1931</th><td>Lhx6    </td><td>-16.45833</td></tr>\n",
       "\t<tr><th scope=row>1947</th><td>Pde1a   </td><td>-16.43215</td></tr>\n",
       "\t<tr><th scope=row>1954</th><td>Crhbp   </td><td>-16.42590</td></tr>\n",
       "\t<tr><th scope=row>2797</th><td>Aldoc   </td><td>-15.53118</td></tr>\n",
       "\t<tr><th scope=row>3063</th><td>Tac1    </td><td>-15.28628</td></tr>\n",
       "\t<tr><th scope=row>3450</th><td>Npy     </td><td>-14.92872</td></tr>\n",
       "\t<tr><th scope=row>3487</th><td>Cox6a2  </td><td>-14.89137</td></tr>\n",
       "\t<tr><th scope=row>3614</th><td>Id2     </td><td>-14.80135</td></tr>\n",
       "\t<tr><th scope=row>3646</th><td>Hapln1  </td><td>-14.77655</td></tr>\n",
       "\t<tr><th scope=row>3818</th><td>Cpne5   </td><td>-14.62999</td></tr>\n",
       "\t<tr><th scope=row>3843</th><td>Snca    </td><td>-14.61119</td></tr>\n",
       "\t<tr><th scope=row>3849</th><td>Cadps2  </td><td>-14.60432</td></tr>\n",
       "\t<tr><th scope=row>4143</th><td>Sema3c  </td><td>-14.39156</td></tr>\n",
       "\t<tr><th scope=row>4182</th><td>Rgs4    </td><td>-14.36267</td></tr>\n",
       "\t<tr><th scope=row>4201</th><td>Kctd12  </td><td>-14.34931</td></tr>\n",
       "\t<tr><th scope=row>4309</th><td>Plcxd2  </td><td>-14.26712</td></tr>\n",
       "\t<tr><th scope=row>...</th><td>...</td><td>...</td></tr>\n",
       "\t<tr><th scope=row>6303</th><td>Synpr   </td><td>-12.840892</td></tr>\n",
       "\t<tr><th scope=row>6491</th><td>Pnoc    </td><td>-12.718169</td></tr>\n",
       "\t<tr><th scope=row>7140</th><td>Htr3a   </td><td>-12.285726</td></tr>\n",
       "\t<tr><th scope=row>7277</th><td>Ndnf    </td><td>-12.191749</td></tr>\n",
       "\t<tr><th scope=row>7360</th><td>Pcp4    </td><td>-12.130487</td></tr>\n",
       "\t<tr><th scope=row>7409</th><td>Wfs1    </td><td>-12.095821</td></tr>\n",
       "\t<tr><th scope=row>8074</th><td>Rgs12   </td><td>-11.585721</td></tr>\n",
       "\t<tr><th scope=row>8137</th><td>Kit     </td><td>-11.534663</td></tr>\n",
       "\t<tr><th scope=row>8172</th><td>Chodl   </td><td>-11.505274</td></tr>\n",
       "\t<tr><th scope=row>8746</th><td>Trp53i11</td><td>-11.013596</td></tr>\n",
       "\t<tr><th scope=row>8793</th><td>Th      </td><td>-10.967459</td></tr>\n",
       "\t<tr><th scope=row>8865</th><td>Plp1    </td><td>-10.905393</td></tr>\n",
       "\t<tr><th scope=row>9035</th><td>Rgs10   </td><td>-10.730810</td></tr>\n",
       "\t<tr><th scope=row>9097</th><td>Nov     </td><td>-10.650844</td></tr>\n",
       "\t<tr><th scope=row>9155</th><td>Npy2r   </td><td>-10.601795</td></tr>\n",
       "\t<tr><th scope=row>9548</th><td>Reln    </td><td>-10.209801</td></tr>\n",
       "\t<tr><th scope=row>10250</th><td>Penk    </td><td> -9.375880</td></tr>\n",
       "\t<tr><th scope=row>10320</th><td>Thsd7a  </td><td> -9.296311</td></tr>\n",
       "\t<tr><th scope=row>10335</th><td>Nr4a2   </td><td> -9.278548</td></tr>\n",
       "\t<tr><th scope=row>10385</th><td>Slc17a8 </td><td> -9.215160</td></tr>\n",
       "\t<tr><th scope=row>10560</th><td>Calb2   </td><td> -9.012310</td></tr>\n",
       "\t<tr><th scope=row>10671</th><td>Cxcl14  </td><td> -8.870475</td></tr>\n",
       "\t<tr><th scope=row>10795</th><td>Pthlh   </td><td> -8.682349</td></tr>\n",
       "\t<tr><th scope=row>11144</th><td>Col25a1 </td><td> -8.106003</td></tr>\n",
       "\t<tr><th scope=row>11209</th><td>Tac2    </td><td> -8.020940</td></tr>\n",
       "\t<tr><th scope=row>11380</th><td>Nrn1    </td><td> -7.704321</td></tr>\n",
       "\t<tr><th scope=row>11518</th><td>Crh     </td><td> -7.449033</td></tr>\n",
       "\t<tr><th scope=row>12184</th><td>Nos1    </td><td> -6.189772</td></tr>\n",
       "\t<tr><th scope=row>12308</th><td>Vip     </td><td> -5.883179</td></tr>\n",
       "\t<tr><th scope=row>12597</th><td>Neurod6 </td><td> -5.234450</td></tr>\n",
       "</tbody>\n",
       "</table>\n"
      ],
      "text/latex": [
       "A data.frame: 72 x 2\n",
       "\\begin{tabular}{r|ll}\n",
       "  & gene & tPC1\\\\\n",
       "  & <chr> & <dbl>\\\\\n",
       "\\hline\n",
       "\t34 & Slc6a1   & -24.61856\\\\\n",
       "\t48 & Serpini1 & -24.16568\\\\\n",
       "\t275 & Satb1    & -20.71906\\\\\n",
       "\t543 & Rasgrf2  & -19.30147\\\\\n",
       "\t559 & Pvalb    & -19.24926\\\\\n",
       "\t651 & Gad1     & -18.92433\\\\\n",
       "\t1204 & Sst      & -17.54816\\\\\n",
       "\t1275 & Cdh13    & -17.43823\\\\\n",
       "\t1328 & Rab3c    & -17.34893\\\\\n",
       "\t1479 & Prkca    & -17.10474\\\\\n",
       "\t1504 & Bcl11b   & -17.07555\\\\\n",
       "\t1544 & Gda      & -17.01980\\\\\n",
       "\t1573 & Grin3a   & -16.98718\\\\\n",
       "\t1693 & Calb1    & -16.81598\\\\\n",
       "\t1931 & Lhx6     & -16.45833\\\\\n",
       "\t1947 & Pde1a    & -16.43215\\\\\n",
       "\t1954 & Crhbp    & -16.42590\\\\\n",
       "\t2797 & Aldoc    & -15.53118\\\\\n",
       "\t3063 & Tac1     & -15.28628\\\\\n",
       "\t3450 & Npy      & -14.92872\\\\\n",
       "\t3487 & Cox6a2   & -14.89137\\\\\n",
       "\t3614 & Id2      & -14.80135\\\\\n",
       "\t3646 & Hapln1   & -14.77655\\\\\n",
       "\t3818 & Cpne5    & -14.62999\\\\\n",
       "\t3843 & Snca     & -14.61119\\\\\n",
       "\t3849 & Cadps2   & -14.60432\\\\\n",
       "\t4143 & Sema3c   & -14.39156\\\\\n",
       "\t4182 & Rgs4     & -14.36267\\\\\n",
       "\t4201 & Kctd12   & -14.34931\\\\\n",
       "\t4309 & Plcxd2   & -14.26712\\\\\n",
       "\t... & ... & ...\\\\\n",
       "\t6303 & Synpr    & -12.840892\\\\\n",
       "\t6491 & Pnoc     & -12.718169\\\\\n",
       "\t7140 & Htr3a    & -12.285726\\\\\n",
       "\t7277 & Ndnf     & -12.191749\\\\\n",
       "\t7360 & Pcp4     & -12.130487\\\\\n",
       "\t7409 & Wfs1     & -12.095821\\\\\n",
       "\t8074 & Rgs12    & -11.585721\\\\\n",
       "\t8137 & Kit      & -11.534663\\\\\n",
       "\t8172 & Chodl    & -11.505274\\\\\n",
       "\t8746 & Trp53i11 & -11.013596\\\\\n",
       "\t8793 & Th       & -10.967459\\\\\n",
       "\t8865 & Plp1     & -10.905393\\\\\n",
       "\t9035 & Rgs10    & -10.730810\\\\\n",
       "\t9097 & Nov      & -10.650844\\\\\n",
       "\t9155 & Npy2r    & -10.601795\\\\\n",
       "\t9548 & Reln     & -10.209801\\\\\n",
       "\t10250 & Penk     &  -9.375880\\\\\n",
       "\t10320 & Thsd7a   &  -9.296311\\\\\n",
       "\t10335 & Nr4a2    &  -9.278548\\\\\n",
       "\t10385 & Slc17a8  &  -9.215160\\\\\n",
       "\t10560 & Calb2    &  -9.012310\\\\\n",
       "\t10671 & Cxcl14   &  -8.870475\\\\\n",
       "\t10795 & Pthlh    &  -8.682349\\\\\n",
       "\t11144 & Col25a1  &  -8.106003\\\\\n",
       "\t11209 & Tac2     &  -8.020940\\\\\n",
       "\t11380 & Nrn1     &  -7.704321\\\\\n",
       "\t11518 & Crh      &  -7.449033\\\\\n",
       "\t12184 & Nos1     &  -6.189772\\\\\n",
       "\t12308 & Vip      &  -5.883179\\\\\n",
       "\t12597 & Neurod6  &  -5.234450\\\\\n",
       "\\end{tabular}\n"
      ],
      "text/markdown": [
       "\n",
       "A data.frame: 72 x 2\n",
       "\n",
       "| <!--/--> | gene &lt;chr&gt; | tPC1 &lt;dbl&gt; |\n",
       "|---|---|---|\n",
       "| 34 | Slc6a1   | -24.61856 |\n",
       "| 48 | Serpini1 | -24.16568 |\n",
       "| 275 | Satb1    | -20.71906 |\n",
       "| 543 | Rasgrf2  | -19.30147 |\n",
       "| 559 | Pvalb    | -19.24926 |\n",
       "| 651 | Gad1     | -18.92433 |\n",
       "| 1204 | Sst      | -17.54816 |\n",
       "| 1275 | Cdh13    | -17.43823 |\n",
       "| 1328 | Rab3c    | -17.34893 |\n",
       "| 1479 | Prkca    | -17.10474 |\n",
       "| 1504 | Bcl11b   | -17.07555 |\n",
       "| 1544 | Gda      | -17.01980 |\n",
       "| 1573 | Grin3a   | -16.98718 |\n",
       "| 1693 | Calb1    | -16.81598 |\n",
       "| 1931 | Lhx6     | -16.45833 |\n",
       "| 1947 | Pde1a    | -16.43215 |\n",
       "| 1954 | Crhbp    | -16.42590 |\n",
       "| 2797 | Aldoc    | -15.53118 |\n",
       "| 3063 | Tac1     | -15.28628 |\n",
       "| 3450 | Npy      | -14.92872 |\n",
       "| 3487 | Cox6a2   | -14.89137 |\n",
       "| 3614 | Id2      | -14.80135 |\n",
       "| 3646 | Hapln1   | -14.77655 |\n",
       "| 3818 | Cpne5    | -14.62999 |\n",
       "| 3843 | Snca     | -14.61119 |\n",
       "| 3849 | Cadps2   | -14.60432 |\n",
       "| 4143 | Sema3c   | -14.39156 |\n",
       "| 4182 | Rgs4     | -14.36267 |\n",
       "| 4201 | Kctd12   | -14.34931 |\n",
       "| 4309 | Plcxd2   | -14.26712 |\n",
       "| ... | ... | ... |\n",
       "| 6303 | Synpr    | -12.840892 |\n",
       "| 6491 | Pnoc     | -12.718169 |\n",
       "| 7140 | Htr3a    | -12.285726 |\n",
       "| 7277 | Ndnf     | -12.191749 |\n",
       "| 7360 | Pcp4     | -12.130487 |\n",
       "| 7409 | Wfs1     | -12.095821 |\n",
       "| 8074 | Rgs12    | -11.585721 |\n",
       "| 8137 | Kit      | -11.534663 |\n",
       "| 8172 | Chodl    | -11.505274 |\n",
       "| 8746 | Trp53i11 | -11.013596 |\n",
       "| 8793 | Th       | -10.967459 |\n",
       "| 8865 | Plp1     | -10.905393 |\n",
       "| 9035 | Rgs10    | -10.730810 |\n",
       "| 9097 | Nov      | -10.650844 |\n",
       "| 9155 | Npy2r    | -10.601795 |\n",
       "| 9548 | Reln     | -10.209801 |\n",
       "| 10250 | Penk     |  -9.375880 |\n",
       "| 10320 | Thsd7a   |  -9.296311 |\n",
       "| 10335 | Nr4a2    |  -9.278548 |\n",
       "| 10385 | Slc17a8  |  -9.215160 |\n",
       "| 10560 | Calb2    |  -9.012310 |\n",
       "| 10671 | Cxcl14   |  -8.870475 |\n",
       "| 10795 | Pthlh    |  -8.682349 |\n",
       "| 11144 | Col25a1  |  -8.106003 |\n",
       "| 11209 | Tac2     |  -8.020940 |\n",
       "| 11380 | Nrn1     |  -7.704321 |\n",
       "| 11518 | Crh      |  -7.449033 |\n",
       "| 12184 | Nos1     |  -6.189772 |\n",
       "| 12308 | Vip      |  -5.883179 |\n",
       "| 12597 | Neurod6  |  -5.234450 |\n",
       "\n"
      ],
      "text/plain": [
       "      gene     tPC1      \n",
       "34    Slc6a1   -24.61856 \n",
       "48    Serpini1 -24.16568 \n",
       "275   Satb1    -20.71906 \n",
       "543   Rasgrf2  -19.30147 \n",
       "559   Pvalb    -19.24926 \n",
       "651   Gad1     -18.92433 \n",
       "1204  Sst      -17.54816 \n",
       "1275  Cdh13    -17.43823 \n",
       "1328  Rab3c    -17.34893 \n",
       "1479  Prkca    -17.10474 \n",
       "1504  Bcl11b   -17.07555 \n",
       "1544  Gda      -17.01980 \n",
       "1573  Grin3a   -16.98718 \n",
       "1693  Calb1    -16.81598 \n",
       "1931  Lhx6     -16.45833 \n",
       "1947  Pde1a    -16.43215 \n",
       "1954  Crhbp    -16.42590 \n",
       "2797  Aldoc    -15.53118 \n",
       "3063  Tac1     -15.28628 \n",
       "3450  Npy      -14.92872 \n",
       "3487  Cox6a2   -14.89137 \n",
       "3614  Id2      -14.80135 \n",
       "3646  Hapln1   -14.77655 \n",
       "3818  Cpne5    -14.62999 \n",
       "3843  Snca     -14.61119 \n",
       "3849  Cadps2   -14.60432 \n",
       "4143  Sema3c   -14.39156 \n",
       "4182  Rgs4     -14.36267 \n",
       "4201  Kctd12   -14.34931 \n",
       "4309  Plcxd2   -14.26712 \n",
       "...   ...      ...       \n",
       "6303  Synpr    -12.840892\n",
       "6491  Pnoc     -12.718169\n",
       "7140  Htr3a    -12.285726\n",
       "7277  Ndnf     -12.191749\n",
       "7360  Pcp4     -12.130487\n",
       "7409  Wfs1     -12.095821\n",
       "8074  Rgs12    -11.585721\n",
       "8137  Kit      -11.534663\n",
       "8172  Chodl    -11.505274\n",
       "8746  Trp53i11 -11.013596\n",
       "8793  Th       -10.967459\n",
       "8865  Plp1     -10.905393\n",
       "9035  Rgs10    -10.730810\n",
       "9097  Nov      -10.650844\n",
       "9155  Npy2r    -10.601795\n",
       "9548  Reln     -10.209801\n",
       "10250 Penk      -9.375880\n",
       "10320 Thsd7a    -9.296311\n",
       "10335 Nr4a2     -9.278548\n",
       "10385 Slc17a8   -9.215160\n",
       "10560 Calb2     -9.012310\n",
       "10671 Cxcl14    -8.870475\n",
       "10795 Pthlh     -8.682349\n",
       "11144 Col25a1   -8.106003\n",
       "11209 Tac2      -8.020940\n",
       "11380 Nrn1      -7.704321\n",
       "11518 Crh       -7.449033\n",
       "12184 Nos1      -6.189772\n",
       "12308 Vip       -5.883179\n",
       "12597 Neurod6   -5.234450"
      ]
     },
     "metadata": {},
     "output_type": "display_data"
    }
   ],
   "source": [
    "tPC1_fromrnaseq.bugeongenes <- tPC1_fromrnaseq.hrvatingenes[tPC1_fromrnaseq.hrvatingenes$gene %in% bugeon2022.genes,]\n",
    "tPC1_fromrnaseq.bugeongenes "
   ]
  },
  {
   "cell_type": "code",
   "execution_count": 76,
   "id": "d9ec07c0-4d3a-4a62-929f-f1b3ef7dccff",
   "metadata": {},
   "outputs": [],
   "source": [
    "#gene order of bugeon tPC1\n",
    "tPC1.bugeon2022 <- c(\"Pvalb\",\"Slc6a1\",\"Gad1\",\"Lhx6\",\"Serpini1\",\"Tac1\",\"Npy\",\"Cox6a2\",\n",
    "                    \"Gabrd\",\"Rgs4\",\"Cort\",\"Prkca\",\"Crhbp\",\"Sst\",\"Satb1\",\"Calb1\",\"Ntng1\",\n",
    "                    \"Col25a1\",\"Rasgrf2\",\"Nrn1\",\"Rab3c\", \"Bcl11b\",\"Cdh13\",\"Neurod6\",\"Enpp2\",\n",
    "                    \"Hapln1\",\"Wfs1\",\"Pthlh\",\"Lamp5\",\"Kcnk2\",\"Thsd7a\",\"Aldoc\",\"Gnn3a\",\"Plcxd2\",\n",
    "                    \"Slc17a8\",\"Plp1\",\"Th\",\"Chodl\",\"Nr4a2\",\"Nos1\",\"Cpne5\",\"Chrm2\",\"Gda\",\n",
    "                    \"Nov\",\"Npy2r\",\"Sema3c\",\"Ndnf\",\"Sncg\",\"Kctd12\",\"Pcp4\",\"Calb2\",\"Trp53i11\",\n",
    "                    \"Cck\",\"Rgs10\",\"Pde1a\",\"Cryab\",\"Crh\",\"Cadps2\",\"Pnoc\",\"Synpr\",\"Id2\",\"Rgs12\",\n",
    "                    \"Snca\",\"Penk\",\"Kit\",\"Cplx2\",\"Reln\",\"Tac2\",\"Htr3a\",\"Vip\",\"Cnr1\",\"Cxcl14\")"
   ]
  },
  {
   "cell_type": "code",
   "execution_count": 113,
   "id": "db1b82d1-3afc-4ee9-8aca-f860b4490604",
   "metadata": {},
   "outputs": [],
   "source": [
    "# careful here PCA can flip signs, just make sure Pvalb and Vip are at opposing ends of the rankings\n",
    "rank.tPC1.from_rnaseq <- c(1:length(tPC1_fromrnaseq.bugeongenes$gene))\n",
    "rank.tPC1.from_coppaFISH <- c()\n",
    "for(thisgene in tPC1.bugeon2022){\n",
    "    position_in_rnaseqPC1 <- match(thisgene, tPC1_fromrnaseq.bugeongenes$gene)\n",
    "    rank.tPC1.from_coppaFISH <- c(rank.tPC1.from_coppaFISH, position_in_rnaseqPC1 ) # append position in other list\n",
    "}"
   ]
  },
  {
   "cell_type": "code",
   "execution_count": 120,
   "id": "bd3fc636-d46f-4f4a-a79d-d155add91757",
   "metadata": {},
   "outputs": [],
   "source": [
    "tPC1_fromrnaseq.bugeongenes$rank_in_hrvatin <- rank.tPC1.from_rnaseq\n",
    "tPC1_fromrnaseq.bugeongenes$rank_in_bugeon <- rank.tPC1.from_coppaFISH\n",
    "tPC1_fromrnaseq.bugeongenes$gene <- as.factor(tPC1_fromrnaseq.bugeongenes$gene)\n",
    "rownames(tPC1_fromrnaseq.bugeongenes)"
   ]
  },
  {
   "cell_type": "code",
   "execution_count": 121,
   "id": "2ada1b87-190d-40fe-b2e5-28d7c70a058a",
   "metadata": {},
   "outputs": [
    {
     "data": {
      "text/html": [
       "<table class=\"dataframe\">\n",
       "<caption>A data.frame: 6 x 4</caption>\n",
       "<thead>\n",
       "\t<tr><th></th><th scope=col>gene</th><th scope=col>tPC1</th><th scope=col>rank_in_hrvatin</th><th scope=col>rank_in_bugeon</th></tr>\n",
       "\t<tr><th></th><th scope=col>&lt;fct&gt;</th><th scope=col>&lt;dbl&gt;</th><th scope=col>&lt;int&gt;</th><th scope=col>&lt;int&gt;</th></tr>\n",
       "</thead>\n",
       "<tbody>\n",
       "\t<tr><th scope=row>34</th><td>Slc6a1  </td><td>-24.61856</td><td>1</td><td> 5</td></tr>\n",
       "\t<tr><th scope=row>48</th><td>Serpini1</td><td>-24.16568</td><td>2</td><td> 1</td></tr>\n",
       "\t<tr><th scope=row>275</th><td>Satb1   </td><td>-20.71906</td><td>3</td><td> 6</td></tr>\n",
       "\t<tr><th scope=row>543</th><td>Rasgrf2 </td><td>-19.30147</td><td>4</td><td>15</td></tr>\n",
       "\t<tr><th scope=row>559</th><td>Pvalb   </td><td>-19.24926</td><td>5</td><td> 2</td></tr>\n",
       "\t<tr><th scope=row>651</th><td>Gad1    </td><td>-18.92433</td><td>6</td><td>19</td></tr>\n",
       "</tbody>\n",
       "</table>\n"
      ],
      "text/latex": [
       "A data.frame: 6 x 4\n",
       "\\begin{tabular}{r|llll}\n",
       "  & gene & tPC1 & rank\\_in\\_hrvatin & rank\\_in\\_bugeon\\\\\n",
       "  & <fct> & <dbl> & <int> & <int>\\\\\n",
       "\\hline\n",
       "\t34 & Slc6a1   & -24.61856 & 1 &  5\\\\\n",
       "\t48 & Serpini1 & -24.16568 & 2 &  1\\\\\n",
       "\t275 & Satb1    & -20.71906 & 3 &  6\\\\\n",
       "\t543 & Rasgrf2  & -19.30147 & 4 & 15\\\\\n",
       "\t559 & Pvalb    & -19.24926 & 5 &  2\\\\\n",
       "\t651 & Gad1     & -18.92433 & 6 & 19\\\\\n",
       "\\end{tabular}\n"
      ],
      "text/markdown": [
       "\n",
       "A data.frame: 6 x 4\n",
       "\n",
       "| <!--/--> | gene &lt;fct&gt; | tPC1 &lt;dbl&gt; | rank_in_hrvatin &lt;int&gt; | rank_in_bugeon &lt;int&gt; |\n",
       "|---|---|---|---|---|\n",
       "| 34 | Slc6a1   | -24.61856 | 1 |  5 |\n",
       "| 48 | Serpini1 | -24.16568 | 2 |  1 |\n",
       "| 275 | Satb1    | -20.71906 | 3 |  6 |\n",
       "| 543 | Rasgrf2  | -19.30147 | 4 | 15 |\n",
       "| 559 | Pvalb    | -19.24926 | 5 |  2 |\n",
       "| 651 | Gad1     | -18.92433 | 6 | 19 |\n",
       "\n"
      ],
      "text/plain": [
       "    gene     tPC1      rank_in_hrvatin rank_in_bugeon\n",
       "34  Slc6a1   -24.61856 1                5            \n",
       "48  Serpini1 -24.16568 2                1            \n",
       "275 Satb1    -20.71906 3                6            \n",
       "543 Rasgrf2  -19.30147 4               15            \n",
       "559 Pvalb    -19.24926 5                2            \n",
       "651 Gad1     -18.92433 6               19            "
      ]
     },
     "metadata": {},
     "output_type": "display_data"
    }
   ],
   "source": [
    "head(tPC1_fromrnaseq.bugeongenes)"
   ]
  },
  {
   "cell_type": "code",
   "execution_count": 123,
   "id": "3bddb31e-1134-4f2b-87db-603f97119a64",
   "metadata": {},
   "outputs": [
    {
     "data": {
      "text/plain": [
       "\n",
       "\tSpearman's rank correlation rho\n",
       "\n",
       "data:  tPC1_fromrnaseq.bugeongenes$rank_in_hrvatin and tPC1_fromrnaseq.bugeongenes$rank_in_bugeon\n",
       "S = 29142, p-value = 7.09e-06\n",
       "alternative hypothesis: true rho is not equal to 0\n",
       "sample estimates:\n",
       "      rho \n",
       "0.5113682 \n"
      ]
     },
     "metadata": {},
     "output_type": "display_data"
    }
   ],
   "source": [
    "cor.test( tPC1_fromrnaseq.bugeongenes$rank_in_hrvatin,  tPC1_fromrnaseq.bugeongenes$rank_in_bugeon, \n",
    "         method = 'spearman', data = tPC1_fromrnaseq.bugeongenes)"
   ]
  },
  {
   "cell_type": "markdown",
   "id": "08c0dc43-0608-43de-882d-07bf11a15215",
   "metadata": {},
   "source": [
    "So we have a good correlation when we use all the genes in Hrvatin, rember that this is a highly abnormal dataset,\n",
    "these mice have been darkhoused for 2 months."
   ]
  },
  {
   "cell_type": "code",
   "execution_count": 83,
   "id": "f57bad31-c84f-4ddf-adfd-48cecfde1c54",
   "metadata": {},
   "outputs": [],
   "source": []
  },
  {
   "cell_type": "code",
   "execution_count": 124,
   "id": "865eed10-469d-4e49-91e7-ead7c8a216f8",
   "metadata": {},
   "outputs": [
    {
     "data": {
      "image/png": "[encoded data removed]",
      "text/plain": [
       "plot without title"
      ]
     },
     "metadata": {
      "image/png": {
       "height": 420,
       "width": 420
      }
     },
     "output_type": "display_data"
    }
   ],
   "source": [
    "# and if we calculate it with just the bugeon genes for the pca?\n",
    "hrvatin.inhib.pca.restrictedlist <- pca(hrvatin.counts.inhibitory.normed[,bugeon2022.genes])\n",
    "plot(hrvatin.inhib.pca.restrictedlist$variance)"
   ]
  },
  {
   "cell_type": "code",
   "execution_count": 126,
   "id": "10a805ec-3d26-4e12-b911-d1c02ebb0a6f",
   "metadata": {},
   "outputs": [
    {
     "data": {
      "text/html": [
       "<style>\n",
       ".list-inline {list-style: none; margin:0; padding: 0}\n",
       ".list-inline>li {display: inline-block}\n",
       ".list-inline>li:not(:last-child)::after {content: \"\\00b7\"; padding: 0 .5ex}\n",
       "</style>\n",
       "<ol class=list-inline><li>'Aldoc'</li><li>'Bcl11b'</li><li>'Cadps2'</li><li>'Calb1'</li><li>'Calb2'</li><li>'Cck'</li><li>'Cdh13'</li><li>'Chodl'</li><li>'Chrm2'</li><li>'Cnr1'</li><li>'Col25a1'</li><li>'Cort'</li><li>'Cox6a2'</li><li>'Cplx2'</li><li>'Cpne5'</li><li>'Crh'</li><li>'Crhbp'</li><li>'Cryab'</li><li>'Cxcl14'</li><li>'Enpp2'</li><li>'Gabrd'</li><li>'Gad1'</li><li>'Gda'</li><li>'Grin3a'</li><li>'Hapln1'</li><li>'Htr3a'</li><li>'Id2'</li><li>'Kcnk2'</li><li>'Kctd12'</li><li>'Kit'</li><li>'Lamp5'</li><li>'Lhx6'</li><li>'Ndnf'</li><li>'Neurod6'</li><li>'Nos1'</li><li>'Nov'</li><li>'Npy'</li><li>'Npy2r'</li><li>'Nr4a2'</li><li>'Nrn1'</li><li>'Ntng1'</li><li>'Pcp4'</li><li>'Pde1a'</li><li>'Penk'</li><li>'Plcxd2'</li><li>'Plp1'</li><li>'Pnoc'</li><li>'Prkca'</li><li>'Pthlh'</li><li>'Pvalb'</li><li>'Rab3c'</li><li>'Rasgrf2'</li><li>'Reln'</li><li>'Rgs10'</li><li>'Rgs12'</li><li>'Rgs4'</li><li>'Satb1'</li><li>'Sema3c'</li><li>'Serpini1'</li><li>'Slc17a8'</li><li>'Slc6a1'</li><li>'Snca'</li><li>'Sncg'</li><li>'Sst'</li><li>'Synpr'</li><li>'Tac1'</li><li>'Tac2'</li><li>'Th'</li><li>'Thsd7a'</li><li>'Trp53i11'</li><li>'Vip'</li><li>'Wfs1'</li></ol>\n"
      ],
      "text/latex": [
       "\\begin{enumerate*}\n",
       "\\item 'Aldoc'\n",
       "\\item 'Bcl11b'\n",
       "\\item 'Cadps2'\n",
       "\\item 'Calb1'\n",
       "\\item 'Calb2'\n",
       "\\item 'Cck'\n",
       "\\item 'Cdh13'\n",
       "\\item 'Chodl'\n",
       "\\item 'Chrm2'\n",
       "\\item 'Cnr1'\n",
       "\\item 'Col25a1'\n",
       "\\item 'Cort'\n",
       "\\item 'Cox6a2'\n",
       "\\item 'Cplx2'\n",
       "\\item 'Cpne5'\n",
       "\\item 'Crh'\n",
       "\\item 'Crhbp'\n",
       "\\item 'Cryab'\n",
       "\\item 'Cxcl14'\n",
       "\\item 'Enpp2'\n",
       "\\item 'Gabrd'\n",
       "\\item 'Gad1'\n",
       "\\item 'Gda'\n",
       "\\item 'Grin3a'\n",
       "\\item 'Hapln1'\n",
       "\\item 'Htr3a'\n",
       "\\item 'Id2'\n",
       "\\item 'Kcnk2'\n",
       "\\item 'Kctd12'\n",
       "\\item 'Kit'\n",
       "\\item 'Lamp5'\n",
       "\\item 'Lhx6'\n",
       "\\item 'Ndnf'\n",
       "\\item 'Neurod6'\n",
       "\\item 'Nos1'\n",
       "\\item 'Nov'\n",
       "\\item 'Npy'\n",
       "\\item 'Npy2r'\n",
       "\\item 'Nr4a2'\n",
       "\\item 'Nrn1'\n",
       "\\item 'Ntng1'\n",
       "\\item 'Pcp4'\n",
       "\\item 'Pde1a'\n",
       "\\item 'Penk'\n",
       "\\item 'Plcxd2'\n",
       "\\item 'Plp1'\n",
       "\\item 'Pnoc'\n",
       "\\item 'Prkca'\n",
       "\\item 'Pthlh'\n",
       "\\item 'Pvalb'\n",
       "\\item 'Rab3c'\n",
       "\\item 'Rasgrf2'\n",
       "\\item 'Reln'\n",
       "\\item 'Rgs10'\n",
       "\\item 'Rgs12'\n",
       "\\item 'Rgs4'\n",
       "\\item 'Satb1'\n",
       "\\item 'Sema3c'\n",
       "\\item 'Serpini1'\n",
       "\\item 'Slc17a8'\n",
       "\\item 'Slc6a1'\n",
       "\\item 'Snca'\n",
       "\\item 'Sncg'\n",
       "\\item 'Sst'\n",
       "\\item 'Synpr'\n",
       "\\item 'Tac1'\n",
       "\\item 'Tac2'\n",
       "\\item 'Th'\n",
       "\\item 'Thsd7a'\n",
       "\\item 'Trp53i11'\n",
       "\\item 'Vip'\n",
       "\\item 'Wfs1'\n",
       "\\end{enumerate*}\n"
      ],
      "text/markdown": [
       "1. 'Aldoc'\n",
       "2. 'Bcl11b'\n",
       "3. 'Cadps2'\n",
       "4. 'Calb1'\n",
       "5. 'Calb2'\n",
       "6. 'Cck'\n",
       "7. 'Cdh13'\n",
       "8. 'Chodl'\n",
       "9. 'Chrm2'\n",
       "10. 'Cnr1'\n",
       "11. 'Col25a1'\n",
       "12. 'Cort'\n",
       "13. 'Cox6a2'\n",
       "14. 'Cplx2'\n",
       "15. 'Cpne5'\n",
       "16. 'Crh'\n",
       "17. 'Crhbp'\n",
       "18. 'Cryab'\n",
       "19. 'Cxcl14'\n",
       "20. 'Enpp2'\n",
       "21. 'Gabrd'\n",
       "22. 'Gad1'\n",
       "23. 'Gda'\n",
       "24. 'Grin3a'\n",
       "25. 'Hapln1'\n",
       "26. 'Htr3a'\n",
       "27. 'Id2'\n",
       "28. 'Kcnk2'\n",
       "29. 'Kctd12'\n",
       "30. 'Kit'\n",
       "31. 'Lamp5'\n",
       "32. 'Lhx6'\n",
       "33. 'Ndnf'\n",
       "34. 'Neurod6'\n",
       "35. 'Nos1'\n",
       "36. 'Nov'\n",
       "37. 'Npy'\n",
       "38. 'Npy2r'\n",
       "39. 'Nr4a2'\n",
       "40. 'Nrn1'\n",
       "41. 'Ntng1'\n",
       "42. 'Pcp4'\n",
       "43. 'Pde1a'\n",
       "44. 'Penk'\n",
       "45. 'Plcxd2'\n",
       "46. 'Plp1'\n",
       "47. 'Pnoc'\n",
       "48. 'Prkca'\n",
       "49. 'Pthlh'\n",
       "50. 'Pvalb'\n",
       "51. 'Rab3c'\n",
       "52. 'Rasgrf2'\n",
       "53. 'Reln'\n",
       "54. 'Rgs10'\n",
       "55. 'Rgs12'\n",
       "56. 'Rgs4'\n",
       "57. 'Satb1'\n",
       "58. 'Sema3c'\n",
       "59. 'Serpini1'\n",
       "60. 'Slc17a8'\n",
       "61. 'Slc6a1'\n",
       "62. 'Snca'\n",
       "63. 'Sncg'\n",
       "64. 'Sst'\n",
       "65. 'Synpr'\n",
       "66. 'Tac1'\n",
       "67. 'Tac2'\n",
       "68. 'Th'\n",
       "69. 'Thsd7a'\n",
       "70. 'Trp53i11'\n",
       "71. 'Vip'\n",
       "72. 'Wfs1'\n",
       "\n",
       "\n"
      ],
      "text/plain": [
       " [1] \"Aldoc\"    \"Bcl11b\"   \"Cadps2\"   \"Calb1\"    \"Calb2\"    \"Cck\"     \n",
       " [7] \"Cdh13\"    \"Chodl\"    \"Chrm2\"    \"Cnr1\"     \"Col25a1\"  \"Cort\"    \n",
       "[13] \"Cox6a2\"   \"Cplx2\"    \"Cpne5\"    \"Crh\"      \"Crhbp\"    \"Cryab\"   \n",
       "[19] \"Cxcl14\"   \"Enpp2\"    \"Gabrd\"    \"Gad1\"     \"Gda\"      \"Grin3a\"  \n",
       "[25] \"Hapln1\"   \"Htr3a\"    \"Id2\"      \"Kcnk2\"    \"Kctd12\"   \"Kit\"     \n",
       "[31] \"Lamp5\"    \"Lhx6\"     \"Ndnf\"     \"Neurod6\"  \"Nos1\"     \"Nov\"     \n",
       "[37] \"Npy\"      \"Npy2r\"    \"Nr4a2\"    \"Nrn1\"     \"Ntng1\"    \"Pcp4\"    \n",
       "[43] \"Pde1a\"    \"Penk\"     \"Plcxd2\"   \"Plp1\"     \"Pnoc\"     \"Prkca\"   \n",
       "[49] \"Pthlh\"    \"Pvalb\"    \"Rab3c\"    \"Rasgrf2\"  \"Reln\"     \"Rgs10\"   \n",
       "[55] \"Rgs12\"    \"Rgs4\"     \"Satb1\"    \"Sema3c\"   \"Serpini1\" \"Slc17a8\" \n",
       "[61] \"Slc6a1\"   \"Snca\"     \"Sncg\"     \"Sst\"      \"Synpr\"    \"Tac1\"    \n",
       "[67] \"Tac2\"     \"Th\"       \"Thsd7a\"   \"Trp53i11\" \"Vip\"      \"Wfs1\"    "
      ]
     },
     "metadata": {},
     "output_type": "display_data"
    }
   ],
   "source": [
    "colnames(hrvatin.counts.inhibitory.normed[,bugeon2022.genes])"
   ]
  },
  {
   "cell_type": "code",
   "execution_count": 125,
   "id": "1015f50e-ee14-498d-8049-fa9499befa95",
   "metadata": {},
   "outputs": [
    {
     "data": {
      "text/html": [
       "<style>\n",
       ".list-inline {list-style: none; margin:0; padding: 0}\n",
       ".list-inline>li {display: inline-block}\n",
       ".list-inline>li:not(:last-child)::after {content: \"\\00b7\"; padding: 0 .5ex}\n",
       "</style>\n",
       "<ol class=list-inline><li>-2.8250670266647</li><li>-2.31937756152299</li><li>-3.87936503603834</li><li>19.2526656372201</li><li>6.59230667569774</li><li>-12.9432256743222</li><li>22.2734826941683</li><li>7.10586513187644</li><li>7.7488508162542</li><li>-9.50905850187654</li><li>2.16861353877195</li><li>7.2084226292759</li><li>-0.9130837700644</li><li>2.30461563276457</li><li>13.1883218143554</li><li>-2.1549947143769</li><li>16.9777905113173</li><li>-13.5337190788685</li><li>-10.602988122254</li><li>-5.00933415125226</li><li>-2.61509337926026</li><li>-13.2138465093367</li><li>-0.0185775977453906</li><li>22.7104452095019</li><li>-12.7838740508351</li><li>-6.82623002510426</li><li>-18.8706120526483</li><li>7.47116048616053</li><li>0.91018297926126</li><li>-18.0708057863492</li><li>-14.9405808647835</li><li>16.6782909356226</li><li>-4.28366286094454</li><li>1.83417740974211</li><li>4.58470990437652</li><li>-10.3020149341398</li><li>-5.70385889823406</li><li>-0.0490092355551528</li><li>3.2253687852489</li><li>2.69124325858386</li><li>3.97320025032163</li><li>3.31320499592961</li><li>13.5563479157669</li><li>0.684890629926932</li><li>-10.1347465553517</li><li>1.28393395675098</li><li>-17.1577842570324</li><li>-9.81297735063751</li><li>-0.849168171902547</li><li>4.21731502810713</li><li>-15.1277846748934</li><li>-1.13803773427376</li><li>5.66646822770124</li><li>-8.14971482903364</li><li>-8.28822802593839</li><li>5.71106891749492</li><li>24.5156576368652</li><li>-11.8824332111639</li><li>7.35240105671086</li><li>2.02681165107674</li><li>-8.68870866766809</li><li>-10.7254684858913</li><li>-3.21126766539705</li><li>26.6711384730094</li><li>13.6425364539428</li><li>4.6753607875754</li><li>-6.39433172864195</li><li>3.6043668259987</li><li>3.62164685446028</li><li>-3.53103650178951</li><li>-5.98000861347678</li><li>2.99721259343089</li></ol>\n"
      ],
      "text/latex": [
       "\\begin{enumerate*}\n",
       "\\item -2.8250670266647\n",
       "\\item -2.31937756152299\n",
       "\\item -3.87936503603834\n",
       "\\item 19.2526656372201\n",
       "\\item 6.59230667569774\n",
       "\\item -12.9432256743222\n",
       "\\item 22.2734826941683\n",
       "\\item 7.10586513187644\n",
       "\\item 7.7488508162542\n",
       "\\item -9.50905850187654\n",
       "\\item 2.16861353877195\n",
       "\\item 7.2084226292759\n",
       "\\item -0.9130837700644\n",
       "\\item 2.30461563276457\n",
       "\\item 13.1883218143554\n",
       "\\item -2.1549947143769\n",
       "\\item 16.9777905113173\n",
       "\\item -13.5337190788685\n",
       "\\item -10.602988122254\n",
       "\\item -5.00933415125226\n",
       "\\item -2.61509337926026\n",
       "\\item -13.2138465093367\n",
       "\\item -0.0185775977453906\n",
       "\\item 22.7104452095019\n",
       "\\item -12.7838740508351\n",
       "\\item -6.82623002510426\n",
       "\\item -18.8706120526483\n",
       "\\item 7.47116048616053\n",
       "\\item 0.91018297926126\n",
       "\\item -18.0708057863492\n",
       "\\item -14.9405808647835\n",
       "\\item 16.6782909356226\n",
       "\\item -4.28366286094454\n",
       "\\item 1.83417740974211\n",
       "\\item 4.58470990437652\n",
       "\\item -10.3020149341398\n",
       "\\item -5.70385889823406\n",
       "\\item -0.0490092355551528\n",
       "\\item 3.2253687852489\n",
       "\\item 2.69124325858386\n",
       "\\item 3.97320025032163\n",
       "\\item 3.31320499592961\n",
       "\\item 13.5563479157669\n",
       "\\item 0.684890629926932\n",
       "\\item -10.1347465553517\n",
       "\\item 1.28393395675098\n",
       "\\item -17.1577842570324\n",
       "\\item -9.81297735063751\n",
       "\\item -0.849168171902547\n",
       "\\item 4.21731502810713\n",
       "\\item -15.1277846748934\n",
       "\\item -1.13803773427376\n",
       "\\item 5.66646822770124\n",
       "\\item -8.14971482903364\n",
       "\\item -8.28822802593839\n",
       "\\item 5.71106891749492\n",
       "\\item 24.5156576368652\n",
       "\\item -11.8824332111639\n",
       "\\item 7.35240105671086\n",
       "\\item 2.02681165107674\n",
       "\\item -8.68870866766809\n",
       "\\item -10.7254684858913\n",
       "\\item -3.21126766539705\n",
       "\\item 26.6711384730094\n",
       "\\item 13.6425364539428\n",
       "\\item 4.6753607875754\n",
       "\\item -6.39433172864195\n",
       "\\item 3.6043668259987\n",
       "\\item 3.62164685446028\n",
       "\\item -3.53103650178951\n",
       "\\item -5.98000861347678\n",
       "\\item 2.99721259343089\n",
       "\\end{enumerate*}\n"
      ],
      "text/markdown": [
       "1. -2.8250670266647\n",
       "2. -2.31937756152299\n",
       "3. -3.87936503603834\n",
       "4. 19.2526656372201\n",
       "5. 6.59230667569774\n",
       "6. -12.9432256743222\n",
       "7. 22.2734826941683\n",
       "8. 7.10586513187644\n",
       "9. 7.7488508162542\n",
       "10. -9.50905850187654\n",
       "11. 2.16861353877195\n",
       "12. 7.2084226292759\n",
       "13. -0.9130837700644\n",
       "14. 2.30461563276457\n",
       "15. 13.1883218143554\n",
       "16. -2.1549947143769\n",
       "17. 16.9777905113173\n",
       "18. -13.5337190788685\n",
       "19. -10.602988122254\n",
       "20. -5.00933415125226\n",
       "21. -2.61509337926026\n",
       "22. -13.2138465093367\n",
       "23. -0.0185775977453906\n",
       "24. 22.7104452095019\n",
       "25. -12.7838740508351\n",
       "26. -6.82623002510426\n",
       "27. -18.8706120526483\n",
       "28. 7.47116048616053\n",
       "29. 0.91018297926126\n",
       "30. -18.0708057863492\n",
       "31. -14.9405808647835\n",
       "32. 16.6782909356226\n",
       "33. -4.28366286094454\n",
       "34. 1.83417740974211\n",
       "35. 4.58470990437652\n",
       "36. -10.3020149341398\n",
       "37. -5.70385889823406\n",
       "38. -0.0490092355551528\n",
       "39. 3.2253687852489\n",
       "40. 2.69124325858386\n",
       "41. 3.97320025032163\n",
       "42. 3.31320499592961\n",
       "43. 13.5563479157669\n",
       "44. 0.684890629926932\n",
       "45. -10.1347465553517\n",
       "46. 1.28393395675098\n",
       "47. -17.1577842570324\n",
       "48. -9.81297735063751\n",
       "49. -0.849168171902547\n",
       "50. 4.21731502810713\n",
       "51. -15.1277846748934\n",
       "52. -1.13803773427376\n",
       "53. 5.66646822770124\n",
       "54. -8.14971482903364\n",
       "55. -8.28822802593839\n",
       "56. 5.71106891749492\n",
       "57. 24.5156576368652\n",
       "58. -11.8824332111639\n",
       "59. 7.35240105671086\n",
       "60. 2.02681165107674\n",
       "61. -8.68870866766809\n",
       "62. -10.7254684858913\n",
       "63. -3.21126766539705\n",
       "64. 26.6711384730094\n",
       "65. 13.6425364539428\n",
       "66. 4.6753607875754\n",
       "67. -6.39433172864195\n",
       "68. 3.6043668259987\n",
       "69. 3.62164685446028\n",
       "70. -3.53103650178951\n",
       "71. -5.98000861347678\n",
       "72. 2.99721259343089\n",
       "\n",
       "\n"
      ],
      "text/plain": [
       " [1]  -2.82506703  -2.31937756  -3.87936504  19.25266564   6.59230668\n",
       " [6] -12.94322567  22.27348269   7.10586513   7.74885082  -9.50905850\n",
       "[11]   2.16861354   7.20842263  -0.91308377   2.30461563  13.18832181\n",
       "[16]  -2.15499471  16.97779051 -13.53371908 -10.60298812  -5.00933415\n",
       "[21]  -2.61509338 -13.21384651  -0.01857760  22.71044521 -12.78387405\n",
       "[26]  -6.82623003 -18.87061205   7.47116049   0.91018298 -18.07080579\n",
       "[31] -14.94058086  16.67829094  -4.28366286   1.83417741   4.58470990\n",
       "[36] -10.30201493  -5.70385890  -0.04900924   3.22536879   2.69124326\n",
       "[41]   3.97320025   3.31320500  13.55634792   0.68489063 -10.13474656\n",
       "[46]   1.28393396 -17.15778426  -9.81297735  -0.84916817   4.21731503\n",
       "[51] -15.12778467  -1.13803773   5.66646823  -8.14971483  -8.28822803\n",
       "[56]   5.71106892  24.51565764 -11.88243321   7.35240106   2.02681165\n",
       "[61]  -8.68870867 -10.72546849  -3.21126767  26.67113847  13.64253645\n",
       "[66]   4.67536079  -6.39433173   3.60436683   3.62164685  -3.53103650\n",
       "[71]  -5.98000861   2.99721259"
      ]
     },
     "metadata": {},
     "output_type": "display_data"
    }
   ],
   "source": []
  },
  {
   "cell_type": "code",
   "execution_count": 129,
   "id": "7c4ef567-725f-4c67-8ecf-e63a612036f1",
   "metadata": {},
   "outputs": [
    {
     "name": "stdout",
     "output_type": "stream",
     "text": [
      "[1] 72  2\n"
     ]
    },
    {
     "data": {
      "text/html": [
       "<table class=\"dataframe\">\n",
       "<caption>A data.frame: 72 x 2</caption>\n",
       "<thead>\n",
       "\t<tr><th scope=col>gene</th><th scope=col>tPC1</th></tr>\n",
       "\t<tr><th scope=col>&lt;chr&gt;</th><th scope=col>&lt;dbl&gt;</th></tr>\n",
       "</thead>\n",
       "<tbody>\n",
       "\t<tr><td>Id2     </td><td>-18.870612</td></tr>\n",
       "\t<tr><td>Kit     </td><td>-18.070806</td></tr>\n",
       "\t<tr><td>Pnoc    </td><td>-17.157784</td></tr>\n",
       "\t<tr><td>Rab3c   </td><td>-15.127785</td></tr>\n",
       "\t<tr><td>Lamp5   </td><td>-14.940581</td></tr>\n",
       "\t<tr><td>Cryab   </td><td>-13.533719</td></tr>\n",
       "\t<tr><td>Gad1    </td><td>-13.213847</td></tr>\n",
       "\t<tr><td>Cck     </td><td>-12.943226</td></tr>\n",
       "\t<tr><td>Hapln1  </td><td>-12.783874</td></tr>\n",
       "\t<tr><td>Sema3c  </td><td>-11.882433</td></tr>\n",
       "\t<tr><td>Snca    </td><td>-10.725468</td></tr>\n",
       "\t<tr><td>Cxcl14  </td><td>-10.602988</td></tr>\n",
       "\t<tr><td>Nov     </td><td>-10.302015</td></tr>\n",
       "\t<tr><td>Plcxd2  </td><td>-10.134747</td></tr>\n",
       "\t<tr><td>Prkca   </td><td> -9.812977</td></tr>\n",
       "\t<tr><td>Cnr1    </td><td> -9.509059</td></tr>\n",
       "\t<tr><td>Slc6a1  </td><td> -8.688709</td></tr>\n",
       "\t<tr><td>Rgs12   </td><td> -8.288228</td></tr>\n",
       "\t<tr><td>Rgs10   </td><td> -8.149715</td></tr>\n",
       "\t<tr><td>Htr3a   </td><td> -6.826230</td></tr>\n",
       "\t<tr><td>Tac2    </td><td> -6.394332</td></tr>\n",
       "\t<tr><td>Vip     </td><td> -5.980009</td></tr>\n",
       "\t<tr><td>Npy     </td><td> -5.703859</td></tr>\n",
       "\t<tr><td>Enpp2   </td><td> -5.009334</td></tr>\n",
       "\t<tr><td>Ndnf    </td><td> -4.283663</td></tr>\n",
       "\t<tr><td>Cadps2  </td><td> -3.879365</td></tr>\n",
       "\t<tr><td>Trp53i11</td><td> -3.531037</td></tr>\n",
       "\t<tr><td>Sncg    </td><td> -3.211268</td></tr>\n",
       "\t<tr><td>Aldoc   </td><td> -2.825067</td></tr>\n",
       "\t<tr><td>Gabrd   </td><td> -2.615093</td></tr>\n",
       "\t<tr><td>...</td><td>...</td></tr>\n",
       "\t<tr><td>Col25a1 </td><td> 2.168614</td></tr>\n",
       "\t<tr><td>Cplx2   </td><td> 2.304616</td></tr>\n",
       "\t<tr><td>Nrn1    </td><td> 2.691243</td></tr>\n",
       "\t<tr><td>Wfs1    </td><td> 2.997213</td></tr>\n",
       "\t<tr><td>Nr4a2   </td><td> 3.225369</td></tr>\n",
       "\t<tr><td>Pcp4    </td><td> 3.313205</td></tr>\n",
       "\t<tr><td>Th      </td><td> 3.604367</td></tr>\n",
       "\t<tr><td>Thsd7a  </td><td> 3.621647</td></tr>\n",
       "\t<tr><td>Ntng1   </td><td> 3.973200</td></tr>\n",
       "\t<tr><td>Pvalb   </td><td> 4.217315</td></tr>\n",
       "\t<tr><td>Nos1    </td><td> 4.584710</td></tr>\n",
       "\t<tr><td>Tac1    </td><td> 4.675361</td></tr>\n",
       "\t<tr><td>Reln    </td><td> 5.666468</td></tr>\n",
       "\t<tr><td>Rgs4    </td><td> 5.711069</td></tr>\n",
       "\t<tr><td>Calb2   </td><td> 6.592307</td></tr>\n",
       "\t<tr><td>Chodl   </td><td> 7.105865</td></tr>\n",
       "\t<tr><td>Cort    </td><td> 7.208423</td></tr>\n",
       "\t<tr><td>Serpini1</td><td> 7.352401</td></tr>\n",
       "\t<tr><td>Kcnk2   </td><td> 7.471160</td></tr>\n",
       "\t<tr><td>Chrm2   </td><td> 7.748851</td></tr>\n",
       "\t<tr><td>Cpne5   </td><td>13.188322</td></tr>\n",
       "\t<tr><td>Pde1a   </td><td>13.556348</td></tr>\n",
       "\t<tr><td>Synpr   </td><td>13.642536</td></tr>\n",
       "\t<tr><td>Lhx6    </td><td>16.678291</td></tr>\n",
       "\t<tr><td>Crhbp   </td><td>16.977791</td></tr>\n",
       "\t<tr><td>Calb1   </td><td>19.252666</td></tr>\n",
       "\t<tr><td>Cdh13   </td><td>22.273483</td></tr>\n",
       "\t<tr><td>Grin3a  </td><td>22.710445</td></tr>\n",
       "\t<tr><td>Satb1   </td><td>24.515658</td></tr>\n",
       "\t<tr><td>Sst     </td><td>26.671138</td></tr>\n",
       "</tbody>\n",
       "</table>\n"
      ],
      "text/latex": [
       "A data.frame: 72 x 2\n",
       "\\begin{tabular}{ll}\n",
       " gene & tPC1\\\\\n",
       " <chr> & <dbl>\\\\\n",
       "\\hline\n",
       "\t Id2      & -18.870612\\\\\n",
       "\t Kit      & -18.070806\\\\\n",
       "\t Pnoc     & -17.157784\\\\\n",
       "\t Rab3c    & -15.127785\\\\\n",
       "\t Lamp5    & -14.940581\\\\\n",
       "\t Cryab    & -13.533719\\\\\n",
       "\t Gad1     & -13.213847\\\\\n",
       "\t Cck      & -12.943226\\\\\n",
       "\t Hapln1   & -12.783874\\\\\n",
       "\t Sema3c   & -11.882433\\\\\n",
       "\t Snca     & -10.725468\\\\\n",
       "\t Cxcl14   & -10.602988\\\\\n",
       "\t Nov      & -10.302015\\\\\n",
       "\t Plcxd2   & -10.134747\\\\\n",
       "\t Prkca    &  -9.812977\\\\\n",
       "\t Cnr1     &  -9.509059\\\\\n",
       "\t Slc6a1   &  -8.688709\\\\\n",
       "\t Rgs12    &  -8.288228\\\\\n",
       "\t Rgs10    &  -8.149715\\\\\n",
       "\t Htr3a    &  -6.826230\\\\\n",
       "\t Tac2     &  -6.394332\\\\\n",
       "\t Vip      &  -5.980009\\\\\n",
       "\t Npy      &  -5.703859\\\\\n",
       "\t Enpp2    &  -5.009334\\\\\n",
       "\t Ndnf     &  -4.283663\\\\\n",
       "\t Cadps2   &  -3.879365\\\\\n",
       "\t Trp53i11 &  -3.531037\\\\\n",
       "\t Sncg     &  -3.211268\\\\\n",
       "\t Aldoc    &  -2.825067\\\\\n",
       "\t Gabrd    &  -2.615093\\\\\n",
       "\t ... & ...\\\\\n",
       "\t Col25a1  &  2.168614\\\\\n",
       "\t Cplx2    &  2.304616\\\\\n",
       "\t Nrn1     &  2.691243\\\\\n",
       "\t Wfs1     &  2.997213\\\\\n",
       "\t Nr4a2    &  3.225369\\\\\n",
       "\t Pcp4     &  3.313205\\\\\n",
       "\t Th       &  3.604367\\\\\n",
       "\t Thsd7a   &  3.621647\\\\\n",
       "\t Ntng1    &  3.973200\\\\\n",
       "\t Pvalb    &  4.217315\\\\\n",
       "\t Nos1     &  4.584710\\\\\n",
       "\t Tac1     &  4.675361\\\\\n",
       "\t Reln     &  5.666468\\\\\n",
       "\t Rgs4     &  5.711069\\\\\n",
       "\t Calb2    &  6.592307\\\\\n",
       "\t Chodl    &  7.105865\\\\\n",
       "\t Cort     &  7.208423\\\\\n",
       "\t Serpini1 &  7.352401\\\\\n",
       "\t Kcnk2    &  7.471160\\\\\n",
       "\t Chrm2    &  7.748851\\\\\n",
       "\t Cpne5    & 13.188322\\\\\n",
       "\t Pde1a    & 13.556348\\\\\n",
       "\t Synpr    & 13.642536\\\\\n",
       "\t Lhx6     & 16.678291\\\\\n",
       "\t Crhbp    & 16.977791\\\\\n",
       "\t Calb1    & 19.252666\\\\\n",
       "\t Cdh13    & 22.273483\\\\\n",
       "\t Grin3a   & 22.710445\\\\\n",
       "\t Satb1    & 24.515658\\\\\n",
       "\t Sst      & 26.671138\\\\\n",
       "\\end{tabular}\n"
      ],
      "text/markdown": [
       "\n",
       "A data.frame: 72 x 2\n",
       "\n",
       "| gene &lt;chr&gt; | tPC1 &lt;dbl&gt; |\n",
       "|---|---|\n",
       "| Id2      | -18.870612 |\n",
       "| Kit      | -18.070806 |\n",
       "| Pnoc     | -17.157784 |\n",
       "| Rab3c    | -15.127785 |\n",
       "| Lamp5    | -14.940581 |\n",
       "| Cryab    | -13.533719 |\n",
       "| Gad1     | -13.213847 |\n",
       "| Cck      | -12.943226 |\n",
       "| Hapln1   | -12.783874 |\n",
       "| Sema3c   | -11.882433 |\n",
       "| Snca     | -10.725468 |\n",
       "| Cxcl14   | -10.602988 |\n",
       "| Nov      | -10.302015 |\n",
       "| Plcxd2   | -10.134747 |\n",
       "| Prkca    |  -9.812977 |\n",
       "| Cnr1     |  -9.509059 |\n",
       "| Slc6a1   |  -8.688709 |\n",
       "| Rgs12    |  -8.288228 |\n",
       "| Rgs10    |  -8.149715 |\n",
       "| Htr3a    |  -6.826230 |\n",
       "| Tac2     |  -6.394332 |\n",
       "| Vip      |  -5.980009 |\n",
       "| Npy      |  -5.703859 |\n",
       "| Enpp2    |  -5.009334 |\n",
       "| Ndnf     |  -4.283663 |\n",
       "| Cadps2   |  -3.879365 |\n",
       "| Trp53i11 |  -3.531037 |\n",
       "| Sncg     |  -3.211268 |\n",
       "| Aldoc    |  -2.825067 |\n",
       "| Gabrd    |  -2.615093 |\n",
       "| ... | ... |\n",
       "| Col25a1  |  2.168614 |\n",
       "| Cplx2    |  2.304616 |\n",
       "| Nrn1     |  2.691243 |\n",
       "| Wfs1     |  2.997213 |\n",
       "| Nr4a2    |  3.225369 |\n",
       "| Pcp4     |  3.313205 |\n",
       "| Th       |  3.604367 |\n",
       "| Thsd7a   |  3.621647 |\n",
       "| Ntng1    |  3.973200 |\n",
       "| Pvalb    |  4.217315 |\n",
       "| Nos1     |  4.584710 |\n",
       "| Tac1     |  4.675361 |\n",
       "| Reln     |  5.666468 |\n",
       "| Rgs4     |  5.711069 |\n",
       "| Calb2    |  6.592307 |\n",
       "| Chodl    |  7.105865 |\n",
       "| Cort     |  7.208423 |\n",
       "| Serpini1 |  7.352401 |\n",
       "| Kcnk2    |  7.471160 |\n",
       "| Chrm2    |  7.748851 |\n",
       "| Cpne5    | 13.188322 |\n",
       "| Pde1a    | 13.556348 |\n",
       "| Synpr    | 13.642536 |\n",
       "| Lhx6     | 16.678291 |\n",
       "| Crhbp    | 16.977791 |\n",
       "| Calb1    | 19.252666 |\n",
       "| Cdh13    | 22.273483 |\n",
       "| Grin3a   | 22.710445 |\n",
       "| Satb1    | 24.515658 |\n",
       "| Sst      | 26.671138 |\n",
       "\n"
      ],
      "text/plain": [
       "    gene     tPC1      \n",
       "1   Id2      -18.870612\n",
       "2   Kit      -18.070806\n",
       "3   Pnoc     -17.157784\n",
       "4   Rab3c    -15.127785\n",
       "5   Lamp5    -14.940581\n",
       "6   Cryab    -13.533719\n",
       "7   Gad1     -13.213847\n",
       "8   Cck      -12.943226\n",
       "9   Hapln1   -12.783874\n",
       "10  Sema3c   -11.882433\n",
       "11  Snca     -10.725468\n",
       "12  Cxcl14   -10.602988\n",
       "13  Nov      -10.302015\n",
       "14  Plcxd2   -10.134747\n",
       "15  Prkca     -9.812977\n",
       "16  Cnr1      -9.509059\n",
       "17  Slc6a1    -8.688709\n",
       "18  Rgs12     -8.288228\n",
       "19  Rgs10     -8.149715\n",
       "20  Htr3a     -6.826230\n",
       "21  Tac2      -6.394332\n",
       "22  Vip       -5.980009\n",
       "23  Npy       -5.703859\n",
       "24  Enpp2     -5.009334\n",
       "25  Ndnf      -4.283663\n",
       "26  Cadps2    -3.879365\n",
       "27  Trp53i11  -3.531037\n",
       "28  Sncg      -3.211268\n",
       "29  Aldoc     -2.825067\n",
       "30  Gabrd     -2.615093\n",
       "... ...      ...       \n",
       "43  Col25a1   2.168614 \n",
       "44  Cplx2     2.304616 \n",
       "45  Nrn1      2.691243 \n",
       "46  Wfs1      2.997213 \n",
       "47  Nr4a2     3.225369 \n",
       "48  Pcp4      3.313205 \n",
       "49  Th        3.604367 \n",
       "50  Thsd7a    3.621647 \n",
       "51  Ntng1     3.973200 \n",
       "52  Pvalb     4.217315 \n",
       "53  Nos1      4.584710 \n",
       "54  Tac1      4.675361 \n",
       "55  Reln      5.666468 \n",
       "56  Rgs4      5.711069 \n",
       "57  Calb2     6.592307 \n",
       "58  Chodl     7.105865 \n",
       "59  Cort      7.208423 \n",
       "60  Serpini1  7.352401 \n",
       "61  Kcnk2     7.471160 \n",
       "62  Chrm2     7.748851 \n",
       "63  Cpne5    13.188322 \n",
       "64  Pde1a    13.556348 \n",
       "65  Synpr    13.642536 \n",
       "66  Lhx6     16.678291 \n",
       "67  Crhbp    16.977791 \n",
       "68  Calb1    19.252666 \n",
       "69  Cdh13    22.273483 \n",
       "70  Grin3a   22.710445 \n",
       "71  Satb1    24.515658 \n",
       "72  Sst      26.671138 "
      ]
     },
     "metadata": {},
     "output_type": "display_data"
    }
   ],
   "source": [
    "tPC1_fromrnaseq.hrvatingenes <- data.frame(gene = colnames(hrvatin.counts.inhibitory.normed[,bugeon2022.genes]),\n",
    "                                           tPC1 = hrvatin.inhib.pca.restrictedlist$rotated$PC1) %>% arrange(tPC1)\n",
    "    \n",
    "print(dim(tPC1_fromrnaseq.hrvatingenes ))\n",
    "tPC1_fromrnaseq.hrvatingenes"
   ]
  },
  {
   "cell_type": "code",
   "execution_count": 130,
   "id": "c7746a81-e0e8-4e67-863f-0856ae32d7e6",
   "metadata": {},
   "outputs": [],
   "source": [
    "# careful here PCA can flip signs, just make sure Pvalb and Vip are at opposing ends of the rankings\n",
    "rank.tPC1.from_rnaseq <- c(1:length(tPC1_fromrnaseq.bugeongenes$gene))\n",
    "rank.tPC1.from_coppaFISH <- c()\n",
    "for(thisgene in tPC1.bugeon2022){\n",
    "    position_in_rnaseqPC1 <- match(thisgene, tPC1_fromrnaseq.bugeongenes$gene)\n",
    "    rank.tPC1.from_coppaFISH <- c(rank.tPC1.from_coppaFISH, position_in_rnaseqPC1 ) # append position in other list\n",
    "}"
   ]
  },
  {
   "cell_type": "code",
   "execution_count": 131,
   "id": "ca33a000-b680-43f8-9018-aaf3b5ae54cc",
   "metadata": {},
   "outputs": [
    {
     "data": {
      "text/html": [
       "<style>\n",
       ".list-inline {list-style: none; margin:0; padding: 0}\n",
       ".list-inline>li {display: inline-block}\n",
       ".list-inline>li:not(:last-child)::after {content: \"\\00b7\"; padding: 0 .5ex}\n",
       "</style>\n",
       "<ol class=list-inline><li>'34'</li><li>'48'</li><li>'275'</li><li>'543'</li><li>'559'</li><li>'651'</li><li>'1204'</li><li>'1275'</li><li>'1328'</li><li>'1479'</li><li>'1504'</li><li>'1544'</li><li>'1573'</li><li>'1693'</li><li>'1931'</li><li>'1947'</li><li>'1954'</li><li>'2797'</li><li>'3063'</li><li>'3450'</li><li>'3487'</li><li>'3614'</li><li>'3646'</li><li>'3818'</li><li>'3843'</li><li>'3849'</li><li>'4143'</li><li>'4182'</li><li>'4201'</li><li>'4309'</li><li>'4424'</li><li>'4600'</li><li>'4644'</li><li>'4964'</li><li>'4991'</li><li>'5067'</li><li>'5096'</li><li>'5209'</li><li>'5493'</li><li>'5618'</li><li>'5755'</li><li>'6250'</li><li>'6303'</li><li>'6491'</li><li>'7140'</li><li>'7277'</li><li>'7360'</li><li>'7409'</li><li>'8074'</li><li>'8137'</li><li>'8172'</li><li>'8746'</li><li>'8793'</li><li>'8865'</li><li>'9035'</li><li>'9097'</li><li>'9155'</li><li>'9548'</li><li>'10250'</li><li>'10320'</li><li>'10335'</li><li>'10385'</li><li>'10560'</li><li>'10671'</li><li>'10795'</li><li>'11144'</li><li>'11209'</li><li>'11380'</li><li>'11518'</li><li>'12184'</li><li>'12308'</li><li>'12597'</li></ol>\n"
      ],
      "text/latex": [
       "\\begin{enumerate*}\n",
       "\\item '34'\n",
       "\\item '48'\n",
       "\\item '275'\n",
       "\\item '543'\n",
       "\\item '559'\n",
       "\\item '651'\n",
       "\\item '1204'\n",
       "\\item '1275'\n",
       "\\item '1328'\n",
       "\\item '1479'\n",
       "\\item '1504'\n",
       "\\item '1544'\n",
       "\\item '1573'\n",
       "\\item '1693'\n",
       "\\item '1931'\n",
       "\\item '1947'\n",
       "\\item '1954'\n",
       "\\item '2797'\n",
       "\\item '3063'\n",
       "\\item '3450'\n",
       "\\item '3487'\n",
       "\\item '3614'\n",
       "\\item '3646'\n",
       "\\item '3818'\n",
       "\\item '3843'\n",
       "\\item '3849'\n",
       "\\item '4143'\n",
       "\\item '4182'\n",
       "\\item '4201'\n",
       "\\item '4309'\n",
       "\\item '4424'\n",
       "\\item '4600'\n",
       "\\item '4644'\n",
       "\\item '4964'\n",
       "\\item '4991'\n",
       "\\item '5067'\n",
       "\\item '5096'\n",
       "\\item '5209'\n",
       "\\item '5493'\n",
       "\\item '5618'\n",
       "\\item '5755'\n",
       "\\item '6250'\n",
       "\\item '6303'\n",
       "\\item '6491'\n",
       "\\item '7140'\n",
       "\\item '7277'\n",
       "\\item '7360'\n",
       "\\item '7409'\n",
       "\\item '8074'\n",
       "\\item '8137'\n",
       "\\item '8172'\n",
       "\\item '8746'\n",
       "\\item '8793'\n",
       "\\item '8865'\n",
       "\\item '9035'\n",
       "\\item '9097'\n",
       "\\item '9155'\n",
       "\\item '9548'\n",
       "\\item '10250'\n",
       "\\item '10320'\n",
       "\\item '10335'\n",
       "\\item '10385'\n",
       "\\item '10560'\n",
       "\\item '10671'\n",
       "\\item '10795'\n",
       "\\item '11144'\n",
       "\\item '11209'\n",
       "\\item '11380'\n",
       "\\item '11518'\n",
       "\\item '12184'\n",
       "\\item '12308'\n",
       "\\item '12597'\n",
       "\\end{enumerate*}\n"
      ],
      "text/markdown": [
       "1. '34'\n",
       "2. '48'\n",
       "3. '275'\n",
       "4. '543'\n",
       "5. '559'\n",
       "6. '651'\n",
       "7. '1204'\n",
       "8. '1275'\n",
       "9. '1328'\n",
       "10. '1479'\n",
       "11. '1504'\n",
       "12. '1544'\n",
       "13. '1573'\n",
       "14. '1693'\n",
       "15. '1931'\n",
       "16. '1947'\n",
       "17. '1954'\n",
       "18. '2797'\n",
       "19. '3063'\n",
       "20. '3450'\n",
       "21. '3487'\n",
       "22. '3614'\n",
       "23. '3646'\n",
       "24. '3818'\n",
       "25. '3843'\n",
       "26. '3849'\n",
       "27. '4143'\n",
       "28. '4182'\n",
       "29. '4201'\n",
       "30. '4309'\n",
       "31. '4424'\n",
       "32. '4600'\n",
       "33. '4644'\n",
       "34. '4964'\n",
       "35. '4991'\n",
       "36. '5067'\n",
       "37. '5096'\n",
       "38. '5209'\n",
       "39. '5493'\n",
       "40. '5618'\n",
       "41. '5755'\n",
       "42. '6250'\n",
       "43. '6303'\n",
       "44. '6491'\n",
       "45. '7140'\n",
       "46. '7277'\n",
       "47. '7360'\n",
       "48. '7409'\n",
       "49. '8074'\n",
       "50. '8137'\n",
       "51. '8172'\n",
       "52. '8746'\n",
       "53. '8793'\n",
       "54. '8865'\n",
       "55. '9035'\n",
       "56. '9097'\n",
       "57. '9155'\n",
       "58. '9548'\n",
       "59. '10250'\n",
       "60. '10320'\n",
       "61. '10335'\n",
       "62. '10385'\n",
       "63. '10560'\n",
       "64. '10671'\n",
       "65. '10795'\n",
       "66. '11144'\n",
       "67. '11209'\n",
       "68. '11380'\n",
       "69. '11518'\n",
       "70. '12184'\n",
       "71. '12308'\n",
       "72. '12597'\n",
       "\n",
       "\n"
      ],
      "text/plain": [
       " [1] \"34\"    \"48\"    \"275\"   \"543\"   \"559\"   \"651\"   \"1204\"  \"1275\"  \"1328\" \n",
       "[10] \"1479\"  \"1504\"  \"1544\"  \"1573\"  \"1693\"  \"1931\"  \"1947\"  \"1954\"  \"2797\" \n",
       "[19] \"3063\"  \"3450\"  \"3487\"  \"3614\"  \"3646\"  \"3818\"  \"3843\"  \"3849\"  \"4143\" \n",
       "[28] \"4182\"  \"4201\"  \"4309\"  \"4424\"  \"4600\"  \"4644\"  \"4964\"  \"4991\"  \"5067\" \n",
       "[37] \"5096\"  \"5209\"  \"5493\"  \"5618\"  \"5755\"  \"6250\"  \"6303\"  \"6491\"  \"7140\" \n",
       "[46] \"7277\"  \"7360\"  \"7409\"  \"8074\"  \"8137\"  \"8172\"  \"8746\"  \"8793\"  \"8865\" \n",
       "[55] \"9035\"  \"9097\"  \"9155\"  \"9548\"  \"10250\" \"10320\" \"10335\" \"10385\" \"10560\"\n",
       "[64] \"10671\" \"10795\" \"11144\" \"11209\" \"11380\" \"11518\" \"12184\" \"12308\" \"12597\""
      ]
     },
     "metadata": {},
     "output_type": "display_data"
    }
   ],
   "source": [
    "tPC1_fromrnaseq.bugeongenes$rank_in_hrvatin <- rank.tPC1.from_rnaseq\n",
    "tPC1_fromrnaseq.bugeongenes$rank_in_bugeon <- rank.tPC1.from_coppaFISH\n",
    "tPC1_fromrnaseq.bugeongenes$gene <- as.factor(tPC1_fromrnaseq.bugeongenes$gene)\n",
    "rownames(tPC1_fromrnaseq.bugeongenes)"
   ]
  },
  {
   "cell_type": "code",
   "execution_count": 132,
   "id": "a693a69a-5039-4f55-b60a-158ce52ff8ff",
   "metadata": {},
   "outputs": [
    {
     "data": {
      "text/html": [
       "<table class=\"dataframe\">\n",
       "<caption>A data.frame: 6 x 4</caption>\n",
       "<thead>\n",
       "\t<tr><th></th><th scope=col>gene</th><th scope=col>tPC1</th><th scope=col>rank_in_hrvatin</th><th scope=col>rank_in_bugeon</th></tr>\n",
       "\t<tr><th></th><th scope=col>&lt;fct&gt;</th><th scope=col>&lt;dbl&gt;</th><th scope=col>&lt;int&gt;</th><th scope=col>&lt;int&gt;</th></tr>\n",
       "</thead>\n",
       "<tbody>\n",
       "\t<tr><th scope=row>34</th><td>Slc6a1  </td><td>-24.61856</td><td>1</td><td> 5</td></tr>\n",
       "\t<tr><th scope=row>48</th><td>Serpini1</td><td>-24.16568</td><td>2</td><td> 1</td></tr>\n",
       "\t<tr><th scope=row>275</th><td>Satb1   </td><td>-20.71906</td><td>3</td><td> 6</td></tr>\n",
       "\t<tr><th scope=row>543</th><td>Rasgrf2 </td><td>-19.30147</td><td>4</td><td>15</td></tr>\n",
       "\t<tr><th scope=row>559</th><td>Pvalb   </td><td>-19.24926</td><td>5</td><td> 2</td></tr>\n",
       "\t<tr><th scope=row>651</th><td>Gad1    </td><td>-18.92433</td><td>6</td><td>19</td></tr>\n",
       "</tbody>\n",
       "</table>\n"
      ],
      "text/latex": [
       "A data.frame: 6 x 4\n",
       "\\begin{tabular}{r|llll}\n",
       "  & gene & tPC1 & rank\\_in\\_hrvatin & rank\\_in\\_bugeon\\\\\n",
       "  & <fct> & <dbl> & <int> & <int>\\\\\n",
       "\\hline\n",
       "\t34 & Slc6a1   & -24.61856 & 1 &  5\\\\\n",
       "\t48 & Serpini1 & -24.16568 & 2 &  1\\\\\n",
       "\t275 & Satb1    & -20.71906 & 3 &  6\\\\\n",
       "\t543 & Rasgrf2  & -19.30147 & 4 & 15\\\\\n",
       "\t559 & Pvalb    & -19.24926 & 5 &  2\\\\\n",
       "\t651 & Gad1     & -18.92433 & 6 & 19\\\\\n",
       "\\end{tabular}\n"
      ],
      "text/markdown": [
       "\n",
       "A data.frame: 6 x 4\n",
       "\n",
       "| <!--/--> | gene &lt;fct&gt; | tPC1 &lt;dbl&gt; | rank_in_hrvatin &lt;int&gt; | rank_in_bugeon &lt;int&gt; |\n",
       "|---|---|---|---|---|\n",
       "| 34 | Slc6a1   | -24.61856 | 1 |  5 |\n",
       "| 48 | Serpini1 | -24.16568 | 2 |  1 |\n",
       "| 275 | Satb1    | -20.71906 | 3 |  6 |\n",
       "| 543 | Rasgrf2  | -19.30147 | 4 | 15 |\n",
       "| 559 | Pvalb    | -19.24926 | 5 |  2 |\n",
       "| 651 | Gad1     | -18.92433 | 6 | 19 |\n",
       "\n"
      ],
      "text/plain": [
       "    gene     tPC1      rank_in_hrvatin rank_in_bugeon\n",
       "34  Slc6a1   -24.61856 1                5            \n",
       "48  Serpini1 -24.16568 2                1            \n",
       "275 Satb1    -20.71906 3                6            \n",
       "543 Rasgrf2  -19.30147 4               15            \n",
       "559 Pvalb    -19.24926 5                2            \n",
       "651 Gad1     -18.92433 6               19            "
      ]
     },
     "metadata": {},
     "output_type": "display_data"
    }
   ],
   "source": [
    "head(tPC1_fromrnaseq.bugeongenes)"
   ]
  },
  {
   "cell_type": "code",
   "execution_count": 133,
   "id": "79bd5036-14fd-4b25-95ed-3c48504f286c",
   "metadata": {},
   "outputs": [
    {
     "data": {
      "text/plain": [
       "\n",
       "\tSpearman's rank correlation rho\n",
       "\n",
       "data:  tPC1_fromrnaseq.bugeongenes$rank_in_hrvatin and tPC1_fromrnaseq.bugeongenes$rank_in_bugeon\n",
       "S = 29142, p-value = 7.09e-06\n",
       "alternative hypothesis: true rho is not equal to 0\n",
       "sample estimates:\n",
       "      rho \n",
       "0.5113682 \n"
      ]
     },
     "metadata": {},
     "output_type": "display_data"
    }
   ],
   "source": [
    "cor.test( tPC1_fromrnaseq.bugeongenes$rank_in_hrvatin,  tPC1_fromrnaseq.bugeongenes$rank_in_bugeon, \n",
    "         method = 'spearman', data = tPC1_fromrnaseq.bugeongenes)"
   ]
  },
  {
   "cell_type": "markdown",
   "id": "2146d6fe-dea2-4c12-9113-140b290b8795",
   "metadata": {},
   "source": [
    "So the rank correlation is 0.5 between both datasets for the ordering on  PC1 of the gtranscriptomic data in Hrvatin and Bugeon.\n",
    "with decent significance.  Enough to pass a bonferroni threshold for a number of tests.  You can also note Just by lookuing at the major cell type markers in the PCs that they oppose one another, espescially in the restricted list PC.  This is just from less than 1000 cells between the two datasets as well."
   ]
  },
  {
   "cell_type": "code",
   "execution_count": 135,
   "id": "3938af5f-5a9f-4076-b7e6-910ec63620d4",
   "metadata": {},
   "outputs": [
    {
     "data": {
      "text/html": [
       "<style>\n",
       ".list-inline {list-style: none; margin:0; padding: 0}\n",
       ".list-inline>li {display: inline-block}\n",
       ".list-inline>li:not(:last-child)::after {content: \"\\00b7\"; padding: 0 .5ex}\n",
       "</style>\n",
       "<ol class=list-inline><li>'GSE115746_accession_table.csv.gz'</li><li>'GSE115746_cells_exon_counts.csv.gz'</li><li>'GSE115746_complete_metadata_28706-cells.csv.gz'</li><li>'GSE115746_controls_exon_counts.csv.gz'</li></ol>\n"
      ],
      "text/latex": [
       "\\begin{enumerate*}\n",
       "\\item 'GSE115746\\_accession\\_table.csv.gz'\n",
       "\\item 'GSE115746\\_cells\\_exon\\_counts.csv.gz'\n",
       "\\item 'GSE115746\\_complete\\_metadata\\_28706-cells.csv.gz'\n",
       "\\item 'GSE115746\\_controls\\_exon\\_counts.csv.gz'\n",
       "\\end{enumerate*}\n"
      ],
      "text/markdown": [
       "1. 'GSE115746_accession_table.csv.gz'\n",
       "2. 'GSE115746_cells_exon_counts.csv.gz'\n",
       "3. 'GSE115746_complete_metadata_28706-cells.csv.gz'\n",
       "4. 'GSE115746_controls_exon_counts.csv.gz'\n",
       "\n",
       "\n"
      ],
      "text/plain": [
       "[1] \"GSE115746_accession_table.csv.gz\"              \n",
       "[2] \"GSE115746_cells_exon_counts.csv.gz\"            \n",
       "[3] \"GSE115746_complete_metadata_28706-cells.csv.gz\"\n",
       "[4] \"GSE115746_controls_exon_counts.csv.gz\"         "
      ]
     },
     "metadata": {},
     "output_type": "display_data"
    }
   ],
   "source": [
    "list.files(tasic.path)"
   ]
  },
  {
   "cell_type": "code",
   "execution_count": 137,
   "id": "77d6edca-936c-4180-a003-b95aeceb1487",
   "metadata": {},
   "outputs": [
    {
     "name": "stderr",
     "output_type": "stream",
     "text": [
      "\n",
      "Attaching package: 'data.table'\n",
      "\n",
      "\n",
      "The following object is masked from 'package:purrr':\n",
      "\n",
      "    transpose\n",
      "\n",
      "\n",
      "The following objects are masked from 'package:dplyr':\n",
      "\n",
      "    between, first, last\n",
      "\n",
      "\n"
     ]
    }
   ],
   "source": [
    "library(data.table)"
   ]
  },
  {
   "cell_type": "code",
   "execution_count": 144,
   "id": "b5011f5d-2719-4d39-954d-9813b4e0efb8",
   "metadata": {},
   "outputs": [],
   "source": [
    "tasic2018.meta <- read_csv(paste(tasic.path,'GSE115746_complete_metadata_28706-cells.csv.gz',sep=''))"
   ]
  },
  {
   "cell_type": "code",
   "execution_count": 146,
   "id": "34725f49-7bfa-4d46-a243-9384a2b6079e",
   "metadata": {},
   "outputs": [
    {
     "data": {
      "text/html": [
       "'/space/scratch/Tasic2018_GSE115746/'"
      ],
      "text/latex": [
       "'/space/scratch/Tasic2018\\_GSE115746/'"
      ],
      "text/markdown": [
       "'/space/scratch/Tasic2018_GSE115746/'"
      ],
      "text/plain": [
       "[1] \"/space/scratch/Tasic2018_GSE115746/\""
      ]
     },
     "metadata": {},
     "output_type": "display_data"
    }
   ],
   "source": [
    "tasic.path"
   ]
  },
  {
   "cell_type": "code",
   "execution_count": 147,
   "id": "4b13e9dc-1d91-43db-b6a1-f60c9297f64f",
   "metadata": {},
   "outputs": [
    {
     "data": {
      "text/html": [
       "<table class=\"dataframe\">\n",
       "<caption>A data.frame: 6 x 25</caption>\n",
       "<thead>\n",
       "\t<tr><th></th><th scope=col>sample_name</th><th scope=col>title</th><th scope=col>source_name</th><th scope=col>organism</th><th scope=col>donor_id</th><th scope=col>donor_sex</th><th scope=col>donor_genotype</th><th scope=col>injection_type</th><th scope=col>injection_target</th><th scope=col>injected_material</th><th scope=col>...</th><th scope=col>sequencing_tube</th><th scope=col>sequencing_batch</th><th scope=col>sequencing_qc_pass_fail</th><th scope=col>cell_class</th><th scope=col>cell_subclass</th><th scope=col>cell_cluster</th><th scope=col>molecule</th><th scope=col>SRA_Run</th><th scope=col>GEO_Sample</th><th scope=col>GEO_Sample_Title</th></tr>\n",
       "\t<tr><th></th><th scope=col>&lt;chr&gt;</th><th scope=col>&lt;chr&gt;</th><th scope=col>&lt;chr&gt;</th><th scope=col>&lt;chr&gt;</th><th scope=col>&lt;chr&gt;</th><th scope=col>&lt;chr&gt;</th><th scope=col>&lt;chr&gt;</th><th scope=col>&lt;chr&gt;</th><th scope=col>&lt;chr&gt;</th><th scope=col>&lt;chr&gt;</th><th scope=col>...</th><th scope=col>&lt;chr&gt;</th><th scope=col>&lt;chr&gt;</th><th scope=col>&lt;chr&gt;</th><th scope=col>&lt;chr&gt;</th><th scope=col>&lt;chr&gt;</th><th scope=col>&lt;chr&gt;</th><th scope=col>&lt;chr&gt;</th><th scope=col>&lt;chr&gt;</th><th scope=col>&lt;chr&gt;</th><th scope=col>&lt;chr&gt;</th></tr>\n",
       "</thead>\n",
       "<tbody>\n",
       "\t<tr><th scope=row>1</th><td>F0S4_150820_019_A01</td><td>F0S4_150820_019_A01</td><td>Control: 1E-8 ERCC MIX1                         </td><td>Control</td><td></td><td></td><td></td><td></td><td></td><td></td><td>...</td><td>LS-14690</td><td>R8S4-160203</td><td>Pass</td><td>ERCC         </td><td></td><td></td><td>ERCC     </td><td>SRR7322881</td><td>GSM3189899</td><td>Control: 1E-8 ERCC MIX1_1                         </td></tr>\n",
       "\t<tr><th scope=row>2</th><td>F0S4_150820_019_B01</td><td>F0S4_150820_019_B01</td><td>Control: No Template Control                    </td><td>Control</td><td></td><td></td><td></td><td></td><td></td><td></td><td>...</td><td>LS-14690</td><td>R8S4-160203</td><td>Pass</td><td>NTC          </td><td></td><td></td><td>Total RNA</td><td>SRR7323629</td><td>GSM3189901</td><td>Control: No Template Control_1                    </td></tr>\n",
       "\t<tr><th scope=row>3</th><td>F0S4_150820_019_C01</td><td>F0S4_150820_019_C01</td><td>Control: 1E-8 ERCC MIX1                         </td><td>Control</td><td></td><td></td><td></td><td></td><td></td><td></td><td>...</td><td>LS-14690</td><td>R8S4-160203</td><td>Pass</td><td>ERCC         </td><td></td><td></td><td>ERCC     </td><td>SRR7322992</td><td>GSM3189899</td><td>Control: 1E-8 ERCC MIX1_1                         </td></tr>\n",
       "\t<tr><th scope=row>4</th><td>F0S4_150820_019_D01</td><td>F0S4_150820_019_D01</td><td>Control: No Template Control                    </td><td>Control</td><td></td><td></td><td></td><td></td><td></td><td></td><td>...</td><td>LS-14690</td><td>R8S4-160203</td><td>Pass</td><td>NTC          </td><td></td><td></td><td>Total RNA</td><td>SRR7323740</td><td>GSM3189901</td><td>Control: No Template Control_1                    </td></tr>\n",
       "\t<tr><th scope=row>5</th><td>F0S4_150820_019_E01</td><td>F0S4_150820_019_E01</td><td>Control: 10pg Zyagen Mouse Whole Brain Total RNA</td><td>Control</td><td></td><td></td><td></td><td></td><td></td><td></td><td>...</td><td>LS-14690</td><td>R8S4-160203</td><td>Pass</td><td>MouseWholeRNA</td><td></td><td></td><td>Total RNA</td><td>SRR7321958</td><td>GSM3189897</td><td>Control: 10pg Zyagen Mouse Whole Brain Total RNA_1</td></tr>\n",
       "\t<tr><th scope=row>6</th><td>F0S4_150820_019_F01</td><td>F0S4_150820_019_F01</td><td>Control: 10pg Zyagen Mouse Whole Brain Total RNA</td><td>Control</td><td></td><td></td><td></td><td></td><td></td><td></td><td>...</td><td>LS-14690</td><td>R8S4-160203</td><td>Pass</td><td>MouseWholeRNA</td><td></td><td></td><td>Total RNA</td><td>SRR7322069</td><td>GSM3189897</td><td>Control: 10pg Zyagen Mouse Whole Brain Total RNA_1</td></tr>\n",
       "</tbody>\n",
       "</table>\n"
      ],
      "text/latex": [
       "A data.frame: 6 x 25\n",
       "\\begin{tabular}{r|lllllllllllllllllllll}\n",
       "  & sample\\_name & title & source\\_name & organism & donor\\_id & donor\\_sex & donor\\_genotype & injection\\_type & injection\\_target & injected\\_material & ... & sequencing\\_tube & sequencing\\_batch & sequencing\\_qc\\_pass\\_fail & cell\\_class & cell\\_subclass & cell\\_cluster & molecule & SRA\\_Run & GEO\\_Sample & GEO\\_Sample\\_Title\\\\\n",
       "  & <chr> & <chr> & <chr> & <chr> & <chr> & <chr> & <chr> & <chr> & <chr> & <chr> & ... & <chr> & <chr> & <chr> & <chr> & <chr> & <chr> & <chr> & <chr> & <chr> & <chr>\\\\\n",
       "\\hline\n",
       "\t1 & F0S4\\_150820\\_019\\_A01 & F0S4\\_150820\\_019\\_A01 & Control: 1E-8 ERCC MIX1                          & Control &  &  &  &  &  &  & ... & LS-14690 & R8S4-160203 & Pass & ERCC          &  &  & ERCC      & SRR7322881 & GSM3189899 & Control: 1E-8 ERCC MIX1\\_1                         \\\\\n",
       "\t2 & F0S4\\_150820\\_019\\_B01 & F0S4\\_150820\\_019\\_B01 & Control: No Template Control                     & Control &  &  &  &  &  &  & ... & LS-14690 & R8S4-160203 & Pass & NTC           &  &  & Total RNA & SRR7323629 & GSM3189901 & Control: No Template Control\\_1                    \\\\\n",
       "\t3 & F0S4\\_150820\\_019\\_C01 & F0S4\\_150820\\_019\\_C01 & Control: 1E-8 ERCC MIX1                          & Control &  &  &  &  &  &  & ... & LS-14690 & R8S4-160203 & Pass & ERCC          &  &  & ERCC      & SRR7322992 & GSM3189899 & Control: 1E-8 ERCC MIX1\\_1                         \\\\\n",
       "\t4 & F0S4\\_150820\\_019\\_D01 & F0S4\\_150820\\_019\\_D01 & Control: No Template Control                     & Control &  &  &  &  &  &  & ... & LS-14690 & R8S4-160203 & Pass & NTC           &  &  & Total RNA & SRR7323740 & GSM3189901 & Control: No Template Control\\_1                    \\\\\n",
       "\t5 & F0S4\\_150820\\_019\\_E01 & F0S4\\_150820\\_019\\_E01 & Control: 10pg Zyagen Mouse Whole Brain Total RNA & Control &  &  &  &  &  &  & ... & LS-14690 & R8S4-160203 & Pass & MouseWholeRNA &  &  & Total RNA & SRR7321958 & GSM3189897 & Control: 10pg Zyagen Mouse Whole Brain Total RNA\\_1\\\\\n",
       "\t6 & F0S4\\_150820\\_019\\_F01 & F0S4\\_150820\\_019\\_F01 & Control: 10pg Zyagen Mouse Whole Brain Total RNA & Control &  &  &  &  &  &  & ... & LS-14690 & R8S4-160203 & Pass & MouseWholeRNA &  &  & Total RNA & SRR7322069 & GSM3189897 & Control: 10pg Zyagen Mouse Whole Brain Total RNA\\_1\\\\\n",
       "\\end{tabular}\n"
      ],
      "text/markdown": [
       "\n",
       "A data.frame: 6 x 25\n",
       "\n",
       "| <!--/--> | sample_name &lt;chr&gt; | title &lt;chr&gt; | source_name &lt;chr&gt; | organism &lt;chr&gt; | donor_id &lt;chr&gt; | donor_sex &lt;chr&gt; | donor_genotype &lt;chr&gt; | injection_type &lt;chr&gt; | injection_target &lt;chr&gt; | injected_material &lt;chr&gt; | ... ... | sequencing_tube &lt;chr&gt; | sequencing_batch &lt;chr&gt; | sequencing_qc_pass_fail &lt;chr&gt; | cell_class &lt;chr&gt; | cell_subclass &lt;chr&gt; | cell_cluster &lt;chr&gt; | molecule &lt;chr&gt; | SRA_Run &lt;chr&gt; | GEO_Sample &lt;chr&gt; | GEO_Sample_Title &lt;chr&gt; |\n",
       "|---|---|---|---|---|---|---|---|---|---|---|---|---|---|---|---|---|---|---|---|---|---|\n",
       "| 1 | F0S4_150820_019_A01 | F0S4_150820_019_A01 | Control: 1E-8 ERCC MIX1                          | Control | <!----> | <!----> | <!----> | <!----> | <!----> | <!----> | ... | LS-14690 | R8S4-160203 | Pass | ERCC          | <!----> | <!----> | ERCC      | SRR7322881 | GSM3189899 | Control: 1E-8 ERCC MIX1_1                          |\n",
       "| 2 | F0S4_150820_019_B01 | F0S4_150820_019_B01 | Control: No Template Control                     | Control | <!----> | <!----> | <!----> | <!----> | <!----> | <!----> | ... | LS-14690 | R8S4-160203 | Pass | NTC           | <!----> | <!----> | Total RNA | SRR7323629 | GSM3189901 | Control: No Template Control_1                     |\n",
       "| 3 | F0S4_150820_019_C01 | F0S4_150820_019_C01 | Control: 1E-8 ERCC MIX1                          | Control | <!----> | <!----> | <!----> | <!----> | <!----> | <!----> | ... | LS-14690 | R8S4-160203 | Pass | ERCC          | <!----> | <!----> | ERCC      | SRR7322992 | GSM3189899 | Control: 1E-8 ERCC MIX1_1                          |\n",
       "| 4 | F0S4_150820_019_D01 | F0S4_150820_019_D01 | Control: No Template Control                     | Control | <!----> | <!----> | <!----> | <!----> | <!----> | <!----> | ... | LS-14690 | R8S4-160203 | Pass | NTC           | <!----> | <!----> | Total RNA | SRR7323740 | GSM3189901 | Control: No Template Control_1                     |\n",
       "| 5 | F0S4_150820_019_E01 | F0S4_150820_019_E01 | Control: 10pg Zyagen Mouse Whole Brain Total RNA | Control | <!----> | <!----> | <!----> | <!----> | <!----> | <!----> | ... | LS-14690 | R8S4-160203 | Pass | MouseWholeRNA | <!----> | <!----> | Total RNA | SRR7321958 | GSM3189897 | Control: 10pg Zyagen Mouse Whole Brain Total RNA_1 |\n",
       "| 6 | F0S4_150820_019_F01 | F0S4_150820_019_F01 | Control: 10pg Zyagen Mouse Whole Brain Total RNA | Control | <!----> | <!----> | <!----> | <!----> | <!----> | <!----> | ... | LS-14690 | R8S4-160203 | Pass | MouseWholeRNA | <!----> | <!----> | Total RNA | SRR7322069 | GSM3189897 | Control: 10pg Zyagen Mouse Whole Brain Total RNA_1 |\n",
       "\n"
      ],
      "text/plain": [
       "  sample_name         title              \n",
       "1 F0S4_150820_019_A01 F0S4_150820_019_A01\n",
       "2 F0S4_150820_019_B01 F0S4_150820_019_B01\n",
       "3 F0S4_150820_019_C01 F0S4_150820_019_C01\n",
       "4 F0S4_150820_019_D01 F0S4_150820_019_D01\n",
       "5 F0S4_150820_019_E01 F0S4_150820_019_E01\n",
       "6 F0S4_150820_019_F01 F0S4_150820_019_F01\n",
       "  source_name                                      organism donor_id donor_sex\n",
       "1 Control: 1E-8 ERCC MIX1                          Control                    \n",
       "2 Control: No Template Control                     Control                    \n",
       "3 Control: 1E-8 ERCC MIX1                          Control                    \n",
       "4 Control: No Template Control                     Control                    \n",
       "5 Control: 10pg Zyagen Mouse Whole Brain Total RNA Control                    \n",
       "6 Control: 10pg Zyagen Mouse Whole Brain Total RNA Control                    \n",
       "  donor_genotype injection_type injection_target injected_material ...\n",
       "1                                                                  ...\n",
       "2                                                                  ...\n",
       "3                                                                  ...\n",
       "4                                                                  ...\n",
       "5                                                                  ...\n",
       "6                                                                  ...\n",
       "  sequencing_tube sequencing_batch sequencing_qc_pass_fail cell_class   \n",
       "1 LS-14690        R8S4-160203      Pass                    ERCC         \n",
       "2 LS-14690        R8S4-160203      Pass                    NTC          \n",
       "3 LS-14690        R8S4-160203      Pass                    ERCC         \n",
       "4 LS-14690        R8S4-160203      Pass                    NTC          \n",
       "5 LS-14690        R8S4-160203      Pass                    MouseWholeRNA\n",
       "6 LS-14690        R8S4-160203      Pass                    MouseWholeRNA\n",
       "  cell_subclass cell_cluster molecule  SRA_Run    GEO_Sample\n",
       "1                            ERCC      SRR7322881 GSM3189899\n",
       "2                            Total RNA SRR7323629 GSM3189901\n",
       "3                            ERCC      SRR7322992 GSM3189899\n",
       "4                            Total RNA SRR7323740 GSM3189901\n",
       "5                            Total RNA SRR7321958 GSM3189897\n",
       "6                            Total RNA SRR7322069 GSM3189897\n",
       "  GEO_Sample_Title                                  \n",
       "1 Control: 1E-8 ERCC MIX1_1                         \n",
       "2 Control: No Template Control_1                    \n",
       "3 Control: 1E-8 ERCC MIX1_1                         \n",
       "4 Control: No Template Control_1                    \n",
       "5 Control: 10pg Zyagen Mouse Whole Brain Total RNA_1\n",
       "6 Control: 10pg Zyagen Mouse Whole Brain Total RNA_1"
      ]
     },
     "metadata": {},
     "output_type": "display_data"
    }
   ],
   "source": [
    "tasic2018.meta <-read.csv(paste(tasic.path,'GSE115746_complete_metadata_28706-cells.csv', sep = ''))\n",
    "head(tasic2018.meta )"
   ]
  },
  {
   "cell_type": "code",
   "execution_count": 143,
   "id": "d9286d64-2b62-4a1e-a0be-b0aabce2def6",
   "metadata": {},
   "outputs": [
    {
     "data": {
      "text/html": [
       "'/space/scratch/Tasic2018_GSE115746/'"
      ],
      "text/latex": [
       "'/space/scratch/Tasic2018\\_GSE115746/'"
      ],
      "text/markdown": [
       "'/space/scratch/Tasic2018_GSE115746/'"
      ],
      "text/plain": [
       "[1] \"/space/scratch/Tasic2018_GSE115746/\""
      ]
     },
     "metadata": {},
     "output_type": "display_data"
    }
   ],
   "source": [
    "'GSE115746_cells_exon_counts.csv'"
   ]
  },
  {
   "cell_type": "code",
   "execution_count": 178,
   "id": "0f3b5dd7-aada-40cb-917e-9d685228961f",
   "metadata": {},
   "outputs": [
    {
     "name": "stdout",
     "output_type": "stream",
     "text": [
      "[1] 45768 23179\n"
     ]
    },
    {
     "data": {
      "text/html": [
       "<table class=\"dataframe\">\n",
       "<caption>A data.frame: 6 x 23179</caption>\n",
       "<thead>\n",
       "\t<tr><th></th><th scope=col>X</th><th scope=col>F2S4_150422_002_A01</th><th scope=col>F2S4_150422_002_B01</th><th scope=col>F2S4_150422_002_C01</th><th scope=col>F2S4_150422_002_D01</th><th scope=col>F2S4_150422_002_E01</th><th scope=col>F2S4_150422_002_F01</th><th scope=col>F2S4_150422_002_G01</th><th scope=col>F2S4_150422_002_H01</th><th scope=col>F2S4_150427_001_A01</th><th scope=col>...</th><th scope=col>F1S4_180124_316_G01</th><th scope=col>F1S4_180124_316_H01</th><th scope=col>F1S4_180124_317_A01</th><th scope=col>F1S4_180124_317_B01</th><th scope=col>F1S4_180124_317_C01</th><th scope=col>F1S4_180124_317_D01</th><th scope=col>F1S4_180124_317_E01</th><th scope=col>F1S4_180124_317_F01</th><th scope=col>F1S4_180124_317_G01</th><th scope=col>F1S4_180124_317_H01</th></tr>\n",
       "\t<tr><th></th><th scope=col>&lt;chr&gt;</th><th scope=col>&lt;int&gt;</th><th scope=col>&lt;int&gt;</th><th scope=col>&lt;int&gt;</th><th scope=col>&lt;int&gt;</th><th scope=col>&lt;int&gt;</th><th scope=col>&lt;int&gt;</th><th scope=col>&lt;int&gt;</th><th scope=col>&lt;int&gt;</th><th scope=col>&lt;int&gt;</th><th scope=col>...</th><th scope=col>&lt;int&gt;</th><th scope=col>&lt;int&gt;</th><th scope=col>&lt;int&gt;</th><th scope=col>&lt;int&gt;</th><th scope=col>&lt;int&gt;</th><th scope=col>&lt;int&gt;</th><th scope=col>&lt;int&gt;</th><th scope=col>&lt;int&gt;</th><th scope=col>&lt;int&gt;</th><th scope=col>&lt;int&gt;</th></tr>\n",
       "</thead>\n",
       "<tbody>\n",
       "\t<tr><th scope=row>1</th><td>0610005C13Rik</td><td> 0</td><td> 0</td><td>  0</td><td> 0</td><td> 0</td><td>  0</td><td>  0</td><td>  0</td><td> 0</td><td>...</td><td>  0</td><td>  0</td><td>  0</td><td> 25</td><td>  0</td><td>  0</td><td>  0</td><td>  0</td><td>  0</td><td>  0</td></tr>\n",
       "\t<tr><th scope=row>2</th><td>0610006L08Rik</td><td> 0</td><td> 0</td><td>  0</td><td> 0</td><td> 0</td><td>  0</td><td>  0</td><td>  0</td><td> 0</td><td>...</td><td>  0</td><td>  0</td><td>  0</td><td>  0</td><td>  0</td><td>  0</td><td>  0</td><td>  0</td><td>  0</td><td>  0</td></tr>\n",
       "\t<tr><th scope=row>3</th><td>0610007P14Rik</td><td>95</td><td>48</td><td>101</td><td>51</td><td>36</td><td>128</td><td>126</td><td>102</td><td>64</td><td>...</td><td>105</td><td>139</td><td>103</td><td>205</td><td> 88</td><td>172</td><td> 27</td><td>108</td><td> 23</td><td>168</td></tr>\n",
       "\t<tr><th scope=row>4</th><td>0610009B22Rik</td><td>68</td><td>47</td><td> 43</td><td>42</td><td>58</td><td> 14</td><td> 27</td><td> 68</td><td>19</td><td>...</td><td> 41</td><td> 86</td><td>271</td><td>118</td><td>101</td><td>174</td><td>102</td><td>121</td><td>111</td><td>119</td></tr>\n",
       "\t<tr><th scope=row>5</th><td>0610009E02Rik</td><td> 0</td><td> 0</td><td> 11</td><td> 0</td><td> 0</td><td>  1</td><td>  0</td><td>  0</td><td> 2</td><td>...</td><td>  0</td><td>  0</td><td>  0</td><td>  0</td><td>  0</td><td>  0</td><td>  0</td><td>  0</td><td>  0</td><td>  7</td></tr>\n",
       "\t<tr><th scope=row>6</th><td>0610009L18Rik</td><td> 6</td><td> 7</td><td>  0</td><td> 0</td><td>26</td><td>  8</td><td>  4</td><td>  0</td><td> 0</td><td>...</td><td>  0</td><td>  0</td><td>  0</td><td> 12</td><td> 10</td><td> 16</td><td> 12</td><td>  0</td><td>  0</td><td>  5</td></tr>\n",
       "</tbody>\n",
       "</table>\n"
      ],
      "text/latex": [
       "A data.frame: 6 x 23179\n",
       "\\begin{tabular}{r|lllllllllllllllllllll}\n",
       "  & X & F2S4\\_150422\\_002\\_A01 & F2S4\\_150422\\_002\\_B01 & F2S4\\_150422\\_002\\_C01 & F2S4\\_150422\\_002\\_D01 & F2S4\\_150422\\_002\\_E01 & F2S4\\_150422\\_002\\_F01 & F2S4\\_150422\\_002\\_G01 & F2S4\\_150422\\_002\\_H01 & F2S4\\_150427\\_001\\_A01 & ... & F1S4\\_180124\\_316\\_G01 & F1S4\\_180124\\_316\\_H01 & F1S4\\_180124\\_317\\_A01 & F1S4\\_180124\\_317\\_B01 & F1S4\\_180124\\_317\\_C01 & F1S4\\_180124\\_317\\_D01 & F1S4\\_180124\\_317\\_E01 & F1S4\\_180124\\_317\\_F01 & F1S4\\_180124\\_317\\_G01 & F1S4\\_180124\\_317\\_H01\\\\\n",
       "  & <chr> & <int> & <int> & <int> & <int> & <int> & <int> & <int> & <int> & <int> & ... & <int> & <int> & <int> & <int> & <int> & <int> & <int> & <int> & <int> & <int>\\\\\n",
       "\\hline\n",
       "\t1 & 0610005C13Rik &  0 &  0 &   0 &  0 &  0 &   0 &   0 &   0 &  0 & ... &   0 &   0 &   0 &  25 &   0 &   0 &   0 &   0 &   0 &   0\\\\\n",
       "\t2 & 0610006L08Rik &  0 &  0 &   0 &  0 &  0 &   0 &   0 &   0 &  0 & ... &   0 &   0 &   0 &   0 &   0 &   0 &   0 &   0 &   0 &   0\\\\\n",
       "\t3 & 0610007P14Rik & 95 & 48 & 101 & 51 & 36 & 128 & 126 & 102 & 64 & ... & 105 & 139 & 103 & 205 &  88 & 172 &  27 & 108 &  23 & 168\\\\\n",
       "\t4 & 0610009B22Rik & 68 & 47 &  43 & 42 & 58 &  14 &  27 &  68 & 19 & ... &  41 &  86 & 271 & 118 & 101 & 174 & 102 & 121 & 111 & 119\\\\\n",
       "\t5 & 0610009E02Rik &  0 &  0 &  11 &  0 &  0 &   1 &   0 &   0 &  2 & ... &   0 &   0 &   0 &   0 &   0 &   0 &   0 &   0 &   0 &   7\\\\\n",
       "\t6 & 0610009L18Rik &  6 &  7 &   0 &  0 & 26 &   8 &   4 &   0 &  0 & ... &   0 &   0 &   0 &  12 &  10 &  16 &  12 &   0 &   0 &   5\\\\\n",
       "\\end{tabular}\n"
      ],
      "text/markdown": [
       "\n",
       "A data.frame: 6 x 23179\n",
       "\n",
       "| <!--/--> | X &lt;chr&gt; | F2S4_150422_002_A01 &lt;int&gt; | F2S4_150422_002_B01 &lt;int&gt; | F2S4_150422_002_C01 &lt;int&gt; | F2S4_150422_002_D01 &lt;int&gt; | F2S4_150422_002_E01 &lt;int&gt; | F2S4_150422_002_F01 &lt;int&gt; | F2S4_150422_002_G01 &lt;int&gt; | F2S4_150422_002_H01 &lt;int&gt; | F2S4_150427_001_A01 &lt;int&gt; | ... ... | F1S4_180124_316_G01 &lt;int&gt; | F1S4_180124_316_H01 &lt;int&gt; | F1S4_180124_317_A01 &lt;int&gt; | F1S4_180124_317_B01 &lt;int&gt; | F1S4_180124_317_C01 &lt;int&gt; | F1S4_180124_317_D01 &lt;int&gt; | F1S4_180124_317_E01 &lt;int&gt; | F1S4_180124_317_F01 &lt;int&gt; | F1S4_180124_317_G01 &lt;int&gt; | F1S4_180124_317_H01 &lt;int&gt; |\n",
       "|---|---|---|---|---|---|---|---|---|---|---|---|---|---|---|---|---|---|---|---|---|---|\n",
       "| 1 | 0610005C13Rik |  0 |  0 |   0 |  0 |  0 |   0 |   0 |   0 |  0 | ... |   0 |   0 |   0 |  25 |   0 |   0 |   0 |   0 |   0 |   0 |\n",
       "| 2 | 0610006L08Rik |  0 |  0 |   0 |  0 |  0 |   0 |   0 |   0 |  0 | ... |   0 |   0 |   0 |   0 |   0 |   0 |   0 |   0 |   0 |   0 |\n",
       "| 3 | 0610007P14Rik | 95 | 48 | 101 | 51 | 36 | 128 | 126 | 102 | 64 | ... | 105 | 139 | 103 | 205 |  88 | 172 |  27 | 108 |  23 | 168 |\n",
       "| 4 | 0610009B22Rik | 68 | 47 |  43 | 42 | 58 |  14 |  27 |  68 | 19 | ... |  41 |  86 | 271 | 118 | 101 | 174 | 102 | 121 | 111 | 119 |\n",
       "| 5 | 0610009E02Rik |  0 |  0 |  11 |  0 |  0 |   1 |   0 |   0 |  2 | ... |   0 |   0 |   0 |   0 |   0 |   0 |   0 |   0 |   0 |   7 |\n",
       "| 6 | 0610009L18Rik |  6 |  7 |   0 |  0 | 26 |   8 |   4 |   0 |  0 | ... |   0 |   0 |   0 |  12 |  10 |  16 |  12 |   0 |   0 |   5 |\n",
       "\n"
      ],
      "text/plain": [
       "  X             F2S4_150422_002_A01 F2S4_150422_002_B01 F2S4_150422_002_C01\n",
       "1 0610005C13Rik  0                   0                    0                \n",
       "2 0610006L08Rik  0                   0                    0                \n",
       "3 0610007P14Rik 95                  48                  101                \n",
       "4 0610009B22Rik 68                  47                   43                \n",
       "5 0610009E02Rik  0                   0                   11                \n",
       "6 0610009L18Rik  6                   7                    0                \n",
       "  F2S4_150422_002_D01 F2S4_150422_002_E01 F2S4_150422_002_F01\n",
       "1  0                   0                    0                \n",
       "2  0                   0                    0                \n",
       "3 51                  36                  128                \n",
       "4 42                  58                   14                \n",
       "5  0                   0                    1                \n",
       "6  0                  26                    8                \n",
       "  F2S4_150422_002_G01 F2S4_150422_002_H01 F2S4_150427_001_A01 ...\n",
       "1   0                   0                  0                  ...\n",
       "2   0                   0                  0                  ...\n",
       "3 126                 102                 64                  ...\n",
       "4  27                  68                 19                  ...\n",
       "5   0                   0                  2                  ...\n",
       "6   4                   0                  0                  ...\n",
       "  F1S4_180124_316_G01 F1S4_180124_316_H01 F1S4_180124_317_A01\n",
       "1   0                   0                   0                \n",
       "2   0                   0                   0                \n",
       "3 105                 139                 103                \n",
       "4  41                  86                 271                \n",
       "5   0                   0                   0                \n",
       "6   0                   0                   0                \n",
       "  F1S4_180124_317_B01 F1S4_180124_317_C01 F1S4_180124_317_D01\n",
       "1  25                   0                   0                \n",
       "2   0                   0                   0                \n",
       "3 205                  88                 172                \n",
       "4 118                 101                 174                \n",
       "5   0                   0                   0                \n",
       "6  12                  10                  16                \n",
       "  F1S4_180124_317_E01 F1S4_180124_317_F01 F1S4_180124_317_G01\n",
       "1   0                   0                   0                \n",
       "2   0                   0                   0                \n",
       "3  27                 108                  23                \n",
       "4 102                 121                 111                \n",
       "5   0                   0                   0                \n",
       "6  12                   0                   0                \n",
       "  F1S4_180124_317_H01\n",
       "1   0                \n",
       "2   0                \n",
       "3 168                \n",
       "4 119                \n",
       "5   7                \n",
       "6   5                "
      ]
     },
     "metadata": {},
     "output_type": "display_data"
    }
   ],
   "source": [
    "# loading tasic, currently this file is only 78 genes worth of data it has not uploaded properly\n",
    "tasic.exon.counts <- read.csv(paste(tasic.path,'GSE115746_cells_exon_counts.csv.gz',sep = ''))\n",
    "print(dim(tasic.exon.counts))\n",
    "head(tasic.exon.counts)"
   ]
  },
  {
   "cell_type": "code",
   "execution_count": 179,
   "id": "98750f13-ff26-4e46-b51f-37db3b907cc6",
   "metadata": {},
   "outputs": [],
   "source": [
    "rownames(tasic.exon.counts) <- tasic.exon.counts$X\n",
    "tasic.exon.counts <- tasic.exon.counts[,c(2:dim(tasic.exon.counts)[2])]"
   ]
  },
  {
   "cell_type": "code",
   "execution_count": 194,
   "id": "5dadf424-9052-468f-b7b2-1d316b0c2889",
   "metadata": {},
   "outputs": [
    {
     "data": {
      "text/html": [
       "23178"
      ],
      "text/latex": [
       "23178"
      ],
      "text/markdown": [
       "23178"
      ],
      "text/plain": [
       "[1] 23178"
      ]
     },
     "metadata": {},
     "output_type": "display_data"
    }
   ],
   "source": [
    "length(colnames(tasic.exon.counts))"
   ]
  },
  {
   "cell_type": "code",
   "execution_count": 164,
   "id": "46be7c51-aef9-4851-86ce-f86603be6f85",
   "metadata": {},
   "outputs": [
    {
     "data": {
      "text/html": [
       "10556"
      ],
      "text/latex": [
       "10556"
      ],
      "text/markdown": [
       "10556"
      ],
      "text/plain": [
       "[1] 10556"
      ]
     },
     "metadata": {},
     "output_type": "display_data"
    }
   ],
   "source": [
    "#sapply(as.character(jeager2018_meta$source_name), function(y) if (grepl(\"_F_\", y, fixed=TRUE)) \"Fos+\" else \"Fos-\"  )\n",
    "sum(sapply(tasic2018.meta$cell_class, function(x) grepl('GABAergic',x, fixed=TRUE) ))"
   ]
  },
  {
   "cell_type": "code",
   "execution_count": 213,
   "id": "04da3929-6a62-4241-9c07-cabc8bf51f1f",
   "metadata": {},
   "outputs": [
    {
     "data": {
      "text/html": [
       "<style>\n",
       ".list-inline {list-style: none; margin:0; padding: 0}\n",
       ".list-inline>li {display: inline-block}\n",
       ".list-inline>li:not(:last-child)::after {content: \"\\00b7\"; padding: 0 .5ex}\n",
       "</style>\n",
       "<ol class=list-inline><li>6147</li><li>25</li></ol>\n"
      ],
      "text/latex": [
       "\\begin{enumerate*}\n",
       "\\item 6147\n",
       "\\item 25\n",
       "\\end{enumerate*}\n"
      ],
      "text/markdown": [
       "1. 6147\n",
       "2. 25\n",
       "\n",
       "\n"
      ],
      "text/plain": [
       "[1] 6147   25"
      ]
     },
     "metadata": {},
     "output_type": "display_data"
    }
   ],
   "source": [
    "# index's to get the V1 gabanergic cells we want\n",
    "tasic.GABAergic.idx <- sapply(tasic2018.meta$cell_class, function(x) grepl('GABAergic',x, fixed=TRUE) )\n",
    "tasic.V1.idx <- tasic2018.meta$source_name == 'Primary Visual Cortex (VISp)'\n",
    "tasic2018v1_inhibitory.meta <- tasic2018.meta[tasic.V1.idx &  tasic.GABAergic.idx,]\n",
    "dim(tasic2018v1_inhibitory.meta)\n",
    "#"
   ]
  },
  {
   "cell_type": "code",
   "execution_count": 214,
   "id": "5b9bafaf-f19e-49d5-b7fb-abc2f2e0ef56",
   "metadata": {},
   "outputs": [
    {
     "data": {
      "text/plain": [
       "\n",
       "            Lamp5    Meis2    Pvalb Serpinf1     Sncg      Sst      Vip \n",
       "      22     1122       45     1337       27      125     1741     1728 "
      ]
     },
     "metadata": {},
     "output_type": "display_data"
    }
   ],
   "source": [
    "# there are some cell types that weren't present in Bugeon probably due to the limits of coppaFISH\n",
    "# Meis2 and Serpinf1 seem rare, also the unamed cells will be thrown out\n",
    "table(tasic2018v1_inhibitory.meta$cell_subclass)"
   ]
  },
  {
   "cell_type": "code",
   "execution_count": 215,
   "id": "c0b03373-bb27-4c2d-bf1d-ff28bcf2c4d7",
   "metadata": {},
   "outputs": [
    {
     "data": {
      "text/html": [
       "<style>\n",
       ".list-inline {list-style: none; margin:0; padding: 0}\n",
       ".list-inline>li {display: inline-block}\n",
       ".list-inline>li:not(:last-child)::after {content: \"\\00b7\"; padding: 0 .5ex}\n",
       "</style>\n",
       "<ol class=list-inline><li>6053</li><li>25</li></ol>\n"
      ],
      "text/latex": [
       "\\begin{enumerate*}\n",
       "\\item 6053\n",
       "\\item 25\n",
       "\\end{enumerate*}\n"
      ],
      "text/markdown": [
       "1. 6053\n",
       "2. 25\n",
       "\n",
       "\n"
      ],
      "text/plain": [
       "[1] 6053   25"
      ]
     },
     "metadata": {},
     "output_type": "display_data"
    }
   ],
   "source": [
    "# filtering\n",
    "gabacellsubclass.keepers <- c(\"Lamp5\",\"Pvalb\",\"Sncg\",\"Sst\",\"Vip\")\n",
    "tasic2018v1_inhibitory.meta <- tasic2018v1_inhibitory.meta[tasic2018v1_inhibitory.meta$cell_subclass %in% gabacellsubclass.keepers,]\n",
    "dim(tasic2018v1_inhibitory.meta)"
   ]
  },
  {
   "cell_type": "code",
   "execution_count": 217,
   "id": "27a9d709-25ce-436a-b417-1ded6c46cd17",
   "metadata": {},
   "outputs": [
    {
     "name": "stdout",
     "output_type": "stream",
     "text": [
      "[1] 45768  5663\n",
      "[1] 5663   25\n"
     ]
    }
   ],
   "source": [
    "# filter toe make sure we have matching metadata and count data, the coutsn contain some contorl samples we wont use\n",
    "v1gaba.cells.idx <- colnames(tasic.exon.counts) %in% tasic2018v1_inhibitory.meta$sample_name\n",
    "tasic2018.v1_inhibitory.exon.counts <- tasic.exon.counts[,v1gaba.cells.idx]\n",
    "tasic2018v1_inhibitory.meta <- tasic2018v1_inhibitory.meta[tasic2018v1_inhibitory.meta$sample_name %in% colnames(tasic2018.v1_inhibitory.exon.counts),]\n",
    "print(dim(tasic2018.v1_inhibitory.exon.counts))\n",
    "print(dim(tasic2018v1_inhibitory.meta))"
   ]
  },
  {
   "cell_type": "code",
   "execution_count": 219,
   "id": "1fce7b6b-331c-4a04-80fa-aeb9cb5deb3c",
   "metadata": {},
   "outputs": [
    {
     "data": {
      "text/html": [
       "'/home/acampbell/PavLabEngrams/IEG_gradients'"
      ],
      "text/latex": [
       "'/home/acampbell/PavLabEngrams/IEG\\_gradients'"
      ],
      "text/markdown": [
       "'/home/acampbell/PavLabEngrams/IEG_gradients'"
      ],
      "text/plain": [
       "[1] \"/home/acampbell/PavLabEngrams/IEG_gradients\""
      ]
     },
     "metadata": {},
     "output_type": "display_data"
    }
   ],
   "source": [
    "getwd()"
   ]
  },
  {
   "cell_type": "code",
   "execution_count": 184,
   "id": "88236c5b-6a5e-4832-89ca-f3a1baa3e1a7",
   "metadata": {},
   "outputs": [
    {
     "data": {
      "text/html": [
       "<style>\n",
       ".list-inline {list-style: none; margin:0; padding: 0}\n",
       ".list-inline>li {display: inline-block}\n",
       ".list-inline>li:not(:last-child)::after {content: \"\\00b7\"; padding: 0 .5ex}\n",
       "</style>\n",
       "<ol class=list-inline><li>1</li><li>3</li><li>2</li></ol>\n"
      ],
      "text/latex": [
       "\\begin{enumerate*}\n",
       "\\item 1\n",
       "\\item 3\n",
       "\\item 2\n",
       "\\end{enumerate*}\n"
      ],
      "text/markdown": [
       "1. 1\n",
       "2. 3\n",
       "3. 2\n",
       "\n",
       "\n"
      ],
      "text/plain": [
       "[1] 1 3 2"
      ]
     },
     "metadata": {},
     "output_type": "display_data"
    }
   ],
   "source": []
  }
 ],
 "metadata": {
  "kernelspec": {
   "display_name": "R",
   "language": "R",
   "name": "ir"
  },
  "language_info": {
   "codemirror_mode": "r",
   "file_extension": ".r",
   "mimetype": "text/x-r-source",
   "name": "R",
   "pygments_lexer": "r",
   "version": "4.1.3"
  }
 },
 "nbformat": 4,
 "nbformat_minor": 5
}
