{
 "cells": [
  {
   "cell_type": "code",
   "execution_count": 1,
   "id": "c3ad1a32-ed5f-4dd8-af3e-ad30f9b164bd",
   "metadata": {},
   "outputs": [
    {
     "name": "stderr",
     "output_type": "stream",
     "text": [
      "Attaching SeuratObject\n",
      "\n",
      "Attaching sp\n",
      "\n",
      "\n",
      "Attaching package: 'dplyr'\n",
      "\n",
      "\n",
      "The following object is masked from 'package:MASS':\n",
      "\n",
      "    select\n",
      "\n",
      "\n",
      "The following objects are masked from 'package:stats':\n",
      "\n",
      "    filter, lag\n",
      "\n",
      "\n",
      "The following objects are masked from 'package:base':\n",
      "\n",
      "    intersect, setdiff, setequal, union\n",
      "\n",
      "\n",
      "-- \u001b[1mAttaching packages\u001b[22m --------------------------------------- tidyverse 1.3.1 --\n",
      "\n",
      "\u001b[32mv\u001b[39m \u001b[34mggplot2\u001b[39m 3.4.0     \u001b[32mv\u001b[39m \u001b[34mpurrr  \u001b[39m 0.3.4\n",
      "\u001b[32mv\u001b[39m \u001b[34mtibble \u001b[39m 3.1.8     \u001b[32mv\u001b[39m \u001b[34mstringr\u001b[39m 1.4.1\n",
      "\u001b[32mv\u001b[39m \u001b[34mtidyr  \u001b[39m 1.2.1     \u001b[32mv\u001b[39m \u001b[34mforcats\u001b[39m 0.5.2\n",
      "\u001b[32mv\u001b[39m \u001b[34mreadr  \u001b[39m 2.1.3     \n",
      "\n",
      "-- \u001b[1mConflicts\u001b[22m ------------------------------------------ tidyverse_conflicts() --\n",
      "\u001b[31mx\u001b[39m \u001b[34mdplyr\u001b[39m::\u001b[32mfilter()\u001b[39m masks \u001b[34mstats\u001b[39m::filter()\n",
      "\u001b[31mx\u001b[39m \u001b[34mdplyr\u001b[39m::\u001b[32mlag()\u001b[39m    masks \u001b[34mstats\u001b[39m::lag()\n",
      "\u001b[31mx\u001b[39m \u001b[34mdplyr\u001b[39m::\u001b[32mselect()\u001b[39m masks \u001b[34mMASS\u001b[39m::select()\n",
      "\n",
      "Loading required package: JADE\n",
      "\n",
      "Loading required package: ICS\n",
      "\n",
      "Loading required package: mvtnorm\n",
      "\n",
      "Registered S3 method overwritten by 'GGally':\n",
      "  method from   \n",
      "  +.gg   ggplot2\n",
      "\n",
      "Loading required package: ggrepel\n",
      "\n",
      "\n",
      "Attaching package: 'PCAtools'\n",
      "\n",
      "\n",
      "The following objects are masked from 'package:stats':\n",
      "\n",
      "    biplot, screeplot\n",
      "\n",
      "\n"
     ]
    }
   ],
   "source": [
    "library(MASS) # required for PCAtest\n",
    "library(Seurat)\n",
    "library(dplyr)\n",
    "library(tidyverse)\n",
    "library(ICtest) # does bootstrapped analysis of significance of PCA for ICA https://cran.r-project.org/web/packages/ICtest/vignettes/PCA.html\n",
    "library(stats)\n",
    "# this works in Rstudio but on the notebooks it spits out a \n",
    "#library(RGCCA) # regularized CCA vignette here:\n",
    "# can give significances of individual parts of compenents (I think)\n",
    "library(PCAtools)\n",
    "library(pheatmap)\n",
    "#if (!requireNamespace('BiocManager', quietly = TRUE))\n",
    "#  install.packages('BiocManager')\n",
    "#BiocManager::install('PCAtools')\n",
    "library(loadings)\n",
    "# statistical singificnace from boots trap for PCA https://peerj.com/articles/12967.pdf\n",
    "library(PCAtest) # devtools::install_github(\"arleyc/PCAtest\")\n",
    "# avoids axis inversion \"In addition, the problem of ‘axis reflection’ (i.e., the arbitrary permutation of\n",
    "#signs among loadings and PC scores), which is well known in the literature (Jackson,\n",
    "#1995; Mehlman, Shepherd & Kelt, 1995; Peres-Neto, Jackson & Somers, 2003, 2005), is\n",
    "#effectively avoided with these two statistics as originally implemented by Vieira (2012) and\n",
    "#in the R package introduced here\"\n",
    "library(RColorBrewer)\n",
    "# another potential contender: https://rdrr.io/github/ucsf-ferguson-lab/syndRomics/man/boot_pca_sample.prcomp.html\n",
    "# also claims to avoid axis inversion\n",
    "\n",
    "# this can compute significant loadings on PCA\n",
    "# library(loadings)\n",
    "# this functions pca_loading() take prcomp as input\n",
    "# https://cran.r-project.org/web/packages/loadings/loadings.pdf\n",
    "\n",
    "# Yamamoto, H., Fujimori, T., Sato, H., Ishikawa, G., Kami, K., & Ohashi, Y. (2014). \n",
    "# Statistical hypothesis testing of factor loading in principal component analysis and its application \n",
    "# to metabolite set enrichment analysis. BMC bioinformatics, 15, 1-9."
   ]
  },
  {
   "cell_type": "code",
   "execution_count": 2,
   "id": "e79fa729-22d3-4acd-9b5c-71dd4c7a3443",
   "metadata": {},
   "outputs": [],
   "source": [
    "# for bootstrapping significance from PCA\n",
    "# ICtest library\n",
    "# https://cran.r-project.org/web/packages/ICtest/ICtest.pdf\n",
    "# https://cran.r-project.org/web/packages/ICtest/index.html\n",
    "# https://cran.r-project.org/web/packages/ICtest/vignettes/PCA.html\n",
    "#install.packages('ICtest')"
   ]
  },
  {
   "cell_type": "code",
   "execution_count": 3,
   "id": "129bc4d3-4efb-44f4-9de5-4b82881c3b28",
   "metadata": {},
   "outputs": [],
   "source": [
    "# function for cross validated CCA\n",
    "#https://rdrr.io/github/giac01/ccatools/man/cca_cv_boot.html\n",
    "#install.packages('ccatools')"
   ]
  },
  {
   "cell_type": "code",
   "execution_count": 4,
   "id": "b8a87868-e28b-4e52-a42f-4b3057237513",
   "metadata": {},
   "outputs": [
    {
     "data": {
      "text/html": [
       "'/home/acampbell/PavLabEngrams/IEG_gradients/neuroestimator_iegs_list.csv'"
      ],
      "text/latex": [
       "'/home/acampbell/PavLabEngrams/IEG\\_gradients/neuroestimator\\_iegs\\_list.csv'"
      ],
      "text/markdown": [
       "'/home/acampbell/PavLabEngrams/IEG_gradients/neuroestimator_iegs_list.csv'"
      ],
      "text/plain": [
       "[1] \"/home/acampbell/PavLabEngrams/IEG_gradients/neuroestimator_iegs_list.csv\""
      ]
     },
     "metadata": {},
     "output_type": "display_data"
    }
   ],
   "source": [
    "# set paths\n",
    "# from this pub: https://www.nature.com/articles/s41586-022-04915-7#Sec5\n",
    "# cell assingments were done with this: \n",
    "bugeon.path <- '/space/scratch/Bugeon2022_merfish_ca2plus/'\n",
    "\n",
    "\n",
    "# Hrvatin, S., Hochbaum, D. R., Nagy, M. A., Cicconet, M., Robertson, K., Cheadle, L., ... & Greenberg, M. E. (2018). \n",
    "# Single-cell analysis of experience-dependent transcriptomic states in the mouse visual cortex. Nature neuroscience, 21(1), 120-129.\n",
    "#From here: https://www.ncbi.nlm.nih.gov/pmc/articles/PMC5742025/\n",
    "hrvatin.path <- '/home/acampbell/test_datasets/Hrvatin2018/'\n",
    "\n",
    "bahl2022.path <- '/home/acampbell/PavLabEngrams/IEG_gradients/neurestimator_iegs_list.csv'\n",
    "\n",
    "tasic.path <- '/space/scratch/Tasic2018_GSE115746/'\n",
    "\n",
    "neurestimator.iegslist.path <- paste(getwd(),'/','neuroestimator_iegs_list.csv',sep='')\n",
    "neurestimator.iegslist.path"
   ]
  },
  {
   "cell_type": "code",
   "execution_count": 5,
   "id": "05c86b58-1323-4d5c-851e-f86b3b44ddc4",
   "metadata": {},
   "outputs": [],
   "source": [
    "hg_to_mm <- 'PavLabEngrams/EngramCellClassifier/hg_mm_1to1_ortho_genes_DIOPT-v8.tsv'"
   ]
  },
  {
   "cell_type": "code",
   "execution_count": 6,
   "id": "5c36ba42-d091-433f-96c6-8e2b2adbc5b5",
   "metadata": {},
   "outputs": [
    {
     "data": {
      "text/html": [
       "'/home/acampbell/PavLabEngrams/IEG_gradients'"
      ],
      "text/latex": [
       "'/home/acampbell/PavLabEngrams/IEG\\_gradients'"
      ],
      "text/markdown": [
       "'/home/acampbell/PavLabEngrams/IEG_gradients'"
      ],
      "text/plain": [
       "[1] \"/home/acampbell/PavLabEngrams/IEG_gradients\""
      ]
     },
     "metadata": {},
     "output_type": "display_data"
    }
   ],
   "source": [
    "getwd()"
   ]
  },
  {
   "cell_type": "code",
   "execution_count": 7,
   "id": "49a21b87-d63c-44e0-8971-4a70b79155d0",
   "metadata": {},
   "outputs": [],
   "source": [
    "# functions\n",
    "\n",
    "pseudocount_log2p1_transform <- function(x, scale_factor = 10^6, UMI.provided = NULL){\n",
    "  # Almost as Seurat::NormalizeData but we use log2 rather than natural log\n",
    "  # from here https://satijalab.org/seurat/reference/normalizedata\n",
    "  if(is.null(UMI.provided)){\n",
    "    counts <- sum(x)}else{\n",
    "      counts <- UMI.provided\n",
    "    }\n",
    "  x <- (x)/counts # Feature counts for each cell are divided by the total counts for that cell...\n",
    "  x <- x*scale_factor # and multiplied by the scale.factor. \n",
    "  # the we log2 plus 1 rather than natural log plus 1 seurat uses\n",
    "  return(log2(x+1))\n",
    "}\n",
    "\n",
    "pavlab.normalize <- function(df, UMI = NULL, median.scale=FALSE, scaleby = 10000){\n",
    "  df.cols <- colnames(df)\n",
    "  df.rows <- rownames(df)\n",
    "  if(median.scale){ scaleby = median(UMI)}\n",
    "  if( is.null(UMI)){\n",
    "    df <- data.frame(apply(df,  MARGIN = 2, pseudocount_log2p1_transform))\n",
    "  }else{\n",
    "    #\n",
    "    df[] <- Map(pseudocount_log2p1_transform, df, scale_factor = scaleby, UMI.provided = UMI)\n",
    "    \n",
    "  }\n",
    "  colnames(df) <- df.cols\n",
    "  rownames(df)<- df.rows\n",
    "  return(df)\n",
    "}\n",
    "\n",
    "# for finding nth hihgest value, we use it for fincing geens of highest varience\n",
    "maxN <- function(x, N=2){\n",
    "    len <- length(x)\n",
    "    if(N>len){\n",
    "        warning('N greater than length(x).  Setting N=length(x)')\n",
    "        N <- length(x)\n",
    "    }\n",
    "    sort(x,partial=len-N+1)[len-N+1]\n",
    "}\n",
    "\n",
    "# to write pheatmap images to file as a .png\n",
    "save_pheatmap <- function(x, filename, width=480, height=960) {\n",
    "   stopifnot(!missing(x))\n",
    "   stopifnot(!missing(filename))\n",
    "   png(filename,width = width, height=height)\n",
    "   grid::grid.newpage()\n",
    "   grid::grid.draw(x$gtable)\n",
    "   dev.off()\n",
    "}"
   ]
  },
  {
   "cell_type": "markdown",
   "id": "df0aca09-3f68-49d5-9603-f01620b63bd1",
   "metadata": {},
   "source": [
    "### Gene Lists\n",
    "\n",
    "I put together several lists of genes.\n",
    "\n",
    "Bugeon et al., (2022) coppaFISH probes, chosen on basis of being best able to disntinguish cell types in V1.  I also wrote out the order they came in in tPC1 they report in thier publication.  Coppied from figure 5.\n",
    "\n",
    "From Bahl et al., (2022), not a published paper just a preprint.  Use their IEGs, the 41 thy had before filtering to the most correlated together.  These are just the genes that shoed differntial expression in response to some stimulation paradigm with a fold change of 0.5 across thre three studies they chose.  I did not include their last criteria for gene being correlated to one another because I wanted genes that may be more likely to exhibit gradient effects.\n",
    "\n",
    "Ensemble protien coding mouse genes with stable transcript IDs and unique mapping."
   ]
  },
  {
   "cell_type": "code",
   "execution_count": 8,
   "id": "dc82d861-db7e-4207-b79d-3856cb0f25f7",
   "metadata": {},
   "outputs": [],
   "source": [
    "#gene order of bugeon tPC1\n",
    "tPC1.bugeon2022 <- c(\"Pvalb\",\"Slc6a1\",\"Gad1\",\"Lhx6\",\"Serpini1\",\"Tac1\",\"Npy\",\"Cox6a2\",\n",
    "                    \"Gabrd\",\"Rgs4\",\"Cort\",\"Prkca\",\"Crhbp\",\"Sst\",\"Satb1\",\"Calb1\",\"Ntng1\",\n",
    "                    \"Col25a1\",\"Rasgrf2\",\"Nrn1\",\"Rab3c\", \"Bcl11b\",\"Cdh13\",\"Neurod6\",\"Enpp2\",\n",
    "                    \"Hapln1\",\"Wfs1\",\"Pthlh\",\"Lamp5\",\"Kcnk2\",\"Thsd7a\",\"Aldoc\",\"Grin3a\",\"Plcxd2\",\n",
    "                    \"Slc17a8\",\"Plp1\",\"Th\",\"Chodl\",\"Nr4a2\",\"Nos1\",\"Cpne5\",\"Chrm2\",\"Gda\",\n",
    "                    \"Nov\",\"Npy2r\",\"Sema3c\",\"Ndnf\",\"Sncg\",\"Kctd12\",\"Pcp4\",\"Calb2\",\"Trp53i11\",\n",
    "                    \"Cck\",\"Rgs10\",\"Pde1a\",\"Cryab\",\"Crh\",\"Cadps2\",\"Pnoc\",\"Synpr\",\"Id2\",\"Rgs12\",\n",
    "                    \"Snca\",\"Penk\",\"Kit\",\"Cplx2\",\"Reln\",\"Tac2\",\"Htr3a\",\"Vip\",\"Cnr1\",\"Cxcl14\")"
   ]
  },
  {
   "cell_type": "code",
   "execution_count": 9,
   "id": "d1205a3c-d95b-4235-a2e5-6366b8cb35d2",
   "metadata": {},
   "outputs": [
    {
     "data": {
      "text/html": [
       "<style>\n",
       ".list-inline {list-style: none; margin:0; padding: 0}\n",
       ".list-inline>li {display: inline-block}\n",
       ".list-inline>li:not(:last-child)::after {content: \"\\00b7\"; padding: 0 .5ex}\n",
       "</style>\n",
       "<ol class=list-inline><li>'Arc'</li><li>'Atf3'</li><li>'Btg2'</li><li>'Ccdc184'</li><li>'Coq10b'</li><li>'Crem'</li><li>'Csrnp1'</li><li>'Dusp1'</li><li>'Dusp5'</li><li>'Egr1'</li><li>'Egr2'</li><li>'Egr3'</li><li>'Errfi1'</li><li>'Fbxo33'</li><li>'Fos'</li><li>'Fosb'</li><li>'Fosl2'</li><li>'Gadd45g'</li><li>'Gmeb2'</li><li>'Grasp'</li><li>'Herpud1'</li><li>'Ier2'</li><li>'Junb'</li><li>'Klf4'</li><li>'Mbnl2'</li><li>'Npas4'</li><li>'Nr4a1'</li><li>'Nr4a2'</li><li>'Nr4a3'</li><li>'Pcsk1'</li><li>'Peg10'</li><li>'Per1'</li><li>'Plagl1'</li><li>'Ppp1r15a'</li><li>'Ptgs2'</li><li>'Rem2'</li><li>'Rgs2'</li><li>'Sertad1'</li><li>'Sik1'</li><li>'Stard4'</li><li>'Tiparp'</li></ol>\n"
      ],
      "text/latex": [
       "\\begin{enumerate*}\n",
       "\\item 'Arc'\n",
       "\\item 'Atf3'\n",
       "\\item 'Btg2'\n",
       "\\item 'Ccdc184'\n",
       "\\item 'Coq10b'\n",
       "\\item 'Crem'\n",
       "\\item 'Csrnp1'\n",
       "\\item 'Dusp1'\n",
       "\\item 'Dusp5'\n",
       "\\item 'Egr1'\n",
       "\\item 'Egr2'\n",
       "\\item 'Egr3'\n",
       "\\item 'Errfi1'\n",
       "\\item 'Fbxo33'\n",
       "\\item 'Fos'\n",
       "\\item 'Fosb'\n",
       "\\item 'Fosl2'\n",
       "\\item 'Gadd45g'\n",
       "\\item 'Gmeb2'\n",
       "\\item 'Grasp'\n",
       "\\item 'Herpud1'\n",
       "\\item 'Ier2'\n",
       "\\item 'Junb'\n",
       "\\item 'Klf4'\n",
       "\\item 'Mbnl2'\n",
       "\\item 'Npas4'\n",
       "\\item 'Nr4a1'\n",
       "\\item 'Nr4a2'\n",
       "\\item 'Nr4a3'\n",
       "\\item 'Pcsk1'\n",
       "\\item 'Peg10'\n",
       "\\item 'Per1'\n",
       "\\item 'Plagl1'\n",
       "\\item 'Ppp1r15a'\n",
       "\\item 'Ptgs2'\n",
       "\\item 'Rem2'\n",
       "\\item 'Rgs2'\n",
       "\\item 'Sertad1'\n",
       "\\item 'Sik1'\n",
       "\\item 'Stard4'\n",
       "\\item 'Tiparp'\n",
       "\\end{enumerate*}\n"
      ],
      "text/markdown": [
       "1. 'Arc'\n",
       "2. 'Atf3'\n",
       "3. 'Btg2'\n",
       "4. 'Ccdc184'\n",
       "5. 'Coq10b'\n",
       "6. 'Crem'\n",
       "7. 'Csrnp1'\n",
       "8. 'Dusp1'\n",
       "9. 'Dusp5'\n",
       "10. 'Egr1'\n",
       "11. 'Egr2'\n",
       "12. 'Egr3'\n",
       "13. 'Errfi1'\n",
       "14. 'Fbxo33'\n",
       "15. 'Fos'\n",
       "16. 'Fosb'\n",
       "17. 'Fosl2'\n",
       "18. 'Gadd45g'\n",
       "19. 'Gmeb2'\n",
       "20. 'Grasp'\n",
       "21. 'Herpud1'\n",
       "22. 'Ier2'\n",
       "23. 'Junb'\n",
       "24. 'Klf4'\n",
       "25. 'Mbnl2'\n",
       "26. 'Npas4'\n",
       "27. 'Nr4a1'\n",
       "28. 'Nr4a2'\n",
       "29. 'Nr4a3'\n",
       "30. 'Pcsk1'\n",
       "31. 'Peg10'\n",
       "32. 'Per1'\n",
       "33. 'Plagl1'\n",
       "34. 'Ppp1r15a'\n",
       "35. 'Ptgs2'\n",
       "36. 'Rem2'\n",
       "37. 'Rgs2'\n",
       "38. 'Sertad1'\n",
       "39. 'Sik1'\n",
       "40. 'Stard4'\n",
       "41. 'Tiparp'\n",
       "\n",
       "\n"
      ],
      "text/plain": [
       " [1] \"Arc\"      \"Atf3\"     \"Btg2\"     \"Ccdc184\"  \"Coq10b\"   \"Crem\"    \n",
       " [7] \"Csrnp1\"   \"Dusp1\"    \"Dusp5\"    \"Egr1\"     \"Egr2\"     \"Egr3\"    \n",
       "[13] \"Errfi1\"   \"Fbxo33\"   \"Fos\"      \"Fosb\"     \"Fosl2\"    \"Gadd45g\" \n",
       "[19] \"Gmeb2\"    \"Grasp\"    \"Herpud1\"  \"Ier2\"     \"Junb\"     \"Klf4\"    \n",
       "[25] \"Mbnl2\"    \"Npas4\"    \"Nr4a1\"    \"Nr4a2\"    \"Nr4a3\"    \"Pcsk1\"   \n",
       "[31] \"Peg10\"    \"Per1\"     \"Plagl1\"   \"Ppp1r15a\" \"Ptgs2\"    \"Rem2\"    \n",
       "[37] \"Rgs2\"     \"Sertad1\"  \"Sik1\"     \"Stard4\"   \"Tiparp\"  "
      ]
     },
     "metadata": {},
     "output_type": "display_data"
    }
   ],
   "source": [
    "# named meta for being required to exhibit a 0.5 foldchnage in 2 out of 3 studies from Bahl et al., 2022 in biorvx\n",
    "# neuroestimator studies are PMID: 31501571, PMID: 29681534, PMID: 24855953\n",
    "bahl.meta.iegs.df <- read.csv(bahl2022.path)\n",
    "meta.iegs <- bahl.meta.iegs.df$stimulus_responsive_gene\n",
    "meta.iegs"
   ]
  },
  {
   "cell_type": "code",
   "execution_count": 10,
   "id": "82f0963c-aae0-43c0-a5a0-5a5fe8a598dc",
   "metadata": {},
   "outputs": [
    {
     "name": "stdout",
     "output_type": "stream",
     "text": [
      "[1] \"There are this many unique protien coding gene names in our list: 21751\"\n"
     ]
    },
    {
     "data": {
      "text/html": [
       "<table class=\"dataframe\">\n",
       "<caption>A data.frame: 6 x 5</caption>\n",
       "<thead>\n",
       "\t<tr><th></th><th scope=col>Gene.stable.ID</th><th scope=col>Gene.stable.ID.version</th><th scope=col>Transcript.stable.ID</th><th scope=col>Transcript.stable.ID.version</th><th scope=col>Gene.name</th></tr>\n",
       "\t<tr><th></th><th scope=col>&lt;chr&gt;</th><th scope=col>&lt;chr&gt;</th><th scope=col>&lt;chr&gt;</th><th scope=col>&lt;chr&gt;</th><th scope=col>&lt;chr&gt;</th></tr>\n",
       "</thead>\n",
       "<tbody>\n",
       "\t<tr><th scope=row>1</th><td>ENSMUSG00000064341</td><td>ENSMUSG00000064341.1</td><td>ENSMUST00000082392</td><td>ENSMUST00000082392.1</td><td>mt-Nd1 </td></tr>\n",
       "\t<tr><th scope=row>2</th><td>ENSMUSG00000064345</td><td>ENSMUSG00000064345.1</td><td>ENSMUST00000082396</td><td>ENSMUST00000082396.1</td><td>mt-Nd2 </td></tr>\n",
       "\t<tr><th scope=row>3</th><td>ENSMUSG00000064351</td><td>ENSMUSG00000064351.1</td><td>ENSMUST00000082402</td><td>ENSMUST00000082402.1</td><td>mt-Co1 </td></tr>\n",
       "\t<tr><th scope=row>4</th><td>ENSMUSG00000064354</td><td>ENSMUSG00000064354.1</td><td>ENSMUST00000082405</td><td>ENSMUST00000082405.1</td><td>mt-Co2 </td></tr>\n",
       "\t<tr><th scope=row>5</th><td>ENSMUSG00000064356</td><td>ENSMUSG00000064356.1</td><td>ENSMUST00000082407</td><td>ENSMUST00000082407.1</td><td>mt-Atp8</td></tr>\n",
       "\t<tr><th scope=row>6</th><td>ENSMUSG00000064357</td><td>ENSMUSG00000064357.1</td><td>ENSMUST00000082408</td><td>ENSMUST00000082408.1</td><td>mt-Atp6</td></tr>\n",
       "</tbody>\n",
       "</table>\n"
      ],
      "text/latex": [
       "A data.frame: 6 x 5\n",
       "\\begin{tabular}{r|lllll}\n",
       "  & Gene.stable.ID & Gene.stable.ID.version & Transcript.stable.ID & Transcript.stable.ID.version & Gene.name\\\\\n",
       "  & <chr> & <chr> & <chr> & <chr> & <chr>\\\\\n",
       "\\hline\n",
       "\t1 & ENSMUSG00000064341 & ENSMUSG00000064341.1 & ENSMUST00000082392 & ENSMUST00000082392.1 & mt-Nd1 \\\\\n",
       "\t2 & ENSMUSG00000064345 & ENSMUSG00000064345.1 & ENSMUST00000082396 & ENSMUST00000082396.1 & mt-Nd2 \\\\\n",
       "\t3 & ENSMUSG00000064351 & ENSMUSG00000064351.1 & ENSMUST00000082402 & ENSMUST00000082402.1 & mt-Co1 \\\\\n",
       "\t4 & ENSMUSG00000064354 & ENSMUSG00000064354.1 & ENSMUST00000082405 & ENSMUST00000082405.1 & mt-Co2 \\\\\n",
       "\t5 & ENSMUSG00000064356 & ENSMUSG00000064356.1 & ENSMUST00000082407 & ENSMUST00000082407.1 & mt-Atp8\\\\\n",
       "\t6 & ENSMUSG00000064357 & ENSMUSG00000064357.1 & ENSMUST00000082408 & ENSMUST00000082408.1 & mt-Atp6\\\\\n",
       "\\end{tabular}\n"
      ],
      "text/markdown": [
       "\n",
       "A data.frame: 6 x 5\n",
       "\n",
       "| <!--/--> | Gene.stable.ID &lt;chr&gt; | Gene.stable.ID.version &lt;chr&gt; | Transcript.stable.ID &lt;chr&gt; | Transcript.stable.ID.version &lt;chr&gt; | Gene.name &lt;chr&gt; |\n",
       "|---|---|---|---|---|---|\n",
       "| 1 | ENSMUSG00000064341 | ENSMUSG00000064341.1 | ENSMUST00000082392 | ENSMUST00000082392.1 | mt-Nd1  |\n",
       "| 2 | ENSMUSG00000064345 | ENSMUSG00000064345.1 | ENSMUST00000082396 | ENSMUST00000082396.1 | mt-Nd2  |\n",
       "| 3 | ENSMUSG00000064351 | ENSMUSG00000064351.1 | ENSMUST00000082402 | ENSMUST00000082402.1 | mt-Co1  |\n",
       "| 4 | ENSMUSG00000064354 | ENSMUSG00000064354.1 | ENSMUST00000082405 | ENSMUST00000082405.1 | mt-Co2  |\n",
       "| 5 | ENSMUSG00000064356 | ENSMUSG00000064356.1 | ENSMUST00000082407 | ENSMUST00000082407.1 | mt-Atp8 |\n",
       "| 6 | ENSMUSG00000064357 | ENSMUSG00000064357.1 | ENSMUST00000082408 | ENSMUST00000082408.1 | mt-Atp6 |\n",
       "\n"
      ],
      "text/plain": [
       "  Gene.stable.ID     Gene.stable.ID.version Transcript.stable.ID\n",
       "1 ENSMUSG00000064341 ENSMUSG00000064341.1   ENSMUST00000082392  \n",
       "2 ENSMUSG00000064345 ENSMUSG00000064345.1   ENSMUST00000082396  \n",
       "3 ENSMUSG00000064351 ENSMUSG00000064351.1   ENSMUST00000082402  \n",
       "4 ENSMUSG00000064354 ENSMUSG00000064354.1   ENSMUST00000082405  \n",
       "5 ENSMUSG00000064356 ENSMUSG00000064356.1   ENSMUST00000082407  \n",
       "6 ENSMUSG00000064357 ENSMUSG00000064357.1   ENSMUST00000082408  \n",
       "  Transcript.stable.ID.version Gene.name\n",
       "1 ENSMUST00000082392.1         mt-Nd1   \n",
       "2 ENSMUST00000082396.1         mt-Nd2   \n",
       "3 ENSMUST00000082402.1         mt-Co1   \n",
       "4 ENSMUST00000082405.1         mt-Co2   \n",
       "5 ENSMUST00000082407.1         mt-Atp8  \n",
       "6 ENSMUST00000082408.1         mt-Atp6  "
      ]
     },
     "metadata": {},
     "output_type": "display_data"
    }
   ],
   "source": [
    "# gene names of protien coding genes in mice\n",
    "prot.coding.genes.ensmlble.df <- read.csv('/home/acampbell/PavLabEngrams/IEG_gradients/unique_stablestranscriptIDs_m39_gene_names.txt')\n",
    "mouse.prot.coding.genes <- unique(prot.coding.genes.ensmlble.df$Gene.name) # we don't need to map ensemble id's to gene names\n",
    "print(paste(\"There are this many unique protien coding gene names in our list:\", as.character(length((mouse.prot.coding.genes)), sep='')))\n",
    "head(prot.coding.genes.ensmlble.df)"
   ]
  },
  {
   "cell_type": "code",
   "execution_count": null,
   "id": "65ca1ae0-dd27-4a3e-b376-69394bab0cca",
   "metadata": {},
   "outputs": [],
   "source": [
    "bugeon2022.genes <- as.list(read.table(paste(bugeon.path,'genes.names.txt',sep ='')))\n",
    "bugeon2022.genes <- bugeon2022.genes$V1\n",
    "print(length(bugeon2022.genes))\n",
    "bugeon2022.genes\n",
    "# spearmen rank correlation between Bugeon genes and PC1 ranking of them from Hrvatin or Taisic"
   ]
  },
  {
   "cell_type": "markdown",
   "id": "43335b2a-d31c-4bc3-b2ad-80839fd6196b",
   "metadata": {},
   "source": [
    "## Datasets we will use\n",
    "\n",
    "Hrvatin et al., (2018) Dark house mice then exposed to light at 0h (no exposure), 1hr, 4hrs 5hrs (double chekc these time points).\n",
    "\n",
    "Tasic et al., (2018) COntains scRNA-seq from allen brain institute of multiple cortical regions including mouse V1.   Comes with detailed metadata that Bugeon based their classification hierachy on.\n",
    "\n"
   ]
  },
  {
   "cell_type": "code",
   "execution_count": 11,
   "id": "70236884-8fab-4dc4-bb81-3ceaa28e3b53",
   "metadata": {},
   "outputs": [
    {
     "data": {
      "text/html": [
       "<table class=\"dataframe\">\n",
       "<caption>A data.frame: 6 x 6</caption>\n",
       "<thead>\n",
       "\t<tr><th></th><th scope=col>X</th><th scope=col>stim</th><th scope=col>sample</th><th scope=col>maintype</th><th scope=col>celltype</th><th scope=col>subtype</th></tr>\n",
       "\t<tr><th></th><th scope=col>&lt;chr&gt;</th><th scope=col>&lt;chr&gt;</th><th scope=col>&lt;chr&gt;</th><th scope=col>&lt;chr&gt;</th><th scope=col>&lt;chr&gt;</th><th scope=col>&lt;chr&gt;</th></tr>\n",
       "</thead>\n",
       "<tbody>\n",
       "\t<tr><th scope=row>1</th><td>x2_35_0_bc0013</td><td>0h</td><td>B1_1_0h</td><td>Excitatory</td><td>ExcL4  </td><td>ExcL4_3 </td></tr>\n",
       "\t<tr><th scope=row>2</th><td>x2_35_0_bc0014</td><td>0h</td><td>B1_1_0h</td><td>Excitatory</td><td>ExcL5_3</td><td>NA      </td></tr>\n",
       "\t<tr><th scope=row>3</th><td>x2_35_0_bc0016</td><td>0h</td><td>B1_1_0h</td><td>Excitatory</td><td>ExcL5_2</td><td>NA      </td></tr>\n",
       "\t<tr><th scope=row>4</th><td>x2_35_0_bc0017</td><td>0h</td><td>B1_1_0h</td><td>Excitatory</td><td>ExcL6  </td><td>NA      </td></tr>\n",
       "\t<tr><th scope=row>5</th><td>x2_35_0_bc0018</td><td>0h</td><td>B1_1_0h</td><td>Excitatory</td><td>ExcL5_3</td><td>NA      </td></tr>\n",
       "\t<tr><th scope=row>6</th><td>x2_35_0_bc0019</td><td>0h</td><td>B1_1_0h</td><td>Excitatory</td><td>ExcL23 </td><td>ExcL23_1</td></tr>\n",
       "</tbody>\n",
       "</table>\n"
      ],
      "text/latex": [
       "A data.frame: 6 x 6\n",
       "\\begin{tabular}{r|llllll}\n",
       "  & X & stim & sample & maintype & celltype & subtype\\\\\n",
       "  & <chr> & <chr> & <chr> & <chr> & <chr> & <chr>\\\\\n",
       "\\hline\n",
       "\t1 & x2\\_35\\_0\\_bc0013 & 0h & B1\\_1\\_0h & Excitatory & ExcL4   & ExcL4\\_3 \\\\\n",
       "\t2 & x2\\_35\\_0\\_bc0014 & 0h & B1\\_1\\_0h & Excitatory & ExcL5\\_3 & NA      \\\\\n",
       "\t3 & x2\\_35\\_0\\_bc0016 & 0h & B1\\_1\\_0h & Excitatory & ExcL5\\_2 & NA      \\\\\n",
       "\t4 & x2\\_35\\_0\\_bc0017 & 0h & B1\\_1\\_0h & Excitatory & ExcL6   & NA      \\\\\n",
       "\t5 & x2\\_35\\_0\\_bc0018 & 0h & B1\\_1\\_0h & Excitatory & ExcL5\\_3 & NA      \\\\\n",
       "\t6 & x2\\_35\\_0\\_bc0019 & 0h & B1\\_1\\_0h & Excitatory & ExcL23  & ExcL23\\_1\\\\\n",
       "\\end{tabular}\n"
      ],
      "text/markdown": [
       "\n",
       "A data.frame: 6 x 6\n",
       "\n",
       "| <!--/--> | X &lt;chr&gt; | stim &lt;chr&gt; | sample &lt;chr&gt; | maintype &lt;chr&gt; | celltype &lt;chr&gt; | subtype &lt;chr&gt; |\n",
       "|---|---|---|---|---|---|---|\n",
       "| 1 | x2_35_0_bc0013 | 0h | B1_1_0h | Excitatory | ExcL4   | ExcL4_3  |\n",
       "| 2 | x2_35_0_bc0014 | 0h | B1_1_0h | Excitatory | ExcL5_3 | NA       |\n",
       "| 3 | x2_35_0_bc0016 | 0h | B1_1_0h | Excitatory | ExcL5_2 | NA       |\n",
       "| 4 | x2_35_0_bc0017 | 0h | B1_1_0h | Excitatory | ExcL6   | NA       |\n",
       "| 5 | x2_35_0_bc0018 | 0h | B1_1_0h | Excitatory | ExcL5_3 | NA       |\n",
       "| 6 | x2_35_0_bc0019 | 0h | B1_1_0h | Excitatory | ExcL23  | ExcL23_1 |\n",
       "\n"
      ],
      "text/plain": [
       "  X              stim sample  maintype   celltype subtype \n",
       "1 x2_35_0_bc0013 0h   B1_1_0h Excitatory ExcL4    ExcL4_3 \n",
       "2 x2_35_0_bc0014 0h   B1_1_0h Excitatory ExcL5_3  NA      \n",
       "3 x2_35_0_bc0016 0h   B1_1_0h Excitatory ExcL5_2  NA      \n",
       "4 x2_35_0_bc0017 0h   B1_1_0h Excitatory ExcL6    NA      \n",
       "5 x2_35_0_bc0018 0h   B1_1_0h Excitatory ExcL5_3  NA      \n",
       "6 x2_35_0_bc0019 0h   B1_1_0h Excitatory ExcL23   ExcL23_1"
      ]
     },
     "metadata": {},
     "output_type": "display_data"
    }
   ],
   "source": [
    "hrvatin2018.meta <- read.csv(paste(hrvatin.path,'GSE102827_cell_type_assignments.csv.gz', sep = ''))\n",
    "head(hrvatin2018.meta)"
   ]
  },
  {
   "cell_type": "code",
   "execution_count": 12,
   "id": "9457adc9-83f7-424a-8034-94da99c7cd05",
   "metadata": {},
   "outputs": [
    {
     "data": {
      "text/plain": [
       "\n",
       "     Astro     Endo_1     Endo_2     ExcL23      ExcL4    ExcL5_1    ExcL5_2 \n",
       "      7039       3327        123       2963       3198       1976        410 \n",
       "   ExcL5_3      ExcL6        Hip    Int_Cck    Int_Npy     Int_Pv  Int_Sst_1 \n",
       "      1407       3276        137         91        137        227        174 \n",
       " Int_Sst_2    Int_Vip Macrophage    Micro_1    Micro_2      OPC_1      OPC_2 \n",
       "       181        126        537        549       9609       1725        101 \n",
       "    Olig_1     Olig_2     Olig_3     Olig_4     Olig_5     Olig_6     Olig_7 \n",
       "       610        964        846       4047        747        786        630 \n",
       "  Pericyte        RSP       SM_1       SM_2        Sub \n",
       "       782        420        323        298        500 "
      ]
     },
     "metadata": {},
     "output_type": "display_data"
    }
   ],
   "source": [
    "table(hrvatin2018.meta$celltype)"
   ]
  },
  {
   "cell_type": "code",
   "execution_count": 13,
   "id": "4975b50b-f4ec-47df-9892-7e9ef24f417b",
   "metadata": {},
   "outputs": [],
   "source": [
    "# cell types in figure 1f Int_Cck, Int_Npy, Int_Pv, Int_Sst_1, Int_Sst_2, Int_Vip"
   ]
  },
  {
   "cell_type": "code",
   "execution_count": null,
   "id": "0cde3d6c-f20b-4899-aa72-97729a14bd40",
   "metadata": {},
   "outputs": [],
   "source": [
    "hrvatin2018.counts <- read.csv(paste(hrvatin.path, 'GSE102827_merged_all_raw.csv.gz',sep=''))"
   ]
  },
  {
   "cell_type": "code",
   "execution_count": null,
   "id": "24509339-3a3e-43ce-b54d-af1487aee022",
   "metadata": {},
   "outputs": [],
   "source": [
    "dim(hrvatin2018.counts)"
   ]
  },
  {
   "cell_type": "code",
   "execution_count": null,
   "id": "1c35e896-2be7-4525-a912-b3b54712741c",
   "metadata": {},
   "outputs": [],
   "source": [
    "rownames(hrvatin2018.counts) <- hrvatin2018.counts$X"
   ]
  },
  {
   "cell_type": "code",
   "execution_count": null,
   "id": "77358aa1-1932-4110-9958-f7743cb67f34",
   "metadata": {},
   "outputs": [],
   "source": [
    "# sum(is.na(hrvatin2018.counts)) #this will show no na's\n",
    "hrvatin2018.counts <- hrvatin2018.counts[,2:dim(hrvatin2018.counts)[2]]"
   ]
  },
  {
   "cell_type": "code",
   "execution_count": null,
   "id": "37176343-0c52-4089-9fd1-4f6665b141a3",
   "metadata": {},
   "outputs": [],
   "source": [
    "head(hrvatin2018.counts)"
   ]
  },
  {
   "cell_type": "code",
   "execution_count": null,
   "id": "0e06b95f-5528-44e8-a7de-d9e85fadd087",
   "metadata": {},
   "outputs": [],
   "source": [
    "hrvatin2018.meta$umi <- colSums(hrvatin2018.counts)\n",
    "print(hrvatin2018.meta$umi[1:10])\n",
    "hrvatin2018.umi.medianforscalefactor <- median(hrvatin2018.meta$umi)\n",
    "print(hrvatin2018.umi.medianforscalefactor)"
   ]
  },
  {
   "cell_type": "code",
   "execution_count": null,
   "id": "c15e7b5a-ca07-4272-9772-fb9ff625e118",
   "metadata": {},
   "outputs": [],
   "source": [
    "hrvatin.inhibitory.idx <- grep('Int', hrvatin2018.meta$celltype)\n",
    "length(hrvatin.inhibitory.idx)"
   ]
  },
  {
   "cell_type": "code",
   "execution_count": null,
   "id": "7c28b031-20b6-4c4e-ad28-80ec290f16bd",
   "metadata": {},
   "outputs": [],
   "source": [
    "bugeon2022.genes"
   ]
  },
  {
   "cell_type": "code",
   "execution_count": null,
   "id": "d73415ad-d86d-4683-8ded-ee069d3e8f57",
   "metadata": {},
   "outputs": [],
   "source": [
    "tPC1.bugeon2022 %in% bugeon2022.genes$V1"
   ]
  },
  {
   "cell_type": "code",
   "execution_count": null,
   "id": "396f3f01-56ab-4aa7-a4a1-b7b559061ce9",
   "metadata": {},
   "outputs": [],
   "source": [
    "tPC1.bugeon2022[!(tPC1.bugeon2022 %in% bugeon2022.genes)]"
   ]
  },
  {
   "cell_type": "markdown",
   "id": "423a1a4e-e1f1-4712-a630-d4bcce977da8",
   "metadata": {},
   "source": [
    "### Hrvatin\n",
    "\n",
    "Note this data is from dark housed mice exposed ot light for the first time, it's hardly a natural setting."
   ]
  },
  {
   "cell_type": "code",
   "execution_count": null,
   "id": "2ab5f7ea-009c-4572-bc3a-d5fdebcbc13d",
   "metadata": {},
   "outputs": [],
   "source": [
    "hrvatin.counts.inhibitory <- hrvatin2018.counts[,hrvatin.inhibitory.idx]\n",
    "hrvatin.counts.inhibitory.normed <- pavlab.normalize(hrvatin.counts.inhibitory, \n",
    "                                                     UMI=hrvatin2018.meta$umi[hrvatin.inhibitory.idx], \n",
    "                                                     scaleby = hrvatin2018.umi.medianforscalefactor)"
   ]
  },
  {
   "cell_type": "code",
   "execution_count": null,
   "id": "48296cf9-b91e-4424-bb3f-be3055b2ba5e",
   "metadata": {},
   "outputs": [],
   "source": [
    "hrvatin.counts.inhibitory.normed <- as.data.frame(scale(t(hrvatin.counts.inhibitory.normed)))\n",
    "rownames(hrvatin.counts.inhibitory.normed) <- colnames(hrvatin.counts.inhibitory)\n",
    "colnames(hrvatin.counts.inhibitory.normed) <- rownames(hrvatin.counts.inhibitory)"
   ]
  },
  {
   "cell_type": "code",
   "execution_count": null,
   "id": "9414dc61-8d15-4420-ab81-aff0604e91f8",
   "metadata": {},
   "outputs": [],
   "source": [
    "#GSE115746_accession_table.csv.gz  GSE115746_cells_exon_counts.csv.gz  GSE115746_complete_metadata_28706-cells.csv.gz  GSE115746_controls_exon_counts.csv.gz"
   ]
  },
  {
   "cell_type": "code",
   "execution_count": null,
   "id": "3b367f9c-65b3-46be-8c4c-a8c4cbc2a6e3",
   "metadata": {},
   "outputs": [],
   "source": [
    "hrvatin.inhib.pca <- pca(hrvatin.counts.inhibitory.normed)"
   ]
  },
  {
   "cell_type": "markdown",
   "id": "da98df80-a22b-4dde-a89d-096fa8881e2b",
   "metadata": {},
   "source": [
    "Looks like the activity state of the cells is dominating the data.  There is one PC and no others according to this."
   ]
  },
  {
   "cell_type": "code",
   "execution_count": null,
   "id": "a17e6577-eee7-4763-bf65-a43e85a2d9d1",
   "metadata": {},
   "outputs": [],
   "source": [
    "plot(hrvatin.inhib.pca$variance)"
   ]
  },
  {
   "cell_type": "code",
   "execution_count": null,
   "id": "8cfcb593-4e02-4e9e-9a75-5a91c5ecb983",
   "metadata": {},
   "outputs": [],
   "source": [
    "tPC1_fromrnaseq.hrvatingenes <- data.frame(gene = colnames(hrvatin.counts.inhibitory.normed), tPC1=hrvatin.inhib.pca$rotated$PC1) %>%\n",
    "    arrange(tPC1)\n",
    "print(dim(tPC1_fromrnaseq.hrvatingenes ))\n",
    "head(tPC1_fromrnaseq.hrvatingenes)"
   ]
  },
  {
   "cell_type": "code",
   "execution_count": null,
   "id": "d0c58dfb-f8d1-48f6-ab49-7ce76b17bab4",
   "metadata": {},
   "outputs": [],
   "source": [
    "tPC1_fromrnaseq.bugeongenes <- tPC1_fromrnaseq.hrvatingenes[tPC1_fromrnaseq.hrvatingenes$gene %in% bugeon2022.genes,]\n",
    "tPC1_fromrnaseq.bugeongenes "
   ]
  },
  {
   "cell_type": "code",
   "execution_count": null,
   "id": "db1b82d1-3afc-4ee9-8aca-f860b4490604",
   "metadata": {},
   "outputs": [],
   "source": [
    "# careful here PCA can flip signs, just make sure Pvalb and Vip are at opposing ends of the rankings\n",
    "rank.tPC1.from_rnaseq <- c(1:length(tPC1_fromrnaseq.bugeongenes$gene))\n",
    "rank.tPC1.from_coppaFISH <- c()\n",
    "for(thisgene in tPC1.bugeon2022){\n",
    "    position_in_rnaseqPC1 <- match(thisgene, tPC1_fromrnaseq.bugeongenes$gene)\n",
    "    rank.tPC1.from_coppaFISH <- c(rank.tPC1.from_coppaFISH, position_in_rnaseqPC1 ) # append position in other list\n",
    "}"
   ]
  },
  {
   "cell_type": "code",
   "execution_count": null,
   "id": "bd3fc636-d46f-4f4a-a79d-d155add91757",
   "metadata": {},
   "outputs": [],
   "source": [
    "tPC1_fromrnaseq.bugeongenes$rank_in_hrvatin <- rank.tPC1.from_rnaseq\n",
    "tPC1_fromrnaseq.bugeongenes$rank_in_bugeon <- rank.tPC1.from_coppaFISH\n",
    "tPC1_fromrnaseq.bugeongenes$gene <- as.factor(tPC1_fromrnaseq.bugeongenes$gene)\n",
    "rownames(tPC1_fromrnaseq.bugeongenes)"
   ]
  },
  {
   "cell_type": "code",
   "execution_count": null,
   "id": "2ada1b87-190d-40fe-b2e5-28d7c70a058a",
   "metadata": {},
   "outputs": [],
   "source": [
    "head(tPC1_fromrnaseq.bugeongenes)"
   ]
  },
  {
   "cell_type": "code",
   "execution_count": null,
   "id": "3bddb31e-1134-4f2b-87db-603f97119a64",
   "metadata": {},
   "outputs": [],
   "source": [
    "cor.test( tPC1_fromrnaseq.bugeongenes$rank_in_hrvatin,  tPC1_fromrnaseq.bugeongenes$rank_in_bugeon, \n",
    "         method = 'spearman', data = tPC1_fromrnaseq.bugeongenes)"
   ]
  },
  {
   "cell_type": "markdown",
   "id": "08c0dc43-0608-43de-882d-07bf11a15215",
   "metadata": {},
   "source": [
    "So we have a good correlation when we use all the genes in Hrvatin, rember that this is a highly abnormal dataset,\n",
    "these mice have been darkhoused for 2 months.  Both resticting it to the Bugeon genes only and computing PCs as well as just the original mapping presserves the rank of the genes in the PC, though admittedly they all have the same sign in the full gene list (i.e. are all positively or negatively loaded)."
   ]
  },
  {
   "cell_type": "code",
   "execution_count": null,
   "id": "865eed10-469d-4e49-91e7-ead7c8a216f8",
   "metadata": {},
   "outputs": [],
   "source": [
    "# and if we calculate it with just the bugeon genes for the pca?\n",
    "hrvatin.inhib.pca.restrictedlist <- pca(hrvatin.counts.inhibitory.normed[,bugeon2022.genes])\n",
    "plot(hrvatin.inhib.pca.restrictedlist$variance)"
   ]
  },
  {
   "cell_type": "markdown",
   "id": "5761308d-a2c1-40b4-9ada-179d3368585a",
   "metadata": {},
   "source": [
    "This looks a little healthier honestly."
   ]
  },
  {
   "cell_type": "code",
   "execution_count": null,
   "id": "27c256e9-8ec6-452e-bd6d-7d533fe4e277",
   "metadata": {},
   "outputs": [],
   "source": [
    "colnames(hrvatin.counts.inhibitory.normed[,bugeon2022.genes])"
   ]
  },
  {
   "cell_type": "code",
   "execution_count": null,
   "id": "7c4ef567-725f-4c67-8ecf-e63a612036f1",
   "metadata": {},
   "outputs": [],
   "source": [
    "tPC1_fromrnaseq.hrvatingenes <- data.frame(gene = colnames(hrvatin.counts.inhibitory.normed[,bugeon2022.genes]),\n",
    "                                           tPC1 = hrvatin.inhib.pca.restrictedlist$rotated$PC1) %>% arrange(tPC1)\n",
    "    \n",
    "print(dim(tPC1_fromrnaseq.hrvatingenes ))\n",
    "tPC1_fromrnaseq.hrvatingenes"
   ]
  },
  {
   "cell_type": "code",
   "execution_count": null,
   "id": "c7746a81-e0e8-4e67-863f-0856ae32d7e6",
   "metadata": {},
   "outputs": [],
   "source": [
    "# careful here PCA can flip signs, just make sure Pvalb and Vip are at opposing ends of the rankings\n",
    "rank.tPC1.from_rnaseq <- c(1:length(tPC1_fromrnaseq.bugeongenes$gene))\n",
    "rank.tPC1.from_coppaFISH <- c()\n",
    "for(thisgene in tPC1.bugeon2022){\n",
    "    position_in_rnaseqPC1 <- match(thisgene, tPC1_fromrnaseq.bugeongenes$gene)\n",
    "    rank.tPC1.from_coppaFISH <- c(rank.tPC1.from_coppaFISH, position_in_rnaseqPC1 ) # append position in other list\n",
    "}"
   ]
  },
  {
   "cell_type": "code",
   "execution_count": null,
   "id": "ca33a000-b680-43f8-9018-aaf3b5ae54cc",
   "metadata": {},
   "outputs": [],
   "source": [
    "tPC1_fromrnaseq.bugeongenes$rank_in_hrvatin <- rank.tPC1.from_rnaseq\n",
    "tPC1_fromrnaseq.bugeongenes$rank_in_bugeon <- rank.tPC1.from_coppaFISH\n",
    "tPC1_fromrnaseq.bugeongenes$gene <- as.factor(tPC1_fromrnaseq.bugeongenes$gene)\n",
    "rownames(tPC1_fromrnaseq.bugeongenes)"
   ]
  },
  {
   "cell_type": "code",
   "execution_count": null,
   "id": "a693a69a-5039-4f55-b60a-158ce52ff8ff",
   "metadata": {},
   "outputs": [],
   "source": [
    "head(tPC1_fromrnaseq.bugeongenes)"
   ]
  },
  {
   "cell_type": "code",
   "execution_count": null,
   "id": "79bd5036-14fd-4b25-95ed-3c48504f286c",
   "metadata": {},
   "outputs": [],
   "source": [
    "cor.test( tPC1_fromrnaseq.bugeongenes$rank_in_hrvatin,  tPC1_fromrnaseq.bugeongenes$rank_in_bugeon, \n",
    "         method = 'spearman', data = tPC1_fromrnaseq.bugeongenes)"
   ]
  },
  {
   "cell_type": "markdown",
   "id": "2146d6fe-dea2-4c12-9113-140b290b8795",
   "metadata": {},
   "source": [
    "So the rank correlation is 0.5 between both datasets for the ordering on  PC1 of the gtranscriptomic data in Hrvatin and Bugeon.\n",
    "with decent significance.  Enough to pass a bonferroni threshold for a number of tests.  You can also note Just by lookuing at the major cell type markers in the PCs that they oppose one another, espescially in the restricted list PC.  This is just from less than 1000 cells between the two datasets as well."
   ]
  },
  {
   "cell_type": "markdown",
   "id": "4880724a-4a5b-4f04-998d-480e16501f33",
   "metadata": {},
   "source": [
    "### Tasic data"
   ]
  },
  {
   "cell_type": "code",
   "execution_count": null,
   "id": "9967cb89-786f-49a0-9858-bf4e36da8bc6",
   "metadata": {},
   "outputs": [],
   "source": [
    "list.files(tasic.path)"
   ]
  },
  {
   "cell_type": "code",
   "execution_count": null,
   "id": "b5011f5d-2719-4d39-954d-9813b4e0efb8",
   "metadata": {},
   "outputs": [],
   "source": [
    "tasic2018.meta <- read_csv(paste(tasic.path,'GSE115746_complete_metadata_28706-cells.csv',sep=''))"
   ]
  },
  {
   "cell_type": "code",
   "execution_count": null,
   "id": "34725f49-7bfa-4d46-a243-9384a2b6079e",
   "metadata": {},
   "outputs": [],
   "source": [
    "head(tasic2018.meta)"
   ]
  },
  {
   "cell_type": "code",
   "execution_count": null,
   "id": "d9286d64-2b62-4a1e-a0be-b0aabce2def6",
   "metadata": {},
   "outputs": [],
   "source": [
    "'GSE115746_cells_exon_counts.csv'"
   ]
  },
  {
   "cell_type": "code",
   "execution_count": null,
   "id": "0f3b5dd7-aada-40cb-917e-9d685228961f",
   "metadata": {},
   "outputs": [],
   "source": [
    "# loading tasic, currently this file is only 78 genes worth of data it has not uploaded properly\n",
    "tasic.exon.counts <- read.csv(paste(tasic.path,'GSE115746_cells_exon_counts.csv.gz',sep = ''))\n",
    "print(dim(tasic.exon.counts))\n",
    "head(tasic.exon.counts)"
   ]
  },
  {
   "cell_type": "code",
   "execution_count": null,
   "id": "98750f13-ff26-4e46-b51f-37db3b907cc6",
   "metadata": {},
   "outputs": [],
   "source": [
    "rownames(tasic.exon.counts) <- tasic.exon.counts$X\n",
    "tasic.exon.counts <- tasic.exon.counts[,c(2:dim(tasic.exon.counts)[2])]"
   ]
  },
  {
   "cell_type": "code",
   "execution_count": null,
   "id": "5dadf424-9052-468f-b7b2-1d316b0c2889",
   "metadata": {},
   "outputs": [],
   "source": [
    "length(colnames(tasic.exon.counts))"
   ]
  },
  {
   "cell_type": "markdown",
   "id": "c09401d4-0abe-48c9-a09d-8114c5dcff83",
   "metadata": {},
   "source": [
    "Tasic describes no gene filtering beyond alignment, only used exons for UMI counts so we can do that as well I geuss.  Also cells thta did not pass thresholds did not get assigned to a class, subclass, or cluster."
   ]
  },
  {
   "cell_type": "code",
   "execution_count": null,
   "id": "7e2c234c-0207-4008-b859-fc39aec3033a",
   "metadata": {},
   "outputs": [],
   "source": [
    "tasic2018.meta <-read.csv(paste(tasic.path,'GSE115746_complete_metadata_28706-cells.csv', sep = ''))\n",
    "head(tasic2018.meta)"
   ]
  },
  {
   "cell_type": "code",
   "execution_count": null,
   "id": "a25d5fdc-030b-444c-aae0-370808f5a47a",
   "metadata": {},
   "outputs": [],
   "source": [
    "#sapply(as.character(jeager2018_meta$source_name), function(y) if (grepl(\"_F_\", y, fixed=TRUE)) \"Fos+\" else \"Fos-\"  )\n",
    "sum(sapply(tasic2018.meta$cell_class, function(x) grepl('GABAergic',x, fixed=TRUE) ))"
   ]
  },
  {
   "cell_type": "code",
   "execution_count": null,
   "id": "04da3929-6a62-4241-9c07-cabc8bf51f1f",
   "metadata": {},
   "outputs": [],
   "source": [
    "# index's to get the V1 gabanergic cells we want\n",
    "tasic.GABAergic.idx <- sapply(tasic2018.meta$cell_class, function(x) grepl('GABAergic',x, fixed=TRUE) )\n",
    "tasic.V1.idx <- tasic2018.meta$source_name == 'Primary Visual Cortex (VISp)'\n",
    "tasic2018v1_inhibitory.meta <- tasic2018.meta[tasic.V1.idx &  tasic.GABAergic.idx,]\n",
    "dim(tasic2018v1_inhibitory.meta)\n",
    "#"
   ]
  },
  {
   "cell_type": "code",
   "execution_count": null,
   "id": "5b9bafaf-f19e-49d5-b7fb-abc2f2e0ef56",
   "metadata": {},
   "outputs": [],
   "source": [
    "# there are some cell types that weren't present in Bugeon probably due to the limits of coppaFISH\n",
    "# Meis2 and Serpinf1 seem rare, also the unamed cells will be thrown out\n",
    "table(tasic2018v1_inhibitory.meta$cell_subclass)"
   ]
  },
  {
   "cell_type": "code",
   "execution_count": null,
   "id": "c0b03373-bb27-4c2d-bf1d-ff28bcf2c4d7",
   "metadata": {},
   "outputs": [],
   "source": [
    "# filtering\n",
    "gabacellsubclass.keepers <- c(\"Lamp5\",\"Pvalb\",\"Sncg\",\"Sst\",\"Vip\")\n",
    "tasic2018v1_inhibitory.meta <- tasic2018v1_inhibitory.meta[tasic2018v1_inhibitory.meta$cell_subclass %in% gabacellsubclass.keepers,]\n",
    "dim(tasic2018v1_inhibitory.meta)"
   ]
  },
  {
   "cell_type": "code",
   "execution_count": null,
   "id": "27a9d709-25ce-436a-b417-1ded6c46cd17",
   "metadata": {},
   "outputs": [],
   "source": [
    "# filter toe make sure we have matching metadata and count data, the coutsn contain some contorl samples we wont use\n",
    "v1gaba.cells.idx <- colnames(tasic.exon.counts) %in% tasic2018v1_inhibitory.meta$sample_name\n",
    "tasic2018.v1_inhibitory.exon.counts <- tasic.exon.counts[,v1gaba.cells.idx]\n",
    "tasic2018v1_inhibitory.meta <- tasic2018v1_inhibitory.meta[tasic2018v1_inhibitory.meta$sample_name %in% colnames(tasic2018.v1_inhibitory.exon.counts),]\n",
    "print(dim(tasic2018.v1_inhibitory.exon.counts))\n",
    "print(dim(tasic2018v1_inhibitory.meta))"
   ]
  },
  {
   "cell_type": "code",
   "execution_count": null,
   "id": "f88296bf-0a87-4d89-a81f-928737848266",
   "metadata": {},
   "outputs": [],
   "source": [
    "# calculating the scale facotr as the median UMI counts \n",
    "tasic.scalefactor.median <- median(colSums(tasic.exon.counts))\n",
    "tasic.scalefactor.median"
   ]
  },
  {
   "cell_type": "markdown",
   "id": "32e83d46-e929-4972-b645-afac6c082101",
   "metadata": {},
   "source": [
    "Note that because we are not using the controls data it is difficult to give the meta data a UMI comlumn I'd have to assign it to non control cellw hwich seem intermixed in it.  Better to just do filtering on genes afterwards. Also since cells that were not assigned a class or whatever were filtered by the original authors simply by selecting cells which have an assignment we are fitleringout doublets, cells with low reads etc etc"
   ]
  },
  {
   "cell_type": "code",
   "execution_count": null,
   "id": "a9974722-8ab1-47e7-9146-d68b8a4178a3",
   "metadata": {},
   "outputs": [],
   "source": [
    "# note the median it taken from across all cells exonic reads not just inhibitory cells\n",
    "tasic2018.v1_inhibitory.exon.counts.normed <- pavlab.normalize(tasic2018.v1_inhibitory.exon.counts, scaleby = tasic.scalefactor.median)"
   ]
  },
  {
   "cell_type": "code",
   "execution_count": null,
   "id": "a1b8bcdf-b3a5-44ed-8490-5a13d3dc5cac",
   "metadata": {},
   "outputs": [],
   "source": [
    "#filter our genes for only protien coding genes\n",
    "matched.protcoding.genes <- mouse.prot.coding.genes[mouse.prot.coding.genes %in% rownames(tasic2018.v1_inhibitory.exon.counts.normed)]\n",
    "tasic2018.v1_inhibitory.exon.counts.normed.unfiltered <- tasic2018.v1_inhibitory.exon.counts.normed[matched.protcoding.genes,]\n",
    "#filter our genes for only protien coding genes\n",
    "dim(tasic2018.v1_inhibitory.exon.counts.normed.unfiltered)"
   ]
  },
  {
   "cell_type": "code",
   "execution_count": null,
   "id": "ca5c7a1f-8d00-4678-adf9-7122b7eaf191",
   "metadata": {},
   "outputs": [],
   "source": [
    "# genes in the datasets from our other lsits\n",
    "print(meta.iegs[meta.iegs  %in% rownames(tasic2018.v1_inhibitory.exon.counts.normed.unfiltered)])\n",
    "print(bugeon2022.genes[bugeon2022.genes  %in% rownames(tasic2018.v1_inhibitory.exon.counts.normed.unfiltered)])"
   ]
  },
  {
   "cell_type": "code",
   "execution_count": null,
   "id": "b3c31545-d432-42e5-ae4a-6ee93025c76c",
   "metadata": {},
   "outputs": [],
   "source": [
    "# and if we calculate it with just the bugeon genes for the pca?\n",
    "# this solution need Rfast and matrixStats whihc will not load for some reason\n",
    "#genevars <- rowVars(as.matrix(tasic2018.v1_inhibitory.exon.counts.normed))\n",
    "#nth_hihgest.3k <- Rfast::nth(x, 3000, descending = T) # ntoh highest value in this case 3000th hihgest\n",
    "\n",
    "# alternative solution with customer function and apply()\n",
    "# originally it was 3k i just left the variable name as is\n",
    "genevars <- apply(tasic2018.v1_inhibitory.exon.counts.normed.unfiltered, 1, var)\n",
    "nth_hihgest.3k <- maxN(genevars,4000)"
   ]
  },
  {
   "cell_type": "code",
   "execution_count": null,
   "id": "e747985e-6378-4f15-b158-48943c4a1534",
   "metadata": {},
   "outputs": [],
   "source": [
    "# checking waht genes survive the thresholding\n",
    "print(\"number of genes afer thresholding\")\n",
    "print(sum(genevars>=nth_hihgest.3k))\n",
    "print(\"genes from iegs list in set\")\n",
    "print(meta.iegs[meta.iegs  %in% rownames(tasic2018.v1_inhibitory.exon.counts.normed.unfiltered)[genevars>=nth_hihgest.3k]])\n",
    "print(\"genes from bugeon in set\")\n",
    "print(bugeon2022.genes[bugeon2022.genes  %in% rownames(tasic2018.v1_inhibitory.exon.counts.normed.unfiltered)[genevars>=nth_hihgest.3k]])"
   ]
  },
  {
   "cell_type": "markdown",
   "id": "d65aa453-9db6-4796-b8f7-ea2ff21fc843",
   "metadata": {},
   "source": [
    "I can live with this, for the IEG figure and actiivty scores we will use the unfiltered data"
   ]
  },
  {
   "cell_type": "code",
   "execution_count": null,
   "id": "5816baf5-1329-419d-b61b-e8ec15c22fa3",
   "metadata": {},
   "outputs": [],
   "source": [
    "print(length(meta.iegs))\n",
    "meta.iegs"
   ]
  },
  {
   "cell_type": "code",
   "execution_count": null,
   "id": "8b43c800-4a53-4c15-9bc3-7f31a75a4716",
   "metadata": {},
   "outputs": [],
   "source": [
    "print(length(bugeon2022.genes))\n",
    "bugeon2022.genes"
   ]
  },
  {
   "cell_type": "code",
   "execution_count": null,
   "id": "d9d797ad-21af-4ac6-8e93-5ad417e9473b",
   "metadata": {},
   "outputs": [],
   "source": [
    "# unfortunately with the full gene set Tasic can't compute the PCs in a reasonable time so I've fitlered it down to the genes that are the\n",
    "# most hihgly variable in the inhibitory cells spcifically, this unfortunately means we drop out some of the bugeon genes\n",
    "# the cell type markers remain however\n",
    "print(length(bugeon2022.genes))\n",
    "sum(bugeon2022.genes %in% rownames(tasic2018.v1_inhibitory.exon.counts.normed.unfiltered)[genevars>=nth_hihgest.3k])\n",
    "bugeon2022.genes[bugeon2022.genes %in% rownames(tasic2018.v1_inhibitory.exon.counts.normed.unfiltered)[genevars>=nth_hihgest.3k]]"
   ]
  },
  {
   "cell_type": "code",
   "execution_count": null,
   "id": "595338e6-5318-41cb-b1c2-c471c3678013",
   "metadata": {},
   "outputs": [],
   "source": [
    "#tasic2018.v1_inhibitory.exon.counts.normed <- tasic2018.v1_inhibitory.exon.counts.normed.unfiltered\n",
    "tasic2018.v1_inhibitory.exon.counts.normed <- tasic2018.v1_inhibitory.exon.counts.normed.unfiltered[genevars>=nth_hihgest.3k,]\n",
    "bugeongenes.intop3kc <- bugeon2022.genes[bugeon2022.genes %in% rownames(tasic2018.v1_inhibitory.exon.counts.normed)]"
   ]
  },
  {
   "cell_type": "code",
   "execution_count": null,
   "id": "2365e34f-f789-478c-a36b-2453e0866b17",
   "metadata": {},
   "outputs": [],
   "source": [
    "genes <- rownames(tasic2018.v1_inhibitory.exon.counts.normed)\n",
    "cell.ids <- colnames(tasic2018.v1_inhibitory.exon.counts.normed)"
   ]
  },
  {
   "cell_type": "code",
   "execution_count": null,
   "id": "40e82e0b-b552-417e-a804-85539084b8fc",
   "metadata": {},
   "outputs": [],
   "source": [
    "# quality check to make sure data has not been screwed up\n",
    "length(genes)\n",
    "length(cell.ids)"
   ]
  },
  {
   "cell_type": "code",
   "execution_count": null,
   "id": "73d9f6bb-211f-4031-8802-c406f3d648c5",
   "metadata": {},
   "outputs": [],
   "source": [
    "tasic2018.v1_inhibitory.exon.counts.normed <-as.data.frame(scale(t(tasic2018.v1_inhibitory.exon.counts.normed)))\n",
    "# after t() the data becomes a matrix and loses its colnames an rownames we need to get them from the og df but row ->cols and vice versa\n",
    "colnames(tasic2018.v1_inhibitory.exon.counts.normed) <- genes \n",
    "rownames(tasic2018.v1_inhibitory.exon.counts.normed) <- cell.ids"
   ]
  },
  {
   "cell_type": "code",
   "execution_count": null,
   "id": "5e8ef9db-d2c6-4f2f-9e58-4255f1bf9cc5",
   "metadata": {},
   "outputs": [],
   "source": [
    "# no NA is good\n",
    "sum(is.na(tasic2018.v1_inhibitory.exon.counts.normed))"
   ]
  },
  {
   "cell_type": "code",
   "execution_count": null,
   "id": "0a018feb-24ce-43a6-8e34-3bf730bc8325",
   "metadata": {},
   "outputs": [],
   "source": [
    "print(dim(tasic2018.v1_inhibitory.exon.counts.normed))\n",
    "tasic2018.v1_inhibitory.exon.counts.normed[1:10,1:10]"
   ]
  },
  {
   "cell_type": "markdown",
   "id": "c1bc345a-1709-4c3a-af05-9a77855761a2",
   "metadata": {},
   "source": [
    "Now we compute the PC's."
   ]
  },
  {
   "cell_type": "code",
   "execution_count": null,
   "id": "e229d4c9-9d43-4276-a7fa-39a8a4a30ad7",
   "metadata": {},
   "outputs": [],
   "source": [
    "tasic2018.v1_inhibitory.exon.pca <- pca(tasic2018.v1_inhibitory.exon.counts.normed)\n",
    "plot(tasic2018.v1_inhibitory.exon.pca$variance)"
   ]
  },
  {
   "cell_type": "code",
   "execution_count": null,
   "id": "6f0a2524-ce0f-4149-bca2-64b0f7f2162c",
   "metadata": {},
   "outputs": [],
   "source": [
    "tPC1_fromTasic2018 <- data.frame(gene = colnames(tasic2018.v1_inhibitory.exon.counts.normed),\n",
    "                                           tPC1 = tasic2018.v1_inhibitory.exon.pca$rotated$PC1) %>% arrange(tPC1)\n",
    "head(tPC1_fromTasic2018)"
   ]
  },
  {
   "cell_type": "code",
   "execution_count": null,
   "id": "1ab16758-817f-4bf8-a52f-cf7c3a20406a",
   "metadata": {},
   "outputs": [],
   "source": [
    "tPC1_fromTasic2018.bugeongenesonly <- tPC1_fromTasic2018[tPC1_fromTasic2018$gene %in% bugeon2022.genes,]\n",
    "\n",
    "print(dim(tPC1_fromTasic2018.bugeongenesonly  ))\n",
    "tPC1_fromTasic2018.bugeongenesonly"
   ]
  },
  {
   "cell_type": "code",
   "execution_count": null,
   "id": "612ecd34-c468-4e76-aef1-36d9a782e431",
   "metadata": {},
   "outputs": [],
   "source": [
    "length(tPC1_fromTasic2018.bugeongenesonly$gene)\n",
    "duplicated(tPC1_fromTasic2018.bugeongenesonly$gene)"
   ]
  },
  {
   "cell_type": "code",
   "execution_count": null,
   "id": "875fcfe5-8429-4f4b-97ff-8ba3db572ac0",
   "metadata": {},
   "outputs": [],
   "source": [
    "# careful here PCA can flip signs, just make sure Pvalb and Vip are at opposing ends of the rankings\n",
    "rank.tPC1.from_rnaseq <- c(1:length(tPC1_fromTasic2018.bugeongenesonly$gene))\n",
    "rank.tPC1.from_coppaFISH <- c()\n",
    "for(thisgene in tPC1.bugeon2022[tPC1.bugeon2022 %in% tPC1_fromTasic2018.bugeongenesonly$gene]){\n",
    "    position_in_rnaseqPC1 <- match(thisgene, tPC1_fromTasic2018.bugeongenesonly$gene)\n",
    "    rank.tPC1.from_coppaFISH <- c(rank.tPC1.from_coppaFISH, position_in_rnaseqPC1 ) # append position in other list\n",
    "}\n",
    "\n",
    "tPC1_fromTasic2018.bugeongenesonly$rank_in_tasic <- rank.tPC1.from_rnaseq\n",
    "tPC1_fromTasic2018.bugeongenesonly$rank_in_bugeon <- rank.tPC1.from_coppaFISH\n",
    "tPC1_fromTasic2018.bugeongenesonly$gene <- as.factor(tPC1_fromTasic2018.bugeongenesonly$gene)\n",
    "rownames(tPC1_fromTasic2018.bugeongenesonly)"
   ]
  },
  {
   "cell_type": "code",
   "execution_count": null,
   "id": "68ab719f-9731-4351-889f-994aa71f617c",
   "metadata": {},
   "outputs": [],
   "source": [
    "head(tPC1_fromTasic2018.bugeongenesonly)"
   ]
  },
  {
   "cell_type": "code",
   "execution_count": null,
   "id": "e8f0087e-dafa-44b3-a36f-4b8a81eb78e2",
   "metadata": {},
   "outputs": [],
   "source": [
    "cor.test( tPC1_fromTasic2018.bugeongenesonly$rank_in_tasic,  tPC1_fromTasic2018.bugeongenesonly$rank_in_bugeon, \n",
    "         method = 'spearman', data = tPC1_fromrnaseq.bugeongenes)"
   ]
  },
  {
   "cell_type": "markdown",
   "id": "a9f3e1dc-7a54-4b2e-ad96-883bfafe4eb5",
   "metadata": {},
   "source": [
    "We can also compute it with just the Bugeon genes but it's better this way."
   ]
  },
  {
   "cell_type": "markdown",
   "id": "d9e0a54a-a03a-49ca-8971-05477fb2809a",
   "metadata": {},
   "source": [
    "### Graded IEG expression along this axis."
   ]
  },
  {
   "cell_type": "code",
   "execution_count": null,
   "id": "5a58974d-d8c9-499e-9c40-7c8026ad2ab8",
   "metadata": {},
   "outputs": [],
   "source": [
    "iegs.tasic2018.tPC1_ranking <- tPC1_fromTasic2018[tPC1_fromTasic2018$gene %in% meta.iegs,]\n",
    "iegs.tasic2018.tPC1_ranking"
   ]
  },
  {
   "cell_type": "markdown",
   "id": "b57e5536-8d66-4d16-b321-9749a972c6dc",
   "metadata": {},
   "source": [
    "#### Tasic v1 Inihbitory Cells Activity (Sum of all metaIEGs after normalization, including ones not computed in PC)"
   ]
  },
  {
   "cell_type": "code",
   "execution_count": null,
   "id": "7ffe3eb5-215f-4623-aa04-4739db4603dc",
   "metadata": {},
   "outputs": [],
   "source": [
    "# plotting IEG acitivy per cluster type\n",
    "macthed.iegs <- rownames(tasic2018.v1_inhibitory.exon.counts.normed.unfiltered)[rownames(tasic2018.v1_inhibitory.exon.counts.normed.unfiltered) %in% meta.iegs]\n",
    "tasic2018v1_inhibitory.meta$iegsum_activity <- colSums(tasic2018.v1_inhibitory.exon.counts.normed.unfiltered[macthed.iegs ,])"
   ]
  },
  {
   "cell_type": "code",
   "execution_count": null,
   "id": "777cd7e0-0cde-41c1-8280-a3a5562f949c",
   "metadata": {},
   "outputs": [],
   "source": [
    "p <- tasic2018v1_inhibitory.meta %>% ggplot(aes(x=cell_subclass, y=iegsum_activity)) + \n",
    "  geom_violin(trim=FALSE) +\n",
    "  geom_point()+\n",
    "  xlab('Cell Type')+\n",
    "  ylab('Tasic V1 GABAergic IEG Expression Sum')+\n",
    "  theme_classic()\n",
    "p\n"
   ]
  },
  {
   "cell_type": "code",
   "execution_count": null,
   "id": "a87b904b-d836-4afa-85ee-87e1c9ae3509",
   "metadata": {},
   "outputs": [],
   "source": [
    "p <- tasic2018v1_inhibitory.meta %>% ggplot(aes(x=cell_subclass, y=iegsum_activity)) + \n",
    "  geom_violin(trim=FALSE) +\n",
    "  geom_point()+\n",
    "  xlab('Cell Type')+\n",
    "  ylab('Tasic V1 GABAergic IEG Expression Sum')+\n",
    "  theme_classic()\n",
    "p"
   ]
  },
  {
   "cell_type": "markdown",
   "id": "5946406c-73fc-4b5c-b610-1e3b50623b0c",
   "metadata": {},
   "source": [
    "Heat map of cells activity. Cells organized by tPC1 loadings (rotation) and IEGs by PC1 scores.  Only iegs from the metaIEGl lsit in teh top 3k variable genes are included in the display, other gene were removed for computing PCA."
   ]
  },
  {
   "cell_type": "code",
   "execution_count": null,
   "id": "8221bc56-d7b5-44c9-88ec-22d6cef0fc86",
   "metadata": {},
   "outputs": [],
   "source": [
    "# adding this to meta to organize cells\n",
    "tasic2018v1_inhibitory.meta$tPC1_score <- tasic2018.v1_inhibitory.exon.pca$loadings$PC1\n",
    "\n",
    "# construct dataframe from this pc score\n",
    "tPC1cell.idx.df <- tasic2018v1_inhibitory.meta %>% \n",
    "                   select(sample_name, tPC1_score, iegsum_activity, cell_class, cell_subclass, cell_cluster)  %>% \n",
    "                   arrange(tPC1_score)\n",
    "\n",
    "tPC1cell.idx.df$cell_class <- as.factor(tPC1cell.idx.df$cell_class)\n",
    "tPC1cell.idx.df$cell_subclass <- as.factor(tPC1cell.idx.df$cell_subclass)\n",
    "tPC1cell.idx.df$cell_cluster <- as.factor(tPC1cell.idx.df$cell_cluster)"
   ]
  },
  {
   "cell_type": "code",
   "execution_count": null,
   "id": "d00982c6-002f-4d71-a29f-8bde429c150f",
   "metadata": {},
   "outputs": [],
   "source": [
    "head(tPC1cell.idx.df)"
   ]
  },
  {
   "cell_type": "code",
   "execution_count": null,
   "id": "1d8ff67a-8f60-4a22-90ec-054402853f65",
   "metadata": {},
   "outputs": [],
   "source": [
    "iegsbytpc1.tasicv1gabaergic.normed.sclaed.top3kgenes <- tasic2018.v1_inhibitory.exon.counts.normed[tPC1cell.idx.df$sample_name,iegs.tasic2018.tPC1_ranking$gene]\n",
    "print(iegs.tasic2018.tPC1_ranking$gene[1:5])\n",
    "head(iegsbytpc1.tasicv1gabaergic.normed.sclaed.top3kgenes)"
   ]
  },
  {
   "cell_type": "code",
   "execution_count": null,
   "id": "501cf45d-29d6-4dd5-802b-42760c870c56",
   "metadata": {},
   "outputs": [],
   "source": [
    "#tPC1cell.idx.df\n",
    "\n",
    "#        annotation_row = my_sample_row)\n",
    "#annot <- tPC1cell.idx.df %>% select(cell_subclass, cell_cluster)\n",
    "annot <- tPC1cell.idx.df %>% select(cell_class, cell_subclass)\n",
    "#annot <- as.data.frame(annot))\n",
    "rownames(annot) <- tPC1cell.idx.df$sample_name"
   ]
  },
  {
   "cell_type": "code",
   "execution_count": null,
   "id": "1299c613-383c-450e-8a3e-f2dc52af3b8c",
   "metadata": {},
   "outputs": [],
   "source": [
    "temp_hm <-pheatmap(iegsbytpc1.tasicv1gabaergic.normed.sclaed.top3kgenes,\n",
    "                   cluster_rows = FALSE, cluster_cols = FALSE, show_rownames = F,\n",
    "                   main = \"IEGs by tPC1 Tasic V1\",\n",
    "                   annotation_row = annot)"
   ]
  },
  {
   "cell_type": "code",
   "execution_count": null,
   "id": "7d87276a-00d2-40d8-a8fc-169e49ff9409",
   "metadata": {},
   "outputs": [],
   "source": [
    "# doing it with cell cluster means\n",
    "tPC1cell.idx.df"
   ]
  },
  {
   "cell_type": "code",
   "execution_count": null,
   "id": "3d552f60-bde5-455b-bdb2-f37c37fc95f8",
   "metadata": {},
   "outputs": [],
   "source": [
    "iegsbytpc1.tasicv1gabaergic.normed.sclaed.top3kgenes$Subtype <- tPC1cell.idx.df$cell_cluster\n",
    "iegsbytpc1.tasicv1gabaergic.normed.sclaed.top3kgenes$tPC1_score <- tPC1cell.idx.df$tPC1_score\n",
    "iegsbytpc1.tasicv1gabaergic.normed.sclaed.top3kgenes$iegsum_activity <- tPC1cell.idx.df$iegsum_activity"
   ]
  },
  {
   "cell_type": "code",
   "execution_count": null,
   "id": "88794900-b456-4010-b3bb-4f5c76c51c24",
   "metadata": {},
   "outputs": [],
   "source": [
    "colnames(iegsbytpc1.tasicv1gabaergic.normed.sclaed.top3kgenes)"
   ]
  },
  {
   "cell_type": "code",
   "execution_count": null,
   "id": "c15d754d-811c-44e2-af23-4173b1e1ceb8",
   "metadata": {},
   "outputs": [],
   "source": [
    "iegsbytpc1.subtype_means.df <- iegsbytpc1.tasicv1gabaergic.normed.sclaed.top3kgenes %>%\n",
    "                               select(-Subtype) %>%\n",
    "                               aggregate(list(iegsbytpc1.tasicv1gabaergic.normed.sclaed.top3kgenes$Subtype), mean) %>%\n",
    "                               arrange(tPC1_score) %>%\n",
    "                               column_to_rownames(var ='Group.1')"
   ]
  },
  {
   "cell_type": "code",
   "execution_count": null,
   "id": "3e8f8c2f-006c-48b2-b877-55b046c89f90",
   "metadata": {},
   "outputs": [],
   "source": [
    "head(iegsbytpc1.subtype_means.df)"
   ]
  },
  {
   "cell_type": "code",
   "execution_count": null,
   "id": "9f06486f-5581-424e-b311-9281b1660ae4",
   "metadata": {},
   "outputs": [],
   "source": [
    "tPC1_mean.df <- data.frame( tPC1_meanscore = iegsbytpc1.subtype_means.df$tPC1_score,\n",
    "                            iegsum_meanactivity = iegsbytpc1.subtype_means.df$iegsum_activity)\n",
    "rownames(tPC1_mean.df) <- rownames(iegsbytpc1.subtype_means.df)\n",
    "tPC1_mean.df$relative.scaled.means <- scale(tPC1_mean.df$tPC1_meanscore)\n",
    "tPC1_mean.df$relative.scaled.iegsum_meanactivity  <- scale(tPC1_mean.df$iegsum_meanactivity)"
   ]
  },
  {
   "cell_type": "code",
   "execution_count": null,
   "id": "d75acaf0-37ab-4965-a7fe-ae8e1d7752be",
   "metadata": {},
   "outputs": [],
   "source": [
    "subtype_to_type_annotation <- function(subtype_string, list_of_subtypes, list_of_types){\n",
    "                                #checks the strings of subtypes to for begingin string\n",
    "                                #to map to a type, ends loop if one is detected returns \n",
    "                                # what it was given, returns match if it finds something \n",
    "                                # and en empty string if there is no match\n",
    "                                # includes a break stement to stop loop once match is found\n",
    "                                # assumes list_of_subtypes and list_of_types are same length\n",
    "                                # with corresponging entries\n",
    "                                output.string <- \"\"\n",
    "                                for(i in c(1:length(list_of_subtypes))){\n",
    "                                if(startsWith(subtype_string, list_of_subtypes[i])){\n",
    "                                   output.string <- list_of_types[i]\n",
    "                                   break\n",
    "                                    }# end of ifstatement\n",
    "                                  }# end of for loop\n",
    "                                return(output.string)\n",
    "                                }# end of function"
   ]
  },
  {
   "cell_type": "code",
   "execution_count": null,
   "id": "af98a07e-8b92-40c9-88ab-738fe3cae380",
   "metadata": {},
   "outputs": [],
   "source": [
    "subclass.names <- unique(tasic2018v1_inhibitory.meta$cell_subclass)\n",
    "subclass.names"
   ]
  },
  {
   "cell_type": "code",
   "execution_count": null,
   "id": "294e4f4f-5ba6-481e-ad97-b606571e56ec",
   "metadata": {},
   "outputs": [],
   "source": [
    "tPC1_mean.df$subclass <- sapply(rownames(tPC1_mean.df), FUN = function(x) subtype_to_type_annotation(x, types.names, types.names) )"
   ]
  },
  {
   "cell_type": "code",
   "execution_count": null,
   "id": "5cfc5238-8846-4594-8c76-887f315e4dd8",
   "metadata": {},
   "outputs": [],
   "source": [
    "iegsbytpc1.subtype_means.df <- select(iegsbytpc1.subtype_means.df, -tPC1_score)\n",
    "iegsbytpc1.subtype_means.df <- select(iegsbytpc1.subtype_means.df, -iegsum_activity)"
   ]
  },
  {
   "cell_type": "code",
   "execution_count": null,
   "id": "811ca694-f943-466e-ba00-8de6166bbbd2",
   "metadata": {},
   "outputs": [],
   "source": [
    "head(tPC1_mean.df)"
   ]
  },
  {
   "cell_type": "code",
   "execution_count": null,
   "id": "c88f2e96-78ba-43ab-84c3-2eba9fcc76f5",
   "metadata": {},
   "outputs": [],
   "source": [
    "subclass.df <- data.frame('Subclass'=as.factor(tPC1_mean.df$subclass))\n",
    "rownames(subclass.df) <- rownames(iegsbytpc1.subtype_means.df)"
   ]
  },
  {
   "cell_type": "code",
   "execution_count": null,
   "id": "4d72f381-1fee-433d-b122-39806149df2a",
   "metadata": {},
   "outputs": [],
   "source": [
    "library(dichromat)"
   ]
  },
  {
   "cell_type": "code",
   "execution_count": null,
   "id": "6c2a6799-4e4d-4f20-a629-10f408958a8a",
   "metadata": {},
   "outputs": [],
   "source": [
    "mycolors <- c('#4daf4a','#377eb8','#e41a1c','#984ea3','#ff7f00')\n",
    "names(mycolors) <- unique(subclass.df$Subclass)\n",
    "mycolors <- list(mycolors = mycolors)\n",
    "mycolors"
   ]
  },
  {
   "cell_type": "code",
   "execution_count": null,
   "id": "23f3396e-927a-405b-bd18-800f47895dd5",
   "metadata": {},
   "outputs": [],
   "source": [
    "#annotation_colors = mycolors,\n",
    "\n",
    "temp_hm <-pheatmap(iegsbytpc1.subtype_means.df,\n",
    "                   cluster_rows = FALSE, cluster_cols = FALSE,\n",
    "                   annotation_row = subclass.df,\n",
    "                   main = \"IEGs by tPC1 Tasic V1\")"
   ]
  },
  {
   "cell_type": "code",
   "execution_count": null,
   "id": "477e9e5f-7953-406d-8a6e-e2e8ec6e36de",
   "metadata": {},
   "outputs": [],
   "source": [
    "save_pheatmap(temp_hm, filename='Tasic_tPC1_V1_GABAergic_meanIEGexpression.png', width = 600, height=600)"
   ]
  },
  {
   "cell_type": "code",
   "execution_count": null,
   "id": "f9bc8d55-2b50-45b7-9f82-98d8f9c5e096",
   "metadata": {},
   "outputs": [],
   "source": [
    "tasic2018v1_inhibitory.meta$scaled.tPC1_score <- scale(tasic2018v1_inhibitory.meta$tPC1_score)\n",
    "tasic2018v1_inhibitory.meta$scaled.iegsum_activity <- scale(tasic2018v1_inhibitory.meta$iegsum_activity)"
   ]
  },
  {
   "cell_type": "code",
   "execution_count": null,
   "id": "6a1b5306-0dda-4772-b4f3-00ab7400cc8d",
   "metadata": {},
   "outputs": [],
   "source": [
    "#we use the tPC1_mean.df to order the elvels in the way we want\n",
    "# note we had to use the rev function to get the exact order we want\n",
    "tasic2018v1_inhibitory.meta$cell_cluster <- factor(tasic2018v1_inhibitory.meta$cell_cluster, levels=rev(rownames(tPC1_mean.df)) )"
   ]
  },
  {
   "cell_type": "code",
   "execution_count": null,
   "id": "b917ccc3-17a7-46ad-b825-e84893b9d009",
   "metadata": {},
   "outputs": [],
   "source": [
    "p <- tasic2018v1_inhibitory.meta %>%  \n",
    "     ggplot(aes(x=cell_cluster, y=scaled.tPC1_score)) + \n",
    "     geom_boxplot() +\n",
    "     geom_point()+\n",
    "     coord_flip()+\n",
    "     xlab('Cell Subtype (Cluster)')+\n",
    "     ylab('Tasic V1 GABAergic tPC1 score')+\n",
    "     theme_classic()\n",
    "p"
   ]
  },
  {
   "cell_type": "code",
   "execution_count": null,
   "id": "c045bb7c-41b6-4fdb-abae-d5ac6938d92a",
   "metadata": {},
   "outputs": [],
   "source": [
    "p <- tasic2018v1_inhibitory.meta %>%  \n",
    "     ggplot(aes(x=cell_cluster, y=scaled.iegsum_activity)) + \n",
    "     geom_boxplot() +\n",
    "     geom_point()+\n",
    "     coord_flip()+\n",
    "     xlab('Cell Subtype (Cluster)')+\n",
    "     ylab('Tasic V1 GABAergic tPC1 score')+\n",
    "     theme_classic()\n",
    "p"
   ]
  },
  {
   "cell_type": "code",
   "execution_count": null,
   "id": "8b55803a-2fd5-456c-b624-44502e31ff6d",
   "metadata": {},
   "outputs": [],
   "source": [
    "# boot strap modulatiry scores for multiple genes\n",
    "# compute the activity score for each cell type as a percentage\n",
    "# of significant gradient genes, significantly modular genes and \n",
    "# genes that are both or niether"
   ]
  },
  {
   "cell_type": "code",
   "execution_count": null,
   "id": "0aef5f8b-9782-4e4d-b03c-34db56f719b3",
   "metadata": {},
   "outputs": [],
   "source": [
    "#p <- bp tPC1_mean.df$relative.scaled.means"
   ]
  },
  {
   "cell_type": "markdown",
   "id": "d3f51a3e-c645-4b00-90c0-168b1ef75c17",
   "metadata": {},
   "source": [
    "###  Full gene set we calculate significant genes in data"
   ]
  },
  {
   "cell_type": "code",
   "execution_count": null,
   "id": "3cbac36a-95d6-406c-a990-6a6661534b33",
   "metadata": {},
   "outputs": [],
   "source": [
    "library(tictoc)"
   ]
  },
  {
   "cell_type": "code",
   "execution_count": null,
   "id": "bf8a6259-5bb2-426d-a63c-437628c51240",
   "metadata": {},
   "outputs": [],
   "source": [
    "# filter low expressed genes becuase they will not be removed \n",
    "\n",
    "# We first removed predicted gene models (gene names that start with Gm), genes from the mitochondrial chromosome, \n",
    "# ribosomal genes, sex-specific genes, as well as genes that were detected in fewer than four cells."
   ]
  },
  {
   "cell_type": "code",
   "execution_count": null,
   "id": "9a1241c5-ebb8-4dd2-b6d9-9ea0e32bbbb2",
   "metadata": {},
   "outputs": [],
   "source": [
    "dim(tasic2018.v1_inhibitory.exon.counts)\n",
    "dim(tasic2018.v1_inhibitory.exon.counts.normed.unfiltered)"
   ]
  },
  {
   "cell_type": "code",
   "execution_count": null,
   "id": "cf3fcec2-14d8-4e73-9173-7af2482c854d",
   "metadata": {},
   "outputs": [],
   "source": [
    "# remove gene model genes\n",
    "filt.genes.idx <- !startsWith( rownames(tasic2018.v1_inhibitory.exon.counts.normed.unfiltered), 'Gm') \n",
    "# remove genes expressed in less than 4 cells\n",
    "filt.genes.idx <- filt.genes.idx & ( rowSums(tasic2018.v1_inhibitory.exon.counts[matched.protcoding.genes,]>0) > 4 )\n",
    "\n",
    "# checks length of genes we can see ~3k are removed based on above criteria from Tasic\n",
    "length(filt.genes.idx)\n",
    "sum(filt.genes.idx)\n",
    "filt.genes.idx[1:10]\n",
    "names(filt.genes.idx)[filt.genes.idx==TRUE][1:10]"
   ]
  },
  {
   "cell_type": "code",
   "execution_count": null,
   "id": "b8d093d8-a97f-4d67-93e6-b56da611cbf0",
   "metadata": {},
   "outputs": [],
   "source": [
    "tasic2018.v1_inhibitory.exon.counts.normed.allgenes <-as.data.frame(scale(t(tasic2018.v1_inhibitory.exon.counts.normed.unfiltered[filt.genes.idx,])))\n",
    "# after t() the data becomes a matrix and loses its colnames an rownames we need to get them from the og df but row ->cols and vice versa\n",
    "genes <- rownames(tasic2018.v1_inhibitory.exon.counts.normed.unfiltered)[filt.genes.idx]\n",
    "colnames(tasic2018.v1_inhibitory.exon.counts.normed.allgenes) <- genes #genes\n",
    "rownames(tasic2018.v1_inhibitory.exon.counts.normed.allgenes) <- colnames(tasic2018.v1_inhibitory.exon.counts.normed.unfiltered) #cellids"
   ]
  },
  {
   "cell_type": "code",
   "execution_count": null,
   "id": "b4a0d491-4624-4309-939a-7abb9eeeb36b",
   "metadata": {},
   "outputs": [],
   "source": [
    "dim(tasic2018.v1_inhibitory.exon.counts.normed.unfiltered)\n",
    "dim(tasic2018.v1_inhibitory.exon.counts.normed.allgenes)"
   ]
  },
  {
   "cell_type": "code",
   "execution_count": null,
   "id": "73e2288e-9221-4213-8787-8c3ffd05513f",
   "metadata": {},
   "outputs": [],
   "source": [
    "tic()\n",
    "tasic2018.v1_inhibitory.prcomp.allgenes <- prcomp(tasic2018.v1_inhibitory.exon.counts.normed.allgenes, scale=FALSE)\n",
    "tasic2018.v1_inhibitory.prcomp.allgenes <- pca_loading(tasic2018.v1_inhibitory.prcomp.allgenes) # computes laodings (correlation of genes with PC's) and their pvalues\n",
    "toc()"
   ]
  },
  {
   "cell_type": "code",
   "execution_count": null,
   "id": "9aa44aff-c1fb-4af2-b154-0e4046ee1848",
   "metadata": {},
   "outputs": [],
   "source": [
    "str(tasic2018.v1_inhibitory.prcomp.allgenes)"
   ]
  },
  {
   "cell_type": "code",
   "execution_count": null,
   "id": "2b220a17-3764-4b1d-9bb0-59b09f6e6629",
   "metadata": {},
   "outputs": [],
   "source": [
    "# lets adjust for multiple corrections within a PC\n",
    "tPC1_gene_qvalues_BH <- p.adjust(tasic2018.v1_inhibitory.prcomp.allgenes$loading$p.value[,1], method='BH')\n",
    "sum(tPC1_gene_qvalues_BH<0.01)"
   ]
  },
  {
   "cell_type": "code",
   "execution_count": null,
   "id": "cb44c850-8d6c-4996-95b1-8ee07c75db34",
   "metadata": {},
   "outputs": [],
   "source": [
    "# now we pull out the IEGs which are significantly correlated with tPC1\n",
    "fdr.thresh <- 0.01\n",
    "\n",
    "length(meta.iegs[meta.iegs %in% names(tPC1_gene_qvalues_BH)[tPC1_gene_qvalues_BH<fdr.thresh]])\n",
    "meta.iegs.sig_on_tpc1 <- meta.iegs[meta.iegs %in% names(tPC1_gene_qvalues_BH)[tPC1_gene_qvalues_BH<fdr.thresh]]\n",
    "print(meta.iegs.sig_on_tpc1)\n",
    "tPC1_gene_qvalues_BH[names(tPC1_gene_qvalues_BH) %in% meta.iegs.sig_on_tpc1]"
   ]
  },
  {
   "cell_type": "code",
   "execution_count": null,
   "id": "7282175a-d6ae-4fb1-8613-74a4e23b12de",
   "metadata": {},
   "outputs": [],
   "source": [
    "tPC1_fromTasic2018 <- data.frame(gene = colnames(tasic2018.v1_inhibitory.exon.counts.normed.allgenes),\n",
    "                                           tPC1 = tasic2018.v1_inhibitory.prcomp.allgenes$loading$R[,1],\n",
    "                                 p.value = tasic2018.v1_inhibitory.prcomp.allgenes$loading$p.value[,1],\n",
    "                                q.value_BH = p.adjust(tasic2018.v1_inhibitory.prcomp.allgenes$loading$p.value[,1], method='BH')) %>% arrange(tPC1)\n",
    "head(tPC1_fromTasic2018)"
   ]
  },
  {
   "cell_type": "code",
   "execution_count": null,
   "id": "aedd52a5-2101-41e4-8c30-7a37547e2b43",
   "metadata": {},
   "outputs": [],
   "source": [
    "fdr.thresh <- 0.01\n",
    "iegs.tasic2018.tPC1_ranking <- tPC1_fromTasic2018[(tPC1_fromTasic2018$q.value_BH<fdr.thresh)&(tPC1_fromTasic2018$gene %in% meta.iegs),]\n",
    "dim(iegs.tasic2018.tPC1_ranking)\n",
    "head(iegs.tasic2018.tPC1_ranking )"
   ]
  },
  {
   "cell_type": "code",
   "execution_count": null,
   "id": "a792bccd-e580-45e0-9cec-281ccf0d3f51",
   "metadata": {},
   "outputs": [],
   "source": [
    "tasic2018v1_inhibitory.meta$tPC1_score <- tasic2018.v1_inhibitory.prcomp.allgenes$x[,1]\n",
    "\n",
    "# construct dataframe from this pc score\n",
    "tPC1cell.idx.df <- tasic2018v1_inhibitory.meta %>% \n",
    "                   select(sample_name, tPC1_score, iegsum_activity, cell_class, cell_subclass, cell_cluster)  %>% \n",
    "                   arrange(tPC1_score)\n",
    "\n",
    "tPC1cell.idx.df$cell_class <- as.factor(tPC1cell.idx.df$cell_class)\n",
    "tPC1cell.idx.df$cell_subclass <- as.factor(tPC1cell.idx.df$cell_subclass)\n",
    "tPC1cell.idx.df$cell_cluster <- as.factor(tPC1cell.idx.df$cell_cluster)"
   ]
  },
  {
   "cell_type": "code",
   "execution_count": null,
   "id": "32105030-0d96-40f3-98a4-c88894abe2f2",
   "metadata": {},
   "outputs": [],
   "source": [
    "head(tPC1cell.idx.df)"
   ]
  },
  {
   "cell_type": "code",
   "execution_count": null,
   "id": "b58f1b30-2a68-4f28-bf4b-e480fb813564",
   "metadata": {},
   "outputs": [],
   "source": [
    "head(tasic2018.v1_inhibitory.exon.counts.normed)"
   ]
  },
  {
   "cell_type": "code",
   "execution_count": null,
   "id": "c00382f4-6f8b-4829-8a75-1ba86ca0a1cc",
   "metadata": {},
   "outputs": [],
   "source": [
    "#as.character(tPC1cell.idx.df$sample_name)"
   ]
  },
  {
   "cell_type": "code",
   "execution_count": null,
   "id": "c62572f7-8844-49c0-9511-c6be058d82e3",
   "metadata": {},
   "outputs": [],
   "source": [
    "sum(iegs.tasic2018.tPC1_ranking$gene %in% rownames(tasic2018.v1_inhibitory.exon.counts.normed.unfiltered))"
   ]
  },
  {
   "cell_type": "code",
   "execution_count": null,
   "id": "0b1d2b20-5d1e-450a-876c-106ff22eee2a",
   "metadata": {},
   "outputs": [],
   "source": [
    "iegsbytpc1.tasicv1gabaergic.normed.scaled <- tasic2018.v1_inhibitory.exon.counts.normed.unfiltered[tPC1cell.idx.df$sample_name, iegs.tasic2018.tPC1_ranking$gene]\n",
    "print(iegs.tasic2018.tPC1_ranking$gene[1:5])\n",
    "head(iegsbytpc1.tasicv1gabaergic.normed.scaled)"
   ]
  },
  {
   "cell_type": "markdown",
   "id": "26f8d28f-e106-4f84-92ed-91ceaa2522d8",
   "metadata": {},
   "source": [
    "### PCA full compoenent significance testing by boostrapping"
   ]
  },
  {
   "cell_type": "code",
   "execution_count": null,
   "id": "7c7ab165-cfac-40b9-89c3-d38d920cffe5",
   "metadata": {},
   "outputs": [],
   "source": [
    "#write.csv('tasci2018_V1_gaba_protcodinggenes_normed.csv',tasic2018.v1_inhibitory.exon.counts.normed.unfiltered, row.names=FALSE)"
   ]
  },
  {
   "cell_type": "code",
   "execution_count": null,
   "id": "90148f8e-0f92-4216-a9ee-99bdf9b3a178",
   "metadata": {},
   "outputs": [],
   "source": [
    "# it's scaling the data which is causing bugs\n",
    "tic()\n",
    "pca.allgenes.test <- PCAtest(tasic2018.v1_inhibitory.exon.counts.normed.allgenes, \n",
    "                                                   100, 100, 0.05, varcorr=FALSE, counter=FALSE, plot=TRUE)\n",
    "toc()"
   ]
  },
  {
   "cell_type": "code",
   "execution_count": null,
   "id": "8f3cbfa0-af95-4d58-8d6f-06dd2c69d3f4",
   "metadata": {},
   "outputs": [],
   "source": [
    "which(colSums(tasic2018.v1_inhibitory.exon.counts.normed.allgenes)==0)"
   ]
  },
  {
   "cell_type": "code",
   "execution_count": null,
   "id": "4716cf72-a0a7-4600-8084-568f704be5f6",
   "metadata": {},
   "outputs": [],
   "source": [
    "sum(rowSums(tasic2018.v1_inhibitory.exon.counts.normed.unfiltered[filt.genes.idx,])==0)"
   ]
  },
  {
   "cell_type": "code",
   "execution_count": null,
   "id": "3a7a67b6-3338-448f-8a87-87d7796bca44",
   "metadata": {},
   "outputs": [],
   "source": [
    "rowSums(tasic2018.v1_inhibitory.exon.counts[c('Ptger3','Tnfsf15'),])"
   ]
  },
  {
   "cell_type": "code",
   "execution_count": null,
   "id": "1b7de2c6-445e-4c2e-b453-edea6dfc51f8",
   "metadata": {},
   "outputs": [],
   "source": [
    "rowSums(tasic2018.v1_inhibitory.exon.counts[c('Ptger3','Tnfsf15'),]>10)"
   ]
  },
  {
   "cell_type": "code",
   "execution_count": null,
   "id": "dcff9db8-ca5e-4089-ac77-119ef225e1ab",
   "metadata": {},
   "outputs": [],
   "source": [
    "rowMeans(tasic2018.v1_inhibitory.exon.counts[c('Ptger3','Tnfsf15'),])"
   ]
  },
  {
   "cell_type": "code",
   "execution_count": null,
   "id": "9686162a-4b6a-40ec-ae66-621b3bc49484",
   "metadata": {},
   "outputs": [],
   "source": [
    "rowMedians(tasic2018.v1_inhibitory.exon.counts[c('Ptger3','Tnfsf15'),])"
   ]
  },
  {
   "cell_type": "code",
   "execution_count": null,
   "id": "51eb0d47-353b-4757-83ce-4746df353ad2",
   "metadata": {},
   "outputs": [],
   "source": [
    "head(tasic2018.v1_inhibitory.exon.counts[c('Ptger3','Tnfsf15'),])"
   ]
  },
  {
   "cell_type": "markdown",
   "id": "41ec6346-ca77-4615-95d1-2f19516ecc87",
   "metadata": {},
   "source": [
    "### Tasic again with just the bugeon genes"
   ]
  },
  {
   "cell_type": "code",
   "execution_count": null,
   "id": "12cb4d6b-6e80-467f-b1f7-cc98b28b2d46",
   "metadata": {},
   "outputs": [],
   "source": [
    "# can be pulled from the OG coutns datasets we just need to re run the scaling or whatever\n",
    "tasic2018.v1_inhibitory.pca.restrictedlist <- pca(tasic2018.v1_inhibitory.exon.counts.normed[,bugeon2022.genes])\n",
    "plot(tasic2018.v1_inhibitory.pca.restrictedlist$variance)"
   ]
  },
  {
   "cell_type": "code",
   "execution_count": null,
   "id": "9c330f6a-23e6-4a8b-9a86-ec5b06c0e978",
   "metadata": {},
   "outputs": [],
   "source": [
    "tPC1_fromTasic2018.bugeongenesonly <- data.frame(gene = bugeon2022.genes,\n",
    "                                           tPC1 = tasic2018.v1_inhibitory.pca.restrictedlist$rotated$PC1) %>% arrange(tPC1)\n",
    "    \n",
    "print(dim(tPC1_fromTasic2018.bugeongenesonly  ))\n",
    "tPC1_fromTasic2018.bugeongenesonly"
   ]
  },
  {
   "cell_type": "code",
   "execution_count": null,
   "id": "0db7b3e7-0cb8-42dd-9b03-d29dc2c550e7",
   "metadata": {},
   "outputs": [],
   "source": [
    "# I would like to point out Rgs4 is also an IEG, shows up as important in active dentate gyrus cells as well"
   ]
  },
  {
   "cell_type": "code",
   "execution_count": null,
   "id": "8eb4bc2a-0519-4754-bcff-0f69e8b60af4",
   "metadata": {},
   "outputs": [],
   "source": [
    "# careful here PCA can flip signs, just make sure Pvalb and Vip are at opposing ends of the rankings\n",
    "rank.tPC1.from_rnaseq <- c(1:length(tPC1_fromTasic2018.bugeongenesonly$gene))\n",
    "rank.tPC1.from_coppaFISH <- c()\n",
    "for(thisgene in tPC1.bugeon2022){\n",
    "    position_in_rnaseqPC1 <- match(thisgene, tPC1_fromTasic2018.bugeongenesonly$gene)\n",
    "    rank.tPC1.from_coppaFISH <- c(rank.tPC1.from_coppaFISH, position_in_rnaseqPC1 ) # append position in other list\n",
    "}\n",
    "\n",
    "tPC1_fromTasic2018.bugeongenesonly$rank_in_tasic <- rank.tPC1.from_rnaseq\n",
    "tPC1_fromTasic2018.bugeongenesonly$rank_in_bugeon <- rank.tPC1.from_coppaFISH\n",
    "tPC1_fromTasic2018.bugeongenesonly$gene <- as.factor(tPC1_fromTasic2018.bugeongenesonly$gene)\n",
    "rownames(tPC1_fromrnaseq.bugeongenes)"
   ]
  },
  {
   "cell_type": "code",
   "execution_count": null,
   "id": "ddef4a9a-346e-4180-9b40-d83b6d2ef37b",
   "metadata": {},
   "outputs": [],
   "source": [
    "head(tPC1_fromTasic2018.bugeongenesonly)"
   ]
  },
  {
   "cell_type": "code",
   "execution_count": null,
   "id": "e60ebea6-be40-4efb-9464-4df0dd01860e",
   "metadata": {},
   "outputs": [],
   "source": [
    "cor.test( tPC1_fromTasic2018.bugeongenesonly$rank_in_tasic,  tPC1_fromTasic2018.bugeongenesonly$rank_in_bugeon, \n",
    "         method = 'spearman', data = tPC1_fromrnaseq.bugeongenes)"
   ]
  },
  {
   "cell_type": "code",
   "execution_count": null,
   "id": "8dc671d4-8ce1-4160-b5cc-3e25ca819550",
   "metadata": {},
   "outputs": [],
   "source": [
    "# plot cells average acitivity score across the clusters, show some are more active\n",
    "# plot the individual cells IEG expression vs their rank along the gradient\n",
    "#, rank the IEGs by their position on tPC1, consider restricting to protien coding genes\n",
    "# plot the clusters averag IEG expression again IEGs ordered by their position on PC1 and clusters ordered by their cells average\n",
    "# position on PC1 posibly just using the bugeon genes"
   ]
  }
 ],
 "metadata": {
  "kernelspec": {
   "display_name": "R",
   "language": "R",
   "name": "ir"
  },
  "language_info": {
   "codemirror_mode": "r",
   "file_extension": ".r",
   "mimetype": "text/x-r-source",
   "name": "R",
   "pygments_lexer": "r",
   "version": "4.1.3"
  }
 },
 "nbformat": 4,
 "nbformat_minor": 5
}
